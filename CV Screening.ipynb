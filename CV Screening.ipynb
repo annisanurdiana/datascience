{
 "cells": [
  {
   "cell_type": "markdown",
   "id": "70132d4e",
   "metadata": {},
   "source": [
    "# PDF file opening, reading and text extraction"
   ]
  },
  {
   "cell_type": "code",
   "execution_count": 78,
   "id": "354c2c3d",
   "metadata": {
    "scrolled": true
   },
   "outputs": [
    {
     "name": "stdout",
     "output_type": "stream",
     "text": [
      "Requirement already satisfied: textract in c:\\users\\annisa nurdiana\\anaconda3\\lib\\site-packages (1.6.5)\n",
      "Requirement already satisfied: docx2txt~=0.8 in c:\\users\\annisa nurdiana\\anaconda3\\lib\\site-packages (from textract) (0.8)\n",
      "Requirement already satisfied: beautifulsoup4~=4.8.0 in c:\\users\\annisa nurdiana\\anaconda3\\lib\\site-packages (from textract) (4.8.2)\n",
      "Requirement already satisfied: xlrd~=1.2.0 in c:\\users\\annisa nurdiana\\anaconda3\\lib\\site-packages (from textract) (1.2.0)\n",
      "Requirement already satisfied: SpeechRecognition~=3.8.1 in c:\\users\\annisa nurdiana\\anaconda3\\lib\\site-packages (from textract) (3.8.1)\n",
      "Requirement already satisfied: extract-msg<=0.29.* in c:\\users\\annisa nurdiana\\anaconda3\\lib\\site-packages (from textract) (0.28.7)\n",
      "Requirement already satisfied: python-pptx~=0.6.18 in c:\\users\\annisa nurdiana\\anaconda3\\lib\\site-packages (from textract) (0.6.21)\n",
      "Requirement already satisfied: six~=1.12.0 in c:\\users\\annisa nurdiana\\anaconda3\\lib\\site-packages (from textract) (1.12.0)\n",
      "Requirement already satisfied: chardet==3.* in c:\\users\\annisa nurdiana\\anaconda3\\lib\\site-packages (from textract) (3.0.4)\n",
      "Requirement already satisfied: pdfminer.six==20191110 in c:\\users\\annisa nurdiana\\anaconda3\\lib\\site-packages (from textract) (20191110)\n",
      "Requirement already satisfied: argcomplete~=1.10.0 in c:\\users\\annisa nurdiana\\anaconda3\\lib\\site-packages (from textract) (1.10.3)\n",
      "Requirement already satisfied: pycryptodome in c:\\users\\annisa nurdiana\\anaconda3\\lib\\site-packages (from pdfminer.six==20191110->textract) (3.15.0)\n",
      "Requirement already satisfied: sortedcontainers in c:\\users\\annisa nurdiana\\anaconda3\\lib\\site-packages (from pdfminer.six==20191110->textract) (2.3.0)\n",
      "Requirement already satisfied: soupsieve>=1.2 in c:\\users\\annisa nurdiana\\anaconda3\\lib\\site-packages (from beautifulsoup4~=4.8.0->textract) (2.2.1)\n",
      "Requirement already satisfied: tzlocal>=2.1 in c:\\users\\annisa nurdiana\\anaconda3\\lib\\site-packages (from extract-msg<=0.29.*->textract) (4.2)\n",
      "Requirement already satisfied: compressed-rtf>=1.0.6 in c:\\users\\annisa nurdiana\\anaconda3\\lib\\site-packages (from extract-msg<=0.29.*->textract) (1.0.6)\n",
      "Requirement already satisfied: imapclient==2.1.0 in c:\\users\\annisa nurdiana\\anaconda3\\lib\\site-packages (from extract-msg<=0.29.*->textract) (2.1.0)\n",
      "Requirement already satisfied: ebcdic>=1.1.1 in c:\\users\\annisa nurdiana\\anaconda3\\lib\\site-packages (from extract-msg<=0.29.*->textract) (1.1.1)\n",
      "Requirement already satisfied: olefile>=0.46 in c:\\users\\annisa nurdiana\\anaconda3\\lib\\site-packages (from extract-msg<=0.29.*->textract) (0.46)\n",
      "Requirement already satisfied: Pillow>=3.3.2 in c:\\users\\annisa nurdiana\\anaconda3\\lib\\site-packages (from python-pptx~=0.6.18->textract) (8.2.0)\n",
      "Requirement already satisfied: XlsxWriter>=0.5.7 in c:\\users\\annisa nurdiana\\anaconda3\\lib\\site-packages (from python-pptx~=0.6.18->textract) (1.3.8)\n",
      "Requirement already satisfied: lxml>=3.1.0 in c:\\users\\annisa nurdiana\\anaconda3\\lib\\site-packages (from python-pptx~=0.6.18->textract) (4.6.3)\n",
      "Requirement already satisfied: tzdata in c:\\users\\annisa nurdiana\\anaconda3\\lib\\site-packages (from tzlocal>=2.1->extract-msg<=0.29.*->textract) (2022.5)\n",
      "Requirement already satisfied: pytz-deprecation-shim in c:\\users\\annisa nurdiana\\anaconda3\\lib\\site-packages (from tzlocal>=2.1->extract-msg<=0.29.*->textract) (0.1.0.post0)\n",
      "Requirement already satisfied: backports.zoneinfo in c:\\users\\annisa nurdiana\\anaconda3\\lib\\site-packages (from tzlocal>=2.1->extract-msg<=0.29.*->textract) (0.2.1)\n"
     ]
    }
   ],
   "source": [
    "!pip install textract"
   ]
  },
  {
   "cell_type": "code",
   "execution_count": 79,
   "id": "13c2a093",
   "metadata": {},
   "outputs": [],
   "source": [
    "# Import required libraries\n",
    "import PyPDF2\n",
    "import textract\n",
    "import re\n",
    "import string\n",
    "import pandas as pd\n",
    "import matplotlib.pyplot as plt\n",
    "%matplotlib inline\n",
    "\n",
    "# Open pdf file\n",
    "pdfFileObj = open('ResumeInsights-main/mycv.pdf','rb')\n",
    "\n",
    "# Read file\n",
    "pdfReader = PyPDF2.PdfFileReader(pdfFileObj)\n",
    "\n",
    "# Get total number of pages\n",
    "num_pages = pdfReader.numPages\n",
    "\n",
    "# Initialize a count for the number of pages\n",
    "count = 0\n",
    "\n",
    "# Initialize a text empty etring variable\n",
    "text = \"\"\n",
    "\n",
    "# Extract text from every page on the file\n",
    "while count < num_pages:\n",
    "    pageObj = pdfReader.getPage(count)\n",
    "    count +=1\n",
    "    text += pageObj.extractText()"
   ]
  },
  {
   "cell_type": "markdown",
   "id": "0caf680e",
   "metadata": {},
   "source": [
    "# Text cleaning"
   ]
  },
  {
   "cell_type": "code",
   "execution_count": 80,
   "id": "e545f741",
   "metadata": {},
   "outputs": [],
   "source": [
    "# Convert all strings to lowercase\n",
    "text = text.lower()\n",
    "\n",
    "# Remove numbers\n",
    "text = re.sub(r'\\d+','',text)\n",
    "\n",
    "# Remove punctuation\n",
    "text = text.translate(str.maketrans('','',string.punctuation))"
   ]
  },
  {
   "cell_type": "markdown",
   "id": "609a0950",
   "metadata": {},
   "source": [
    "# Dictionary with key terms by area setup*"
   ]
  },
  {
   "cell_type": "markdown",
   "id": "91aaa7da",
   "metadata": {},
   "source": [
    "*Note: the key terms included in each area of this dictionary were obtained through a research of the most common key terms included in industrial and system engineering job postings. This dictionary can be customized to add/remove key terms according to hiring managers criteria."
   ]
  },
  {
   "cell_type": "code",
   "execution_count": 81,
   "id": "d76e40f2",
   "metadata": {},
   "outputs": [],
   "source": [
    "# Create dictionary key terms by area\n",
    "terms = {'Quality/Six Sigma':['black belt','capability analysis','control charts','doe','dmaic','fishbone',\n",
    "                              'gage r&r', 'green belt','ishikawa','iso','kaizen','kpi','lean','metrics',\n",
    "                              'pdsa','performance improvement','process improvement','quality',\n",
    "                              'quality circles','quality tools','root cause','six sigma',\n",
    "                              'stability analysis','statistical analysis','tqm'],      \n",
    "         \n",
    "        'Operations management':['automation','bottleneck','constraints','cycle time','efficiency','fmea',\n",
    "                                 'machinery','maintenance','manufacture','line balancing','oee','operations',\n",
    "                                 'operations research','optimization','overall equipment effectiveness',\n",
    "                                 'pfmea','process','process mapping','production','resources','safety',\n",
    "                                 'stoppage','value stream mapping','utilization'],\n",
    "         \n",
    "        'Supply chain':['abc analysis','apics','customer','customs','delivery','distribution','eoq','epq',\n",
    "                        'fleet','forecast','inventory','logistic','materials','outsourcing','procurement',\n",
    "                        'reorder point','rout','safety stock','scheduling','shipping','stock','suppliers',\n",
    "                        'third party logistics','transport','transportation','traffic','supply chain',\n",
    "                        'vendor','warehouse','wip','work in progress'],\n",
    "         \n",
    "        'Project management':['administration','agile','budget','cost','direction','feasibility analysis',\n",
    "                              'finance','kanban','leader','leadership','management','milestones','planning',\n",
    "                              'pmi','pmp','problem','project','risk','schedule','scrum','stakeholders'],\n",
    "         \n",
    "        'Data analytics':['analytics','api','aws','big data','busines intelligence','clustering','code',\n",
    "                          'coding','data','database','data mining','data science','deep learning','hadoop',\n",
    "                          'hypothesis test','iot','internet','machine learning','modeling','nosql','nlp',\n",
    "                          'predictive','programming','python','r','sql','tableau','text mining',\n",
    "                          'visualuzation'],\n",
    "         \n",
    "        'Software Development':['html','html5','css','css3','javascript','jquery','php','node.js','bootstrap','tailwind',\n",
    "                             'frontend','front-end','front end','backend','back-end','back end','developer'],\n",
    "         \n",
    "        'Healthcare':['adverse events','care','clinic','cphq','ergonomics','healthcare',\n",
    "                      'health care','health','hospital','human factors','medical','near misses',\n",
    "                      'patient','reporting system']}"
   ]
  },
  {
   "cell_type": "markdown",
   "id": "3b170433",
   "metadata": {},
   "source": [
    "# Scores Calculation per Area"
   ]
  },
  {
   "cell_type": "code",
   "execution_count": 82,
   "id": "6d6e5db6",
   "metadata": {},
   "outputs": [],
   "source": [
    "# Initializie score counters for each area\n",
    "quality = 0\n",
    "operations = 0\n",
    "supplychain = 0\n",
    "project = 0\n",
    "data = 0\n",
    "softdev = 0\n",
    "healthcare = 0\n",
    "\n",
    "# Create an empty list where the scores will be stored\n",
    "scores = []\n",
    "\n",
    "# Obtain the scores for each area\n",
    "for area in terms.keys():\n",
    "        \n",
    "    if area == 'Quality/Six Sigma':\n",
    "        for word in terms[area]:\n",
    "            if word in text:\n",
    "                quality +=1\n",
    "        scores.append(quality)\n",
    "        \n",
    "    elif area == 'Operations management':\n",
    "        for word in terms[area]:\n",
    "            if word in text:\n",
    "                operations +=1\n",
    "        scores.append(operations)\n",
    "        \n",
    "    elif area == 'Supply chain':\n",
    "        for word in terms[area]:\n",
    "            if word in text:\n",
    "                supplychain +=1\n",
    "        scores.append(supplychain)\n",
    "        \n",
    "    elif area == 'Project management':\n",
    "        for word in terms[area]:\n",
    "            if word in text:\n",
    "                project +=1\n",
    "        scores.append(project)\n",
    "        \n",
    "    elif area == 'Data analytics':\n",
    "        for word in terms[area]:\n",
    "            if word in text:\n",
    "                data +=1\n",
    "        scores.append(data)\n",
    "        \n",
    "    elif area == 'Software Development':\n",
    "        for word in terms[area]:\n",
    "            if word in text:\n",
    "                softdev +=1\n",
    "        scores.append(soft_eng)\n",
    "        \n",
    "    else:\n",
    "        for word in terms[area]:\n",
    "            if word in text:\n",
    "                healthcare +=1\n",
    "        scores.append(healthcare)"
   ]
  },
  {
   "cell_type": "markdown",
   "id": "8397713a",
   "metadata": {},
   "source": [
    "# Sorted data frame for final scores creation"
   ]
  },
  {
   "cell_type": "code",
   "execution_count": 83,
   "id": "20779f10",
   "metadata": {},
   "outputs": [
    {
     "data": {
      "text/html": [
       "<div>\n",
       "<style scoped>\n",
       "    .dataframe tbody tr th:only-of-type {\n",
       "        vertical-align: middle;\n",
       "    }\n",
       "\n",
       "    .dataframe tbody tr th {\n",
       "        vertical-align: top;\n",
       "    }\n",
       "\n",
       "    .dataframe thead th {\n",
       "        text-align: right;\n",
       "    }\n",
       "</style>\n",
       "<table border=\"1\" class=\"dataframe\">\n",
       "  <thead>\n",
       "    <tr style=\"text-align: right;\">\n",
       "      <th></th>\n",
       "      <th>score</th>\n",
       "    </tr>\n",
       "  </thead>\n",
       "  <tbody>\n",
       "    <tr>\n",
       "      <th>Data analytics</th>\n",
       "      <td>12</td>\n",
       "    </tr>\n",
       "    <tr>\n",
       "      <th>Software Development</th>\n",
       "      <td>9</td>\n",
       "    </tr>\n",
       "    <tr>\n",
       "      <th>Project management</th>\n",
       "      <td>4</td>\n",
       "    </tr>\n",
       "    <tr>\n",
       "      <th>Supply chain</th>\n",
       "      <td>2</td>\n",
       "    </tr>\n",
       "    <tr>\n",
       "      <th>Quality/Six Sigma</th>\n",
       "      <td>1</td>\n",
       "    </tr>\n",
       "    <tr>\n",
       "      <th>Operations management</th>\n",
       "      <td>1</td>\n",
       "    </tr>\n",
       "    <tr>\n",
       "      <th>Healthcare</th>\n",
       "      <td>1</td>\n",
       "    </tr>\n",
       "  </tbody>\n",
       "</table>\n",
       "</div>"
      ],
      "text/plain": [
       "                       score\n",
       "Data analytics            12\n",
       "Software Development       9\n",
       "Project management         4\n",
       "Supply chain               2\n",
       "Quality/Six Sigma          1\n",
       "Operations management      1\n",
       "Healthcare                 1"
      ]
     },
     "execution_count": 83,
     "metadata": {},
     "output_type": "execute_result"
    }
   ],
   "source": [
    "# Create a data frame with the scores summary\n",
    "summary = pd.DataFrame(scores,index=terms.keys(),columns=['score']).sort_values(by='score',ascending=False)\n",
    "summary"
   ]
  },
  {
   "cell_type": "markdown",
   "id": "748fb160",
   "metadata": {},
   "source": [
    "# Pie chart creation"
   ]
  },
  {
   "cell_type": "code",
   "execution_count": 90,
   "id": "40faa200",
   "metadata": {},
   "outputs": [
    {
     "data": {
      "image/png": "[encoded data removed]",
      "text/plain": [
       "<Figure size 720x720 with 1 Axes>"
      ]
     },
     "metadata": {},
     "output_type": "display_data"
    }
   ],
   "source": [
    "# Create pie chart visualization\n",
    "pie = plt.figure(figsize=(10,10))\n",
    "plt.pie(summary['score'], labels=summary.index, explode = (0.06,0,0,0,0,0,0), autopct='%1.0f%%',shadow=True,startangle=90)\n",
    "plt.title('\\n  Candidate - Resume Decomposition by Areas')\n",
    "plt.axis('equal')\n",
    "plt.show()\n",
    "\n",
    "# Save pie chart as a .png file\n",
    "pie.savefig('cv_screening_results.png')"
   ]
  },
  {
   "cell_type": "code",
   "execution_count": null,
   "id": "efc08a75",
   "metadata": {},
   "outputs": [],
   "source": []
  },
  {
   "cell_type": "code",
   "execution_count": null,
   "id": "95d5ea1d",
   "metadata": {},
   "outputs": [],
   "source": []
  },
  {
   "cell_type": "code",
   "execution_count": null,
   "id": "af882cab",
   "metadata": {},
   "outputs": [],
   "source": []
  }
 ],
 "metadata": {
  "kernelspec": {
   "display_name": "Python 3",
   "language": "python",
   "name": "python3"
  },
  "language_info": {
   "codemirror_mode": {
    "name": "ipython",
    "version": 3
   },
   "file_extension": ".py",
   "mimetype": "text/x-python",
   "name": "python",
   "nbconvert_exporter": "python",
   "pygments_lexer": "ipython3",
   "version": "3.8.8"
  }
 },
 "nbformat": 4,
 "nbformat_minor": 5
}
