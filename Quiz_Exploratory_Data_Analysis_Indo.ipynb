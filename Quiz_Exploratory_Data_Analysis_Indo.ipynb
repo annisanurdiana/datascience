{
 "cells": [
  {
   "cell_type": "markdown",
   "metadata": {},
   "source": [
    "# Quiz: Exploratory Data Analysis\n",
    "\n",
    "Kuis ini merupakan bagian dari proses penilaian *Algoritma Academy*. Selamat anda sudah menyelesaikan materi *Exploratory Data Analysis*! Kami akan melakukan penilaian berupa kuis untuk menguji materi yang sudah dipelajari. Pengerjaan Kuis diharapkan dapat dilakukan di dalam kelas, silakan hubungi tim pengajar kami jika Anda melewatkan kesempatan untuk mengambilnya di kelas."
   ]
  },
  {
   "cell_type": "markdown",
   "metadata": {},
   "source": [
    "# Dataset Bukalapak"
   ]
  },
  {
   "cell_type": "markdown",
   "metadata": {},
   "source": [
    "## Data Preparation\n",
    "\n",
    "Pada kuis ini kita akan menggunakan **e-commerce product dataset**. Anda dapat menggunakan data `online_bl.csv` yang tersimpan dalam folder `data_input`. \n",
    "\n",
    "Data berisi informasi produk yang dijual pada website e-commerce bukalapak.com. Data tersebut memiliki beberapa variable antara lain :\n",
    "\n",
    "- `item_link` : link website produk dalam list  \n",
    "- `title` : nama produk yang dijual\n",
    "- `price_original` : harga produk\n",
    "- `price_discount` : harga discount produk\n",
    "- `sub_category` : sub-category produk\n",
    "- `time_update` : waktu unggah informasi produk pada website\n",
    "- `scale` : skala satuan product"
   ]
  },
  {
   "cell_type": "markdown",
   "metadata": {},
   "source": [
    "Silahkan import data `online_bl.csv` dari folder `data_input` dan simpan kedalam variabel `online_bl`. Gunakan parameter `parse_dates=[__]` pada method `read_csv()` untuk mengubah tipe data pada kolom `time_update`. "
   ]
  },
  {
   "cell_type": "code",
   "execution_count": 51,
   "metadata": {},
   "outputs": [
    {
     "data": {
      "text/html": [
       "<div>\n",
       "<style scoped>\n",
       "    .dataframe tbody tr th:only-of-type {\n",
       "        vertical-align: middle;\n",
       "    }\n",
       "\n",
       "    .dataframe tbody tr th {\n",
       "        vertical-align: top;\n",
       "    }\n",
       "\n",
       "    .dataframe thead th {\n",
       "        text-align: right;\n",
       "    }\n",
       "</style>\n",
       "<table border=\"1\" class=\"dataframe\">\n",
       "  <thead>\n",
       "    <tr style=\"text-align: right;\">\n",
       "      <th></th>\n",
       "      <th>item_link</th>\n",
       "      <th>title</th>\n",
       "      <th>price_original</th>\n",
       "      <th>price_discount</th>\n",
       "      <th>sub_category</th>\n",
       "      <th>time_update</th>\n",
       "      <th>scale</th>\n",
       "    </tr>\n",
       "  </thead>\n",
       "  <tbody>\n",
       "    <tr>\n",
       "      <th>0</th>\n",
       "      <td>https://www.bukalapak.com/p/kesehatan-2359/pro...</td>\n",
       "      <td>Rinso Molto Deterjen Bubuk 1.8 kg</td>\n",
       "      <td>30000.0</td>\n",
       "      <td>NaN</td>\n",
       "      <td>detergent</td>\n",
       "      <td>2018-10-20 01:32:00</td>\n",
       "      <td>1.8 kg</td>\n",
       "    </tr>\n",
       "    <tr>\n",
       "      <th>1</th>\n",
       "      <td>https://www.bukalapak.com/p/rumah-tangga/home-...</td>\n",
       "      <td>Terlaris - DETERGENT RINSO ANTI NODA 1.8 KG 1 ...</td>\n",
       "      <td>49000.0</td>\n",
       "      <td>NaN</td>\n",
       "      <td>detergent</td>\n",
       "      <td>2018-09-20 01:02:00</td>\n",
       "      <td>1.8 kg</td>\n",
       "    </tr>\n",
       "    <tr>\n",
       "      <th>2</th>\n",
       "      <td>https://www.bukalapak.com/p/rumah-tangga/home-...</td>\n",
       "      <td>Good Rinso Molto Purple 1.8 Kg</td>\n",
       "      <td>50000.0</td>\n",
       "      <td>NaN</td>\n",
       "      <td>detergent</td>\n",
       "      <td>2018-10-13 10:46:00</td>\n",
       "      <td>1.8 kg</td>\n",
       "    </tr>\n",
       "    <tr>\n",
       "      <th>3</th>\n",
       "      <td>https://www.bukalapak.com/p/rumah-tangga/home-...</td>\n",
       "      <td>Order Rinso Molto Purple 1.8 Kg</td>\n",
       "      <td>49000.0</td>\n",
       "      <td>NaN</td>\n",
       "      <td>detergent</td>\n",
       "      <td>2018-09-24 15:17:00</td>\n",
       "      <td>1.8 kg</td>\n",
       "    </tr>\n",
       "    <tr>\n",
       "      <th>4</th>\n",
       "      <td>https://www.bukalapak.com/p/rumah-tangga/home-...</td>\n",
       "      <td>Promonya Rinso Molto Purple 1.8 Kg</td>\n",
       "      <td>49000.0</td>\n",
       "      <td>NaN</td>\n",
       "      <td>detergent</td>\n",
       "      <td>2018-09-27 11:16:00</td>\n",
       "      <td>1.8 kg</td>\n",
       "    </tr>\n",
       "    <tr>\n",
       "      <th>...</th>\n",
       "      <td>...</td>\n",
       "      <td>...</td>\n",
       "      <td>...</td>\n",
       "      <td>...</td>\n",
       "      <td>...</td>\n",
       "      <td>...</td>\n",
       "      <td>...</td>\n",
       "    </tr>\n",
       "    <tr>\n",
       "      <th>739</th>\n",
       "      <td>https://www.bukalapak.com/p/rumah-tangga/tempa...</td>\n",
       "      <td>PLASTIK GULA 1 KG-STAND UP POUCH-KEMASAN KOPI ...</td>\n",
       "      <td>1000.0</td>\n",
       "      <td>NaN</td>\n",
       "      <td>sugar</td>\n",
       "      <td>2018-10-10 20:33:00</td>\n",
       "      <td>1 kg</td>\n",
       "    </tr>\n",
       "    <tr>\n",
       "      <th>740</th>\n",
       "      <td>https://www.bukalapak.com/p/rumah-tangga/tempa...</td>\n",
       "      <td>PLASTIK GULA 1-1.5 KG-STAND UP POUCH-KEMASAN S...</td>\n",
       "      <td>1100.0</td>\n",
       "      <td>NaN</td>\n",
       "      <td>sugar</td>\n",
       "      <td>2018-10-10 20:32:00</td>\n",
       "      <td>1 kg</td>\n",
       "    </tr>\n",
       "    <tr>\n",
       "      <th>741</th>\n",
       "      <td>https://www.bukalapak.com/p/rumah-tangga/tempa...</td>\n",
       "      <td>Plastik PE uk 15x30 - plastik 1 kg  Plastik Gu...</td>\n",
       "      <td>5000.0</td>\n",
       "      <td>NaN</td>\n",
       "      <td>sugar</td>\n",
       "      <td>2018-10-22 10:02:00</td>\n",
       "      <td>1 kg</td>\n",
       "    </tr>\n",
       "    <tr>\n",
       "      <th>742</th>\n",
       "      <td>https://www.bukalapak.com/p/rumah-tangga/tempa...</td>\n",
       "      <td>STANDING POUCH 1 KG - PLASTIK KLIP - KEMASAN K...</td>\n",
       "      <td>103500.0</td>\n",
       "      <td>NaN</td>\n",
       "      <td>sugar</td>\n",
       "      <td>2018-10-18 13:14:00</td>\n",
       "      <td>1 kg</td>\n",
       "    </tr>\n",
       "    <tr>\n",
       "      <th>743</th>\n",
       "      <td>https://www.bukalapak.com/p/rumah-tangga/tempa...</td>\n",
       "      <td>Toples sealware tempat kue kerupuk gula 1 kg k...</td>\n",
       "      <td>5000.0</td>\n",
       "      <td>NaN</td>\n",
       "      <td>sugar</td>\n",
       "      <td>2018-10-12 08:43:00</td>\n",
       "      <td>1 kg</td>\n",
       "    </tr>\n",
       "  </tbody>\n",
       "</table>\n",
       "<p>744 rows × 7 columns</p>\n",
       "</div>"
      ],
      "text/plain": [
       "                                             item_link  \\\n",
       "0    https://www.bukalapak.com/p/kesehatan-2359/pro...   \n",
       "1    https://www.bukalapak.com/p/rumah-tangga/home-...   \n",
       "2    https://www.bukalapak.com/p/rumah-tangga/home-...   \n",
       "3    https://www.bukalapak.com/p/rumah-tangga/home-...   \n",
       "4    https://www.bukalapak.com/p/rumah-tangga/home-...   \n",
       "..                                                 ...   \n",
       "739  https://www.bukalapak.com/p/rumah-tangga/tempa...   \n",
       "740  https://www.bukalapak.com/p/rumah-tangga/tempa...   \n",
       "741  https://www.bukalapak.com/p/rumah-tangga/tempa...   \n",
       "742  https://www.bukalapak.com/p/rumah-tangga/tempa...   \n",
       "743  https://www.bukalapak.com/p/rumah-tangga/tempa...   \n",
       "\n",
       "                                                 title  price_original  \\\n",
       "0                    Rinso Molto Deterjen Bubuk 1.8 kg         30000.0   \n",
       "1    Terlaris - DETERGENT RINSO ANTI NODA 1.8 KG 1 ...         49000.0   \n",
       "2                       Good Rinso Molto Purple 1.8 Kg         50000.0   \n",
       "3                      Order Rinso Molto Purple 1.8 Kg         49000.0   \n",
       "4                   Promonya Rinso Molto Purple 1.8 Kg         49000.0   \n",
       "..                                                 ...             ...   \n",
       "739  PLASTIK GULA 1 KG-STAND UP POUCH-KEMASAN KOPI ...          1000.0   \n",
       "740  PLASTIK GULA 1-1.5 KG-STAND UP POUCH-KEMASAN S...          1100.0   \n",
       "741  Plastik PE uk 15x30 - plastik 1 kg  Plastik Gu...          5000.0   \n",
       "742  STANDING POUCH 1 KG - PLASTIK KLIP - KEMASAN K...        103500.0   \n",
       "743  Toples sealware tempat kue kerupuk gula 1 kg k...          5000.0   \n",
       "\n",
       "     price_discount sub_category         time_update   scale  \n",
       "0               NaN    detergent 2018-10-20 01:32:00  1.8 kg  \n",
       "1               NaN    detergent 2018-09-20 01:02:00  1.8 kg  \n",
       "2               NaN    detergent 2018-10-13 10:46:00  1.8 kg  \n",
       "3               NaN    detergent 2018-09-24 15:17:00  1.8 kg  \n",
       "4               NaN    detergent 2018-09-27 11:16:00  1.8 kg  \n",
       "..              ...          ...                 ...     ...  \n",
       "739             NaN        sugar 2018-10-10 20:33:00    1 kg  \n",
       "740             NaN        sugar 2018-10-10 20:32:00    1 kg  \n",
       "741             NaN        sugar 2018-10-22 10:02:00    1 kg  \n",
       "742             NaN        sugar 2018-10-18 13:14:00    1 kg  \n",
       "743             NaN        sugar 2018-10-12 08:43:00    1 kg  \n",
       "\n",
       "[744 rows x 7 columns]"
      ]
     },
     "execution_count": 51,
     "metadata": {},
     "output_type": "execute_result"
    }
   ],
   "source": [
    "## Import Library & Read Data\n",
    "\n",
    "import pandas as pd\n",
    "online_bl = pd.read_csv(\"data_input/online_bl.csv\", parse_dates=[\"time_update\"])\n",
    "online_bl"
   ]
  },
  {
   "cell_type": "markdown",
   "metadata": {},
   "source": [
    "Anda akan melakukan eksplorasi data `online_bl` untuk memastikan bahwa data tersebut siap untuk dianalisis. Hal yang pertama akan Anda lakukan adalah melakukan pengecekan tipe data."
   ]
  },
  {
   "cell_type": "code",
   "execution_count": 52,
   "metadata": {},
   "outputs": [
    {
     "data": {
      "text/plain": [
       "item_link                 object\n",
       "title                     object\n",
       "price_original           float64\n",
       "price_discount           float64\n",
       "sub_category              object\n",
       "time_update       datetime64[ns]\n",
       "scale                     object\n",
       "dtype: object"
      ]
     },
     "execution_count": 52,
     "metadata": {},
     "output_type": "execute_result"
    }
   ],
   "source": [
    "# your code here\n",
    "\n",
    "online_bl.dtypes"
   ]
  },
  {
   "cell_type": "markdown",
   "metadata": {},
   "source": [
    "Terdapat kolom yang perlu disesuaikan tipe datanya yaitu kolom `sub_category`. Silahkan lakukan pengubahan tipe data pada kolom tersebut kedalam tipe data yang sesuai.\n"
   ]
  },
  {
   "cell_type": "code",
   "execution_count": 53,
   "metadata": {},
   "outputs": [],
   "source": [
    "# your code here\n",
    "\n",
    "online_bl[\"sub_category\"] = online_bl[\"sub_category\"].astype(\"category\")"
   ]
  },
  {
   "cell_type": "code",
   "execution_count": 54,
   "metadata": {},
   "outputs": [
    {
     "data": {
      "text/plain": [
       "item_link                 object\n",
       "title                     object\n",
       "price_original           float64\n",
       "price_discount           float64\n",
       "sub_category            category\n",
       "time_update       datetime64[ns]\n",
       "scale                     object\n",
       "dtype: object"
      ]
     },
     "execution_count": 54,
     "metadata": {},
     "output_type": "execute_result"
    }
   ],
   "source": [
    "online_bl.dtypes"
   ]
  },
  {
   "cell_type": "markdown",
   "metadata": {},
   "source": [
    "## Analisis\n",
    "\n",
    "Data `online_bl` menyimpan data beragam barang yang dijual pada suatu e-commerce. Anda diminta untuk melakukan analisis terhadap data untuk menjawab beberapa pertanyaan yang ada."
   ]
  },
  {
   "cell_type": "markdown",
   "metadata": {
    "tags": []
   },
   "source": [
    "### Jenis Barang\n",
    "\n",
    "Anda ingin mencari tahu jenis barang apa saja yang dijual dan jenis barang apakah yang paling banyak dijual pada e-commerce tersebut. Menggunakan informasi dari kolom `sub_category`, silahkan jawab pertanyaan di bawah ini.\n",
    "\n",
    "1. Berapa banyak jenis barang (`sub_category`) unik yang ada dalam kumpulan data `online_bl`? Apakah kita memiliki lebih banyak produk \"detergent\" atau \"sugar\" pada data tersebut?\n",
    "\n",
    "    - [ ] 2, dimana \"detergent\" lebih banyak dari pada \"Sugar\"\n",
    "    - [ ] 2, dimana \"detergent\" dan \"sugar\" memiliki jumlah produk sama banyak\n",
    "    - [x] 3, dimana \"sugar\" lebih banyak dari pada detergent\n",
    "    - [ ] tidak ada opsi yang benar "
   ]
  },
  {
   "cell_type": "markdown",
   "metadata": {},
   "source": [
    "- Opsi jawaban Bahasa Inggris:\n",
    "\n",
    "    - [ ] 2, with more \"detergent\" than \"sugar\"\n",
    "    - [ ] 2, with \"detergent\" and \"sugar\" having equal listings\n",
    "    - [ ] 3, with more \"sugar\" than detergent\n",
    "    - [ ] None of above is correct"
   ]
  },
  {
   "cell_type": "code",
   "execution_count": 55,
   "metadata": {},
   "outputs": [
    {
     "data": {
      "text/plain": [
       "rice         425\n",
       "sugar        213\n",
       "detergent    106\n",
       "Name: sub_category, dtype: int64"
      ]
     },
     "execution_count": 55,
     "metadata": {},
     "output_type": "execute_result"
    }
   ],
   "source": [
    "# your code here\n",
    "\n",
    "online_bl[\"sub_category\"].value_counts()"
   ]
  },
  {
   "cell_type": "markdown",
   "metadata": {},
   "source": [
    "### Skala Barang\n",
    "\n",
    "Berdasarkan beberapa jenis barang yang dijual diatas, setiap barang dijual dengan beberapa ukuran berdasarkan beratnya, termasuk deterjen. Deterjen yang ada di pasaran memiliki beberapa pilihan ukuran (1kg, 1.8kg, dsb). \n",
    "\n",
    "2. Deterjen dengan ukuran berapakah yang paling banyak dijual di situs Bukalapak?\n",
    "\n",
    "    - [ ] 1 kg\n",
    "    - [x] 1.8 kg\n",
    "    - [ ] 5 kg\n",
    "    - [ ] 800 gr"
   ]
  },
  {
   "cell_type": "code",
   "execution_count": 263,
   "metadata": {},
   "outputs": [
    {
     "data": {
      "text/html": [
       "<div>\n",
       "<style scoped>\n",
       "    .dataframe tbody tr th:only-of-type {\n",
       "        vertical-align: middle;\n",
       "    }\n",
       "\n",
       "    .dataframe tbody tr th {\n",
       "        vertical-align: top;\n",
       "    }\n",
       "\n",
       "    .dataframe thead th {\n",
       "        text-align: right;\n",
       "    }\n",
       "</style>\n",
       "<table border=\"1\" class=\"dataframe\">\n",
       "  <thead>\n",
       "    <tr style=\"text-align: right;\">\n",
       "      <th>sub_category</th>\n",
       "      <th>detergent</th>\n",
       "      <th>rice</th>\n",
       "      <th>sugar</th>\n",
       "    </tr>\n",
       "    <tr>\n",
       "      <th>scale</th>\n",
       "      <th></th>\n",
       "      <th></th>\n",
       "      <th></th>\n",
       "    </tr>\n",
       "  </thead>\n",
       "  <tbody>\n",
       "    <tr>\n",
       "      <th>1 kg</th>\n",
       "      <td>0</td>\n",
       "      <td>212</td>\n",
       "      <td>152</td>\n",
       "    </tr>\n",
       "    <tr>\n",
       "      <th>1.8 kg</th>\n",
       "      <td>88</td>\n",
       "      <td>0</td>\n",
       "      <td>0</td>\n",
       "    </tr>\n",
       "    <tr>\n",
       "      <th>5 kg</th>\n",
       "      <td>0</td>\n",
       "      <td>213</td>\n",
       "      <td>61</td>\n",
       "    </tr>\n",
       "    <tr>\n",
       "      <th>800 gr</th>\n",
       "      <td>18</td>\n",
       "      <td>0</td>\n",
       "      <td>0</td>\n",
       "    </tr>\n",
       "  </tbody>\n",
       "</table>\n",
       "</div>"
      ],
      "text/plain": [
       "sub_category  detergent  rice  sugar\n",
       "scale                               \n",
       "1 kg                  0   212    152\n",
       "1.8 kg               88     0      0\n",
       "5 kg                  0   213     61\n",
       "800 gr               18     0      0"
      ]
     },
     "execution_count": 263,
     "metadata": {},
     "output_type": "execute_result"
    }
   ],
   "source": [
    "pd.crosstab(\n",
    "    index = online_bl[\"scale\"],\n",
    "    columns=online_bl[\"sub_category\"]\n",
    ")"
   ]
  },
  {
   "cell_type": "markdown",
   "metadata": {},
   "source": [
    "Anda sedang membutuhkan produk deterjen. Berdasarkan informasi ukuran deterjen serta harga yang dipasarkan, Anda tertarik untuk membeli deterjen dengan ukuran 1,8 kg dan 800 gram. Namun, Anda ingin mengetahui pada bulan apa deterjen dengan ukuran tersebut dijual dengan rata-rata harga terendah.  \n",
    "\n",
    "3. Di bulan apakah produk deterjen dengan ukuran 1,8 kg dan 800 gram berada di rata-rata harga terendah? Apakah keduanya berada di bulan yang sama?\n",
    "\n",
    "    - [x] Detergen 1.8 kg maupun 800 gr memiliki harga terendah di bulan Agustus\n",
    "    - [ ] Detergen 1.8 kg maupun 800 gr memiliki harga terendah di bulan Oktober\n",
    "    - [ ] Detergen 1.8 kg: terendah di Agustus, Detergen 800 gr: terendah di Oktober\n",
    "    - [ ] Detergen 1.8 kg: terendah di August, Detergen 800 gr: terendah di July \n",
    "    \n",
    "- Opsi Jawaban Bahasa Inggris:\n",
    "\n",
    "    - [ ] Both 1.8 kg and 800 gr detergents lowest price were in August\n",
    "    - [ ] Both 1.8 kg and 800 gr detergents lowest price were in October\n",
    "    - [ ] 1.8 kg detergents: Lowest in August, 800 gr: Lowest in October\n",
    "    - [ ] 1.8 kg detergents: Lowest in August, 800 gr: Lowest in July   "
   ]
  },
  {
   "cell_type": "code",
   "execution_count": 262,
   "metadata": {},
   "outputs": [
    {
     "name": "stderr",
     "output_type": "stream",
     "text": [
      "<ipython-input-262-7055978d2351>:1: FutureWarning: Indexing with multiple keys (implicitly converted to a tuple of keys) will be deprecated, use a list instead.\n",
      "  online_bl.groupby([\"sub_category\",\"scale\"])[\"price_original\",\"month\"].min()\n"
     ]
    },
    {
     "data": {
      "text/html": [
       "<div>\n",
       "<style scoped>\n",
       "    .dataframe tbody tr th:only-of-type {\n",
       "        vertical-align: middle;\n",
       "    }\n",
       "\n",
       "    .dataframe tbody tr th {\n",
       "        vertical-align: top;\n",
       "    }\n",
       "\n",
       "    .dataframe thead th {\n",
       "        text-align: right;\n",
       "    }\n",
       "</style>\n",
       "<table border=\"1\" class=\"dataframe\">\n",
       "  <thead>\n",
       "    <tr style=\"text-align: right;\">\n",
       "      <th></th>\n",
       "      <th></th>\n",
       "      <th>price_original</th>\n",
       "      <th>month</th>\n",
       "    </tr>\n",
       "    <tr>\n",
       "      <th>sub_category</th>\n",
       "      <th>scale</th>\n",
       "      <th></th>\n",
       "      <th></th>\n",
       "    </tr>\n",
       "  </thead>\n",
       "  <tbody>\n",
       "    <tr>\n",
       "      <th rowspan=\"4\" valign=\"top\">detergent</th>\n",
       "      <th>1 kg</th>\n",
       "      <td>NaN</td>\n",
       "      <td>NaN</td>\n",
       "    </tr>\n",
       "    <tr>\n",
       "      <th>1.8 kg</th>\n",
       "      <td>25900.0</td>\n",
       "      <td>August</td>\n",
       "    </tr>\n",
       "    <tr>\n",
       "      <th>5 kg</th>\n",
       "      <td>NaN</td>\n",
       "      <td>NaN</td>\n",
       "    </tr>\n",
       "    <tr>\n",
       "      <th>800 gr</th>\n",
       "      <td>12000.0</td>\n",
       "      <td>August</td>\n",
       "    </tr>\n",
       "    <tr>\n",
       "      <th rowspan=\"4\" valign=\"top\">rice</th>\n",
       "      <th>1 kg</th>\n",
       "      <td>1000.0</td>\n",
       "      <td>August</td>\n",
       "    </tr>\n",
       "    <tr>\n",
       "      <th>1.8 kg</th>\n",
       "      <td>NaN</td>\n",
       "      <td>NaN</td>\n",
       "    </tr>\n",
       "    <tr>\n",
       "      <th>5 kg</th>\n",
       "      <td>700.0</td>\n",
       "      <td>August</td>\n",
       "    </tr>\n",
       "    <tr>\n",
       "      <th>800 gr</th>\n",
       "      <td>NaN</td>\n",
       "      <td>NaN</td>\n",
       "    </tr>\n",
       "    <tr>\n",
       "      <th rowspan=\"4\" valign=\"top\">sugar</th>\n",
       "      <th>1 kg</th>\n",
       "      <td>1000.0</td>\n",
       "      <td>August</td>\n",
       "    </tr>\n",
       "    <tr>\n",
       "      <th>1.8 kg</th>\n",
       "      <td>NaN</td>\n",
       "      <td>NaN</td>\n",
       "    </tr>\n",
       "    <tr>\n",
       "      <th>5 kg</th>\n",
       "      <td>4000.0</td>\n",
       "      <td>August</td>\n",
       "    </tr>\n",
       "    <tr>\n",
       "      <th>800 gr</th>\n",
       "      <td>NaN</td>\n",
       "      <td>NaN</td>\n",
       "    </tr>\n",
       "  </tbody>\n",
       "</table>\n",
       "</div>"
      ],
      "text/plain": [
       "                     price_original   month\n",
       "sub_category scale                         \n",
       "detergent    1 kg               NaN     NaN\n",
       "             1.8 kg         25900.0  August\n",
       "             5 kg               NaN     NaN\n",
       "             800 gr         12000.0  August\n",
       "rice         1 kg            1000.0  August\n",
       "             1.8 kg             NaN     NaN\n",
       "             5 kg             700.0  August\n",
       "             800 gr             NaN     NaN\n",
       "sugar        1 kg            1000.0  August\n",
       "             1.8 kg             NaN     NaN\n",
       "             5 kg            4000.0  August\n",
       "             800 gr             NaN     NaN"
      ]
     },
     "execution_count": 262,
     "metadata": {},
     "output_type": "execute_result"
    }
   ],
   "source": [
    "online_bl.groupby([\"sub_category\",\"scale\"])[\"price_original\",\"month\"].min()"
   ]
  },
  {
   "cell_type": "code",
   "execution_count": 254,
   "metadata": {},
   "outputs": [
    {
     "data": {
      "text/html": [
       "<div>\n",
       "<style scoped>\n",
       "    .dataframe tbody tr th:only-of-type {\n",
       "        vertical-align: middle;\n",
       "    }\n",
       "\n",
       "    .dataframe tbody tr th {\n",
       "        vertical-align: top;\n",
       "    }\n",
       "\n",
       "    .dataframe thead th {\n",
       "        text-align: right;\n",
       "    }\n",
       "</style>\n",
       "<table border=\"1\" class=\"dataframe\">\n",
       "  <thead>\n",
       "    <tr style=\"text-align: right;\">\n",
       "      <th></th>\n",
       "      <th>item_link</th>\n",
       "      <th>title</th>\n",
       "      <th>price_original</th>\n",
       "      <th>price_discount</th>\n",
       "      <th>sub_category</th>\n",
       "      <th>time_update</th>\n",
       "      <th>scale</th>\n",
       "      <th>month</th>\n",
       "    </tr>\n",
       "  </thead>\n",
       "  <tbody>\n",
       "    <tr>\n",
       "      <th>0</th>\n",
       "      <td>https://www.bukalapak.com/p/kesehatan-2359/pro...</td>\n",
       "      <td>Rinso Molto Deterjen Bubuk 1.8 kg</td>\n",
       "      <td>30000.0</td>\n",
       "      <td>NaN</td>\n",
       "      <td>detergent</td>\n",
       "      <td>2018-10-20 01:32:00</td>\n",
       "      <td>1.8 kg</td>\n",
       "      <td>October</td>\n",
       "    </tr>\n",
       "    <tr>\n",
       "      <th>1</th>\n",
       "      <td>https://www.bukalapak.com/p/rumah-tangga/home-...</td>\n",
       "      <td>Terlaris - DETERGENT RINSO ANTI NODA 1.8 KG 1 ...</td>\n",
       "      <td>49000.0</td>\n",
       "      <td>NaN</td>\n",
       "      <td>detergent</td>\n",
       "      <td>2018-09-20 01:02:00</td>\n",
       "      <td>1.8 kg</td>\n",
       "      <td>September</td>\n",
       "    </tr>\n",
       "    <tr>\n",
       "      <th>2</th>\n",
       "      <td>https://www.bukalapak.com/p/rumah-tangga/home-...</td>\n",
       "      <td>Good Rinso Molto Purple 1.8 Kg</td>\n",
       "      <td>50000.0</td>\n",
       "      <td>NaN</td>\n",
       "      <td>detergent</td>\n",
       "      <td>2018-10-13 10:46:00</td>\n",
       "      <td>1.8 kg</td>\n",
       "      <td>October</td>\n",
       "    </tr>\n",
       "    <tr>\n",
       "      <th>3</th>\n",
       "      <td>https://www.bukalapak.com/p/rumah-tangga/home-...</td>\n",
       "      <td>Order Rinso Molto Purple 1.8 Kg</td>\n",
       "      <td>49000.0</td>\n",
       "      <td>NaN</td>\n",
       "      <td>detergent</td>\n",
       "      <td>2018-09-24 15:17:00</td>\n",
       "      <td>1.8 kg</td>\n",
       "      <td>September</td>\n",
       "    </tr>\n",
       "    <tr>\n",
       "      <th>4</th>\n",
       "      <td>https://www.bukalapak.com/p/rumah-tangga/home-...</td>\n",
       "      <td>Promonya Rinso Molto Purple 1.8 Kg</td>\n",
       "      <td>49000.0</td>\n",
       "      <td>NaN</td>\n",
       "      <td>detergent</td>\n",
       "      <td>2018-09-27 11:16:00</td>\n",
       "      <td>1.8 kg</td>\n",
       "      <td>September</td>\n",
       "    </tr>\n",
       "  </tbody>\n",
       "</table>\n",
       "</div>"
      ],
      "text/plain": [
       "                                           item_link  \\\n",
       "0  https://www.bukalapak.com/p/kesehatan-2359/pro...   \n",
       "1  https://www.bukalapak.com/p/rumah-tangga/home-...   \n",
       "2  https://www.bukalapak.com/p/rumah-tangga/home-...   \n",
       "3  https://www.bukalapak.com/p/rumah-tangga/home-...   \n",
       "4  https://www.bukalapak.com/p/rumah-tangga/home-...   \n",
       "\n",
       "                                               title  price_original  \\\n",
       "0                  Rinso Molto Deterjen Bubuk 1.8 kg         30000.0   \n",
       "1  Terlaris - DETERGENT RINSO ANTI NODA 1.8 KG 1 ...         49000.0   \n",
       "2                     Good Rinso Molto Purple 1.8 Kg         50000.0   \n",
       "3                    Order Rinso Molto Purple 1.8 Kg         49000.0   \n",
       "4                 Promonya Rinso Molto Purple 1.8 Kg         49000.0   \n",
       "\n",
       "   price_discount sub_category         time_update   scale      month  \n",
       "0             NaN    detergent 2018-10-20 01:32:00  1.8 kg    October  \n",
       "1             NaN    detergent 2018-09-20 01:02:00  1.8 kg  September  \n",
       "2             NaN    detergent 2018-10-13 10:46:00  1.8 kg    October  \n",
       "3             NaN    detergent 2018-09-24 15:17:00  1.8 kg  September  \n",
       "4             NaN    detergent 2018-09-27 11:16:00  1.8 kg  September  "
      ]
     },
     "execution_count": 254,
     "metadata": {},
     "output_type": "execute_result"
    }
   ],
   "source": [
    "online_bl[\"month\"] = online_bl[\"time_update\"].dt.month_name()\n",
    "online_bl.head()"
   ]
  },
  {
   "cell_type": "markdown",
   "metadata": {},
   "source": [
    "# Cara Lain"
   ]
  },
  {
   "cell_type": "code",
   "execution_count": 58,
   "metadata": {},
   "outputs": [
    {
     "data": {
      "text/html": [
       "<div>\n",
       "<style scoped>\n",
       "    .dataframe tbody tr th:only-of-type {\n",
       "        vertical-align: middle;\n",
       "    }\n",
       "\n",
       "    .dataframe tbody tr th {\n",
       "        vertical-align: top;\n",
       "    }\n",
       "\n",
       "    .dataframe thead th {\n",
       "        text-align: right;\n",
       "    }\n",
       "</style>\n",
       "<table border=\"1\" class=\"dataframe\">\n",
       "  <thead>\n",
       "    <tr style=\"text-align: right;\">\n",
       "      <th>sub_category</th>\n",
       "      <th>detergent</th>\n",
       "      <th>rice</th>\n",
       "      <th>sugar</th>\n",
       "    </tr>\n",
       "    <tr>\n",
       "      <th>scale</th>\n",
       "      <th></th>\n",
       "      <th></th>\n",
       "      <th></th>\n",
       "    </tr>\n",
       "  </thead>\n",
       "  <tbody>\n",
       "    <tr>\n",
       "      <th>1 kg</th>\n",
       "      <td>NaN</td>\n",
       "      <td>53673.113208</td>\n",
       "      <td>50292.763158</td>\n",
       "    </tr>\n",
       "    <tr>\n",
       "      <th>1.8 kg</th>\n",
       "      <td>41152.272727</td>\n",
       "      <td>NaN</td>\n",
       "      <td>NaN</td>\n",
       "    </tr>\n",
       "    <tr>\n",
       "      <th>5 kg</th>\n",
       "      <td>NaN</td>\n",
       "      <td>87967.307692</td>\n",
       "      <td>128268.000000</td>\n",
       "    </tr>\n",
       "    <tr>\n",
       "      <th>800 gr</th>\n",
       "      <td>24738.888889</td>\n",
       "      <td>NaN</td>\n",
       "      <td>NaN</td>\n",
       "    </tr>\n",
       "  </tbody>\n",
       "</table>\n",
       "</div>"
      ],
      "text/plain": [
       "sub_category     detergent          rice          sugar\n",
       "scale                                                  \n",
       "1 kg                   NaN  53673.113208   50292.763158\n",
       "1.8 kg        41152.272727           NaN            NaN\n",
       "5 kg                   NaN  87967.307692  128268.000000\n",
       "800 gr        24738.888889           NaN            NaN"
      ]
     },
     "execution_count": 58,
     "metadata": {},
     "output_type": "execute_result"
    }
   ],
   "source": [
    "pd.crosstab(index = online_bl[\"scale\"],columns=online_bl[\"sub_category\"], values=online_bl[\"price_original\"],aggfunc='mean' )"
   ]
  },
  {
   "cell_type": "code",
   "execution_count": 59,
   "metadata": {},
   "outputs": [
    {
     "data": {
      "text/html": [
       "<div>\n",
       "<style scoped>\n",
       "    .dataframe tbody tr th:only-of-type {\n",
       "        vertical-align: middle;\n",
       "    }\n",
       "\n",
       "    .dataframe tbody tr th {\n",
       "        vertical-align: top;\n",
       "    }\n",
       "\n",
       "    .dataframe thead th {\n",
       "        text-align: right;\n",
       "    }\n",
       "</style>\n",
       "<table border=\"1\" class=\"dataframe\">\n",
       "  <thead>\n",
       "    <tr style=\"text-align: right;\">\n",
       "      <th>sub_category</th>\n",
       "      <th>detergent</th>\n",
       "      <th>rice</th>\n",
       "      <th>sugar</th>\n",
       "    </tr>\n",
       "    <tr>\n",
       "      <th>scale</th>\n",
       "      <th></th>\n",
       "      <th></th>\n",
       "      <th></th>\n",
       "    </tr>\n",
       "  </thead>\n",
       "  <tbody>\n",
       "    <tr>\n",
       "      <th>1 kg</th>\n",
       "      <td>0.0</td>\n",
       "      <td>11378700.0</td>\n",
       "      <td>7644500.0</td>\n",
       "    </tr>\n",
       "    <tr>\n",
       "      <th>1.8 kg</th>\n",
       "      <td>3621400.0</td>\n",
       "      <td>0.0</td>\n",
       "      <td>0.0</td>\n",
       "    </tr>\n",
       "    <tr>\n",
       "      <th>5 kg</th>\n",
       "      <td>0.0</td>\n",
       "      <td>18297200.0</td>\n",
       "      <td>6413400.0</td>\n",
       "    </tr>\n",
       "    <tr>\n",
       "      <th>800 gr</th>\n",
       "      <td>445300.0</td>\n",
       "      <td>0.0</td>\n",
       "      <td>0.0</td>\n",
       "    </tr>\n",
       "  </tbody>\n",
       "</table>\n",
       "</div>"
      ],
      "text/plain": [
       "sub_category  detergent        rice      sugar\n",
       "scale                                         \n",
       "1 kg                0.0  11378700.0  7644500.0\n",
       "1.8 kg        3621400.0         0.0        0.0\n",
       "5 kg                0.0  18297200.0  6413400.0\n",
       "800 gr         445300.0         0.0        0.0"
      ]
     },
     "execution_count": 59,
     "metadata": {},
     "output_type": "execute_result"
    }
   ],
   "source": [
    "pd.crosstab(index = online_bl[\"scale\"],columns=online_bl[\"sub_category\"], values=online_bl[\"price_original\"],aggfunc='sum' )"
   ]
  },
  {
   "cell_type": "code",
   "execution_count": 60,
   "metadata": {},
   "outputs": [
    {
     "data": {
      "text/plain": [
       "sub_category\n",
       "detergent     700.0\n",
       "rice         1100.0\n",
       "sugar         700.0\n",
       "dtype: float64"
      ]
     },
     "execution_count": 60,
     "metadata": {},
     "output_type": "execute_result"
    }
   ],
   "source": [
    "pd.crosstab(\n",
    "    index=online_bl['sub_category'],\n",
    "    columns=online_bl['price_original']\n",
    ").idxmin(axis=1)"
   ]
  },
  {
   "cell_type": "markdown",
   "metadata": {},
   "source": [
    "**rata-rata harga terendah**"
   ]
  },
  {
   "cell_type": "code",
   "execution_count": 61,
   "metadata": {},
   "outputs": [
    {
     "data": {
      "text/html": [
       "<div>\n",
       "<style scoped>\n",
       "    .dataframe tbody tr th:only-of-type {\n",
       "        vertical-align: middle;\n",
       "    }\n",
       "\n",
       "    .dataframe tbody tr th {\n",
       "        vertical-align: top;\n",
       "    }\n",
       "\n",
       "    .dataframe thead th {\n",
       "        text-align: right;\n",
       "    }\n",
       "</style>\n",
       "<table border=\"1\" class=\"dataframe\">\n",
       "  <thead>\n",
       "    <tr style=\"text-align: right;\">\n",
       "      <th>month</th>\n",
       "      <th>August</th>\n",
       "      <th>January</th>\n",
       "      <th>July</th>\n",
       "      <th>June</th>\n",
       "      <th>March</th>\n",
       "      <th>May</th>\n",
       "      <th>October</th>\n",
       "      <th>September</th>\n",
       "    </tr>\n",
       "    <tr>\n",
       "      <th>scale</th>\n",
       "      <th></th>\n",
       "      <th></th>\n",
       "      <th></th>\n",
       "      <th></th>\n",
       "      <th></th>\n",
       "      <th></th>\n",
       "      <th></th>\n",
       "      <th></th>\n",
       "    </tr>\n",
       "  </thead>\n",
       "  <tbody>\n",
       "    <tr>\n",
       "      <th>1 kg</th>\n",
       "      <td>64103.571429</td>\n",
       "      <td>18500.0</td>\n",
       "      <td>53835.294118</td>\n",
       "      <td>86960.0</td>\n",
       "      <td>210100.000000</td>\n",
       "      <td>88750.0</td>\n",
       "      <td>47242.608696</td>\n",
       "      <td>56780.769231</td>\n",
       "    </tr>\n",
       "    <tr>\n",
       "      <th>1.8 kg</th>\n",
       "      <td>31000.000000</td>\n",
       "      <td>NaN</td>\n",
       "      <td>40000.000000</td>\n",
       "      <td>NaN</td>\n",
       "      <td>NaN</td>\n",
       "      <td>NaN</td>\n",
       "      <td>41191.836735</td>\n",
       "      <td>42750.000000</td>\n",
       "    </tr>\n",
       "    <tr>\n",
       "      <th>5 kg</th>\n",
       "      <td>124050.000000</td>\n",
       "      <td>NaN</td>\n",
       "      <td>122500.000000</td>\n",
       "      <td>87500.0</td>\n",
       "      <td>98966.666667</td>\n",
       "      <td>85000.0</td>\n",
       "      <td>91960.759494</td>\n",
       "      <td>95085.714286</td>\n",
       "    </tr>\n",
       "    <tr>\n",
       "      <th>800 gr</th>\n",
       "      <td>20000.000000</td>\n",
       "      <td>NaN</td>\n",
       "      <td>30000.000000</td>\n",
       "      <td>NaN</td>\n",
       "      <td>NaN</td>\n",
       "      <td>NaN</td>\n",
       "      <td>21945.454545</td>\n",
       "      <td>33475.000000</td>\n",
       "    </tr>\n",
       "  </tbody>\n",
       "</table>\n",
       "</div>"
      ],
      "text/plain": [
       "month          August  January           July     June          March  \\\n",
       "scale                                                                   \n",
       "1 kg     64103.571429  18500.0   53835.294118  86960.0  210100.000000   \n",
       "1.8 kg   31000.000000      NaN   40000.000000      NaN            NaN   \n",
       "5 kg    124050.000000      NaN  122500.000000  87500.0   98966.666667   \n",
       "800 gr   20000.000000      NaN   30000.000000      NaN            NaN   \n",
       "\n",
       "month       May       October     September  \n",
       "scale                                        \n",
       "1 kg    88750.0  47242.608696  56780.769231  \n",
       "1.8 kg      NaN  41191.836735  42750.000000  \n",
       "5 kg    85000.0  91960.759494  95085.714286  \n",
       "800 gr      NaN  21945.454545  33475.000000  "
      ]
     },
     "execution_count": 61,
     "metadata": {},
     "output_type": "execute_result"
    }
   ],
   "source": [
    "# Di bulan apakah produk deterjen dengan ukuran 1,8 kg dan 800 gram berada di rata-rata harga terendah\n",
    "\n",
    "pd.crosstab(\n",
    "    index = online_bl[\"scale\"],\n",
    "    columns=online_bl[\"month\"], \n",
    "    values=online_bl[\"price_original\"],\n",
    "    aggfunc='mean'\n",
    ")"
   ]
  },
  {
   "cell_type": "markdown",
   "metadata": {},
   "source": [
    "---"
   ]
  },
  {
   "cell_type": "markdown",
   "metadata": {},
   "source": [
    "# Dataset Fund Raising"
   ]
  },
  {
   "cell_type": "markdown",
   "metadata": {},
   "source": [
    "## Data Preparation\n",
    "\n",
    "Pada analisa kedua, Anda akan menggunakan data **fund raising** yang diperoleh beberapa perusahaan startup di Amerika. Silahkan gunakan data `techcrunch.csv` dari folder `data_input`.  Dataset mengandung variable sebagai berikut :\n",
    "\n",
    "- `permalink` : nama permalink company\n",
    "- `company` : nama perusahaan (company)\n",
    "- `numEmps` : banyaknya media partner\n",
    "- `category` : kategori perusahaan\n",
    "- `city` : nama kota lokasi perusahaan\n",
    "- `state` : kode negara bagian lokasi perusahaan\n",
    "- `fundedDate` : tanggal pendanaan\n",
    "- `raisedAmt` : jumlah pendanaan yang diperoleh\n",
    "- `raisedCurrency` : informasi"
   ]
  },
  {
   "cell_type": "code",
   "execution_count": 62,
   "metadata": {
    "ExecuteTime": {
     "end_time": "2021-07-22T09:50:36.949168Z",
     "start_time": "2021-07-22T09:50:36.934155Z"
    },
    "scrolled": true
   },
   "outputs": [
    {
     "data": {
      "text/html": [
       "<div>\n",
       "<style scoped>\n",
       "    .dataframe tbody tr th:only-of-type {\n",
       "        vertical-align: middle;\n",
       "    }\n",
       "\n",
       "    .dataframe tbody tr th {\n",
       "        vertical-align: top;\n",
       "    }\n",
       "\n",
       "    .dataframe thead th {\n",
       "        text-align: right;\n",
       "    }\n",
       "</style>\n",
       "<table border=\"1\" class=\"dataframe\">\n",
       "  <thead>\n",
       "    <tr style=\"text-align: right;\">\n",
       "      <th></th>\n",
       "      <th>permalink</th>\n",
       "      <th>company</th>\n",
       "      <th>numEmps</th>\n",
       "      <th>category</th>\n",
       "      <th>city</th>\n",
       "      <th>state</th>\n",
       "      <th>fundedDate</th>\n",
       "      <th>raisedAmt</th>\n",
       "      <th>raisedCurrency</th>\n",
       "      <th>round</th>\n",
       "    </tr>\n",
       "  </thead>\n",
       "  <tbody>\n",
       "    <tr>\n",
       "      <th>0</th>\n",
       "      <td>lifelock</td>\n",
       "      <td>LifeLock</td>\n",
       "      <td>NaN</td>\n",
       "      <td>web</td>\n",
       "      <td>Tempe</td>\n",
       "      <td>AZ</td>\n",
       "      <td>1-May-07</td>\n",
       "      <td>6850000</td>\n",
       "      <td>USD</td>\n",
       "      <td>b</td>\n",
       "    </tr>\n",
       "    <tr>\n",
       "      <th>1</th>\n",
       "      <td>lifelock</td>\n",
       "      <td>LifeLock</td>\n",
       "      <td>NaN</td>\n",
       "      <td>web</td>\n",
       "      <td>Tempe</td>\n",
       "      <td>AZ</td>\n",
       "      <td>1-Oct-06</td>\n",
       "      <td>6000000</td>\n",
       "      <td>USD</td>\n",
       "      <td>a</td>\n",
       "    </tr>\n",
       "    <tr>\n",
       "      <th>2</th>\n",
       "      <td>lifelock</td>\n",
       "      <td>LifeLock</td>\n",
       "      <td>NaN</td>\n",
       "      <td>web</td>\n",
       "      <td>Tempe</td>\n",
       "      <td>AZ</td>\n",
       "      <td>1-Jan-08</td>\n",
       "      <td>25000000</td>\n",
       "      <td>USD</td>\n",
       "      <td>c</td>\n",
       "    </tr>\n",
       "    <tr>\n",
       "      <th>3</th>\n",
       "      <td>mycityfaces</td>\n",
       "      <td>MyCityFaces</td>\n",
       "      <td>7.0</td>\n",
       "      <td>web</td>\n",
       "      <td>Scottsdale</td>\n",
       "      <td>AZ</td>\n",
       "      <td>1-Jan-08</td>\n",
       "      <td>50000</td>\n",
       "      <td>USD</td>\n",
       "      <td>seed</td>\n",
       "    </tr>\n",
       "    <tr>\n",
       "      <th>4</th>\n",
       "      <td>flypaper</td>\n",
       "      <td>Flypaper</td>\n",
       "      <td>NaN</td>\n",
       "      <td>web</td>\n",
       "      <td>Phoenix</td>\n",
       "      <td>AZ</td>\n",
       "      <td>1-Feb-08</td>\n",
       "      <td>3000000</td>\n",
       "      <td>USD</td>\n",
       "      <td>a</td>\n",
       "    </tr>\n",
       "    <tr>\n",
       "      <th>...</th>\n",
       "      <td>...</td>\n",
       "      <td>...</td>\n",
       "      <td>...</td>\n",
       "      <td>...</td>\n",
       "      <td>...</td>\n",
       "      <td>...</td>\n",
       "      <td>...</td>\n",
       "      <td>...</td>\n",
       "      <td>...</td>\n",
       "      <td>...</td>\n",
       "    </tr>\n",
       "    <tr>\n",
       "      <th>1455</th>\n",
       "      <td>trusera</td>\n",
       "      <td>Trusera</td>\n",
       "      <td>15.0</td>\n",
       "      <td>web</td>\n",
       "      <td>Seattle</td>\n",
       "      <td>WA</td>\n",
       "      <td>1-Jun-07</td>\n",
       "      <td>2000000</td>\n",
       "      <td>USD</td>\n",
       "      <td>angel</td>\n",
       "    </tr>\n",
       "    <tr>\n",
       "      <th>1456</th>\n",
       "      <td>alerts-com</td>\n",
       "      <td>Alerts.com</td>\n",
       "      <td>NaN</td>\n",
       "      <td>web</td>\n",
       "      <td>Bellevue</td>\n",
       "      <td>WA</td>\n",
       "      <td>8-Jul-08</td>\n",
       "      <td>1200000</td>\n",
       "      <td>USD</td>\n",
       "      <td>a</td>\n",
       "    </tr>\n",
       "    <tr>\n",
       "      <th>1457</th>\n",
       "      <td>myrio</td>\n",
       "      <td>Myrio</td>\n",
       "      <td>75.0</td>\n",
       "      <td>software</td>\n",
       "      <td>Bothell</td>\n",
       "      <td>WA</td>\n",
       "      <td>1-Jan-01</td>\n",
       "      <td>20500000</td>\n",
       "      <td>USD</td>\n",
       "      <td>unattributed</td>\n",
       "    </tr>\n",
       "    <tr>\n",
       "      <th>1458</th>\n",
       "      <td>grid-networks</td>\n",
       "      <td>Grid Networks</td>\n",
       "      <td>NaN</td>\n",
       "      <td>web</td>\n",
       "      <td>Seattle</td>\n",
       "      <td>WA</td>\n",
       "      <td>30-Oct-07</td>\n",
       "      <td>9500000</td>\n",
       "      <td>USD</td>\n",
       "      <td>a</td>\n",
       "    </tr>\n",
       "    <tr>\n",
       "      <th>1459</th>\n",
       "      <td>grid-networks</td>\n",
       "      <td>Grid Networks</td>\n",
       "      <td>NaN</td>\n",
       "      <td>web</td>\n",
       "      <td>Seattle</td>\n",
       "      <td>WA</td>\n",
       "      <td>20-May-08</td>\n",
       "      <td>10500000</td>\n",
       "      <td>USD</td>\n",
       "      <td>b</td>\n",
       "    </tr>\n",
       "  </tbody>\n",
       "</table>\n",
       "<p>1460 rows × 10 columns</p>\n",
       "</div>"
      ],
      "text/plain": [
       "          permalink        company  numEmps  category        city state  \\\n",
       "0          lifelock       LifeLock      NaN       web       Tempe    AZ   \n",
       "1          lifelock       LifeLock      NaN       web       Tempe    AZ   \n",
       "2          lifelock       LifeLock      NaN       web       Tempe    AZ   \n",
       "3       mycityfaces    MyCityFaces      7.0       web  Scottsdale    AZ   \n",
       "4          flypaper       Flypaper      NaN       web     Phoenix    AZ   \n",
       "...             ...            ...      ...       ...         ...   ...   \n",
       "1455        trusera        Trusera     15.0       web     Seattle    WA   \n",
       "1456     alerts-com     Alerts.com      NaN       web    Bellevue    WA   \n",
       "1457          myrio          Myrio     75.0  software     Bothell    WA   \n",
       "1458  grid-networks  Grid Networks      NaN       web     Seattle    WA   \n",
       "1459  grid-networks  Grid Networks      NaN       web     Seattle    WA   \n",
       "\n",
       "     fundedDate  raisedAmt raisedCurrency         round  \n",
       "0      1-May-07    6850000            USD             b  \n",
       "1      1-Oct-06    6000000            USD             a  \n",
       "2      1-Jan-08   25000000            USD             c  \n",
       "3      1-Jan-08      50000            USD          seed  \n",
       "4      1-Feb-08    3000000            USD             a  \n",
       "...         ...        ...            ...           ...  \n",
       "1455   1-Jun-07    2000000            USD         angel  \n",
       "1456   8-Jul-08    1200000            USD             a  \n",
       "1457   1-Jan-01   20500000            USD  unattributed  \n",
       "1458  30-Oct-07    9500000            USD             a  \n",
       "1459  20-May-08   10500000            USD             b  \n",
       "\n",
       "[1460 rows x 10 columns]"
      ]
     },
     "execution_count": 62,
     "metadata": {},
     "output_type": "execute_result"
    }
   ],
   "source": [
    "## Read Data\n",
    "\n",
    "data_input = pd.read_csv(\"data_input/techcrunch.csv\")\n",
    "data_input"
   ]
  },
  {
   "cell_type": "code",
   "execution_count": 63,
   "metadata": {
    "scrolled": true
   },
   "outputs": [
    {
     "data": {
      "text/plain": [
       "permalink          object\n",
       "company            object\n",
       "numEmps           float64\n",
       "category           object\n",
       "city               object\n",
       "state              object\n",
       "fundedDate         object\n",
       "raisedAmt           int64\n",
       "raisedCurrency     object\n",
       "round              object\n",
       "dtype: object"
      ]
     },
     "execution_count": 63,
     "metadata": {},
     "output_type": "execute_result"
    }
   ],
   "source": [
    "data_input.dtypes"
   ]
  },
  {
   "cell_type": "code",
   "execution_count": 64,
   "metadata": {},
   "outputs": [
    {
     "data": {
      "text/plain": [
       "permalink         909\n",
       "company           909\n",
       "numEmps            72\n",
       "category            8\n",
       "city              193\n",
       "state              33\n",
       "fundedDate        386\n",
       "raisedAmt         281\n",
       "raisedCurrency      3\n",
       "round               9\n",
       "dtype: int64"
      ]
     },
     "execution_count": 64,
     "metadata": {},
     "output_type": "execute_result"
    }
   ],
   "source": [
    "data_input.nunique()"
   ]
  },
  {
   "cell_type": "code",
   "execution_count": 65,
   "metadata": {},
   "outputs": [
    {
     "data": {
      "text/plain": [
       "permalink           object\n",
       "company             object\n",
       "numEmps            float64\n",
       "category          category\n",
       "city                object\n",
       "state               object\n",
       "fundedDate          object\n",
       "raisedAmt            int64\n",
       "raisedCurrency    category\n",
       "round             category\n",
       "dtype: object"
      ]
     },
     "execution_count": 65,
     "metadata": {},
     "output_type": "execute_result"
    }
   ],
   "source": [
    "data_input[[\"category\",\"raisedCurrency\",\"round\"]] = data_input[[\"category\",\"raisedCurrency\",\"round\"]].astype(\"category\")\n",
    "\n",
    "data_input.dtypes"
   ]
  },
  {
   "cell_type": "markdown",
   "metadata": {},
   "source": [
    "Sebelum melakukan eksplorasi data lebih lanjut, silahkan sesuaikan beberapa kolom yang belum memiliki tipe data yang tepat agar memperkecil memori."
   ]
  },
  {
   "cell_type": "markdown",
   "metadata": {},
   "source": [
    "## Analisis"
   ]
  },
  {
   "cell_type": "markdown",
   "metadata": {},
   "source": [
    "### Funding each Category\n",
    "\n",
    "Sebagai seseorang yang ingin menjalankan sebuah startup, Anda ingin melakukan perencanaan pendanaan yang cukup matang agar perusahaan Anda berjalan dengan lancar. Oleh karena itu, Anda tertarik untuk mencari tahu bidang (`category`) startup mana yang mendapatkan pendanaan tertinggi. Karena ada banyak startup yang bergerak dengan bidang yang sama, Anda ingin mendapatkan summary dari kebanyakan banyaknya pendanaan (`raisedAmt`) yang diberikan. Seperti yang sudah Anda ketahui sebelumnya, nilai rata-rata akan terpengaruhi oleh outlier, sehingga Anda akan menggunakan nilai **median** untuk mendapatkan summary bidang startup yang mendapatkan pendanaan tertinggi.\n",
    "\n",
    "Berdasarkan kondisi diatas, jawablah pertanyaan dibawah ini.\n",
    "\n",
    "4. Kategori (`category`) startup manakah yang mendapatkan funding (`raisedAmt`) tertinggi? gunakan `median` untuk menghitung kisaran funding dari tiap kategori!\n",
    "    \n",
    "    - [ ] `mobile`\n",
    "    - [ ] `cleantech`\n",
    "    - [x] `biotech`\n",
    "    - [ ] `consulting`"
   ]
  },
  {
   "cell_type": "code",
   "execution_count": 66,
   "metadata": {},
   "outputs": [
    {
     "data": {
      "text/html": [
       "<div>\n",
       "<style scoped>\n",
       "    .dataframe tbody tr th:only-of-type {\n",
       "        vertical-align: middle;\n",
       "    }\n",
       "\n",
       "    .dataframe tbody tr th {\n",
       "        vertical-align: top;\n",
       "    }\n",
       "\n",
       "    .dataframe thead th {\n",
       "        text-align: right;\n",
       "    }\n",
       "</style>\n",
       "<table border=\"1\" class=\"dataframe\">\n",
       "  <thead>\n",
       "    <tr style=\"text-align: right;\">\n",
       "      <th></th>\n",
       "      <th>permalink</th>\n",
       "      <th>company</th>\n",
       "      <th>numEmps</th>\n",
       "      <th>category</th>\n",
       "      <th>city</th>\n",
       "      <th>state</th>\n",
       "      <th>fundedDate</th>\n",
       "      <th>raisedAmt</th>\n",
       "      <th>raisedCurrency</th>\n",
       "      <th>round</th>\n",
       "    </tr>\n",
       "  </thead>\n",
       "  <tbody>\n",
       "    <tr>\n",
       "      <th>0</th>\n",
       "      <td>lifelock</td>\n",
       "      <td>LifeLock</td>\n",
       "      <td>NaN</td>\n",
       "      <td>web</td>\n",
       "      <td>Tempe</td>\n",
       "      <td>AZ</td>\n",
       "      <td>1-May-07</td>\n",
       "      <td>6850000</td>\n",
       "      <td>USD</td>\n",
       "      <td>b</td>\n",
       "    </tr>\n",
       "    <tr>\n",
       "      <th>1</th>\n",
       "      <td>lifelock</td>\n",
       "      <td>LifeLock</td>\n",
       "      <td>NaN</td>\n",
       "      <td>web</td>\n",
       "      <td>Tempe</td>\n",
       "      <td>AZ</td>\n",
       "      <td>1-Oct-06</td>\n",
       "      <td>6000000</td>\n",
       "      <td>USD</td>\n",
       "      <td>a</td>\n",
       "    </tr>\n",
       "    <tr>\n",
       "      <th>2</th>\n",
       "      <td>lifelock</td>\n",
       "      <td>LifeLock</td>\n",
       "      <td>NaN</td>\n",
       "      <td>web</td>\n",
       "      <td>Tempe</td>\n",
       "      <td>AZ</td>\n",
       "      <td>1-Jan-08</td>\n",
       "      <td>25000000</td>\n",
       "      <td>USD</td>\n",
       "      <td>c</td>\n",
       "    </tr>\n",
       "    <tr>\n",
       "      <th>3</th>\n",
       "      <td>mycityfaces</td>\n",
       "      <td>MyCityFaces</td>\n",
       "      <td>7.0</td>\n",
       "      <td>web</td>\n",
       "      <td>Scottsdale</td>\n",
       "      <td>AZ</td>\n",
       "      <td>1-Jan-08</td>\n",
       "      <td>50000</td>\n",
       "      <td>USD</td>\n",
       "      <td>seed</td>\n",
       "    </tr>\n",
       "    <tr>\n",
       "      <th>4</th>\n",
       "      <td>flypaper</td>\n",
       "      <td>Flypaper</td>\n",
       "      <td>NaN</td>\n",
       "      <td>web</td>\n",
       "      <td>Phoenix</td>\n",
       "      <td>AZ</td>\n",
       "      <td>1-Feb-08</td>\n",
       "      <td>3000000</td>\n",
       "      <td>USD</td>\n",
       "      <td>a</td>\n",
       "    </tr>\n",
       "  </tbody>\n",
       "</table>\n",
       "</div>"
      ],
      "text/plain": [
       "     permalink      company  numEmps category        city state fundedDate  \\\n",
       "0     lifelock     LifeLock      NaN      web       Tempe    AZ   1-May-07   \n",
       "1     lifelock     LifeLock      NaN      web       Tempe    AZ   1-Oct-06   \n",
       "2     lifelock     LifeLock      NaN      web       Tempe    AZ   1-Jan-08   \n",
       "3  mycityfaces  MyCityFaces      7.0      web  Scottsdale    AZ   1-Jan-08   \n",
       "4     flypaper     Flypaper      NaN      web     Phoenix    AZ   1-Feb-08   \n",
       "\n",
       "   raisedAmt raisedCurrency round  \n",
       "0    6850000            USD     b  \n",
       "1    6000000            USD     a  \n",
       "2   25000000            USD     c  \n",
       "3      50000            USD  seed  \n",
       "4    3000000            USD     a  "
      ]
     },
     "execution_count": 66,
     "metadata": {},
     "output_type": "execute_result"
    }
   ],
   "source": [
    "data_input.head()"
   ]
  },
  {
   "cell_type": "code",
   "execution_count": 253,
   "metadata": {},
   "outputs": [
    {
     "data": {
      "text/plain": [
       "category\n",
       "biotech       20000000\n",
       "cleantech     15500000\n",
       "consulting     7000000\n",
       "hardware      13700000\n",
       "mobile         5000000\n",
       "other          7750000\n",
       "software       7125000\n",
       "web            5000000\n",
       "Name: raisedAmt, dtype: int64"
      ]
     },
     "execution_count": 253,
     "metadata": {},
     "output_type": "execute_result"
    }
   ],
   "source": [
    "data_input.groupby([\"category\"])[\"raisedAmt\"].median()"
   ]
  },
  {
   "cell_type": "markdown",
   "metadata": {},
   "source": [
    "### Funding each Company\n",
    "\n",
    "Sebagai pengguna sosial media, Anda tertarik untuk menganalisa salah satu sosial media yang termasuk dalam daftar startup penerima pendanaan, yaitu **Friendster**. Selama masa pendanaan, Friendster mendapatkan pendanaan yang berbeda-beda. \n",
    "\n",
    "5. Pada periode manakah Friendster mendapatkan nilai funding tertinggi mereka?\n",
    "   \n",
    "    - [x] 2008-08\n",
    "    - [ ] 2002-12\n",
    "    - [ ] 2006-08\n",
    "    - [ ] 2012-01"
   ]
  },
  {
   "cell_type": "code",
   "execution_count": 172,
   "metadata": {
    "scrolled": true
   },
   "outputs": [
    {
     "data": {
      "text/plain": [
       "permalink                 object\n",
       "company                 category\n",
       "numEmps                  float64\n",
       "category                category\n",
       "city                      object\n",
       "state                     object\n",
       "fundedDate        datetime64[ns]\n",
       "raisedAmt                  int64\n",
       "raisedCurrency          category\n",
       "round                   category\n",
       "year_month             period[M]\n",
       "dtype: object"
      ]
     },
     "execution_count": 172,
     "metadata": {},
     "output_type": "execute_result"
    }
   ],
   "source": [
    "data_input[\"fundedDate\"] = pd.to_datetime(data_input[\"fundedDate\"], dayfirst = True)\n",
    "\n",
    "data_input.dtypes"
   ]
  },
  {
   "cell_type": "code",
   "execution_count": 175,
   "metadata": {},
   "outputs": [
    {
     "data": {
      "text/plain": [
       "0       2007-05\n",
       "1       2006-10\n",
       "2       2008-01\n",
       "3       2008-01\n",
       "4       2008-02\n",
       "         ...   \n",
       "1455    2007-06\n",
       "1456    2008-07\n",
       "1457    2001-01\n",
       "1458    2007-10\n",
       "1459    2008-05\n",
       "Name: year_month, Length: 1460, dtype: period[M]"
      ]
     },
     "execution_count": 175,
     "metadata": {},
     "output_type": "execute_result"
    }
   ],
   "source": [
    "# ubah atau buat column baru dari fundedDate jadi yearMonth\n",
    "\n",
    "data_input[\"year_month\"] = data_input[\"fundedDate\"] .dt.to_period('M')\n",
    "data_input[\"year_month\"] "
   ]
  },
  {
   "cell_type": "code",
   "execution_count": 174,
   "metadata": {},
   "outputs": [
    {
     "data": {
      "text/html": [
       "<div>\n",
       "<style scoped>\n",
       "    .dataframe tbody tr th:only-of-type {\n",
       "        vertical-align: middle;\n",
       "    }\n",
       "\n",
       "    .dataframe tbody tr th {\n",
       "        vertical-align: top;\n",
       "    }\n",
       "\n",
       "    .dataframe thead th {\n",
       "        text-align: right;\n",
       "    }\n",
       "</style>\n",
       "<table border=\"1\" class=\"dataframe\">\n",
       "  <thead>\n",
       "    <tr style=\"text-align: right;\">\n",
       "      <th></th>\n",
       "      <th>permalink</th>\n",
       "      <th>company</th>\n",
       "      <th>numEmps</th>\n",
       "      <th>category</th>\n",
       "      <th>city</th>\n",
       "      <th>state</th>\n",
       "      <th>fundedDate</th>\n",
       "      <th>raisedAmt</th>\n",
       "      <th>raisedCurrency</th>\n",
       "      <th>round</th>\n",
       "      <th>year_month</th>\n",
       "    </tr>\n",
       "  </thead>\n",
       "  <tbody>\n",
       "    <tr>\n",
       "      <th>1455</th>\n",
       "      <td>trusera</td>\n",
       "      <td>Trusera</td>\n",
       "      <td>15.0</td>\n",
       "      <td>web</td>\n",
       "      <td>Seattle</td>\n",
       "      <td>WA</td>\n",
       "      <td>2007-06-01</td>\n",
       "      <td>2000000</td>\n",
       "      <td>USD</td>\n",
       "      <td>angel</td>\n",
       "      <td>2007-06</td>\n",
       "    </tr>\n",
       "    <tr>\n",
       "      <th>1456</th>\n",
       "      <td>alerts-com</td>\n",
       "      <td>Alerts.com</td>\n",
       "      <td>NaN</td>\n",
       "      <td>web</td>\n",
       "      <td>Bellevue</td>\n",
       "      <td>WA</td>\n",
       "      <td>2008-07-08</td>\n",
       "      <td>1200000</td>\n",
       "      <td>USD</td>\n",
       "      <td>a</td>\n",
       "      <td>2008-07</td>\n",
       "    </tr>\n",
       "    <tr>\n",
       "      <th>1457</th>\n",
       "      <td>myrio</td>\n",
       "      <td>Myrio</td>\n",
       "      <td>75.0</td>\n",
       "      <td>software</td>\n",
       "      <td>Bothell</td>\n",
       "      <td>WA</td>\n",
       "      <td>2001-01-01</td>\n",
       "      <td>20500000</td>\n",
       "      <td>USD</td>\n",
       "      <td>unattributed</td>\n",
       "      <td>2001-01</td>\n",
       "    </tr>\n",
       "    <tr>\n",
       "      <th>1458</th>\n",
       "      <td>grid-networks</td>\n",
       "      <td>Grid Networks</td>\n",
       "      <td>NaN</td>\n",
       "      <td>web</td>\n",
       "      <td>Seattle</td>\n",
       "      <td>WA</td>\n",
       "      <td>2007-10-30</td>\n",
       "      <td>9500000</td>\n",
       "      <td>USD</td>\n",
       "      <td>a</td>\n",
       "      <td>2007-10</td>\n",
       "    </tr>\n",
       "    <tr>\n",
       "      <th>1459</th>\n",
       "      <td>grid-networks</td>\n",
       "      <td>Grid Networks</td>\n",
       "      <td>NaN</td>\n",
       "      <td>web</td>\n",
       "      <td>Seattle</td>\n",
       "      <td>WA</td>\n",
       "      <td>2008-05-20</td>\n",
       "      <td>10500000</td>\n",
       "      <td>USD</td>\n",
       "      <td>b</td>\n",
       "      <td>2008-05</td>\n",
       "    </tr>\n",
       "  </tbody>\n",
       "</table>\n",
       "</div>"
      ],
      "text/plain": [
       "          permalink        company  numEmps  category      city state  \\\n",
       "1455        trusera        Trusera     15.0       web   Seattle    WA   \n",
       "1456     alerts-com     Alerts.com      NaN       web  Bellevue    WA   \n",
       "1457          myrio          Myrio     75.0  software   Bothell    WA   \n",
       "1458  grid-networks  Grid Networks      NaN       web   Seattle    WA   \n",
       "1459  grid-networks  Grid Networks      NaN       web   Seattle    WA   \n",
       "\n",
       "     fundedDate  raisedAmt raisedCurrency         round year_month  \n",
       "1455 2007-06-01    2000000            USD         angel    2007-06  \n",
       "1456 2008-07-08    1200000            USD             a    2008-07  \n",
       "1457 2001-01-01   20500000            USD  unattributed    2001-01  \n",
       "1458 2007-10-30    9500000            USD             a    2007-10  \n",
       "1459 2008-05-20   10500000            USD             b    2008-05  "
      ]
     },
     "execution_count": 174,
     "metadata": {},
     "output_type": "execute_result"
    }
   ],
   "source": [
    "data_input.tail()"
   ]
  },
  {
   "cell_type": "code",
   "execution_count": 250,
   "metadata": {},
   "outputs": [
    {
     "data": {
      "text/html": [
       "<div>\n",
       "<style scoped>\n",
       "    .dataframe tbody tr th:only-of-type {\n",
       "        vertical-align: middle;\n",
       "    }\n",
       "\n",
       "    .dataframe tbody tr th {\n",
       "        vertical-align: top;\n",
       "    }\n",
       "\n",
       "    .dataframe thead th {\n",
       "        text-align: right;\n",
       "    }\n",
       "</style>\n",
       "<table border=\"1\" class=\"dataframe\">\n",
       "  <thead>\n",
       "    <tr style=\"text-align: right;\">\n",
       "      <th></th>\n",
       "      <th>raisedAmt</th>\n",
       "    </tr>\n",
       "    <tr>\n",
       "      <th>year_month</th>\n",
       "      <th></th>\n",
       "    </tr>\n",
       "  </thead>\n",
       "  <tbody>\n",
       "    <tr>\n",
       "      <th>2002-12</th>\n",
       "      <td>2400000</td>\n",
       "    </tr>\n",
       "    <tr>\n",
       "      <th>2003-10</th>\n",
       "      <td>13000000</td>\n",
       "    </tr>\n",
       "    <tr>\n",
       "      <th>2006-08</th>\n",
       "      <td>10000000</td>\n",
       "    </tr>\n",
       "    <tr>\n",
       "      <th>2008-08</th>\n",
       "      <td>20000000</td>\n",
       "    </tr>\n",
       "  </tbody>\n",
       "</table>\n",
       "</div>"
      ],
      "text/plain": [
       "            raisedAmt\n",
       "year_month           \n",
       "2002-12       2400000\n",
       "2003-10      13000000\n",
       "2006-08      10000000\n",
       "2008-08      20000000"
      ]
     },
     "execution_count": 250,
     "metadata": {},
     "output_type": "execute_result"
    }
   ],
   "source": [
    "# nama company \"Friendster\"\n",
    "# periode manakah Friendster mendapatkan nilai funding('raisedAmt') tertinggi mereka\n",
    "\n",
    "import numpy as np\n",
    "\n",
    "di_f = data_input[data_input['company'] == 'Friendster'].pivot_table(\n",
    "    index='year_month',\n",
    "    values='raisedAmt',\n",
    "    aggfunc=\"max\"\n",
    ")\n",
    "\n",
    "di_f"
   ]
  },
  {
   "cell_type": "code",
   "execution_count": 204,
   "metadata": {},
   "outputs": [
    {
     "data": {
      "text/plain": [
       "(4, 3)"
      ]
     },
     "execution_count": 204,
     "metadata": {},
     "output_type": "execute_result"
    }
   ],
   "source": [
    "di_f.shape"
   ]
  },
  {
   "cell_type": "code",
   "execution_count": 219,
   "metadata": {},
   "outputs": [
    {
     "data": {
      "text/plain": [
       "permalink   company     numEmps  category  city           state  fundedDate  raisedAmt  raisedCurrency  round  year_month\n",
       "friendster  Friendster  465.0    web       San Francisco  CA     2002-12-01  2400000    USD             a      2002-12       1\n",
       "                                                                 2003-10-01  13000000   USD             b      2003-10       1\n",
       "                                                                 2006-08-01  10000000   USD             c      2006-08       1\n",
       "                                                                 2008-08-05  20000000   USD             d      2008-08       1\n",
       "dtype: int64"
      ]
     },
     "execution_count": 219,
     "metadata": {},
     "output_type": "execute_result"
    }
   ],
   "source": [
    "data_input[data_input['company'] == 'Friendster'].value_counts()"
   ]
  },
  {
   "cell_type": "markdown",
   "metadata": {},
   "source": [
    "Setelah melihat beberapa startup yang mendapatkan pendanaan, Anda ingin mengetahui lebih lanjut startup yang berhasil mendapatkan pendanaan di lokasi Anda, yaitu **San Francisco**. Buatlah sebuah agregasi data yang menunjukkan beberapa perusahaan yang mendapatkan pendanaan tertinggi hingga terendah di San Francisco.\n",
    "\n",
    "6.  Perusahaan apa yang **TIDAK** termasuk 5 perusahaan dengan **total** funding (`raisedAmt`) tertinggi di San Francisco?\n",
    "    \n",
    "    - [ ] `OpenTable`\n",
    "    - [ ] `Friendster`\n",
    "    - [x] `Facebook`\n",
    "    - [ ] `Snapfish`\n",
    "  "
   ]
  },
  {
   "cell_type": "code",
   "execution_count": 245,
   "metadata": {},
   "outputs": [
    {
     "data": {
      "text/plain": [
       "company\n",
       "Slide         58000000\n",
       "freebase      57500000\n",
       "OpenTable     48000000\n",
       "Friendster    45400000\n",
       "Snapfish      43500000\n",
       "Name: San Francisco, dtype: int64"
      ]
     },
     "execution_count": 245,
     "metadata": {},
     "output_type": "execute_result"
    }
   ],
   "source": [
    "# TIDAK termasuk 5 perusahaan dengan total funding (raisedAmt) tertinggi di San Francisco\n",
    "\n",
    "pd.crosstab(\n",
    "    index=data_input['city'],\n",
    "    columns=data_input['company'],\n",
    "    values=data_input['raisedAmt'],\n",
    "    aggfunc='sum'\n",
    ").loc[\"San Francisco\"].sort_values(ascending=False).head()"
   ]
  },
  {
   "cell_type": "code",
   "execution_count": null,
   "metadata": {},
   "outputs": [],
   "source": [
    "\n"
   ]
  }
 ],
 "metadata": {
  "kernelspec": {
   "display_name": "Python 3",
   "language": "python",
   "name": "python3"
  },
  "language_info": {
   "codemirror_mode": {
    "name": "ipython",
    "version": 3
   },
   "file_extension": ".py",
   "mimetype": "text/x-python",
   "name": "python",
   "nbconvert_exporter": "python",
   "pygments_lexer": "ipython3",
   "version": "3.8.8"
  },
  "latex_envs": {
   "LaTeX_envs_menu_present": true,
   "autoclose": false,
   "autocomplete": true,
   "bibliofile": "biblio.bib",
   "cite_by": "apalike",
   "current_citInitial": 1,
   "eqLabelWithNumbers": true,
   "eqNumInitial": 1,
   "hotkeys": {
    "equation": "Ctrl-E",
    "itemize": "Ctrl-I"
   },
   "labels_anchors": false,
   "latex_user_defs": false,
   "report_style_numbering": false,
   "user_envs_cfg": false
  },
  "toc": {
   "base_numbering": 1,
   "nav_menu": {},
   "number_sections": true,
   "sideBar": true,
   "skip_h1_title": false,
   "title_cell": "Table of Contents",
   "title_sidebar": "Contents",
   "toc_cell": false,
   "toc_position": {},
   "toc_section_display": true,
   "toc_window_display": false
  }
 },
 "nbformat": 4,
 "nbformat_minor": 4
}
