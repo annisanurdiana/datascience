{
 "cells": [
  {
   "cell_type": "markdown",
   "metadata": {},
   "source": [
    "# Quiz: Python for Data Analysts\n",
    "\n",
    "Congratulations on completing the Python for Data Analysts course! We will conduct an assessment quiz to test your practical programming techniques that you have learned on the course. The quiz is expected to be taken in the classroom, please contact our teaching team if you missed the chance to take it in class."
   ]
  },
  {
   "cell_type": "code",
   "execution_count": 1,
   "metadata": {},
   "outputs": [],
   "source": [
    "import pandas as pd"
   ]
  },
  {
   "cell_type": "markdown",
   "metadata": {},
   "source": [
    "## Data Pre-Processing"
   ]
  },
  {
   "cell_type": "markdown",
   "metadata": {},
   "source": [
    "We will use **Companies dataset**. You can use the data in the csv file extension stored in the `companies.csv` file. Companies dataset is some examples of CRM (customer relationship management) data which contains the following variables:\n",
    "\n",
    "- `ID` : identifier unique from cutomers name\n",
    "- `Customer Name` : customer name (company name)\n",
    "- `Consulting Sales` : price for consulting service\n",
    "- `Software Sales` : price for software service\n",
    "- `Forecasted Growth` : percentage of company growth in a certain time \n",
    "- `Returns` : funds that return (Returns) within a certain time \n",
    "- `Month` : company founding month \n",
    "- `Day` : company fonding day\n",
    "- `Year` : company founding year\n",
    "- `Location` : location of company\n",
    "- `Account` : type of company"
   ]
  },
  {
   "cell_type": "code",
   "execution_count": 2,
   "metadata": {
    "scrolled": false
   },
   "outputs": [
    {
     "data": {
      "text/html": [
       "<div>\n",
       "<style scoped>\n",
       "    .dataframe tbody tr th:only-of-type {\n",
       "        vertical-align: middle;\n",
       "    }\n",
       "\n",
       "    .dataframe tbody tr th {\n",
       "        vertical-align: top;\n",
       "    }\n",
       "\n",
       "    .dataframe thead th {\n",
       "        text-align: right;\n",
       "    }\n",
       "</style>\n",
       "<table border=\"1\" class=\"dataframe\">\n",
       "  <thead>\n",
       "    <tr style=\"text-align: right;\">\n",
       "      <th></th>\n",
       "      <th>Customer Name</th>\n",
       "      <th>Consulting Sales</th>\n",
       "      <th>Software Sales</th>\n",
       "      <th>Forecasted Growth</th>\n",
       "      <th>Returns</th>\n",
       "      <th>Month</th>\n",
       "      <th>Day</th>\n",
       "      <th>Year</th>\n",
       "      <th>Location</th>\n",
       "      <th>Account</th>\n",
       "    </tr>\n",
       "    <tr>\n",
       "      <th>ID</th>\n",
       "      <th></th>\n",
       "      <th></th>\n",
       "      <th></th>\n",
       "      <th></th>\n",
       "      <th></th>\n",
       "      <th></th>\n",
       "      <th></th>\n",
       "      <th></th>\n",
       "      <th></th>\n",
       "      <th></th>\n",
       "    </tr>\n",
       "  </thead>\n",
       "  <tbody>\n",
       "    <tr>\n",
       "      <th>30940</th>\n",
       "      <td>New Media Group</td>\n",
       "      <td>IDR7125000</td>\n",
       "      <td>IDR5500000</td>\n",
       "      <td>30.00%</td>\n",
       "      <td>IDR1,500,000</td>\n",
       "      <td>1</td>\n",
       "      <td>10</td>\n",
       "      <td>2017</td>\n",
       "      <td>Jakarta</td>\n",
       "      <td>Enterprise</td>\n",
       "    </tr>\n",
       "    <tr>\n",
       "      <th>82391</th>\n",
       "      <td>Li and Partners</td>\n",
       "      <td>IDR420000</td>\n",
       "      <td>IDR820000</td>\n",
       "      <td>10.00%</td>\n",
       "      <td>IDR400,000</td>\n",
       "      <td>6</td>\n",
       "      <td>15</td>\n",
       "      <td>2016</td>\n",
       "      <td>Jakarta</td>\n",
       "      <td>Startup</td>\n",
       "    </tr>\n",
       "    <tr>\n",
       "      <th>18374</th>\n",
       "      <td>PT. Kreasi Metrik Solusi</td>\n",
       "      <td>0</td>\n",
       "      <td>IDR550403</td>\n",
       "      <td>25.00%</td>\n",
       "      <td>0</td>\n",
       "      <td>3</td>\n",
       "      <td>29</td>\n",
       "      <td>2012</td>\n",
       "      <td>Surabaya</td>\n",
       "      <td>Enterprise</td>\n",
       "    </tr>\n",
       "    <tr>\n",
       "      <th>57531</th>\n",
       "      <td>PT. Algoritma Data Indonesia</td>\n",
       "      <td>IDR850000</td>\n",
       "      <td>IDR395500</td>\n",
       "      <td>4.00%</td>\n",
       "      <td>0</td>\n",
       "      <td>7</td>\n",
       "      <td>17</td>\n",
       "      <td>2017</td>\n",
       "      <td>Jakarta</td>\n",
       "      <td>Startup</td>\n",
       "    </tr>\n",
       "    <tr>\n",
       "      <th>19002</th>\n",
       "      <td>Palembang Konsultansi</td>\n",
       "      <td>IDR2115000</td>\n",
       "      <td>0</td>\n",
       "      <td>-15.00%</td>\n",
       "      <td>0</td>\n",
       "      <td>2</td>\n",
       "      <td>24</td>\n",
       "      <td>2018</td>\n",
       "      <td>Bandung</td>\n",
       "      <td>Startup</td>\n",
       "    </tr>\n",
       "  </tbody>\n",
       "</table>\n",
       "</div>"
      ],
      "text/plain": [
       "                      Customer Name Consulting Sales Software Sales  \\\n",
       "ID                                                                    \n",
       "30940               New Media Group       IDR7125000     IDR5500000   \n",
       "82391               Li and Partners        IDR420000      IDR820000   \n",
       "18374      PT. Kreasi Metrik Solusi                0      IDR550403   \n",
       "57531  PT. Algoritma Data Indonesia        IDR850000      IDR395500   \n",
       "19002         Palembang Konsultansi       IDR2115000              0   \n",
       "\n",
       "      Forecasted Growth       Returns  Month  Day  Year  Location     Account  \n",
       "ID                                                                             \n",
       "30940            30.00%  IDR1,500,000      1   10  2017   Jakarta  Enterprise  \n",
       "82391            10.00%    IDR400,000      6   15  2016   Jakarta     Startup  \n",
       "18374            25.00%             0      3   29  2012  Surabaya  Enterprise  \n",
       "57531             4.00%             0      7   17  2017   Jakarta     Startup  \n",
       "19002           -15.00%             0      2   24  2018   Bandung     Startup  "
      ]
     },
     "execution_count": 2,
     "metadata": {},
     "output_type": "execute_result"
    }
   ],
   "source": [
    "clients = pd.read_csv(\"data/companies.csv\", index_col=0)\n",
    "clients.head()"
   ]
  },
  {
   "cell_type": "markdown",
   "metadata": {},
   "source": [
    "Unlike our previous datasets, `clients` has some formatting inconsistencies by design: The `Returns` column has comma delimiter (`,`) and the currency (`IDR`) whereas related columns use values that has omitted the separator.\n",
    "\n",
    "Now let's observe its data types:"
   ]
  },
  {
   "cell_type": "code",
   "execution_count": 3,
   "metadata": {},
   "outputs": [
    {
     "data": {
      "text/plain": [
       "Customer Name        object\n",
       "Consulting Sales     object\n",
       "Software Sales       object\n",
       "Forecasted Growth    object\n",
       "Returns              object\n",
       "Month                 int64\n",
       "Day                   int64\n",
       "Year                  int64\n",
       "Location             object\n",
       "Account              object\n",
       "dtype: object"
      ]
     },
     "execution_count": 3,
     "metadata": {},
     "output_type": "execute_result"
    }
   ],
   "source": [
    "clients.dtypes"
   ]
  },
  {
   "cell_type": "markdown",
   "metadata": {},
   "source": [
    "From the results above, we can see some variables are not stored in the right data type format. Can you apply what you have learnt about specifying data type on this new data?"
   ]
  },
  {
   "cell_type": "markdown",
   "metadata": {},
   "source": [
    "If you tried to directly use the `.astype` function on `Consulting Sales` and `Software Sales`, you will most likely get an error.  To perform arithmetic computations on the numeric columns, we have to drop the 'IDR' currency string and treat these columns as numbers. We'll use pandas built-in `.str.replace()` method for this."
   ]
  },
  {
   "cell_type": "code",
   "execution_count": 4,
   "metadata": {
    "scrolled": true
   },
   "outputs": [
    {
     "data": {
      "text/plain": [
       "ID\n",
       "30940    7125000\n",
       "82391     420000\n",
       "18374          0\n",
       "57531     850000\n",
       "19002    2115000\n",
       "31142     960000\n",
       "Name: Consulting Sales, dtype: object"
      ]
     },
     "execution_count": 4,
     "metadata": {},
     "output_type": "execute_result"
    }
   ],
   "source": [
    "clients['Consulting Sales'].str.replace('IDR','')"
   ]
  },
  {
   "cell_type": "markdown",
   "metadata": {},
   "source": [
    "To apply the function on multiple columns, we can use `apply` method with `lambda` as below:"
   ]
  },
  {
   "cell_type": "code",
   "execution_count": 5,
   "metadata": {},
   "outputs": [],
   "source": [
    "clients[['Consulting Sales','Software Sales','Returns']] =\\\n",
    "clients[['Consulting Sales','Software Sales','Returns']].apply(lambda x: x.str.replace('IDR',''))"
   ]
  },
  {
   "cell_type": "code",
   "execution_count": 6,
   "metadata": {},
   "outputs": [
    {
     "data": {
      "text/html": [
       "<div>\n",
       "<style scoped>\n",
       "    .dataframe tbody tr th:only-of-type {\n",
       "        vertical-align: middle;\n",
       "    }\n",
       "\n",
       "    .dataframe tbody tr th {\n",
       "        vertical-align: top;\n",
       "    }\n",
       "\n",
       "    .dataframe thead th {\n",
       "        text-align: right;\n",
       "    }\n",
       "</style>\n",
       "<table border=\"1\" class=\"dataframe\">\n",
       "  <thead>\n",
       "    <tr style=\"text-align: right;\">\n",
       "      <th></th>\n",
       "      <th>Customer Name</th>\n",
       "      <th>Consulting Sales</th>\n",
       "      <th>Software Sales</th>\n",
       "      <th>Forecasted Growth</th>\n",
       "      <th>Returns</th>\n",
       "      <th>Month</th>\n",
       "      <th>Day</th>\n",
       "      <th>Year</th>\n",
       "      <th>Location</th>\n",
       "      <th>Account</th>\n",
       "    </tr>\n",
       "    <tr>\n",
       "      <th>ID</th>\n",
       "      <th></th>\n",
       "      <th></th>\n",
       "      <th></th>\n",
       "      <th></th>\n",
       "      <th></th>\n",
       "      <th></th>\n",
       "      <th></th>\n",
       "      <th></th>\n",
       "      <th></th>\n",
       "      <th></th>\n",
       "    </tr>\n",
       "  </thead>\n",
       "  <tbody>\n",
       "    <tr>\n",
       "      <th>30940</th>\n",
       "      <td>New Media Group</td>\n",
       "      <td>7125000</td>\n",
       "      <td>5500000</td>\n",
       "      <td>30.00%</td>\n",
       "      <td>1,500,000</td>\n",
       "      <td>1</td>\n",
       "      <td>10</td>\n",
       "      <td>2017</td>\n",
       "      <td>Jakarta</td>\n",
       "      <td>Enterprise</td>\n",
       "    </tr>\n",
       "    <tr>\n",
       "      <th>82391</th>\n",
       "      <td>Li and Partners</td>\n",
       "      <td>420000</td>\n",
       "      <td>820000</td>\n",
       "      <td>10.00%</td>\n",
       "      <td>400,000</td>\n",
       "      <td>6</td>\n",
       "      <td>15</td>\n",
       "      <td>2016</td>\n",
       "      <td>Jakarta</td>\n",
       "      <td>Startup</td>\n",
       "    </tr>\n",
       "    <tr>\n",
       "      <th>18374</th>\n",
       "      <td>PT. Kreasi Metrik Solusi</td>\n",
       "      <td>0</td>\n",
       "      <td>550403</td>\n",
       "      <td>25.00%</td>\n",
       "      <td>0</td>\n",
       "      <td>3</td>\n",
       "      <td>29</td>\n",
       "      <td>2012</td>\n",
       "      <td>Surabaya</td>\n",
       "      <td>Enterprise</td>\n",
       "    </tr>\n",
       "    <tr>\n",
       "      <th>57531</th>\n",
       "      <td>PT. Algoritma Data Indonesia</td>\n",
       "      <td>850000</td>\n",
       "      <td>395500</td>\n",
       "      <td>4.00%</td>\n",
       "      <td>0</td>\n",
       "      <td>7</td>\n",
       "      <td>17</td>\n",
       "      <td>2017</td>\n",
       "      <td>Jakarta</td>\n",
       "      <td>Startup</td>\n",
       "    </tr>\n",
       "    <tr>\n",
       "      <th>19002</th>\n",
       "      <td>Palembang Konsultansi</td>\n",
       "      <td>2115000</td>\n",
       "      <td>0</td>\n",
       "      <td>-15.00%</td>\n",
       "      <td>0</td>\n",
       "      <td>2</td>\n",
       "      <td>24</td>\n",
       "      <td>2018</td>\n",
       "      <td>Bandung</td>\n",
       "      <td>Startup</td>\n",
       "    </tr>\n",
       "  </tbody>\n",
       "</table>\n",
       "</div>"
      ],
      "text/plain": [
       "                      Customer Name Consulting Sales Software Sales  \\\n",
       "ID                                                                    \n",
       "30940               New Media Group          7125000        5500000   \n",
       "82391               Li and Partners           420000         820000   \n",
       "18374      PT. Kreasi Metrik Solusi                0         550403   \n",
       "57531  PT. Algoritma Data Indonesia           850000         395500   \n",
       "19002         Palembang Konsultansi          2115000              0   \n",
       "\n",
       "      Forecasted Growth    Returns  Month  Day  Year  Location     Account  \n",
       "ID                                                                          \n",
       "30940            30.00%  1,500,000      1   10  2017   Jakarta  Enterprise  \n",
       "82391            10.00%    400,000      6   15  2016   Jakarta     Startup  \n",
       "18374            25.00%          0      3   29  2012  Surabaya  Enterprise  \n",
       "57531             4.00%          0      7   17  2017   Jakarta     Startup  \n",
       "19002           -15.00%          0      2   24  2018   Bandung     Startup  "
      ]
     },
     "execution_count": 6,
     "metadata": {},
     "output_type": "execute_result"
    }
   ],
   "source": [
    "clients.head()"
   ]
  },
  {
   "cell_type": "markdown",
   "metadata": {},
   "source": [
    "Go on fill in the blank below to remove the comma (`,`) sign on `Returns`! \\\n",
    "Example: `clients['Consulting Sales'] = clients['Consulting Sales'].str.replace('IDR','')` is used to remove `IDR` from `Consulting Sales` column"
   ]
  },
  {
   "cell_type": "code",
   "execution_count": 8,
   "metadata": {},
   "outputs": [],
   "source": [
    "## Fill in the blank (___)\n",
    "\n",
    "clients['Returns'] = clients['Returns'].str.replace(',','')"
   ]
  },
  {
   "cell_type": "code",
   "execution_count": 9,
   "metadata": {},
   "outputs": [],
   "source": [
    "## Your Code Below:\n",
    "\n",
    "clients[['Consulting Sales','Software Sales','Returns']] =\\\n",
    "clients[['Consulting Sales','Software Sales','Returns']].astype('int64')"
   ]
  },
  {
   "cell_type": "code",
   "execution_count": 10,
   "metadata": {},
   "outputs": [
    {
     "data": {
      "text/plain": [
       "Customer Name        object\n",
       "Consulting Sales      int64\n",
       "Software Sales        int64\n",
       "Forecasted Growth    object\n",
       "Returns               int64\n",
       "Month                 int64\n",
       "Day                   int64\n",
       "Year                  int64\n",
       "Location             object\n",
       "Account              object\n",
       "dtype: object"
      ]
     },
     "execution_count": 10,
     "metadata": {},
     "output_type": "execute_result"
    }
   ],
   "source": [
    "clients.dtypes"
   ]
  },
  {
   "cell_type": "markdown",
   "metadata": {},
   "source": [
    "---"
   ]
  },
  {
   "cell_type": "markdown",
   "metadata": {},
   "source": [
    "## Data Analysis\n",
    "\n",
    "As a Data Analyst, you want to analyze the total sales. To analyze it, create a new column in the DataFrame and name it `Total Sales`. This column is a sum of `Consulting Sales` and `Software Sales`. Use `head` or `tail` to peek at the resulting data frame to confirm that the output matches your expectation. \n",
    "\n",
    "---\n",
    "1. What is the sum of the `Total Sales` column? Tips: Use the `.sum()` method on the columns to accumulate the total value!\n",
    "\n",
    "      *Berapa total (`sum`) keseluruhan dari `Total Sales`? Tips: Gunakan method `.sum()` pada kolom untuk mengakumulasi nilai totalnya!*\n",
    "        \n",
    "    - [ ] 11,470,000\n",
    "    - [x] 19,238,903\n",
    "    - [ ]  7,768,903\n",
    "---"
   ]
  },
  {
   "cell_type": "code",
   "execution_count": 11,
   "metadata": {},
   "outputs": [
    {
     "data": {
      "text/plain": [
       "19238903"
      ]
     },
     "execution_count": 11,
     "metadata": {},
     "output_type": "execute_result"
    }
   ],
   "source": [
    "## Your Code Below:\n",
    "\n",
    "# Declare variables\n",
    "Software_Sales = clients['Software Sales'].sum()\n",
    "Consulting_Sales = clients['Consulting Sales'].sum()\n",
    "\n",
    "# Calculate\n",
    "total_sales = Software_Sales + Consulting_Sales\n",
    "\n",
    "# Show result\n",
    "total_sales"
   ]
  },
  {
   "cell_type": "markdown",
   "metadata": {},
   "source": [
    "Based on the total sales obtained each year, you are currently focusing on analyzing sales from each client in 2017. Therefore, for now you will focus on companies that became clients in 2017. Use subsetting methods to get information on sales data that occurred in 2017.\n",
    "\n",
    "---\n",
    "2. Which company has the biggest `Total Sales` in 2017?\n",
    "\n",
    "    *Perusahaan manakah yang mendapatkan Total Sales terbesar di tahun 2017?*\n",
    "    - [x] New Media Group\n",
    "    - [ ] PT. Algoritma Data Indonesia\n",
    "    - [ ] Palembang Konsultansi\n",
    "---    "
   ]
  },
  {
   "cell_type": "code",
   "execution_count": 13,
   "metadata": {
    "scrolled": true
   },
   "outputs": [
    {
     "data": {
      "text/html": [
       "<div>\n",
       "<style scoped>\n",
       "    .dataframe tbody tr th:only-of-type {\n",
       "        vertical-align: middle;\n",
       "    }\n",
       "\n",
       "    .dataframe tbody tr th {\n",
       "        vertical-align: top;\n",
       "    }\n",
       "\n",
       "    .dataframe thead th {\n",
       "        text-align: right;\n",
       "    }\n",
       "</style>\n",
       "<table border=\"1\" class=\"dataframe\">\n",
       "  <thead>\n",
       "    <tr style=\"text-align: right;\">\n",
       "      <th></th>\n",
       "      <th>Customer Name</th>\n",
       "      <th>Consulting Sales</th>\n",
       "      <th>Software Sales</th>\n",
       "      <th>Forecasted Growth</th>\n",
       "      <th>Returns</th>\n",
       "      <th>Month</th>\n",
       "      <th>Day</th>\n",
       "      <th>Year</th>\n",
       "      <th>Location</th>\n",
       "      <th>Account</th>\n",
       "    </tr>\n",
       "    <tr>\n",
       "      <th>ID</th>\n",
       "      <th></th>\n",
       "      <th></th>\n",
       "      <th></th>\n",
       "      <th></th>\n",
       "      <th></th>\n",
       "      <th></th>\n",
       "      <th></th>\n",
       "      <th></th>\n",
       "      <th></th>\n",
       "      <th></th>\n",
       "    </tr>\n",
       "  </thead>\n",
       "  <tbody>\n",
       "    <tr>\n",
       "      <th>30940</th>\n",
       "      <td>New Media Group</td>\n",
       "      <td>7125000</td>\n",
       "      <td>5500000</td>\n",
       "      <td>30.00%</td>\n",
       "      <td>1500000</td>\n",
       "      <td>1</td>\n",
       "      <td>10</td>\n",
       "      <td>2017</td>\n",
       "      <td>Jakarta</td>\n",
       "      <td>Enterprise</td>\n",
       "    </tr>\n",
       "    <tr>\n",
       "      <th>57531</th>\n",
       "      <td>PT. Algoritma Data Indonesia</td>\n",
       "      <td>850000</td>\n",
       "      <td>395500</td>\n",
       "      <td>4.00%</td>\n",
       "      <td>0</td>\n",
       "      <td>7</td>\n",
       "      <td>17</td>\n",
       "      <td>2017</td>\n",
       "      <td>Jakarta</td>\n",
       "      <td>Startup</td>\n",
       "    </tr>\n",
       "  </tbody>\n",
       "</table>\n",
       "</div>"
      ],
      "text/plain": [
       "                      Customer Name  Consulting Sales  Software Sales  \\\n",
       "ID                                                                      \n",
       "30940               New Media Group           7125000         5500000   \n",
       "57531  PT. Algoritma Data Indonesia            850000          395500   \n",
       "\n",
       "      Forecasted Growth  Returns  Month  Day  Year Location     Account  \n",
       "ID                                                                       \n",
       "30940            30.00%  1500000      1   10  2017  Jakarta  Enterprise  \n",
       "57531             4.00%        0      7   17  2017  Jakarta     Startup  "
      ]
     },
     "execution_count": 13,
     "metadata": {},
     "output_type": "execute_result"
    }
   ],
   "source": [
    "# Show spesific data\n",
    "clients2017 = clients[\"Year\"] == 2017\n",
    "clients[clients2017]"
   ]
  },
  {
   "cell_type": "code",
   "execution_count": 23,
   "metadata": {},
   "outputs": [
    {
     "data": {
      "text/plain": [
       "True"
      ]
     },
     "execution_count": 23,
     "metadata": {},
     "output_type": "execute_result"
    }
   ],
   "source": [
    "## Your Code Below:\n",
    "\n",
    "# Declare New Media Group variables\n",
    "nmg1 = clients[clients['Customer Name']==\"New Media Group\"]['Consulting Sales'].sum()\n",
    "nmg2 = clients[clients['Customer Name']==\"New Media Group\"]['Software Sales'].sum()\n",
    "nmg = nmg1+nmg2\n",
    "\n",
    "# Declare PT. Algoritma Data Indonesia variables\n",
    "adi1 = clients[clients['Customer Name']==\"PT. Algoritma Data Indonesia\"]['Consulting Sales'].sum()\n",
    "adi2 = clients[clients['Customer Name']==\"PT. Algoritma Data Indonesia\"]['Software Sales'].sum()\n",
    "adi = adi1+adi2\n",
    "\n",
    "# condition check\n",
    "nmg > adi"
   ]
  },
  {
   "cell_type": "code",
   "execution_count": 33,
   "metadata": {},
   "outputs": [
    {
     "name": "stdout",
     "output_type": "stream",
     "text": [
      "PT. Algoritma Data Indonesia \t=  1245500 \n",
      "New Media Group \t\t=  12625000\n"
     ]
    }
   ],
   "source": [
    "# show result\n",
    "\n",
    "print(\"PT. Algoritma Data Indonesia \\t= \",adi,\"\\nNew Media Group \\t\\t= \",nmg)"
   ]
  },
  {
   "cell_type": "markdown",
   "metadata": {},
   "source": [
    "After that, we will return our all available data. Using all available data, it turns out that the company wants to do campaign companies that have a sales value exceeding 1,500,000 IDR. Please use the subsetting again to find out which companies have sales exceeding 1,500,000 IDR. It turns out that there are two companies whose sales value exceeds 1,500,000 IDR in the data.\n",
    "\n",
    "---\n",
    "3. Which are the companies have sales exceeding 1,500,000 IDR in the data?  \n",
    "\n",
    "    *Perusahaan mana saja yang memiliki penjualan lebih dari 1,500,000 IDR?*\n",
    "\n",
    "    - [ ] Palembang Konsultansi & PT. Surya Citra Manajemen\n",
    "    - [ ] PT. Surya Citra Manajemen & New Media Group\n",
    "    - [x] Palembang Konsultansi & New Media Group\n",
    "---    "
   ]
  },
  {
   "cell_type": "code",
   "execution_count": 34,
   "metadata": {},
   "outputs": [
    {
     "data": {
      "text/html": [
       "<div>\n",
       "<style scoped>\n",
       "    .dataframe tbody tr th:only-of-type {\n",
       "        vertical-align: middle;\n",
       "    }\n",
       "\n",
       "    .dataframe tbody tr th {\n",
       "        vertical-align: top;\n",
       "    }\n",
       "\n",
       "    .dataframe thead th {\n",
       "        text-align: right;\n",
       "    }\n",
       "</style>\n",
       "<table border=\"1\" class=\"dataframe\">\n",
       "  <thead>\n",
       "    <tr style=\"text-align: right;\">\n",
       "      <th></th>\n",
       "      <th>Customer Name</th>\n",
       "      <th>Consulting Sales</th>\n",
       "      <th>Software Sales</th>\n",
       "      <th>Forecasted Growth</th>\n",
       "      <th>Returns</th>\n",
       "      <th>Month</th>\n",
       "      <th>Day</th>\n",
       "      <th>Year</th>\n",
       "      <th>Location</th>\n",
       "      <th>Account</th>\n",
       "    </tr>\n",
       "    <tr>\n",
       "      <th>ID</th>\n",
       "      <th></th>\n",
       "      <th></th>\n",
       "      <th></th>\n",
       "      <th></th>\n",
       "      <th></th>\n",
       "      <th></th>\n",
       "      <th></th>\n",
       "      <th></th>\n",
       "      <th></th>\n",
       "      <th></th>\n",
       "    </tr>\n",
       "  </thead>\n",
       "  <tbody>\n",
       "    <tr>\n",
       "      <th>30940</th>\n",
       "      <td>New Media Group</td>\n",
       "      <td>7125000</td>\n",
       "      <td>5500000</td>\n",
       "      <td>30.00%</td>\n",
       "      <td>1500000</td>\n",
       "      <td>1</td>\n",
       "      <td>10</td>\n",
       "      <td>2017</td>\n",
       "      <td>Jakarta</td>\n",
       "      <td>Enterprise</td>\n",
       "    </tr>\n",
       "    <tr>\n",
       "      <th>19002</th>\n",
       "      <td>Palembang Konsultansi</td>\n",
       "      <td>2115000</td>\n",
       "      <td>0</td>\n",
       "      <td>-15.00%</td>\n",
       "      <td>0</td>\n",
       "      <td>2</td>\n",
       "      <td>24</td>\n",
       "      <td>2018</td>\n",
       "      <td>Bandung</td>\n",
       "      <td>Startup</td>\n",
       "    </tr>\n",
       "  </tbody>\n",
       "</table>\n",
       "</div>"
      ],
      "text/plain": [
       "               Customer Name  Consulting Sales  Software Sales  \\\n",
       "ID                                                               \n",
       "30940        New Media Group           7125000         5500000   \n",
       "19002  Palembang Konsultansi           2115000               0   \n",
       "\n",
       "      Forecasted Growth  Returns  Month  Day  Year Location     Account  \n",
       "ID                                                                       \n",
       "30940            30.00%  1500000      1   10  2017  Jakarta  Enterprise  \n",
       "19002           -15.00%        0      2   24  2018  Bandung     Startup  "
      ]
     },
     "execution_count": 34,
     "metadata": {},
     "output_type": "execute_result"
    }
   ],
   "source": [
    "## Your Code Below:\n",
    "\n",
    "sales = clients['Software Sales'] + clients['Consulting Sales']\n",
    "kondisi = sales > 1500000\n",
    "\n",
    "clients[kondisi]"
   ]
  },
  {
   "cell_type": "markdown",
   "metadata": {},
   "source": [
    "As a Data Analyst, you are asked to analyze the average of `Total Sales` for all companies in the data. In analyzing data to get a data center, there are several measurements that can be used. Among them are mean, median, and mode. Because what will be analyzed is a numeric value, sometimes the numerical value can be affected by extreme values or outliers. Therefore, the use of the **median** is often more relevant than using the mean value, because the mean is more easily affected by outlier values.\n",
    "\n",
    "---\n",
    "4. Based on those analysis, what is the central value of `Total Sales`?  \n",
    "\n",
    "    *Berdasarkan analisa diatas, berapakah nilai pusat data dari `Total Sales`?*\n",
    "    \n",
    "    - [x] 1,354,250\n",
    "    - [ ] 1,515,875\n",
    "    - [ ] 3,737,700\n",
    "---"
   ]
  },
  {
   "cell_type": "code",
   "execution_count": 35,
   "metadata": {},
   "outputs": [
    {
     "data": {
      "text/plain": [
       "1354250.0"
      ]
     },
     "execution_count": 35,
     "metadata": {},
     "output_type": "execute_result"
    }
   ],
   "source": [
    "## Your Code Below:\n",
    "\n",
    "sales.quantile()"
   ]
  },
  {
   "cell_type": "markdown",
   "metadata": {},
   "source": [
    "Now, you are focusing to analyze PT. Algoritma Data Indonesia. Using what you have learned before about subsetting method, please answer this question.\n",
    "\n",
    "---\n",
    "5. Which subsetting method is more appropriate, if we want to perform subsetting on `clients` by explicitly stating the `ID`?  \n",
    "\n",
    "    *Manakah metode subsetting yang paling sesuai untuk melakukan subsetting secara eksplisit pada ID pada data `clients`?*\n",
    "\n",
    "    - [x] `clients.loc[57531, :]`\n",
    "    - [ ] `clients.iloc[57531, : ]`\n",
    "    - [ ] `clients[57531, : ]` \n",
    "    \n",
    "---"
   ]
  },
  {
   "cell_type": "code",
   "execution_count": 36,
   "metadata": {},
   "outputs": [
    {
     "data": {
      "text/plain": [
       "Customer Name        PT. Algoritma Data Indonesia\n",
       "Consulting Sales                           850000\n",
       "Software Sales                             395500\n",
       "Forecasted Growth                           4.00%\n",
       "Returns                                         0\n",
       "Month                                           7\n",
       "Day                                            17\n",
       "Year                                         2017\n",
       "Location                                  Jakarta\n",
       "Account                                   Startup\n",
       "Name: 57531, dtype: object"
      ]
     },
     "execution_count": 36,
     "metadata": {},
     "output_type": "execute_result"
    }
   ],
   "source": [
    "## Your Code Below:\n",
    "\n",
    "clients.loc[57531, : ]"
   ]
  },
  {
   "cell_type": "markdown",
   "metadata": {},
   "source": [
    "Lastly, subsetting is needed to analyze clients which spesifically located in Jakarta and have Enterprise account. try to fill in the blank code below to perform the right conditional subsetting and please answer this question below.\n",
    "\n",
    "```\n",
    "clients[________ _ ________]\n",
    "```\n",
    "\n",
    "---\n",
    "6. Based on the syntax you have completed, which syntax below you will use to complete the right conditional subsetting?\n",
    "\n",
    "    *Berdasarkan syntax yang Anda lengkapi diatas, manakah pilihan syntax dibawah ini yang tepat untuk melengkapi?*\n",
    "\n",
    "    - [ ] (clients.Location == \"Jakarta\") | (clients.Account == \"Enterprise\")\n",
    "    - [ ] clients.Location == \"Jakarta\" & clients.Account == \"Enterprise\"\n",
    "    - [x] (clients.Location == \"Jakarta\") & (clients.Account == \"Enterprise\")\n",
    "    - [ ] clients.Location == \"Jakarta\" | clients.Account == \"Enterprise\"\n",
    "---"
   ]
  },
  {
   "cell_type": "code",
   "execution_count": 37,
   "metadata": {},
   "outputs": [
    {
     "data": {
      "text/html": [
       "<div>\n",
       "<style scoped>\n",
       "    .dataframe tbody tr th:only-of-type {\n",
       "        vertical-align: middle;\n",
       "    }\n",
       "\n",
       "    .dataframe tbody tr th {\n",
       "        vertical-align: top;\n",
       "    }\n",
       "\n",
       "    .dataframe thead th {\n",
       "        text-align: right;\n",
       "    }\n",
       "</style>\n",
       "<table border=\"1\" class=\"dataframe\">\n",
       "  <thead>\n",
       "    <tr style=\"text-align: right;\">\n",
       "      <th></th>\n",
       "      <th>Customer Name</th>\n",
       "      <th>Consulting Sales</th>\n",
       "      <th>Software Sales</th>\n",
       "      <th>Forecasted Growth</th>\n",
       "      <th>Returns</th>\n",
       "      <th>Month</th>\n",
       "      <th>Day</th>\n",
       "      <th>Year</th>\n",
       "      <th>Location</th>\n",
       "      <th>Account</th>\n",
       "    </tr>\n",
       "    <tr>\n",
       "      <th>ID</th>\n",
       "      <th></th>\n",
       "      <th></th>\n",
       "      <th></th>\n",
       "      <th></th>\n",
       "      <th></th>\n",
       "      <th></th>\n",
       "      <th></th>\n",
       "      <th></th>\n",
       "      <th></th>\n",
       "      <th></th>\n",
       "    </tr>\n",
       "  </thead>\n",
       "  <tbody>\n",
       "    <tr>\n",
       "      <th>30940</th>\n",
       "      <td>New Media Group</td>\n",
       "      <td>7125000</td>\n",
       "      <td>5500000</td>\n",
       "      <td>30.00%</td>\n",
       "      <td>1500000</td>\n",
       "      <td>1</td>\n",
       "      <td>10</td>\n",
       "      <td>2017</td>\n",
       "      <td>Jakarta</td>\n",
       "      <td>Enterprise</td>\n",
       "    </tr>\n",
       "    <tr>\n",
       "      <th>31142</th>\n",
       "      <td>PT. Surya Citra Manajemen</td>\n",
       "      <td>960000</td>\n",
       "      <td>503000</td>\n",
       "      <td>19.00%</td>\n",
       "      <td>0</td>\n",
       "      <td>1</td>\n",
       "      <td>19</td>\n",
       "      <td>2019</td>\n",
       "      <td>Jakarta</td>\n",
       "      <td>Enterprise</td>\n",
       "    </tr>\n",
       "  </tbody>\n",
       "</table>\n",
       "</div>"
      ],
      "text/plain": [
       "                   Customer Name  Consulting Sales  Software Sales  \\\n",
       "ID                                                                   \n",
       "30940            New Media Group           7125000         5500000   \n",
       "31142  PT. Surya Citra Manajemen            960000          503000   \n",
       "\n",
       "      Forecasted Growth  Returns  Month  Day  Year Location     Account  \n",
       "ID                                                                       \n",
       "30940            30.00%  1500000      1   10  2017  Jakarta  Enterprise  \n",
       "31142            19.00%        0      1   19  2019  Jakarta  Enterprise  "
      ]
     },
     "execution_count": 37,
     "metadata": {},
     "output_type": "execute_result"
    }
   ],
   "source": [
    "## Your Code Below:\n",
    "\n",
    "clients[(clients.Location == \"Jakarta\") & (clients.Account == \"Enterprise\")]"
   ]
  }
 ],
 "metadata": {
  "kernelspec": {
   "display_name": "Python 3",
   "language": "python",
   "name": "python3"
  },
  "language_info": {
   "codemirror_mode": {
    "name": "ipython",
    "version": 3
   },
   "file_extension": ".py",
   "mimetype": "text/x-python",
   "name": "python",
   "nbconvert_exporter": "python",
   "pygments_lexer": "ipython3",
   "version": "3.8.8"
  },
  "latex_envs": {
   "LaTeX_envs_menu_present": true,
   "autoclose": false,
   "autocomplete": true,
   "bibliofile": "biblio.bib",
   "cite_by": "apalike",
   "current_citInitial": 1,
   "eqLabelWithNumbers": true,
   "eqNumInitial": 1,
   "hotkeys": {
    "equation": "Ctrl-E",
    "itemize": "Ctrl-I"
   },
   "labels_anchors": false,
   "latex_user_defs": false,
   "report_style_numbering": false,
   "user_envs_cfg": false
  },
  "toc": {
   "base_numbering": 1,
   "nav_menu": {},
   "number_sections": true,
   "sideBar": true,
   "skip_h1_title": false,
   "title_cell": "Table of Contents",
   "title_sidebar": "Contents",
   "toc_cell": false,
   "toc_position": {},
   "toc_section_display": true,
   "toc_window_display": false
  }
 },
 "nbformat": 4,
 "nbformat_minor": 2
}
