{
 "cells": [
  {
   "cell_type": "code",
   "execution_count": 1,
   "metadata": {},
   "outputs": [
    {
     "name": "stdout",
     "output_type": "stream",
     "text": [
      "Requirement already satisfied: PyPDF2 in c:\\users\\annisa nurdiana\\anaconda3\\lib\\site-packages (2.11.1)\n",
      "Requirement already satisfied: typing-extensions>=3.10.0.0 in c:\\users\\annisa nurdiana\\anaconda3\\lib\\site-packages (from PyPDF2) (4.4.0)\n"
     ]
    }
   ],
   "source": [
    "!pip install PyPDF2"
   ]
  },
  {
   "cell_type": "markdown",
   "metadata": {},
   "source": [
    "## 1. Read in Resume"
   ]
  },
  {
   "cell_type": "code",
   "execution_count": 2,
   "metadata": {},
   "outputs": [],
   "source": [
    "import PyPDF2"
   ]
  },
  {
   "cell_type": "code",
   "execution_count": 3,
   "metadata": {},
   "outputs": [],
   "source": [
    "resume_file_path = 'myresume.pdf'\n",
    "#e.g. resume_file_path = './Nicholas Renotte - Resume.pdf' \n",
    "fhandle = open(resume_file_path, 'rb')"
   ]
  },
  {
   "cell_type": "code",
   "execution_count": 4,
   "metadata": {},
   "outputs": [],
   "source": [
    "pdfReader = PyPDF2.PdfFileReader(fhandle)"
   ]
  },
  {
   "cell_type": "code",
   "execution_count": 5,
   "metadata": {},
   "outputs": [
    {
     "name": "stderr",
     "output_type": "stream",
     "text": [
      "Superfluous whitespace found in object header b'1' b'0'\n",
      "Superfluous whitespace found in object header b'2' b'0'\n",
      "Superfluous whitespace found in object header b'3' b'0'\n",
      "Superfluous whitespace found in object header b'61' b'0'\n",
      "Superfluous whitespace found in object header b'85' b'0'\n",
      "Superfluous whitespace found in object header b'100' b'0'\n"
     ]
    }
   ],
   "source": [
    "pagehandle = pdfReader.getPage(0)"
   ]
  },
  {
   "cell_type": "code",
   "execution_count": 6,
   "metadata": {},
   "outputs": [
    {
     "name": "stderr",
     "output_type": "stream",
     "text": [
      "Superfluous whitespace found in object header b'60' b'0'\n",
      "Superfluous whitespace found in object header b'4' b'0'\n",
      "Superfluous whitespace found in object header b'5' b'0'\n",
      "Superfluous whitespace found in object header b'6' b'0'\n",
      "Superfluous whitespace found in object header b'7' b'0'\n",
      "Superfluous whitespace found in object header b'8' b'0'\n",
      "Superfluous whitespace found in object header b'9' b'0'\n",
      "Superfluous whitespace found in object header b'13' b'0'\n",
      "Superfluous whitespace found in object header b'20' b'0'\n",
      "Superfluous whitespace found in object header b'28' b'0'\n",
      "Superfluous whitespace found in object header b'35' b'0'\n",
      "Superfluous whitespace found in object header b'43' b'0'\n",
      "Superfluous whitespace found in object header b'48' b'0'\n",
      "Superfluous whitespace found in object header b'51' b'0'\n",
      "Superfluous whitespace found in object header b'52' b'0'\n",
      "Superfluous whitespace found in object header b'54' b'0'\n",
      "Superfluous whitespace found in object header b'55' b'0'\n",
      "Superfluous whitespace found in object header b'56' b'0'\n",
      "Superfluous whitespace found in object header b'57' b'0'\n",
      "Superfluous whitespace found in object header b'58' b'0'\n",
      "Superfluous whitespace found in object header b'59' b'0'\n",
      "Superfluous whitespace found in object header b'10' b'0'\n",
      "Superfluous whitespace found in object header b'11' b'0'\n",
      "Superfluous whitespace found in object header b'12' b'0'\n",
      "Superfluous whitespace found in object header b'14' b'0'\n",
      "Superfluous whitespace found in object header b'15' b'0'\n",
      "Superfluous whitespace found in object header b'16' b'0'\n",
      "Superfluous whitespace found in object header b'17' b'0'\n",
      "Superfluous whitespace found in object header b'18' b'0'\n",
      "Superfluous whitespace found in object header b'19' b'0'\n",
      "Superfluous whitespace found in object header b'21' b'0'\n",
      "Superfluous whitespace found in object header b'22' b'0'\n",
      "Superfluous whitespace found in object header b'23' b'0'\n",
      "Superfluous whitespace found in object header b'24' b'0'\n",
      "Superfluous whitespace found in object header b'25' b'0'\n",
      "Superfluous whitespace found in object header b'26' b'0'\n",
      "Superfluous whitespace found in object header b'27' b'0'\n",
      "Superfluous whitespace found in object header b'29' b'0'\n",
      "Superfluous whitespace found in object header b'30' b'0'\n",
      "Superfluous whitespace found in object header b'31' b'0'\n",
      "Superfluous whitespace found in object header b'32' b'0'\n",
      "Superfluous whitespace found in object header b'33' b'0'\n",
      "Superfluous whitespace found in object header b'34' b'0'\n",
      "Superfluous whitespace found in object header b'36' b'0'\n",
      "Superfluous whitespace found in object header b'37' b'0'\n",
      "Superfluous whitespace found in object header b'38' b'0'\n",
      "Superfluous whitespace found in object header b'39' b'0'\n",
      "Superfluous whitespace found in object header b'40' b'0'\n",
      "Superfluous whitespace found in object header b'41' b'0'\n",
      "Superfluous whitespace found in object header b'42' b'0'\n",
      "Superfluous whitespace found in object header b'44' b'0'\n",
      "Superfluous whitespace found in object header b'45' b'0'\n",
      "Superfluous whitespace found in object header b'46' b'0'\n",
      "Superfluous whitespace found in object header b'47' b'0'\n",
      "Superfluous whitespace found in object header b'49' b'0'\n",
      "Superfluous whitespace found in object header b'50' b'0'\n",
      "Superfluous whitespace found in object header b'53' b'0'\n"
     ]
    }
   ],
   "source": [
    "text = pagehandle.extractText()"
   ]
  },
  {
   "cell_type": "code",
   "execution_count": 7,
   "metadata": {},
   "outputs": [],
   "source": [
    "# Strip out unwanted text\n",
    "text = text.replace('o ','')\n",
    "text = text.replace('|', '')"
   ]
  },
  {
   "cell_type": "code",
   "execution_count": 8,
   "metadata": {
    "scrolled": true
   },
   "outputs": [
    {
     "data": {
      "text/plain": [
       "''"
      ]
     },
     "execution_count": 8,
     "metadata": {},
     "output_type": "execute_result"
    }
   ],
   "source": [
    "text"
   ]
  },
  {
   "cell_type": "markdown",
   "metadata": {},
   "source": [
    "## 2. Import and Authenticate to Service"
   ]
  },
  {
   "cell_type": "code",
   "execution_count": 14,
   "metadata": {},
   "outputs": [
    {
     "name": "stdout",
     "output_type": "stream",
     "text": [
      "Requirement already satisfied: ibm_watson in c:\\users\\annisa nurdiana\\anaconda3\\lib\\site-packages (6.1.0)\n",
      "Requirement already satisfied: requests<3.0,>=2.0 in c:\\users\\annisa nurdiana\\anaconda3\\lib\\site-packages (from ibm_watson) (2.28.1)\n",
      "Requirement already satisfied: ibm-cloud-sdk-core==3.*,>=3.3.6 in c:\\users\\annisa nurdiana\\anaconda3\\lib\\site-packages (from ibm_watson) (3.16.0)\n",
      "Requirement already satisfied: websocket-client==1.1.0 in c:\\users\\annisa nurdiana\\anaconda3\\lib\\site-packages (from ibm_watson) (1.1.0)\n",
      "Requirement already satisfied: python-dateutil>=2.5.3 in c:\\users\\annisa nurdiana\\anaconda3\\lib\\site-packages (from ibm_watson) (2.8.1)\n",
      "Requirement already satisfied: PyJWT<3.0.0,>=2.4.0 in c:\\users\\annisa nurdiana\\anaconda3\\lib\\site-packages (from ibm-cloud-sdk-core==3.*,>=3.3.6->ibm_watson) (2.6.0)\n",
      "Requirement already satisfied: urllib3<2.0.0,>=1.26.0 in c:\\users\\annisa nurdiana\\anaconda3\\lib\\site-packages (from ibm-cloud-sdk-core==3.*,>=3.3.6->ibm_watson) (1.26.4)\n",
      "Requirement already satisfied: six>=1.5 in c:\\users\\annisa nurdiana\\anaconda3\\lib\\site-packages (from python-dateutil>=2.5.3->ibm_watson) (1.15.0)\n",
      "Requirement already satisfied: idna<4,>=2.5 in c:\\users\\annisa nurdiana\\anaconda3\\lib\\site-packages (from requests<3.0,>=2.0->ibm_watson) (2.10)\n",
      "Requirement already satisfied: certifi>=2017.4.17 in c:\\users\\annisa nurdiana\\anaconda3\\lib\\site-packages (from requests<3.0,>=2.0->ibm_watson) (2020.12.5)\n",
      "Requirement already satisfied: charset-normalizer<3,>=2 in c:\\users\\annisa nurdiana\\anaconda3\\lib\\site-packages (from requests<3.0,>=2.0->ibm_watson) (2.1.1)\n"
     ]
    }
   ],
   "source": [
    "!pip install ibm_watson"
   ]
  },
  {
   "cell_type": "code",
   "execution_count": 16,
   "metadata": {},
   "outputs": [
    {
     "ename": "ImportError",
     "evalue": "cannot import name 'PersonalityInsightsV3' from 'ibm_watson' (C:\\Users\\Annisa Nurdiana\\anaconda3\\lib\\site-packages\\ibm_watson\\__init__.py)",
     "output_type": "error",
     "traceback": [
      "\u001b[1;31m---------------------------------------------------------------------------\u001b[0m",
      "\u001b[1;31mImportError\u001b[0m                               Traceback (most recent call last)",
      "\u001b[1;32m<ipython-input-16-e2fbd9be2a61>\u001b[0m in \u001b[0;36m<module>\u001b[1;34m\u001b[0m\n\u001b[0;32m      1\u001b[0m \u001b[1;31m# Import Watson\u001b[0m\u001b[1;33m\u001b[0m\u001b[1;33m\u001b[0m\u001b[1;33m\u001b[0m\u001b[0m\n\u001b[1;32m----> 2\u001b[1;33m \u001b[1;32mfrom\u001b[0m \u001b[0mibm_watson\u001b[0m \u001b[1;32mimport\u001b[0m \u001b[0mPersonalityInsightsV3\u001b[0m\u001b[1;33m\u001b[0m\u001b[1;33m\u001b[0m\u001b[0m\n\u001b[0m\u001b[0;32m      3\u001b[0m \u001b[1;33m\u001b[0m\u001b[0m\n\u001b[0;32m      4\u001b[0m \u001b[1;31m# Import authenticator\u001b[0m\u001b[1;33m\u001b[0m\u001b[1;33m\u001b[0m\u001b[1;33m\u001b[0m\u001b[0m\n\u001b[0;32m      5\u001b[0m \u001b[1;32mfrom\u001b[0m \u001b[0mibm_cloud_sdk_core\u001b[0m\u001b[1;33m.\u001b[0m\u001b[0mauthenticators\u001b[0m \u001b[1;32mimport\u001b[0m \u001b[0mIAMAuthenticator\u001b[0m\u001b[1;33m\u001b[0m\u001b[1;33m\u001b[0m\u001b[0m\n",
      "\u001b[1;31mImportError\u001b[0m: cannot import name 'PersonalityInsightsV3' from 'ibm_watson' (C:\\Users\\Annisa Nurdiana\\anaconda3\\lib\\site-packages\\ibm_watson\\__init__.py)"
     ]
    }
   ],
   "source": [
    "# Import Watson\n",
    "from ibm_watson import PersonalityInsightsV3\n",
    "\n",
    "# Import authenticator\n",
    "from ibm_cloud_sdk_core.authenticators import IAMAuthenticator"
   ]
  },
  {
   "cell_type": "code",
   "execution_count": null,
   "metadata": {},
   "outputs": [],
   "source": [
    "# Creds for Personality Insights\n",
    "apikey = 'YOUR API KEY HERE'\n",
    "url = 'YOUR URL HERE'"
   ]
  },
  {
   "cell_type": "code",
   "execution_count": null,
   "metadata": {},
   "outputs": [],
   "source": [
    "# Authenticate to PI service\n",
    "authenticator = IAMAuthenticator(apikey)\n",
    "personality_insights = PersonalityInsightsV3(\n",
    "        version='2017-10-13', \n",
    "        authenticator=authenticator\n",
    ")\n",
    "personality_insights.set_service_url(url)"
   ]
  },
  {
   "cell_type": "markdown",
   "metadata": {},
   "source": [
    "## 3. Extract Resume Personality Insights"
   ]
  },
  {
   "cell_type": "code",
   "execution_count": null,
   "metadata": {},
   "outputs": [],
   "source": [
    "profile = personality_insights.profile(text, accept='application/json').get_result()\n",
    "profile"
   ]
  },
  {
   "cell_type": "code",
   "execution_count": null,
   "metadata": {},
   "outputs": [],
   "source": [
    "for personality in profile['personality']:\n",
    "    print(personality['name'], personality['percentile'])"
   ]
  },
  {
   "cell_type": "code",
   "execution_count": null,
   "metadata": {},
   "outputs": [],
   "source": [
    "for personality in profile['values']:\n",
    "    print(personality['name'], personality['percentile'])"
   ]
  },
  {
   "cell_type": "code",
   "execution_count": null,
   "metadata": {},
   "outputs": [],
   "source": [
    "for personality in profile['needs']:\n",
    "    print(personality['name'], personality['percentile'])"
   ]
  },
  {
   "cell_type": "markdown",
   "metadata": {},
   "source": [
    "## 4. Visualise"
   ]
  },
  {
   "cell_type": "code",
   "execution_count": null,
   "metadata": {},
   "outputs": [],
   "source": [
    "# Import matplotlib \n",
    "from matplotlib import pyplot as plt\n",
    "# Import seaborn\n",
    "import seaborn as sns\n",
    "# Import pandas\n",
    "import pandas as pd"
   ]
  },
  {
   "cell_type": "code",
   "execution_count": null,
   "metadata": {},
   "outputs": [],
   "source": [
    "# Visualise profiles \n",
    "needs = profile['needs']\n",
    "result = {need['name']:need['percentile'] for need in needs}\n",
    "df = pd.DataFrame.from_dict(result, orient='index')\n",
    "df.reset_index(inplace=True)\n",
    "df.columns = ['need', 'percentile']"
   ]
  },
  {
   "cell_type": "code",
   "execution_count": null,
   "metadata": {},
   "outputs": [],
   "source": [
    "df.head()"
   ]
  },
  {
   "cell_type": "code",
   "execution_count": null,
   "metadata": {},
   "outputs": [],
   "source": [
    "# Create Plot\n",
    "plt.figure(figsize=(15,5))\n",
    "sns.barplot(y='percentile', x='need', data=df).set_title('Needs')\n",
    "plt.show()"
   ]
  }
 ],
 "metadata": {
  "kernelspec": {
   "display_name": "Python 3",
   "language": "python",
   "name": "python3"
  },
  "language_info": {
   "codemirror_mode": {
    "name": "ipython",
    "version": 3
   },
   "file_extension": ".py",
   "mimetype": "text/x-python",
   "name": "python",
   "nbconvert_exporter": "python",
   "pygments_lexer": "ipython3",
   "version": "3.8.8"
  }
 },
 "nbformat": 4,
 "nbformat_minor": 2
}
