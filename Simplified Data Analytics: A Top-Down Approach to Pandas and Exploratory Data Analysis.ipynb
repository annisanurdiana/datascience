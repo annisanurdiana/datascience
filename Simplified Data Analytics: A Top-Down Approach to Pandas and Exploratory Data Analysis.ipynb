{
 "cells": [
  {
   "cell_type": "markdown",
   "metadata": {},
   "source": [
    "**Inclass: Python for Data Analysts**\n",
    "- Part 1 of Data Analytics Specialization\n",
    "- Course Length: 12 hours\n",
    "- Instructor : Yosia Azarya\n",
    "- Last Updated: June 2022\n",
    "\n",
    "This notebook was made based on main materials `1_Python_for_Data_Analysts.ipynb`\n",
    "___"
   ]
  },
  {
   "cell_type": "markdown",
   "metadata": {},
   "source": [
    "# Top-Down Approach \n",
    "\n",
    "The coursebook is part of the **Data Analytics Specialization** offered by [Algoritma](https://algorit.ma). It takes a more accessible approach compared to Algoritma's core educational products, by getting participants to overcome the \"how\" barrier first, rather than a detailed breakdown of the \"why\". \n",
    "\n",
    "This translates to an overall easier learning curve, one where the reader is prompted to write short snippets of code in frequent intervals, before being offered an explanation on the underlying theoretical frameworks. Instead of mastering the syntactic design of the Python programming language, then moving into data structures, and then the `pandas` library, and then the mathematical details in an imputation algorithm, and its code implementation; we would do the opposite: Implement the imputation, then a succinct explanation of why it works and applicational considerations (what to look out for, what are assumptions it made, when _not_ to use it etc).\n",
    "\n",
    "For the most part, experience in Python programming is good to have but not required. Familiarity with data manipulation and data structures in a different programming language a welcome addition but again, not required."
   ]
  },
  {
   "cell_type": "markdown",
   "metadata": {},
   "source": [
    "## Training Objectives\n",
    "\n",
    "This coursebook is intended for participants new to the world of data analysis and / or programming. No prior programming knowledge is assumed. \n",
    "\n",
    "The coursebook focuses on:\n",
    "- Introduction to the `pandas` library. \n",
    "- Introduction to `DataFrame`  \n",
    "- Data Types\n",
    "- Exploratory Data Analysis I\n",
    "- Indexing and Subsetting\n",
    "\n",
    "The final part of this course is a Graded Asssignment, where you are expected to apply all that you've learned on a new dataset, and attempt the given questions."
   ]
  },
  {
   "cell_type": "markdown",
   "metadata": {},
   "source": [
    "# Environment\n",
    "\n",
    "**Cara membuat virtual environment baru:**\n",
    "\n",
    "1. Membuka Anaconda Prompt\n",
    "\n",
    "2. Buat environment dengan nama `ENV_NAME`:\n",
    "    ```\n",
    "    conda create -n <ENV_NAME> python=<PYTHON_VERSION>\n",
    "    ```\n",
    "    Contoh: `conda create -n sparta_da python=3.9`\n",
    "\n",
    "\n",
    "3. Mengaktifkan (pindah) environment:\n",
    "    ```\n",
    "    conda activate <ENV_NAME>\n",
    "    ```\n",
    "    Contoh: `conda activate sparta_da`\n",
    "    \n",
    "\n",
    "4. Memasang kernel di dalam environment:\n",
    "    ```\n",
    "    pip install ipykernel\n",
    "    python -m ipykernel install --user --name=<ENV_NAME>\n",
    "    ```\n",
    "    Contoh: `python -m ipykernel install --user --name=sparta_da`\n",
    "\n",
    "5. Cara instalasi package:\n",
    "    ```\n",
    "    pip install <PACKAGE_NAME>\n",
    "    ```\n",
    "    Contoh: `pip install pandas`\n",
    "    \n",
    "**Perintah `conda` yang sering digunakan:**\n",
    "\n",
    "- `conda env list`: cek daftar **environment** pada Anaconda\n",
    "- `conda list`: cek daftar **package** di dalam sebuah environment\n",
    "\n",
    "Referensi perintah lain: https://docs.conda.io/projects/conda/en/latest/commands.html"
   ]
  },
  {
   "cell_type": "markdown",
   "metadata": {},
   "source": [
    "**❓ Knowledge Check:**\n",
    "\n",
    "Pilihlah jawaban yang tepat dengan memberikan tanda centang pada kotak. Jawaban bisa lebih dari satu.\n",
    "\n",
    "1. Berikut yang merupakan Package Manager untuk instalasi package adalah ...\n",
    "\n",
    "    - [ ] kernel\n",
    "    - [x] conda\n",
    "    - [x] pip\n",
    "    - [ ] environment\n",
    "\n",
    "2. Kita perlu menggunakan ...... agar sebuah virtual environment dapat digunakan pada Jupyter Notebook.\n",
    "\n",
    "    - [x] kernel\n",
    "    - [ ] package manager\n",
    "    - [ ] library / package\n",
    "    - [ ] IDE\n",
    "\n",
    "3. Berikut adalah tujuan kita membuat virtual environment, **KECUALI** ...\n",
    "\n",
    "    - [ ] Kolaborasi (sharing environment)\n",
    "    - [ ] Deliver/Deploy aplikasi ke user\n",
    "    - [ ] Mengisolasi package beserta versi-nya\n",
    "    - [x] Virtual environment harus dibuat agar Python dapat dijalankan"
   ]
  },
  {
   "cell_type": "markdown",
   "metadata": {},
   "source": [
    "# Introduction to Jupyter Notebook\n",
    "\n",
    "## Markdown Cell and Code Cell\n",
    "\n",
    "Kumpulan shortcut: **CTRL + SHIFT + P**\n",
    "\n",
    "Tipe cell dalam notebook:\n",
    "1. Markdown\n",
    "2. Code\n",
    "\n",
    "This is markdown cell. You can write a formatted text such as **bold** or *italic*."
   ]
  },
  {
   "cell_type": "code",
   "execution_count": 150,
   "metadata": {
    "scrolled": false
   },
   "outputs": [
    {
     "name": "stdout",
     "output_type": "stream",
     "text": [
      "and this is code cell where you put your python codes down\n"
     ]
    }
   ],
   "source": [
    "print('and this is code cell where you put your python codes down')"
   ]
  },
  {
   "cell_type": "markdown",
   "metadata": {},
   "source": [
    "## Command Mode and Edit Mode\n",
    "\n",
    "Mode cell dalam notebook:\n",
    "1. Command mode (cell berwarna BIRU)\n",
    "    - B: menambahkan cell baru di Bawah (Below)\n",
    "    - A: menambahkan cell baru di Atas (Above)\n",
    "    - DD: Delete cell\n",
    "    - C: Copy cell\n",
    "    - V: Paste cell\n",
    "    - Y: Mengubah ke code cell\n",
    "    - M: Mengubah ke markdown cell\n",
    "    - Enter: Mengubah command mode menjadi edit mode\n",
    "\n",
    "\n",
    "2. Edit mode (cell berwarna HIJAU)\n",
    "    - Ctrl + Enter: eksekusi satu cell\n",
    "    - Esc: Mengubah edit mode menjadi command mode"
   ]
  },
  {
   "cell_type": "markdown",
   "metadata": {},
   "source": [
    "# Introduction to Python\n",
    "\n",
    "## Variables and Keywords\n",
    "\n",
    "**Variable** adalah sebuah nama yang dipakai untuk menunjukkan sebuah nilai. Tanda `=` dipakai untuk membuat variable baru. Proses ini sering disebut sebagai **assignment**."
   ]
  },
  {
   "cell_type": "code",
   "execution_count": 151,
   "metadata": {},
   "outputs": [],
   "source": [
    "angka = 100"
   ]
  },
  {
   "cell_type": "code",
   "execution_count": 152,
   "metadata": {
    "scrolled": true
   },
   "outputs": [
    {
     "name": "stdout",
     "output_type": "stream",
     "text": [
      "100\n"
     ]
    }
   ],
   "source": [
    "# print angka dengan fungsi print\n",
    "print(angka)"
   ]
  },
  {
   "cell_type": "markdown",
   "metadata": {},
   "source": [
    "Python adalah bahasa pemrograman yang **case-sensitive** sehingga penamaan variable menjadi hal yang perlu diperhatikan. Misal penulisan variable `activity` dengan awalan huruf `a` kecil berbeda dengan yang diawali dengan huruf `A` besar."
   ]
  },
  {
   "cell_type": "code",
   "execution_count": 153,
   "metadata": {},
   "outputs": [],
   "source": [
    "activity = 'programming'"
   ]
  },
  {
   "cell_type": "code",
   "execution_count": 154,
   "metadata": {},
   "outputs": [
    {
     "name": "stdout",
     "output_type": "stream",
     "text": [
      "programming\n"
     ]
    }
   ],
   "source": [
    "# print activity\n",
    "print(activity)"
   ]
  },
  {
   "cell_type": "code",
   "execution_count": 155,
   "metadata": {},
   "outputs": [],
   "source": [
    "Activity = \"swimming\""
   ]
  },
  {
   "cell_type": "code",
   "execution_count": 156,
   "metadata": {},
   "outputs": [],
   "source": [
    "# activity == Activity -> this program will raised an error because activity with letter case \"a\" different with Activity\n",
    "# with upper case \"A\""
   ]
  },
  {
   "cell_type": "code",
   "execution_count": 157,
   "metadata": {},
   "outputs": [
    {
     "data": {
      "text/plain": [
       "False"
      ]
     },
     "execution_count": 157,
     "metadata": {},
     "output_type": "execute_result"
    }
   ],
   "source": [
    "activity == Activity"
   ]
  },
  {
   "cell_type": "markdown",
   "metadata": {},
   "source": [
    "Berikut beberapa anjuran dalam memberikan nama variable pada Python:\n",
    "- Menggunakan kombinasi dari huruf kapital (A-Z), huruf nomina (a-z), angka (0-9).\n",
    "- Special character `!, $ , &, dll` tidak dapat digunakan dalam penamaan variabel.\n",
    "- Tidak boleh menggunakan angka di awal.\n",
    "- Tidak boleh menggunakan keyword pada Python\n",
    "- Bersifat case-sensitive sehingga penamaan variable `algoritma`, `ALGORITMA`, dan `Algoritma` adalah 3 variable yang berbeda"
   ]
  },
  {
   "cell_type": "markdown",
   "metadata": {},
   "source": [
    "**Keywords** adalah kata kunci yang sudah ditetapkan oleh Python sebagai nama yang tidak bisa dipakai baik untuk penamaan fungsi, variabel, dan lainnya. Keyword ditulis dalam lower-case (huruf kecil semua) kecuali keyword `True`, `False`, dan `None`. Sejauh ini (Python 3.8) keyword yang ada pada Python adalah sebagai berikut:"
   ]
  },
  {
   "cell_type": "code",
   "execution_count": 158,
   "metadata": {
    "scrolled": true
   },
   "outputs": [
    {
     "data": {
      "text/plain": [
       "['False',\n",
       " 'None',\n",
       " 'True',\n",
       " '__peg_parser__',\n",
       " 'and',\n",
       " 'as',\n",
       " 'assert',\n",
       " 'async',\n",
       " 'await',\n",
       " 'break',\n",
       " 'class',\n",
       " 'continue',\n",
       " 'def',\n",
       " 'del',\n",
       " 'elif',\n",
       " 'else',\n",
       " 'except',\n",
       " 'finally',\n",
       " 'for',\n",
       " 'from',\n",
       " 'global',\n",
       " 'if',\n",
       " 'import',\n",
       " 'in',\n",
       " 'is',\n",
       " 'lambda',\n",
       " 'nonlocal',\n",
       " 'not',\n",
       " 'or',\n",
       " 'pass',\n",
       " 'raise',\n",
       " 'return',\n",
       " 'try',\n",
       " 'while',\n",
       " 'with',\n",
       " 'yield']"
      ]
     },
     "execution_count": 158,
     "metadata": {},
     "output_type": "execute_result"
    }
   ],
   "source": [
    "#Cek daftar keyword\n",
    "import keyword\n",
    "keyword.kwlist"
   ]
  },
  {
   "cell_type": "markdown",
   "metadata": {},
   "source": [
    "Untuk membuktikan bahwa keyword tidak dapat digunakan sebagai nama variabel, mari kita coba untuk menyimpan nilai 1 pada variabel `True`."
   ]
  },
  {
   "cell_type": "code",
   "execution_count": 159,
   "metadata": {},
   "outputs": [],
   "source": [
    "##code here\n",
    "\n",
    "True_answer = 1"
   ]
  },
  {
   "cell_type": "code",
   "execution_count": 160,
   "metadata": {},
   "outputs": [
    {
     "name": "stdout",
     "output_type": "stream",
     "text": [
      "1\n"
     ]
    }
   ],
   "source": [
    "print(True_answer)"
   ]
  },
  {
   "cell_type": "markdown",
   "metadata": {},
   "source": [
    "## Python Data Types\n",
    "\n",
    "### String\n",
    "\n",
    "Python mewakili text apa pun sebagai objek `str`. Contohnya kata \"hamburger\" dan frasa \"saya suka hamburger\" sama-sama merupakan sebuah string. Ada beberapa cara untuk membuat nilai string:\n",
    "\n",
    "- menggunakan `'text'` (yaitu: `'Hello World!'`)\n",
    "- menggunakan `\"text\"` (yaitu : `\"I'm a programmer\"`)\n",
    "- menggunakan `'''text'''` atau `\"\"\"text\"\"\"` (yaitu: `''' \"I'm smart!\", he said '''`)"
   ]
  },
  {
   "cell_type": "code",
   "execution_count": 161,
   "metadata": {},
   "outputs": [],
   "source": [
    "# code here\n",
    "makanan = \"hamburger\""
   ]
  },
  {
   "cell_type": "code",
   "execution_count": 162,
   "metadata": {},
   "outputs": [
    {
     "name": "stdout",
     "output_type": "stream",
     "text": [
      "I'm a programmer\n"
     ]
    }
   ],
   "source": [
    "text = \"I'm a programmer\"\n",
    "print(text)"
   ]
  },
  {
   "cell_type": "code",
   "execution_count": 163,
   "metadata": {},
   "outputs": [
    {
     "name": "stdout",
     "output_type": "stream",
     "text": [
      " \"I'm smart!\", he said \n"
     ]
    }
   ],
   "source": [
    "# triple-quote string\n",
    "text_2 = ''' \"I'm smart!\", he said '''\n",
    "print(text_2)"
   ]
  },
  {
   "cell_type": "code",
   "execution_count": 164,
   "metadata": {},
   "outputs": [
    {
     "name": "stdout",
     "output_type": "stream",
     "text": [
      "<class 'str'>\n",
      " Dear supervisor,\n",
      "....\n",
      "....\n",
      "\n"
     ]
    }
   ],
   "source": [
    "# membuat dengan enter\n",
    "text_3 = \"\"\" Dear supervisor,\n",
    "....\n",
    "....\n",
    "\"\"\"\n",
    "# check type data\n",
    "print(type(text_3))\n",
    "\n",
    "# print text\n",
    "print(text_3)"
   ]
  },
  {
   "cell_type": "code",
   "execution_count": 165,
   "metadata": {},
   "outputs": [
    {
     "data": {
      "text/plain": [
       "str"
      ]
     },
     "execution_count": 165,
     "metadata": {},
     "output_type": "execute_result"
    }
   ],
   "source": [
    "type(makanan)"
   ]
  },
  {
   "cell_type": "code",
   "execution_count": 166,
   "metadata": {},
   "outputs": [
    {
     "name": "stdout",
     "output_type": "stream",
     "text": [
      "hamburger\n"
     ]
    }
   ],
   "source": [
    "print(makanan)"
   ]
  },
  {
   "cell_type": "markdown",
   "metadata": {},
   "source": [
    "### Number\n",
    "\n",
    "Untuk menyimpan data bersifat numerik, python memiliki dua tipe data asli yang disebut `int` dan `float`.\n",
    "- `int` digunakan untuk menyimpan bilangan bulat (yaitu: 1,2,-3)\n",
    "- `float` digunakan untuk menyimpan bilangan real (yaitu: 0.7, -1.8, -1000.0)."
   ]
  },
  {
   "cell_type": "code",
   "execution_count": 167,
   "metadata": {},
   "outputs": [],
   "source": [
    "a = 123445678910\n",
    "b = 0.6724624632746"
   ]
  },
  {
   "cell_type": "code",
   "execution_count": 168,
   "metadata": {},
   "outputs": [
    {
     "data": {
      "text/plain": [
       "int"
      ]
     },
     "execution_count": 168,
     "metadata": {},
     "output_type": "execute_result"
    }
   ],
   "source": [
    "type(a)"
   ]
  },
  {
   "cell_type": "code",
   "execution_count": 169,
   "metadata": {},
   "outputs": [
    {
     "data": {
      "text/plain": [
       "float"
      ]
     },
     "execution_count": 169,
     "metadata": {},
     "output_type": "execute_result"
    }
   ],
   "source": [
    "type(b)"
   ]
  },
  {
   "cell_type": "code",
   "execution_count": 170,
   "metadata": {},
   "outputs": [
    {
     "name": "stdout",
     "output_type": "stream",
     "text": [
      "123445678910\n",
      "0.6724624632746\n"
     ]
    }
   ],
   "source": [
    "print(a)\n",
    "print(b)"
   ]
  },
  {
   "cell_type": "code",
   "execution_count": 171,
   "metadata": {},
   "outputs": [
    {
     "name": "stdout",
     "output_type": "stream",
     "text": [
      "123445678910\n"
     ]
    }
   ],
   "source": [
    "a_str = \"123445678910\"\n",
    "print(a_str)"
   ]
  },
  {
   "cell_type": "code",
   "execution_count": 172,
   "metadata": {},
   "outputs": [
    {
     "data": {
      "text/plain": [
       "str"
      ]
     },
     "execution_count": 172,
     "metadata": {},
     "output_type": "execute_result"
    }
   ],
   "source": [
    "type(a_str)"
   ]
  },
  {
   "cell_type": "markdown",
   "metadata": {},
   "source": [
    "**Operasi Angka** \\\n",
    "Operator Aritmatika:\n",
    "- `+` - Penambahan\n",
    "- `-` - Pengurangan\n",
    "- `*` - Perkalian\n",
    "- `/` - Divisi\n",
    "- `//` - Pembagian dengan Pembulatan\n",
    "- `%` - Modul\n",
    "- `**` - Eksponen"
   ]
  },
  {
   "cell_type": "markdown",
   "metadata": {},
   "source": [
    "Arithmetical Operators"
   ]
  },
  {
   "cell_type": "code",
   "execution_count": 173,
   "metadata": {},
   "outputs": [],
   "source": [
    "lima = 5\n",
    "dua_setengah = 2.5"
   ]
  },
  {
   "cell_type": "code",
   "execution_count": 174,
   "metadata": {},
   "outputs": [
    {
     "data": {
      "text/plain": [
       "12.5"
      ]
     },
     "execution_count": 174,
     "metadata": {},
     "output_type": "execute_result"
    }
   ],
   "source": [
    "lima * dua_setengah"
   ]
  },
  {
   "cell_type": "code",
   "execution_count": 175,
   "metadata": {
    "scrolled": true
   },
   "outputs": [
    {
     "data": {
      "text/plain": [
       "2"
      ]
     },
     "execution_count": 175,
     "metadata": {},
     "output_type": "execute_result"
    }
   ],
   "source": [
    "1 + 1"
   ]
  },
  {
   "cell_type": "code",
   "execution_count": 176,
   "metadata": {},
   "outputs": [
    {
     "data": {
      "text/plain": [
       "2.5"
      ]
     },
     "execution_count": 176,
     "metadata": {},
     "output_type": "execute_result"
    }
   ],
   "source": [
    "5 / 2"
   ]
  },
  {
   "cell_type": "markdown",
   "metadata": {},
   "source": [
    "Operasi perbandingan:\n",
    "- `==` : Untuk melihat apakah object di kiri dan kanan sama\n",
    "- `!=` : Untuk melihat apakah object di kiri dan kanan **tidak** sama\n",
    "- `>` : Untuk melihat apakah object di kiri lebih besar dari object yang di kanan\n",
    "- `>=` : Untuk melihat apakah object di kiri lebih besar atau **sama dengan** dari object yang di kanan\n",
    "- `<` : Untuk melihat apakah object di kiri lebih kecil dari object yang di kanan\n",
    "- `<=` : Untuk melihat apakah object di kiri lebih kecil atau **sama dengan** dari object yang di kanan"
   ]
  },
  {
   "cell_type": "markdown",
   "metadata": {},
   "source": [
    "Comparison Operators"
   ]
  },
  {
   "cell_type": "code",
   "execution_count": 177,
   "metadata": {},
   "outputs": [],
   "source": [
    "satu = 1\n",
    "dua = 2"
   ]
  },
  {
   "cell_type": "code",
   "execution_count": 178,
   "metadata": {},
   "outputs": [
    {
     "data": {
      "text/plain": [
       "True"
      ]
     },
     "execution_count": 178,
     "metadata": {},
     "output_type": "execute_result"
    }
   ],
   "source": [
    "satu <= dua"
   ]
  },
  {
   "cell_type": "code",
   "execution_count": 179,
   "metadata": {},
   "outputs": [
    {
     "data": {
      "text/plain": [
       "False"
      ]
     },
     "execution_count": 179,
     "metadata": {},
     "output_type": "execute_result"
    }
   ],
   "source": [
    "satu == dua"
   ]
  },
  {
   "cell_type": "code",
   "execution_count": 180,
   "metadata": {
    "scrolled": true
   },
   "outputs": [
    {
     "data": {
      "text/plain": [
       "True"
      ]
     },
     "execution_count": 180,
     "metadata": {},
     "output_type": "execute_result"
    }
   ],
   "source": [
    "satu != dua"
   ]
  },
  {
   "cell_type": "markdown",
   "metadata": {},
   "source": [
    "**🧠 Knowledge Check :**\n",
    "\n",
    "If your friend give you a budget of USD 97.5, and ask you to buy candies that cost USD 0.75 each and distribute them **fairly** to 17 children, what is the maximum number of candy each child can get ? \n",
    "\n",
    "Try to use your python knowledge to solve this problem"
   ]
  },
  {
   "cell_type": "code",
   "execution_count": 181,
   "metadata": {},
   "outputs": [
    {
     "data": {
      "text/plain": [
       "7.0"
      ]
     },
     "execution_count": 181,
     "metadata": {},
     "output_type": "execute_result"
    }
   ],
   "source": [
    "# code here\n",
    "budget = 97.5\n",
    "candy_price = 0.75\n",
    "n_child = 17\n",
    "\n",
    "n_candy = budget/candy_price\n",
    "\n",
    "max_candy = n_candy // n_child\n",
    "max_candy"
   ]
  },
  {
   "cell_type": "markdown",
   "metadata": {},
   "source": [
    "Type casting -> merubah dengan paksa suatu tipe data di python"
   ]
  },
  {
   "cell_type": "code",
   "execution_count": 182,
   "metadata": {},
   "outputs": [
    {
     "data": {
      "text/plain": [
       "2"
      ]
     },
     "execution_count": 182,
     "metadata": {},
     "output_type": "execute_result"
    }
   ],
   "source": [
    "data_float = 2.7\n",
    "int(data_float)"
   ]
  },
  {
   "cell_type": "code",
   "execution_count": 183,
   "metadata": {},
   "outputs": [
    {
     "data": {
      "text/plain": [
       "'2.7'"
      ]
     },
     "execution_count": 183,
     "metadata": {},
     "output_type": "execute_result"
    }
   ],
   "source": [
    "str(data_float)"
   ]
  },
  {
   "cell_type": "code",
   "execution_count": 184,
   "metadata": {},
   "outputs": [
    {
     "name": "stdout",
     "output_type": "stream",
     "text": [
      "2.5\n"
     ]
    },
    {
     "data": {
      "text/plain": [
       "str"
      ]
     },
     "execution_count": 184,
     "metadata": {},
     "output_type": "execute_result"
    }
   ],
   "source": [
    "str_dua_setengah = str(dua_setengah)\n",
    "print(str_dua_setengah)\n",
    "type(str_dua_setengah)"
   ]
  },
  {
   "cell_type": "code",
   "execution_count": 185,
   "metadata": {},
   "outputs": [
    {
     "data": {
      "text/plain": [
       "'2.5'"
      ]
     },
     "execution_count": 185,
     "metadata": {},
     "output_type": "execute_result"
    }
   ],
   "source": [
    "str_dua_setengah"
   ]
  },
  {
   "cell_type": "code",
   "execution_count": 186,
   "metadata": {},
   "outputs": [
    {
     "data": {
      "text/plain": [
       "2.5"
      ]
     },
     "execution_count": 186,
     "metadata": {},
     "output_type": "execute_result"
    }
   ],
   "source": [
    "float(str_dua_setengah)"
   ]
  },
  {
   "cell_type": "code",
   "execution_count": 187,
   "metadata": {},
   "outputs": [
    {
     "data": {
      "text/plain": [
       "2.5"
      ]
     },
     "execution_count": 187,
     "metadata": {},
     "output_type": "execute_result"
    }
   ],
   "source": [
    "dua_setengah"
   ]
  },
  {
   "cell_type": "markdown",
   "metadata": {},
   "source": [
    "### Boolean\n",
    "\n",
    "Boolean menyimpan nilai yang sangat sederhana dalam komputer dan pemrograman, `True` atau `False`."
   ]
  },
  {
   "cell_type": "code",
   "execution_count": 188,
   "metadata": {},
   "outputs": [],
   "source": [
    "x = True \n",
    "y = False"
   ]
  },
  {
   "cell_type": "code",
   "execution_count": 189,
   "metadata": {},
   "outputs": [
    {
     "data": {
      "text/plain": [
       "bool"
      ]
     },
     "execution_count": 189,
     "metadata": {},
     "output_type": "execute_result"
    }
   ],
   "source": [
    "type(x)"
   ]
  },
  {
   "cell_type": "markdown",
   "metadata": {},
   "source": [
    "### List\n",
    "\n",
    "`list` digunakan untuk menyimpan beberapa nilai dalam python. Untuk membuatnya, cukup letakkan nilai di dalam tanda kurung (yaitu: `x = [1,2,3]` )"
   ]
  },
  {
   "cell_type": "code",
   "execution_count": 190,
   "metadata": {},
   "outputs": [],
   "source": [
    "number = [1,2,3,4,5]\n",
    "names = [\"andi\",\"budi\",\"caca\",\"deni\",\"eca\"]"
   ]
  },
  {
   "cell_type": "code",
   "execution_count": 191,
   "metadata": {},
   "outputs": [
    {
     "name": "stdout",
     "output_type": "stream",
     "text": [
      "[1, 'a', 'b', True, 2.0]\n"
     ]
    }
   ],
   "source": [
    "list_contoh = [1 , 'a' , 'b' , True , 2.0]\n",
    "print(list_contoh)"
   ]
  },
  {
   "cell_type": "code",
   "execution_count": 192,
   "metadata": {},
   "outputs": [
    {
     "name": "stdout",
     "output_type": "stream",
     "text": [
      "[1, 2, 3, 4, 5]\n",
      "['andi', 'budi', 'caca', 'deni', 'eca']\n"
     ]
    }
   ],
   "source": [
    "print(number)\n",
    "print(names)"
   ]
  },
  {
   "cell_type": "markdown",
   "metadata": {},
   "source": [
    "**Operasi List**\n",
    "- `x.append(a)` : tambahkan a ke x\n",
    "- `x.remove(a)` : hapus a dari x\n",
    "\n",
    "Selain operator yang dikenal sebelumnya, salah satu list yang paling berguna adalah dengan menerapkan fungsi agregasi seperti:\n",
    "- `len(x)` : ekstrak panjang daftar\n",
    "- `a in b` : memeriksa apakah nilai `a` ada di objek daftar `b`\n",
    "- `max(x)` : mendapatkan nilai tertinggi dalam x\n",
    "- `sum(x)` : mendapatkan jumlah nilai dalam x\n",
    "\n",
    "Operasi lain yang harus diketahui dalam daftar adalah pengindeksan:\n",
    "- `x[i]` : mengakses elemen ke-i dari x"
   ]
  },
  {
   "cell_type": "code",
   "execution_count": 193,
   "metadata": {},
   "outputs": [],
   "source": [
    "# menambahkan nilai \"yosia\" ke dalam list names\n",
    "names.append(\"yosia\")"
   ]
  },
  {
   "cell_type": "code",
   "execution_count": 194,
   "metadata": {},
   "outputs": [
    {
     "data": {
      "text/plain": [
       "['andi', 'budi', 'caca', 'deni', 'eca', 'yosia']"
      ]
     },
     "execution_count": 194,
     "metadata": {},
     "output_type": "execute_result"
    }
   ],
   "source": [
    "names"
   ]
  },
  {
   "cell_type": "code",
   "execution_count": 195,
   "metadata": {},
   "outputs": [],
   "source": [
    "# menghilangkan nilai \"yosia\" ke dalam list names\n",
    "names.remove(\"yosia\")"
   ]
  },
  {
   "cell_type": "code",
   "execution_count": 196,
   "metadata": {},
   "outputs": [
    {
     "data": {
      "text/plain": [
       "['andi', 'budi', 'caca', 'deni', 'eca']"
      ]
     },
     "execution_count": 196,
     "metadata": {},
     "output_type": "execute_result"
    }
   ],
   "source": [
    "names"
   ]
  },
  {
   "cell_type": "code",
   "execution_count": 197,
   "metadata": {},
   "outputs": [
    {
     "data": {
      "text/plain": [
       "5"
      ]
     },
     "execution_count": 197,
     "metadata": {},
     "output_type": "execute_result"
    }
   ],
   "source": [
    "# Mengecek panjang data dari list names dengan len()\n",
    "len(names)"
   ]
  },
  {
   "cell_type": "markdown",
   "metadata": {},
   "source": [
    "Melakukan pengecekkan values dalam suatu list"
   ]
  },
  {
   "cell_type": "code",
   "execution_count": 198,
   "metadata": {},
   "outputs": [
    {
     "data": {
      "text/plain": [
       "['andi', 'budi', 'caca', 'deni', 'eca']"
      ]
     },
     "execution_count": 198,
     "metadata": {},
     "output_type": "execute_result"
    }
   ],
   "source": [
    "names"
   ]
  },
  {
   "cell_type": "code",
   "execution_count": 199,
   "metadata": {},
   "outputs": [
    {
     "data": {
      "text/plain": [
       "True"
      ]
     },
     "execution_count": 199,
     "metadata": {},
     "output_type": "execute_result"
    }
   ],
   "source": [
    "\"andi\" in names"
   ]
  },
  {
   "cell_type": "code",
   "execution_count": 200,
   "metadata": {},
   "outputs": [
    {
     "data": {
      "text/plain": [
       "True"
      ]
     },
     "execution_count": 200,
     "metadata": {},
     "output_type": "execute_result"
    }
   ],
   "source": [
    "\"yosia\" not in names"
   ]
  },
  {
   "cell_type": "markdown",
   "metadata": {},
   "source": [
    "Akses nilai tertentu berdasarkan index pada list"
   ]
  },
  {
   "cell_type": "code",
   "execution_count": 201,
   "metadata": {},
   "outputs": [
    {
     "data": {
      "text/plain": [
       "['andi', 'budi', 'caca', 'deni', 'eca']"
      ]
     },
     "execution_count": 201,
     "metadata": {},
     "output_type": "execute_result"
    }
   ],
   "source": [
    "names"
   ]
  },
  {
   "cell_type": "code",
   "execution_count": 202,
   "metadata": {},
   "outputs": [
    {
     "data": {
      "text/plain": [
       "'caca'"
      ]
     },
     "execution_count": 202,
     "metadata": {},
     "output_type": "execute_result"
    }
   ],
   "source": [
    "names[2]"
   ]
  },
  {
   "cell_type": "markdown",
   "metadata": {},
   "source": [
    "**🧠Knowledge Check** : \n",
    "\n",
    "What is the average value of `number` ? "
   ]
  },
  {
   "cell_type": "code",
   "execution_count": 203,
   "metadata": {},
   "outputs": [
    {
     "data": {
      "text/plain": [
       "3.0"
      ]
     },
     "execution_count": 203,
     "metadata": {},
     "output_type": "execute_result"
    }
   ],
   "source": [
    "# code here\n",
    "average_number = sum(number) / len(number)\n",
    "average_number"
   ]
  },
  {
   "cell_type": "markdown",
   "metadata": {},
   "source": [
    "# Introduction to Pandas Library\n",
    "\n",
    "## Working with DataFrame\n",
    "\n",
    "`pandas` adalah library yang powerful sebagai tools analisis data dan struktur pada Python. Dengan `pandas`, mengolah data menjadi mudah karena disediakan salah satu objek bernama **DataFrame**. Dengan dataframe kita dapat membaca sebuah file, mengolah suatu data dengan menggunakan operasi seperti join, distinct, group by, agregasi, dan teknik lainnya.\n",
    "\n",
    "> Lebih lengkapnya silahkan kunjungi [official documentation](https://pandas.pydata.org/)\n",
    "\n",
    "Untuk menggunakan `pandas`, kita perlu import terlebih dahulu library dengan cara berikut ini:"
   ]
  },
  {
   "cell_type": "code",
   "execution_count": 204,
   "metadata": {},
   "outputs": [],
   "source": [
    "##code here\n",
    "import pandas"
   ]
  },
  {
   "cell_type": "markdown",
   "metadata": {},
   "source": [
    "Kita bisa menggunakan teknik **aliasing** agar pengetikan nama library tidak terlalu panjang, yaitu dengan `as`."
   ]
  },
  {
   "cell_type": "code",
   "execution_count": 205,
   "metadata": {},
   "outputs": [],
   "source": [
    "##code here\n",
    "import pandas as pd"
   ]
  },
  {
   "cell_type": "markdown",
   "metadata": {},
   "source": [
    "Semua method pada `pandas` dapat dipanggil dengan syntax seperti: `pandas.function_name()`. Langkah pertama yang akan kita lakukan adalah membaca data. Kita dapat menggunakan method `.read_csv()` untuk membaca sebuah file dengan format `.csv`."
   ]
  },
  {
   "cell_type": "code",
   "execution_count": 206,
   "metadata": {},
   "outputs": [
    {
     "data": {
      "text/html": [
       "<div>\n",
       "<style scoped>\n",
       "    .dataframe tbody tr th:only-of-type {\n",
       "        vertical-align: middle;\n",
       "    }\n",
       "\n",
       "    .dataframe tbody tr th {\n",
       "        vertical-align: top;\n",
       "    }\n",
       "\n",
       "    .dataframe thead th {\n",
       "        text-align: right;\n",
       "    }\n",
       "</style>\n",
       "<table border=\"1\" class=\"dataframe\">\n",
       "  <thead>\n",
       "    <tr style=\"text-align: right;\">\n",
       "      <th></th>\n",
       "      <th>Unnamed: 0</th>\n",
       "      <th>receipt_id</th>\n",
       "      <th>receipts_item_id</th>\n",
       "      <th>purchase_time</th>\n",
       "      <th>category</th>\n",
       "      <th>sub_category</th>\n",
       "      <th>format</th>\n",
       "      <th>unit_price</th>\n",
       "      <th>discount</th>\n",
       "      <th>quantity</th>\n",
       "      <th>yearmonth</th>\n",
       "    </tr>\n",
       "  </thead>\n",
       "  <tbody>\n",
       "    <tr>\n",
       "      <th>0</th>\n",
       "      <td>1</td>\n",
       "      <td>9622257</td>\n",
       "      <td>32369294</td>\n",
       "      <td>7/22/2018 21:19</td>\n",
       "      <td>Rice</td>\n",
       "      <td>Rice</td>\n",
       "      <td>supermarket</td>\n",
       "      <td>128000.0</td>\n",
       "      <td>0</td>\n",
       "      <td>1</td>\n",
       "      <td>2018-07</td>\n",
       "    </tr>\n",
       "    <tr>\n",
       "      <th>1</th>\n",
       "      <td>2</td>\n",
       "      <td>9446359</td>\n",
       "      <td>31885876</td>\n",
       "      <td>7/15/2018 16:17</td>\n",
       "      <td>Rice</td>\n",
       "      <td>Rice</td>\n",
       "      <td>minimarket</td>\n",
       "      <td>102750.0</td>\n",
       "      <td>0</td>\n",
       "      <td>1</td>\n",
       "      <td>2018-07</td>\n",
       "    </tr>\n",
       "    <tr>\n",
       "      <th>2</th>\n",
       "      <td>3</td>\n",
       "      <td>9470290</td>\n",
       "      <td>31930241</td>\n",
       "      <td>7/15/2018 12:12</td>\n",
       "      <td>Rice</td>\n",
       "      <td>Rice</td>\n",
       "      <td>supermarket</td>\n",
       "      <td>64000.0</td>\n",
       "      <td>0</td>\n",
       "      <td>3</td>\n",
       "      <td>2018-07</td>\n",
       "    </tr>\n",
       "    <tr>\n",
       "      <th>3</th>\n",
       "      <td>4</td>\n",
       "      <td>9643416</td>\n",
       "      <td>32418582</td>\n",
       "      <td>7/24/2018 8:27</td>\n",
       "      <td>Rice</td>\n",
       "      <td>Rice</td>\n",
       "      <td>minimarket</td>\n",
       "      <td>65000.0</td>\n",
       "      <td>0</td>\n",
       "      <td>1</td>\n",
       "      <td>2018-07</td>\n",
       "    </tr>\n",
       "    <tr>\n",
       "      <th>4</th>\n",
       "      <td>5</td>\n",
       "      <td>9692093</td>\n",
       "      <td>32561236</td>\n",
       "      <td>7/26/2018 11:28</td>\n",
       "      <td>Rice</td>\n",
       "      <td>Rice</td>\n",
       "      <td>supermarket</td>\n",
       "      <td>124500.0</td>\n",
       "      <td>0</td>\n",
       "      <td>1</td>\n",
       "      <td>2018-07</td>\n",
       "    </tr>\n",
       "    <tr>\n",
       "      <th>...</th>\n",
       "      <td>...</td>\n",
       "      <td>...</td>\n",
       "      <td>...</td>\n",
       "      <td>...</td>\n",
       "      <td>...</td>\n",
       "      <td>...</td>\n",
       "      <td>...</td>\n",
       "      <td>...</td>\n",
       "      <td>...</td>\n",
       "      <td>...</td>\n",
       "      <td>...</td>\n",
       "    </tr>\n",
       "    <tr>\n",
       "      <th>11995</th>\n",
       "      <td>11996</td>\n",
       "      <td>5760491</td>\n",
       "      <td>17555486</td>\n",
       "      <td>12/15/2017 21:06</td>\n",
       "      <td>Rice</td>\n",
       "      <td>Rice</td>\n",
       "      <td>supermarket</td>\n",
       "      <td>128000.0</td>\n",
       "      <td>0</td>\n",
       "      <td>1</td>\n",
       "      <td>2017-12</td>\n",
       "    </tr>\n",
       "    <tr>\n",
       "      <th>11996</th>\n",
       "      <td>11997</td>\n",
       "      <td>5598782</td>\n",
       "      <td>16999147</td>\n",
       "      <td>12/2/2017 14:12</td>\n",
       "      <td>Rice</td>\n",
       "      <td>Rice</td>\n",
       "      <td>minimarket</td>\n",
       "      <td>64000.0</td>\n",
       "      <td>0</td>\n",
       "      <td>1</td>\n",
       "      <td>2017-12</td>\n",
       "    </tr>\n",
       "    <tr>\n",
       "      <th>11997</th>\n",
       "      <td>11998</td>\n",
       "      <td>5735850</td>\n",
       "      <td>17434503</td>\n",
       "      <td>12/13/2017 19:17</td>\n",
       "      <td>Rice</td>\n",
       "      <td>Rice</td>\n",
       "      <td>supermarket</td>\n",
       "      <td>59990.0</td>\n",
       "      <td>3000</td>\n",
       "      <td>1</td>\n",
       "      <td>2017-12</td>\n",
       "    </tr>\n",
       "    <tr>\n",
       "      <th>11998</th>\n",
       "      <td>11999</td>\n",
       "      <td>5678748</td>\n",
       "      <td>17317935</td>\n",
       "      <td>12/8/2017 22:04</td>\n",
       "      <td>Rice</td>\n",
       "      <td>Rice</td>\n",
       "      <td>minimarket</td>\n",
       "      <td>59500.0</td>\n",
       "      <td>3000</td>\n",
       "      <td>1</td>\n",
       "      <td>2017-12</td>\n",
       "    </tr>\n",
       "    <tr>\n",
       "      <th>11999</th>\n",
       "      <td>12000</td>\n",
       "      <td>5702411</td>\n",
       "      <td>17341559</td>\n",
       "      <td>12/10/2017 17:04</td>\n",
       "      <td>Rice</td>\n",
       "      <td>Rice</td>\n",
       "      <td>minimarket</td>\n",
       "      <td>59500.0</td>\n",
       "      <td>3000</td>\n",
       "      <td>1</td>\n",
       "      <td>2017-12</td>\n",
       "    </tr>\n",
       "  </tbody>\n",
       "</table>\n",
       "<p>12000 rows × 11 columns</p>\n",
       "</div>"
      ],
      "text/plain": [
       "       Unnamed: 0  receipt_id  receipts_item_id     purchase_time category  \\\n",
       "0               1     9622257          32369294   7/22/2018 21:19     Rice   \n",
       "1               2     9446359          31885876   7/15/2018 16:17     Rice   \n",
       "2               3     9470290          31930241   7/15/2018 12:12     Rice   \n",
       "3               4     9643416          32418582    7/24/2018 8:27     Rice   \n",
       "4               5     9692093          32561236   7/26/2018 11:28     Rice   \n",
       "...           ...         ...               ...               ...      ...   \n",
       "11995       11996     5760491          17555486  12/15/2017 21:06     Rice   \n",
       "11996       11997     5598782          16999147   12/2/2017 14:12     Rice   \n",
       "11997       11998     5735850          17434503  12/13/2017 19:17     Rice   \n",
       "11998       11999     5678748          17317935   12/8/2017 22:04     Rice   \n",
       "11999       12000     5702411          17341559  12/10/2017 17:04     Rice   \n",
       "\n",
       "      sub_category       format  unit_price  discount  quantity yearmonth  \n",
       "0             Rice  supermarket    128000.0         0         1   2018-07  \n",
       "1             Rice   minimarket    102750.0         0         1   2018-07  \n",
       "2             Rice  supermarket     64000.0         0         3   2018-07  \n",
       "3             Rice   minimarket     65000.0         0         1   2018-07  \n",
       "4             Rice  supermarket    124500.0         0         1   2018-07  \n",
       "...            ...          ...         ...       ...       ...       ...  \n",
       "11995         Rice  supermarket    128000.0         0         1   2017-12  \n",
       "11996         Rice   minimarket     64000.0         0         1   2017-12  \n",
       "11997         Rice  supermarket     59990.0      3000         1   2017-12  \n",
       "11998         Rice   minimarket     59500.0      3000         1   2017-12  \n",
       "11999         Rice   minimarket     59500.0      3000         1   2017-12  \n",
       "\n",
       "[12000 rows x 11 columns]"
      ]
     },
     "execution_count": 206,
     "metadata": {},
     "output_type": "execute_result"
    }
   ],
   "source": [
    "##code here\n",
    "rice = pd.read_csv(\"data_input/rice.csv\")\n",
    "rice"
   ]
  },
  {
   "cell_type": "markdown",
   "metadata": {},
   "source": [
    "Kita coba set kolom pertama `Unnamed: 0` menjadi index dari dataframe, dengan cara menambahkan **parameter** `index_col=0`."
   ]
  },
  {
   "cell_type": "code",
   "execution_count": 207,
   "metadata": {},
   "outputs": [
    {
     "data": {
      "text/html": [
       "<div>\n",
       "<style scoped>\n",
       "    .dataframe tbody tr th:only-of-type {\n",
       "        vertical-align: middle;\n",
       "    }\n",
       "\n",
       "    .dataframe tbody tr th {\n",
       "        vertical-align: top;\n",
       "    }\n",
       "\n",
       "    .dataframe thead th {\n",
       "        text-align: right;\n",
       "    }\n",
       "</style>\n",
       "<table border=\"1\" class=\"dataframe\">\n",
       "  <thead>\n",
       "    <tr style=\"text-align: right;\">\n",
       "      <th></th>\n",
       "      <th>receipt_id</th>\n",
       "      <th>receipts_item_id</th>\n",
       "      <th>purchase_time</th>\n",
       "      <th>category</th>\n",
       "      <th>sub_category</th>\n",
       "      <th>format</th>\n",
       "      <th>unit_price</th>\n",
       "      <th>discount</th>\n",
       "      <th>quantity</th>\n",
       "      <th>yearmonth</th>\n",
       "    </tr>\n",
       "  </thead>\n",
       "  <tbody>\n",
       "    <tr>\n",
       "      <th>1</th>\n",
       "      <td>9622257</td>\n",
       "      <td>32369294</td>\n",
       "      <td>7/22/2018 21:19</td>\n",
       "      <td>Rice</td>\n",
       "      <td>Rice</td>\n",
       "      <td>supermarket</td>\n",
       "      <td>128000.0</td>\n",
       "      <td>0</td>\n",
       "      <td>1</td>\n",
       "      <td>2018-07</td>\n",
       "    </tr>\n",
       "    <tr>\n",
       "      <th>2</th>\n",
       "      <td>9446359</td>\n",
       "      <td>31885876</td>\n",
       "      <td>7/15/2018 16:17</td>\n",
       "      <td>Rice</td>\n",
       "      <td>Rice</td>\n",
       "      <td>minimarket</td>\n",
       "      <td>102750.0</td>\n",
       "      <td>0</td>\n",
       "      <td>1</td>\n",
       "      <td>2018-07</td>\n",
       "    </tr>\n",
       "    <tr>\n",
       "      <th>3</th>\n",
       "      <td>9470290</td>\n",
       "      <td>31930241</td>\n",
       "      <td>7/15/2018 12:12</td>\n",
       "      <td>Rice</td>\n",
       "      <td>Rice</td>\n",
       "      <td>supermarket</td>\n",
       "      <td>64000.0</td>\n",
       "      <td>0</td>\n",
       "      <td>3</td>\n",
       "      <td>2018-07</td>\n",
       "    </tr>\n",
       "    <tr>\n",
       "      <th>4</th>\n",
       "      <td>9643416</td>\n",
       "      <td>32418582</td>\n",
       "      <td>7/24/2018 8:27</td>\n",
       "      <td>Rice</td>\n",
       "      <td>Rice</td>\n",
       "      <td>minimarket</td>\n",
       "      <td>65000.0</td>\n",
       "      <td>0</td>\n",
       "      <td>1</td>\n",
       "      <td>2018-07</td>\n",
       "    </tr>\n",
       "    <tr>\n",
       "      <th>5</th>\n",
       "      <td>9692093</td>\n",
       "      <td>32561236</td>\n",
       "      <td>7/26/2018 11:28</td>\n",
       "      <td>Rice</td>\n",
       "      <td>Rice</td>\n",
       "      <td>supermarket</td>\n",
       "      <td>124500.0</td>\n",
       "      <td>0</td>\n",
       "      <td>1</td>\n",
       "      <td>2018-07</td>\n",
       "    </tr>\n",
       "    <tr>\n",
       "      <th>...</th>\n",
       "      <td>...</td>\n",
       "      <td>...</td>\n",
       "      <td>...</td>\n",
       "      <td>...</td>\n",
       "      <td>...</td>\n",
       "      <td>...</td>\n",
       "      <td>...</td>\n",
       "      <td>...</td>\n",
       "      <td>...</td>\n",
       "      <td>...</td>\n",
       "    </tr>\n",
       "    <tr>\n",
       "      <th>11996</th>\n",
       "      <td>5760491</td>\n",
       "      <td>17555486</td>\n",
       "      <td>12/15/2017 21:06</td>\n",
       "      <td>Rice</td>\n",
       "      <td>Rice</td>\n",
       "      <td>supermarket</td>\n",
       "      <td>128000.0</td>\n",
       "      <td>0</td>\n",
       "      <td>1</td>\n",
       "      <td>2017-12</td>\n",
       "    </tr>\n",
       "    <tr>\n",
       "      <th>11997</th>\n",
       "      <td>5598782</td>\n",
       "      <td>16999147</td>\n",
       "      <td>12/2/2017 14:12</td>\n",
       "      <td>Rice</td>\n",
       "      <td>Rice</td>\n",
       "      <td>minimarket</td>\n",
       "      <td>64000.0</td>\n",
       "      <td>0</td>\n",
       "      <td>1</td>\n",
       "      <td>2017-12</td>\n",
       "    </tr>\n",
       "    <tr>\n",
       "      <th>11998</th>\n",
       "      <td>5735850</td>\n",
       "      <td>17434503</td>\n",
       "      <td>12/13/2017 19:17</td>\n",
       "      <td>Rice</td>\n",
       "      <td>Rice</td>\n",
       "      <td>supermarket</td>\n",
       "      <td>59990.0</td>\n",
       "      <td>3000</td>\n",
       "      <td>1</td>\n",
       "      <td>2017-12</td>\n",
       "    </tr>\n",
       "    <tr>\n",
       "      <th>11999</th>\n",
       "      <td>5678748</td>\n",
       "      <td>17317935</td>\n",
       "      <td>12/8/2017 22:04</td>\n",
       "      <td>Rice</td>\n",
       "      <td>Rice</td>\n",
       "      <td>minimarket</td>\n",
       "      <td>59500.0</td>\n",
       "      <td>3000</td>\n",
       "      <td>1</td>\n",
       "      <td>2017-12</td>\n",
       "    </tr>\n",
       "    <tr>\n",
       "      <th>12000</th>\n",
       "      <td>5702411</td>\n",
       "      <td>17341559</td>\n",
       "      <td>12/10/2017 17:04</td>\n",
       "      <td>Rice</td>\n",
       "      <td>Rice</td>\n",
       "      <td>minimarket</td>\n",
       "      <td>59500.0</td>\n",
       "      <td>3000</td>\n",
       "      <td>1</td>\n",
       "      <td>2017-12</td>\n",
       "    </tr>\n",
       "  </tbody>\n",
       "</table>\n",
       "<p>12000 rows × 10 columns</p>\n",
       "</div>"
      ],
      "text/plain": [
       "       receipt_id  receipts_item_id     purchase_time category sub_category  \\\n",
       "1         9622257          32369294   7/22/2018 21:19     Rice         Rice   \n",
       "2         9446359          31885876   7/15/2018 16:17     Rice         Rice   \n",
       "3         9470290          31930241   7/15/2018 12:12     Rice         Rice   \n",
       "4         9643416          32418582    7/24/2018 8:27     Rice         Rice   \n",
       "5         9692093          32561236   7/26/2018 11:28     Rice         Rice   \n",
       "...           ...               ...               ...      ...          ...   \n",
       "11996     5760491          17555486  12/15/2017 21:06     Rice         Rice   \n",
       "11997     5598782          16999147   12/2/2017 14:12     Rice         Rice   \n",
       "11998     5735850          17434503  12/13/2017 19:17     Rice         Rice   \n",
       "11999     5678748          17317935   12/8/2017 22:04     Rice         Rice   \n",
       "12000     5702411          17341559  12/10/2017 17:04     Rice         Rice   \n",
       "\n",
       "            format  unit_price  discount  quantity yearmonth  \n",
       "1      supermarket    128000.0         0         1   2018-07  \n",
       "2       minimarket    102750.0         0         1   2018-07  \n",
       "3      supermarket     64000.0         0         3   2018-07  \n",
       "4       minimarket     65000.0         0         1   2018-07  \n",
       "5      supermarket    124500.0         0         1   2018-07  \n",
       "...            ...         ...       ...       ...       ...  \n",
       "11996  supermarket    128000.0         0         1   2017-12  \n",
       "11997   minimarket     64000.0         0         1   2017-12  \n",
       "11998  supermarket     59990.0      3000         1   2017-12  \n",
       "11999   minimarket     59500.0      3000         1   2017-12  \n",
       "12000   minimarket     59500.0      3000         1   2017-12  \n",
       "\n",
       "[12000 rows x 10 columns]"
      ]
     },
     "execution_count": 207,
     "metadata": {},
     "output_type": "execute_result"
    }
   ],
   "source": [
    "##code here\n",
    "# alternatif -> pd.read_csv(\"data_input/rice.csv\", index_col=0)\n",
    "\n",
    "pd.read_csv(\"data_input/rice.csv\", index_col=\"Unnamed: 0\")"
   ]
  },
  {
   "cell_type": "markdown",
   "metadata": {},
   "source": [
    "Intuisi dari parameter `index_col` pada `read_csv()` adalah menjadikan kolom pada Dataframe sebagai index pada baris. Berikut beberapa nilai yang dapat ditampung oleh parameter `index_col`.\n",
    "- (0, 1, 2, dst) : Menunjukkan index kolom yang akan dijadikan sebagai index baris.\n",
    "- `'nama_kolom'` : Selain menggunakan nilai index nya, kita juga dapat langsung mengetikkan nama kolomnya.\n",
    "- `False` : Menggunakan index yang disediakan oleh `pandas`."
   ]
  },
  {
   "cell_type": "markdown",
   "metadata": {},
   "source": [
    "**Additional Information:**\n",
    "\n",
    "1. Python menggunakan sistem **zero based indexing** yang berarti, index pada python dimulai dari angka 0.\n",
    "2. Terdapat beberapa parameter dalam method `.read_csv()`, dokumentasi selengkapnya ada [di sini](https://pandas.pydata.org/pandas-docs/stable/reference/api/pandas.read_csv.html)"
   ]
  },
  {
   "cell_type": "markdown",
   "metadata": {},
   "source": [
    "### End of Day 2\n",
    "---"
   ]
  },
  {
   "cell_type": "markdown",
   "metadata": {},
   "source": [
    "🧠 **Knowledge Check: Error**\n",
    "\n",
    "Mengacu pada konsep penulisan **python keywords** diatas, manakah diantara ke-4 kode program ini yang **tidak** menghasilkan error ketika dijalankan?\n",
    "\n",
    "- [ ] `pd.read_csv(\"data_input/rice.csv\", index_col=false)` -> error karena seharusnya **False** bukan false\n",
    "- [ ] `Import pandas as pd` -> error karena seharusnya **i**mport bukan dengan I\n",
    "- [x] `print(100-2)`\n",
    "- [ ] `None = 2` -> Merupakan python keyword yang tidak bisa digunakan sebagai nama object"
   ]
  },
  {
   "cell_type": "code",
   "execution_count": 208,
   "metadata": {},
   "outputs": [],
   "source": [
    "#your code here\n"
   ]
  },
  {
   "cell_type": "markdown",
   "metadata": {},
   "source": [
    "**What you need to know**:\n",
    "- Python, sama dengan bahasa pemrograman lainnya adalah bersifat case sensitive. `Sales` dan `sales` akan diidentifikasikan sebagai object yang berbeda.\n",
    "- Python keywoard tidak dapat digunakan sebagai nama variable\n",
    "- Saat memberikan penamaan pada variable, awali dengan huruf dan gunakan underscore (`_`) untuk menghubungkan antar kata.\n",
    "    - Salah: `2022`, `2022sales`, `sales-2022`, `sales.2022`\n",
    "    - Benar: `sales_2019`, `profit_after_tax`"
   ]
  },
  {
   "cell_type": "markdown",
   "metadata": {},
   "source": [
    "#### 🧠 Dive Deeper\n",
    "\n",
    "1. Baca kembali data `rice` menggunakan perintah `pd.read_csv()`, kemudian simpan kedalam variable baru bernama `rice_new`. Dengan menggunakan parameter `index_col`, jadikan kolom `receipt_id` sebagai index baris nya!\n",
    "2. `pandas.DataFrame.head(n)` dapat digunakan untuk menampilkan sebagian data teratas, dengan asumsi bahwa nilai `n` adalah jumlah baris yang ingin kita tampilkan. Silahkan set `head()` dengan nilai `n=8` pada data `rice_new`, kemudian lihat apa yang terjadi! \n",
    "3. Lawan dari `head()` adalah `tail()`. Method `tail()` akan menampilkan data dari urutan paling bawah. Silahkan set `tail()` dengan nilai `n=4`, kemudian lihat apa yang terjadi!"
   ]
  },
  {
   "cell_type": "code",
   "execution_count": 209,
   "metadata": {},
   "outputs": [
    {
     "data": {
      "text/html": [
       "<div>\n",
       "<style scoped>\n",
       "    .dataframe tbody tr th:only-of-type {\n",
       "        vertical-align: middle;\n",
       "    }\n",
       "\n",
       "    .dataframe tbody tr th {\n",
       "        vertical-align: top;\n",
       "    }\n",
       "\n",
       "    .dataframe thead th {\n",
       "        text-align: right;\n",
       "    }\n",
       "</style>\n",
       "<table border=\"1\" class=\"dataframe\">\n",
       "  <thead>\n",
       "    <tr style=\"text-align: right;\">\n",
       "      <th></th>\n",
       "      <th>Unnamed: 0</th>\n",
       "      <th>receipts_item_id</th>\n",
       "      <th>purchase_time</th>\n",
       "      <th>category</th>\n",
       "      <th>sub_category</th>\n",
       "      <th>format</th>\n",
       "      <th>unit_price</th>\n",
       "      <th>discount</th>\n",
       "      <th>quantity</th>\n",
       "      <th>yearmonth</th>\n",
       "    </tr>\n",
       "    <tr>\n",
       "      <th>receipt_id</th>\n",
       "      <th></th>\n",
       "      <th></th>\n",
       "      <th></th>\n",
       "      <th></th>\n",
       "      <th></th>\n",
       "      <th></th>\n",
       "      <th></th>\n",
       "      <th></th>\n",
       "      <th></th>\n",
       "      <th></th>\n",
       "    </tr>\n",
       "  </thead>\n",
       "  <tbody>\n",
       "    <tr>\n",
       "      <th>9622257</th>\n",
       "      <td>1</td>\n",
       "      <td>32369294</td>\n",
       "      <td>7/22/2018 21:19</td>\n",
       "      <td>Rice</td>\n",
       "      <td>Rice</td>\n",
       "      <td>supermarket</td>\n",
       "      <td>128000.0</td>\n",
       "      <td>0</td>\n",
       "      <td>1</td>\n",
       "      <td>2018-07</td>\n",
       "    </tr>\n",
       "    <tr>\n",
       "      <th>9446359</th>\n",
       "      <td>2</td>\n",
       "      <td>31885876</td>\n",
       "      <td>7/15/2018 16:17</td>\n",
       "      <td>Rice</td>\n",
       "      <td>Rice</td>\n",
       "      <td>minimarket</td>\n",
       "      <td>102750.0</td>\n",
       "      <td>0</td>\n",
       "      <td>1</td>\n",
       "      <td>2018-07</td>\n",
       "    </tr>\n",
       "    <tr>\n",
       "      <th>9470290</th>\n",
       "      <td>3</td>\n",
       "      <td>31930241</td>\n",
       "      <td>7/15/2018 12:12</td>\n",
       "      <td>Rice</td>\n",
       "      <td>Rice</td>\n",
       "      <td>supermarket</td>\n",
       "      <td>64000.0</td>\n",
       "      <td>0</td>\n",
       "      <td>3</td>\n",
       "      <td>2018-07</td>\n",
       "    </tr>\n",
       "    <tr>\n",
       "      <th>9643416</th>\n",
       "      <td>4</td>\n",
       "      <td>32418582</td>\n",
       "      <td>7/24/2018 8:27</td>\n",
       "      <td>Rice</td>\n",
       "      <td>Rice</td>\n",
       "      <td>minimarket</td>\n",
       "      <td>65000.0</td>\n",
       "      <td>0</td>\n",
       "      <td>1</td>\n",
       "      <td>2018-07</td>\n",
       "    </tr>\n",
       "    <tr>\n",
       "      <th>9692093</th>\n",
       "      <td>5</td>\n",
       "      <td>32561236</td>\n",
       "      <td>7/26/2018 11:28</td>\n",
       "      <td>Rice</td>\n",
       "      <td>Rice</td>\n",
       "      <td>supermarket</td>\n",
       "      <td>124500.0</td>\n",
       "      <td>0</td>\n",
       "      <td>1</td>\n",
       "      <td>2018-07</td>\n",
       "    </tr>\n",
       "  </tbody>\n",
       "</table>\n",
       "</div>"
      ],
      "text/plain": [
       "            Unnamed: 0  receipts_item_id    purchase_time category  \\\n",
       "receipt_id                                                           \n",
       "9622257              1          32369294  7/22/2018 21:19     Rice   \n",
       "9446359              2          31885876  7/15/2018 16:17     Rice   \n",
       "9470290              3          31930241  7/15/2018 12:12     Rice   \n",
       "9643416              4          32418582   7/24/2018 8:27     Rice   \n",
       "9692093              5          32561236  7/26/2018 11:28     Rice   \n",
       "\n",
       "           sub_category       format  unit_price  discount  quantity yearmonth  \n",
       "receipt_id                                                                      \n",
       "9622257            Rice  supermarket    128000.0         0         1   2018-07  \n",
       "9446359            Rice   minimarket    102750.0         0         1   2018-07  \n",
       "9470290            Rice  supermarket     64000.0         0         3   2018-07  \n",
       "9643416            Rice   minimarket     65000.0         0         1   2018-07  \n",
       "9692093            Rice  supermarket    124500.0         0         1   2018-07  "
      ]
     },
     "execution_count": 209,
     "metadata": {},
     "output_type": "execute_result"
    }
   ],
   "source": [
    "#your code here\n",
    "#nomor 1\n",
    "rice_new = pd.read_csv('data_input/rice.csv', index_col = 'receipt_id')\n",
    "rice_new.head()"
   ]
  },
  {
   "cell_type": "code",
   "execution_count": 210,
   "metadata": {},
   "outputs": [
    {
     "data": {
      "text/html": [
       "<div>\n",
       "<style scoped>\n",
       "    .dataframe tbody tr th:only-of-type {\n",
       "        vertical-align: middle;\n",
       "    }\n",
       "\n",
       "    .dataframe tbody tr th {\n",
       "        vertical-align: top;\n",
       "    }\n",
       "\n",
       "    .dataframe thead th {\n",
       "        text-align: right;\n",
       "    }\n",
       "</style>\n",
       "<table border=\"1\" class=\"dataframe\">\n",
       "  <thead>\n",
       "    <tr style=\"text-align: right;\">\n",
       "      <th></th>\n",
       "      <th>Unnamed: 0</th>\n",
       "      <th>receipts_item_id</th>\n",
       "      <th>purchase_time</th>\n",
       "      <th>category</th>\n",
       "      <th>sub_category</th>\n",
       "      <th>format</th>\n",
       "      <th>unit_price</th>\n",
       "      <th>discount</th>\n",
       "      <th>quantity</th>\n",
       "      <th>yearmonth</th>\n",
       "    </tr>\n",
       "    <tr>\n",
       "      <th>receipt_id</th>\n",
       "      <th></th>\n",
       "      <th></th>\n",
       "      <th></th>\n",
       "      <th></th>\n",
       "      <th></th>\n",
       "      <th></th>\n",
       "      <th></th>\n",
       "      <th></th>\n",
       "      <th></th>\n",
       "      <th></th>\n",
       "    </tr>\n",
       "  </thead>\n",
       "  <tbody>\n",
       "    <tr>\n",
       "      <th>9622257</th>\n",
       "      <td>1</td>\n",
       "      <td>32369294</td>\n",
       "      <td>7/22/2018 21:19</td>\n",
       "      <td>Rice</td>\n",
       "      <td>Rice</td>\n",
       "      <td>supermarket</td>\n",
       "      <td>128000.0</td>\n",
       "      <td>0</td>\n",
       "      <td>1</td>\n",
       "      <td>2018-07</td>\n",
       "    </tr>\n",
       "    <tr>\n",
       "      <th>9446359</th>\n",
       "      <td>2</td>\n",
       "      <td>31885876</td>\n",
       "      <td>7/15/2018 16:17</td>\n",
       "      <td>Rice</td>\n",
       "      <td>Rice</td>\n",
       "      <td>minimarket</td>\n",
       "      <td>102750.0</td>\n",
       "      <td>0</td>\n",
       "      <td>1</td>\n",
       "      <td>2018-07</td>\n",
       "    </tr>\n",
       "    <tr>\n",
       "      <th>9470290</th>\n",
       "      <td>3</td>\n",
       "      <td>31930241</td>\n",
       "      <td>7/15/2018 12:12</td>\n",
       "      <td>Rice</td>\n",
       "      <td>Rice</td>\n",
       "      <td>supermarket</td>\n",
       "      <td>64000.0</td>\n",
       "      <td>0</td>\n",
       "      <td>3</td>\n",
       "      <td>2018-07</td>\n",
       "    </tr>\n",
       "    <tr>\n",
       "      <th>9643416</th>\n",
       "      <td>4</td>\n",
       "      <td>32418582</td>\n",
       "      <td>7/24/2018 8:27</td>\n",
       "      <td>Rice</td>\n",
       "      <td>Rice</td>\n",
       "      <td>minimarket</td>\n",
       "      <td>65000.0</td>\n",
       "      <td>0</td>\n",
       "      <td>1</td>\n",
       "      <td>2018-07</td>\n",
       "    </tr>\n",
       "    <tr>\n",
       "      <th>9692093</th>\n",
       "      <td>5</td>\n",
       "      <td>32561236</td>\n",
       "      <td>7/26/2018 11:28</td>\n",
       "      <td>Rice</td>\n",
       "      <td>Rice</td>\n",
       "      <td>supermarket</td>\n",
       "      <td>124500.0</td>\n",
       "      <td>0</td>\n",
       "      <td>1</td>\n",
       "      <td>2018-07</td>\n",
       "    </tr>\n",
       "    <tr>\n",
       "      <th>9504155</th>\n",
       "      <td>6</td>\n",
       "      <td>32030785</td>\n",
       "      <td>7/17/2018 18:05</td>\n",
       "      <td>Rice</td>\n",
       "      <td>Rice</td>\n",
       "      <td>minimarket</td>\n",
       "      <td>63500.0</td>\n",
       "      <td>0</td>\n",
       "      <td>1</td>\n",
       "      <td>2018-07</td>\n",
       "    </tr>\n",
       "    <tr>\n",
       "      <th>9822589</th>\n",
       "      <td>7</td>\n",
       "      <td>32935097</td>\n",
       "      <td>7/29/2018 18:18</td>\n",
       "      <td>Rice</td>\n",
       "      <td>Rice</td>\n",
       "      <td>supermarket</td>\n",
       "      <td>66500.0</td>\n",
       "      <td>0</td>\n",
       "      <td>1</td>\n",
       "      <td>2018-07</td>\n",
       "    </tr>\n",
       "    <tr>\n",
       "      <th>9706953</th>\n",
       "      <td>8</td>\n",
       "      <td>32593606</td>\n",
       "      <td>7/25/2018 12:48</td>\n",
       "      <td>Rice</td>\n",
       "      <td>Rice</td>\n",
       "      <td>minimarket</td>\n",
       "      <td>62500.0</td>\n",
       "      <td>0</td>\n",
       "      <td>1</td>\n",
       "      <td>2018-07</td>\n",
       "    </tr>\n",
       "  </tbody>\n",
       "</table>\n",
       "</div>"
      ],
      "text/plain": [
       "            Unnamed: 0  receipts_item_id    purchase_time category  \\\n",
       "receipt_id                                                           \n",
       "9622257              1          32369294  7/22/2018 21:19     Rice   \n",
       "9446359              2          31885876  7/15/2018 16:17     Rice   \n",
       "9470290              3          31930241  7/15/2018 12:12     Rice   \n",
       "9643416              4          32418582   7/24/2018 8:27     Rice   \n",
       "9692093              5          32561236  7/26/2018 11:28     Rice   \n",
       "9504155              6          32030785  7/17/2018 18:05     Rice   \n",
       "9822589              7          32935097  7/29/2018 18:18     Rice   \n",
       "9706953              8          32593606  7/25/2018 12:48     Rice   \n",
       "\n",
       "           sub_category       format  unit_price  discount  quantity yearmonth  \n",
       "receipt_id                                                                      \n",
       "9622257            Rice  supermarket    128000.0         0         1   2018-07  \n",
       "9446359            Rice   minimarket    102750.0         0         1   2018-07  \n",
       "9470290            Rice  supermarket     64000.0         0         3   2018-07  \n",
       "9643416            Rice   minimarket     65000.0         0         1   2018-07  \n",
       "9692093            Rice  supermarket    124500.0         0         1   2018-07  \n",
       "9504155            Rice   minimarket     63500.0         0         1   2018-07  \n",
       "9822589            Rice  supermarket     66500.0         0         1   2018-07  \n",
       "9706953            Rice   minimarket     62500.0         0         1   2018-07  "
      ]
     },
     "execution_count": 210,
     "metadata": {},
     "output_type": "execute_result"
    }
   ],
   "source": [
    "#your code here\n",
    "#nomor 2\n",
    "rice_new.head(8)"
   ]
  },
  {
   "cell_type": "code",
   "execution_count": 211,
   "metadata": {},
   "outputs": [
    {
     "data": {
      "text/html": [
       "<div>\n",
       "<style scoped>\n",
       "    .dataframe tbody tr th:only-of-type {\n",
       "        vertical-align: middle;\n",
       "    }\n",
       "\n",
       "    .dataframe tbody tr th {\n",
       "        vertical-align: top;\n",
       "    }\n",
       "\n",
       "    .dataframe thead th {\n",
       "        text-align: right;\n",
       "    }\n",
       "</style>\n",
       "<table border=\"1\" class=\"dataframe\">\n",
       "  <thead>\n",
       "    <tr style=\"text-align: right;\">\n",
       "      <th></th>\n",
       "      <th>Unnamed: 0</th>\n",
       "      <th>receipts_item_id</th>\n",
       "      <th>purchase_time</th>\n",
       "      <th>category</th>\n",
       "      <th>sub_category</th>\n",
       "      <th>format</th>\n",
       "      <th>unit_price</th>\n",
       "      <th>discount</th>\n",
       "      <th>quantity</th>\n",
       "      <th>yearmonth</th>\n",
       "    </tr>\n",
       "    <tr>\n",
       "      <th>receipt_id</th>\n",
       "      <th></th>\n",
       "      <th></th>\n",
       "      <th></th>\n",
       "      <th></th>\n",
       "      <th></th>\n",
       "      <th></th>\n",
       "      <th></th>\n",
       "      <th></th>\n",
       "      <th></th>\n",
       "      <th></th>\n",
       "    </tr>\n",
       "  </thead>\n",
       "  <tbody>\n",
       "    <tr>\n",
       "      <th>5598782</th>\n",
       "      <td>11997</td>\n",
       "      <td>16999147</td>\n",
       "      <td>12/2/2017 14:12</td>\n",
       "      <td>Rice</td>\n",
       "      <td>Rice</td>\n",
       "      <td>minimarket</td>\n",
       "      <td>64000.0</td>\n",
       "      <td>0</td>\n",
       "      <td>1</td>\n",
       "      <td>2017-12</td>\n",
       "    </tr>\n",
       "    <tr>\n",
       "      <th>5735850</th>\n",
       "      <td>11998</td>\n",
       "      <td>17434503</td>\n",
       "      <td>12/13/2017 19:17</td>\n",
       "      <td>Rice</td>\n",
       "      <td>Rice</td>\n",
       "      <td>supermarket</td>\n",
       "      <td>59990.0</td>\n",
       "      <td>3000</td>\n",
       "      <td>1</td>\n",
       "      <td>2017-12</td>\n",
       "    </tr>\n",
       "    <tr>\n",
       "      <th>5678748</th>\n",
       "      <td>11999</td>\n",
       "      <td>17317935</td>\n",
       "      <td>12/8/2017 22:04</td>\n",
       "      <td>Rice</td>\n",
       "      <td>Rice</td>\n",
       "      <td>minimarket</td>\n",
       "      <td>59500.0</td>\n",
       "      <td>3000</td>\n",
       "      <td>1</td>\n",
       "      <td>2017-12</td>\n",
       "    </tr>\n",
       "    <tr>\n",
       "      <th>5702411</th>\n",
       "      <td>12000</td>\n",
       "      <td>17341559</td>\n",
       "      <td>12/10/2017 17:04</td>\n",
       "      <td>Rice</td>\n",
       "      <td>Rice</td>\n",
       "      <td>minimarket</td>\n",
       "      <td>59500.0</td>\n",
       "      <td>3000</td>\n",
       "      <td>1</td>\n",
       "      <td>2017-12</td>\n",
       "    </tr>\n",
       "  </tbody>\n",
       "</table>\n",
       "</div>"
      ],
      "text/plain": [
       "            Unnamed: 0  receipts_item_id     purchase_time category  \\\n",
       "receipt_id                                                            \n",
       "5598782          11997          16999147   12/2/2017 14:12     Rice   \n",
       "5735850          11998          17434503  12/13/2017 19:17     Rice   \n",
       "5678748          11999          17317935   12/8/2017 22:04     Rice   \n",
       "5702411          12000          17341559  12/10/2017 17:04     Rice   \n",
       "\n",
       "           sub_category       format  unit_price  discount  quantity yearmonth  \n",
       "receipt_id                                                                      \n",
       "5598782            Rice   minimarket     64000.0         0         1   2017-12  \n",
       "5735850            Rice  supermarket     59990.0      3000         1   2017-12  \n",
       "5678748            Rice   minimarket     59500.0      3000         1   2017-12  \n",
       "5702411            Rice   minimarket     59500.0      3000         1   2017-12  "
      ]
     },
     "execution_count": 211,
     "metadata": {},
     "output_type": "execute_result"
    }
   ],
   "source": [
    "rice_new.tail(4)"
   ]
  },
  {
   "cell_type": "markdown",
   "metadata": {},
   "source": [
    "## Tipe Data `pandas`\n",
    "\n",
    "Dataframe terdiri dari beberapa **Series** (mengacu pada satu kolom). Dalam satu series harus memiliki satu tipe data yang sama. `pandas`akan mencoba untuk infer tipe data dari masing-masing Series, tapi tidak selalu benar.\n",
    "\n",
    "Cara cek tipe data: `dtypes` atau `.info()` untuk lebih lengkapnya"
   ]
  },
  {
   "cell_type": "markdown",
   "metadata": {},
   "source": [
    "**_Soal 1:_** Dengan menggunakan data rice, silahkan cek tipe data menggunakan `dtypes`!"
   ]
  },
  {
   "cell_type": "code",
   "execution_count": 212,
   "metadata": {
    "scrolled": true
   },
   "outputs": [
    {
     "data": {
      "text/html": [
       "<div>\n",
       "<style scoped>\n",
       "    .dataframe tbody tr th:only-of-type {\n",
       "        vertical-align: middle;\n",
       "    }\n",
       "\n",
       "    .dataframe tbody tr th {\n",
       "        vertical-align: top;\n",
       "    }\n",
       "\n",
       "    .dataframe thead th {\n",
       "        text-align: right;\n",
       "    }\n",
       "</style>\n",
       "<table border=\"1\" class=\"dataframe\">\n",
       "  <thead>\n",
       "    <tr style=\"text-align: right;\">\n",
       "      <th></th>\n",
       "      <th>Unnamed: 0</th>\n",
       "      <th>receipt_id</th>\n",
       "      <th>receipts_item_id</th>\n",
       "      <th>purchase_time</th>\n",
       "      <th>category</th>\n",
       "      <th>sub_category</th>\n",
       "      <th>format</th>\n",
       "      <th>unit_price</th>\n",
       "      <th>discount</th>\n",
       "      <th>quantity</th>\n",
       "      <th>yearmonth</th>\n",
       "    </tr>\n",
       "  </thead>\n",
       "  <tbody>\n",
       "    <tr>\n",
       "      <th>0</th>\n",
       "      <td>1</td>\n",
       "      <td>9622257</td>\n",
       "      <td>32369294</td>\n",
       "      <td>7/22/2018 21:19</td>\n",
       "      <td>Rice</td>\n",
       "      <td>Rice</td>\n",
       "      <td>supermarket</td>\n",
       "      <td>128000.0</td>\n",
       "      <td>0</td>\n",
       "      <td>1</td>\n",
       "      <td>2018-07</td>\n",
       "    </tr>\n",
       "    <tr>\n",
       "      <th>1</th>\n",
       "      <td>2</td>\n",
       "      <td>9446359</td>\n",
       "      <td>31885876</td>\n",
       "      <td>7/15/2018 16:17</td>\n",
       "      <td>Rice</td>\n",
       "      <td>Rice</td>\n",
       "      <td>minimarket</td>\n",
       "      <td>102750.0</td>\n",
       "      <td>0</td>\n",
       "      <td>1</td>\n",
       "      <td>2018-07</td>\n",
       "    </tr>\n",
       "  </tbody>\n",
       "</table>\n",
       "</div>"
      ],
      "text/plain": [
       "   Unnamed: 0  receipt_id  receipts_item_id    purchase_time category  \\\n",
       "0           1     9622257          32369294  7/22/2018 21:19     Rice   \n",
       "1           2     9446359          31885876  7/15/2018 16:17     Rice   \n",
       "\n",
       "  sub_category       format  unit_price  discount  quantity yearmonth  \n",
       "0         Rice  supermarket    128000.0         0         1   2018-07  \n",
       "1         Rice   minimarket    102750.0         0         1   2018-07  "
      ]
     },
     "execution_count": 212,
     "metadata": {},
     "output_type": "execute_result"
    }
   ],
   "source": [
    "rice.head(2)"
   ]
  },
  {
   "cell_type": "code",
   "execution_count": 213,
   "metadata": {},
   "outputs": [
    {
     "data": {
      "text/plain": [
       "Unnamed: 0            int64\n",
       "receipt_id            int64\n",
       "receipts_item_id      int64\n",
       "purchase_time        object\n",
       "category             object\n",
       "sub_category         object\n",
       "format               object\n",
       "unit_price          float64\n",
       "discount              int64\n",
       "quantity              int64\n",
       "yearmonth            object\n",
       "dtype: object"
      ]
     },
     "execution_count": 213,
     "metadata": {},
     "output_type": "execute_result"
    }
   ],
   "source": [
    "##code here\n",
    "rice.dtypes"
   ]
  },
  {
   "cell_type": "markdown",
   "metadata": {},
   "source": [
    "**Notes:**\n",
    "\n",
    "- `int64`: integer (bilangan bulat, tanpa koma)\n",
    "- `float64`: bilangan desimal (berkoma)\n",
    "- `object`: text (string)"
   ]
  },
  {
   "cell_type": "markdown",
   "metadata": {},
   "source": [
    "🧠 **Knowledge check: `.dtypes` and pandas attributes**\n",
    "\n",
    "Salin kode program di bawah ini, kemudian jalankan. \n",
    "```\n",
    "x = [2019, 4, 'data science']\n",
    "x.dtypes\n",
    "\n",
    "```\n",
    "Apa yang terjadi?"
   ]
  },
  {
   "cell_type": "code",
   "execution_count": 214,
   "metadata": {},
   "outputs": [],
   "source": [
    "##code here\n",
    "x = [2019, 4, 'data science']\n",
    "# x.dtypes -> akan menghasilkan error karena x bukan merupakan dataframe, \n",
    "# sedangkan dtypes merupakan atribute dataframe"
   ]
  },
  {
   "cell_type": "markdown",
   "metadata": {},
   "source": [
    "Ketikkan perintah `type(x)`, maka apa perbedaannya dengan sebelumnya?"
   ]
  },
  {
   "cell_type": "code",
   "execution_count": 215,
   "metadata": {},
   "outputs": [
    {
     "data": {
      "text/plain": [
       "list"
      ]
     },
     "execution_count": 215,
     "metadata": {},
     "output_type": "execute_result"
    }
   ],
   "source": [
    "##code here\n",
    "type(x)"
   ]
  },
  {
   "cell_type": "markdown",
   "metadata": {},
   "source": [
    "Kesimpulan: Atribut `dtypes` hanya dimiliki oleh objek dataframe sehingga `dtypes` tidak bisa diaplikasikan untuk list."
   ]
  },
  {
   "cell_type": "markdown",
   "metadata": {},
   "source": [
    "Perhatikan dataframe baru di bawah ini untuk contoh lain dari tipe data pada `pandas`!"
   ]
  },
  {
   "cell_type": "code",
   "execution_count": 216,
   "metadata": {},
   "outputs": [
    {
     "data": {
      "text/plain": [
       "name                  object\n",
       "age                    int64\n",
       "joined        datetime64[ns]\n",
       "degree                  bool\n",
       "hourlyrate           float64\n",
       "division              object\n",
       "dtype: object"
      ]
     },
     "execution_count": 216,
     "metadata": {},
     "output_type": "execute_result"
    }
   ],
   "source": [
    "employees = pd.DataFrame({\n",
    "    'name': ['Anita', 'Brian'],\n",
    "    'age': [34, 29],\n",
    "    'joined': [pd.Timestamp('20190410'), pd.Timestamp('20171128')],\n",
    "    'degree': [True, False],\n",
    "    'hourlyrate': [35.5, 29],\n",
    "    'division': ['HR', 'Product']\n",
    "})\n",
    "employees.dtypes"
   ]
  },
  {
   "cell_type": "code",
   "execution_count": 217,
   "metadata": {},
   "outputs": [
    {
     "data": {
      "text/html": [
       "<div>\n",
       "<style scoped>\n",
       "    .dataframe tbody tr th:only-of-type {\n",
       "        vertical-align: middle;\n",
       "    }\n",
       "\n",
       "    .dataframe tbody tr th {\n",
       "        vertical-align: top;\n",
       "    }\n",
       "\n",
       "    .dataframe thead th {\n",
       "        text-align: right;\n",
       "    }\n",
       "</style>\n",
       "<table border=\"1\" class=\"dataframe\">\n",
       "  <thead>\n",
       "    <tr style=\"text-align: right;\">\n",
       "      <th></th>\n",
       "      <th>name</th>\n",
       "      <th>age</th>\n",
       "      <th>joined</th>\n",
       "      <th>degree</th>\n",
       "      <th>hourlyrate</th>\n",
       "      <th>division</th>\n",
       "    </tr>\n",
       "  </thead>\n",
       "  <tbody>\n",
       "    <tr>\n",
       "      <th>0</th>\n",
       "      <td>Anita</td>\n",
       "      <td>34</td>\n",
       "      <td>2019-04-10</td>\n",
       "      <td>True</td>\n",
       "      <td>35.5</td>\n",
       "      <td>HR</td>\n",
       "    </tr>\n",
       "    <tr>\n",
       "      <th>1</th>\n",
       "      <td>Brian</td>\n",
       "      <td>29</td>\n",
       "      <td>2017-11-28</td>\n",
       "      <td>False</td>\n",
       "      <td>29.0</td>\n",
       "      <td>Product</td>\n",
       "    </tr>\n",
       "  </tbody>\n",
       "</table>\n",
       "</div>"
      ],
      "text/plain": [
       "    name  age     joined  degree  hourlyrate division\n",
       "0  Anita   34 2019-04-10    True        35.5       HR\n",
       "1  Brian   29 2017-11-28   False        29.0  Product"
      ]
     },
     "execution_count": 217,
     "metadata": {},
     "output_type": "execute_result"
    }
   ],
   "source": [
    "employees"
   ]
  },
  {
   "cell_type": "markdown",
   "metadata": {},
   "source": [
    "- `name` [`object`]: store text values\n",
    "- `age` [`int`]: integer values\n",
    "- `joined` [`datetime`]: date and time values\n",
    "- `degree` [`bool`]: True/False values\n",
    "- `hourlyrate` [`float`]: floating point values\n",
    "- `division` [`object`]: store text values"
   ]
  },
  {
   "cell_type": "markdown",
   "metadata": {},
   "source": [
    "### Categorical and Numerical Variables\n",
    "\n",
    "Tipe data categorical adalah tipe data yang memiliki karakteristik dimana nilainya dapat berulang pada sebuah Series di dataframe. \n",
    "\n",
    "Dua alasan mengapa kita perlu menggunakan tipe data categorical:\n",
    "\n",
    "1. Dari sisi \"business perspective\", hal ini dapat menginformasikan dan memandu seorang Analyst pada pertanyaan seperti metode statistik atau tipe plot mana yang digunakan untuk mengolah data.\n",
    "\n",
    "2. Dari sisi teknikal, ketika kita bekerja dengan tipe data categorical pada pandas, hal ini akan jauh menghemat memori dan menambah kecepatan komputasional.\n",
    "\n",
    "Dikutip dari official documentation:\n",
    "\n",
    "> Categoricals are a pandas data type corresponding to categorical variables in statistics. A categorical variable takes on a limited, and usually fixed, number of possible values (categories; levels in R). Examples are gender, social class, blood type, country affiliation or rating via Likert scales.\n",
    "\n",
    "Untuk mengubah tipe data ke categorical pada pandas, Anda dapat melakukannya dengan method `astype()` berikut:\n",
    "\n",
    "**Formula** \n",
    "```\n",
    "df['column_name'] = df['column_name'].astype('new_data_types')\n",
    "```\n",
    "\n",
    "**Example**\n",
    "```\n",
    "# convert marital_status to category\n",
    "employees['marital_status'] = employees['marital_status'].astype('category')\n",
    "\n",
    "# convert experience to integer\n",
    "employees['experience'] = employees['experience'].astype('int')\n",
    "```\n"
   ]
  },
  {
   "cell_type": "markdown",
   "metadata": {},
   "source": [
    "**_Soal 2:_** Perhatikan dataframe `employees`. Adakah kolom yang tipe datanya belum tersimpan dengan benar? Ubahlah ke tipe data yang tepat dengan menggunakan method `astype()`!"
   ]
  },
  {
   "cell_type": "code",
   "execution_count": 218,
   "metadata": {},
   "outputs": [
    {
     "data": {
      "text/html": [
       "<div>\n",
       "<style scoped>\n",
       "    .dataframe tbody tr th:only-of-type {\n",
       "        vertical-align: middle;\n",
       "    }\n",
       "\n",
       "    .dataframe tbody tr th {\n",
       "        vertical-align: top;\n",
       "    }\n",
       "\n",
       "    .dataframe thead th {\n",
       "        text-align: right;\n",
       "    }\n",
       "</style>\n",
       "<table border=\"1\" class=\"dataframe\">\n",
       "  <thead>\n",
       "    <tr style=\"text-align: right;\">\n",
       "      <th></th>\n",
       "      <th>name</th>\n",
       "      <th>age</th>\n",
       "      <th>joined</th>\n",
       "      <th>degree</th>\n",
       "      <th>hourlyrate</th>\n",
       "      <th>division</th>\n",
       "    </tr>\n",
       "  </thead>\n",
       "  <tbody>\n",
       "    <tr>\n",
       "      <th>0</th>\n",
       "      <td>Anita</td>\n",
       "      <td>34</td>\n",
       "      <td>2019-04-10</td>\n",
       "      <td>True</td>\n",
       "      <td>35.5</td>\n",
       "      <td>HR</td>\n",
       "    </tr>\n",
       "    <tr>\n",
       "      <th>1</th>\n",
       "      <td>Brian</td>\n",
       "      <td>29</td>\n",
       "      <td>2017-11-28</td>\n",
       "      <td>False</td>\n",
       "      <td>29.0</td>\n",
       "      <td>Product</td>\n",
       "    </tr>\n",
       "  </tbody>\n",
       "</table>\n",
       "</div>"
      ],
      "text/plain": [
       "    name  age     joined  degree  hourlyrate division\n",
       "0  Anita   34 2019-04-10    True        35.5       HR\n",
       "1  Brian   29 2017-11-28   False        29.0  Product"
      ]
     },
     "execution_count": 218,
     "metadata": {},
     "output_type": "execute_result"
    }
   ],
   "source": [
    "employees"
   ]
  },
  {
   "cell_type": "code",
   "execution_count": 219,
   "metadata": {},
   "outputs": [
    {
     "data": {
      "text/plain": [
       "pandas.core.series.Series"
      ]
     },
     "execution_count": 219,
     "metadata": {},
     "output_type": "execute_result"
    }
   ],
   "source": [
    "##code here\n",
    "type(employees['division'])"
   ]
  },
  {
   "cell_type": "code",
   "execution_count": 220,
   "metadata": {},
   "outputs": [],
   "source": [
    "# melakukan assignment ulang ke kolom yang dirubah tipe datanya agar perubahan permanen\n",
    "employees['division'] = employees['division'].astype('category')"
   ]
  },
  {
   "cell_type": "code",
   "execution_count": 221,
   "metadata": {},
   "outputs": [
    {
     "data": {
      "text/plain": [
       "name                  object\n",
       "age                    int64\n",
       "joined        datetime64[ns]\n",
       "degree                  bool\n",
       "hourlyrate           float64\n",
       "division            category\n",
       "dtype: object"
      ]
     },
     "execution_count": 221,
     "metadata": {},
     "output_type": "execute_result"
    }
   ],
   "source": [
    "employees.dtypes"
   ]
  },
  {
   "cell_type": "markdown",
   "metadata": {},
   "source": [
    "**Notes**\n",
    "\n",
    "- `type()` adalah sebuah **fungsi** pada python. Fungsi `type()` digunakan untuk mengecek struktur/tipe objek atau variabel dimana penggunaannya tidak didahului dengan pemanggilan nama objek.\n",
    "- `dtypes` adalah **atribut** yang dimiliki oleh objek dataframe. `dtypes` digunakan untuk melihat tipe data dari masing-masing kolom yang ada pada dataframe. Penggunaan `dtypes` diawali dengan memanggil nama objeknya (karena dia adalah atribut sebuah objek)"
   ]
  },
  {
   "cell_type": "markdown",
   "metadata": {},
   "source": [
    "### Rangkuman Data Types"
   ]
  },
  {
   "cell_type": "markdown",
   "metadata": {},
   "source": [
    "Fokus pada kolom Pandas dtype dan usage-nya:\n",
    "\n",
    "| Pandas dtype  | Python type  | NumPy type                                                     | Usage                                        |\n",
    "|---------------|--------------|----------------------------------------------------------------|----------------------------------------------|\n",
    "| object        | str or mixed | string_, unicode_, mixed types                                 | Text or mixed numeric and non-numeric values |\n",
    "| int64         | int          | int_, int8, int16, int32, int64, uint8, uint16, uint32, uint64 | Integer numbers                              |\n",
    "| float64       | float        | float_, float16, float32, float64                              | Floating point numbers                       |\n",
    "| bool          | bool         | bool_                                                          | True/False values                            |\n",
    "| datetime64    | NA           | datetime64[ns]                                                 | Date and time values                         |\n",
    "| timedelta[ns] | NA           | NA                                                             | Differences between two datetimes            |\n",
    "| category      | NA           | NA                                                             | Finite list of text values                   |\n",
    "\n",
    "Referensi: [Overview of Pandas Data Types](https://pbpython.com/pandas_dtypes.html)"
   ]
  },
  {
   "cell_type": "code",
   "execution_count": 222,
   "metadata": {},
   "outputs": [
    {
     "data": {
      "text/html": [
       "<div>\n",
       "<style scoped>\n",
       "    .dataframe tbody tr th:only-of-type {\n",
       "        vertical-align: middle;\n",
       "    }\n",
       "\n",
       "    .dataframe tbody tr th {\n",
       "        vertical-align: top;\n",
       "    }\n",
       "\n",
       "    .dataframe thead th {\n",
       "        text-align: right;\n",
       "    }\n",
       "</style>\n",
       "<table border=\"1\" class=\"dataframe\">\n",
       "  <thead>\n",
       "    <tr style=\"text-align: right;\">\n",
       "      <th></th>\n",
       "      <th>Unnamed: 0</th>\n",
       "      <th>receipt_id</th>\n",
       "      <th>receipts_item_id</th>\n",
       "      <th>purchase_time</th>\n",
       "      <th>category</th>\n",
       "      <th>sub_category</th>\n",
       "      <th>format</th>\n",
       "      <th>unit_price</th>\n",
       "      <th>discount</th>\n",
       "      <th>quantity</th>\n",
       "      <th>yearmonth</th>\n",
       "    </tr>\n",
       "  </thead>\n",
       "  <tbody>\n",
       "    <tr>\n",
       "      <th>0</th>\n",
       "      <td>1</td>\n",
       "      <td>9622257</td>\n",
       "      <td>32369294</td>\n",
       "      <td>7/22/2018 21:19</td>\n",
       "      <td>Rice</td>\n",
       "      <td>Rice</td>\n",
       "      <td>supermarket</td>\n",
       "      <td>128000.0</td>\n",
       "      <td>0</td>\n",
       "      <td>1</td>\n",
       "      <td>2018-07</td>\n",
       "    </tr>\n",
       "    <tr>\n",
       "      <th>1</th>\n",
       "      <td>2</td>\n",
       "      <td>9446359</td>\n",
       "      <td>31885876</td>\n",
       "      <td>7/15/2018 16:17</td>\n",
       "      <td>Rice</td>\n",
       "      <td>Rice</td>\n",
       "      <td>minimarket</td>\n",
       "      <td>102750.0</td>\n",
       "      <td>0</td>\n",
       "      <td>1</td>\n",
       "      <td>2018-07</td>\n",
       "    </tr>\n",
       "  </tbody>\n",
       "</table>\n",
       "</div>"
      ],
      "text/plain": [
       "   Unnamed: 0  receipt_id  receipts_item_id    purchase_time category  \\\n",
       "0           1     9622257          32369294  7/22/2018 21:19     Rice   \n",
       "1           2     9446359          31885876  7/15/2018 16:17     Rice   \n",
       "\n",
       "  sub_category       format  unit_price  discount  quantity yearmonth  \n",
       "0         Rice  supermarket    128000.0         0         1   2018-07  \n",
       "1         Rice   minimarket    102750.0         0         1   2018-07  "
      ]
     },
     "execution_count": 222,
     "metadata": {},
     "output_type": "execute_result"
    }
   ],
   "source": [
    "rice.head(2)"
   ]
  },
  {
   "cell_type": "code",
   "execution_count": 223,
   "metadata": {},
   "outputs": [
    {
     "data": {
      "text/plain": [
       "array(['supermarket', 'minimarket', 'hypermarket'], dtype=object)"
      ]
     },
     "execution_count": 223,
     "metadata": {},
     "output_type": "execute_result"
    }
   ],
   "source": [
    "rice['format'].unique()"
   ]
  },
  {
   "cell_type": "code",
   "execution_count": 224,
   "metadata": {},
   "outputs": [
    {
     "data": {
      "text/plain": [
       "Unnamed: 0          12000\n",
       "receipt_id          11915\n",
       "receipts_item_id    12000\n",
       "purchase_time       11609\n",
       "category                1\n",
       "sub_category            1\n",
       "format                  3\n",
       "unit_price           1449\n",
       "discount              274\n",
       "quantity               15\n",
       "yearmonth              12\n",
       "dtype: int64"
      ]
     },
     "execution_count": 224,
     "metadata": {},
     "output_type": "execute_result"
    }
   ],
   "source": [
    "rice.nunique()"
   ]
  },
  {
   "cell_type": "code",
   "execution_count": 225,
   "metadata": {},
   "outputs": [],
   "source": [
    "kolom_diubah = ['category', 'sub_category', 'format']\n",
    "\n",
    "rice[kolom_diubah] = rice[kolom_diubah].astype('category')"
   ]
  },
  {
   "cell_type": "code",
   "execution_count": 226,
   "metadata": {},
   "outputs": [
    {
     "data": {
      "text/plain": [
       "Unnamed: 0             int64\n",
       "receipt_id             int64\n",
       "receipts_item_id       int64\n",
       "purchase_time         object\n",
       "category            category\n",
       "sub_category        category\n",
       "format              category\n",
       "unit_price           float64\n",
       "discount               int64\n",
       "quantity               int64\n",
       "yearmonth             object\n",
       "dtype: object"
      ]
     },
     "execution_count": 226,
     "metadata": {},
     "output_type": "execute_result"
    }
   ],
   "source": [
    "rice.dtypes"
   ]
  },
  {
   "cell_type": "markdown",
   "metadata": {},
   "source": [
    "## Exploratory Data Analysis Tools :\n",
    "\n",
    "Exploratory Data Analysis (**EDA**) mengacu pada proses melakukan investigasi awal pada data, seringkali dengan tujuan untuk lebih mengenal dengan karakteristik data tertentu. EDA dilakukan dengan bantuan ringkasan statistik dan teknik grafis sederhana untuk melihat struktur data yang kita miliki.\n",
    "\n",
    "Beberapa tools sederhana pada `pandas` yang dapat digunakan untuk melakukan EDA adalah sebagai berikut:\n",
    "- `.head()` and `.tail()`\n",
    "- `.describe()`\n",
    "- `.shape` and `.size`\n",
    "- `.axes`\n",
    "- `.dtypes`\n",
    "\n",
    "### `head()` and `tail()`\n",
    "\n",
    "- `head(n)` digunakan untuk inspeksi `n` data teratas dari sebuah dataframe.\n",
    "- `tail(n)` digunakan untuk inspeksi `n` data terbawah dari sebuah dataframe."
   ]
  },
  {
   "cell_type": "code",
   "execution_count": 227,
   "metadata": {},
   "outputs": [
    {
     "data": {
      "text/html": [
       "<div>\n",
       "<style scoped>\n",
       "    .dataframe tbody tr th:only-of-type {\n",
       "        vertical-align: middle;\n",
       "    }\n",
       "\n",
       "    .dataframe tbody tr th {\n",
       "        vertical-align: top;\n",
       "    }\n",
       "\n",
       "    .dataframe thead th {\n",
       "        text-align: right;\n",
       "    }\n",
       "</style>\n",
       "<table border=\"1\" class=\"dataframe\">\n",
       "  <thead>\n",
       "    <tr style=\"text-align: right;\">\n",
       "      <th></th>\n",
       "      <th>Unnamed: 0</th>\n",
       "      <th>receipt_id</th>\n",
       "      <th>receipts_item_id</th>\n",
       "      <th>purchase_time</th>\n",
       "      <th>category</th>\n",
       "      <th>sub_category</th>\n",
       "      <th>format</th>\n",
       "      <th>unit_price</th>\n",
       "      <th>discount</th>\n",
       "      <th>quantity</th>\n",
       "      <th>yearmonth</th>\n",
       "    </tr>\n",
       "  </thead>\n",
       "  <tbody>\n",
       "    <tr>\n",
       "      <th>0</th>\n",
       "      <td>1</td>\n",
       "      <td>9622257</td>\n",
       "      <td>32369294</td>\n",
       "      <td>7/22/2018 21:19</td>\n",
       "      <td>Rice</td>\n",
       "      <td>Rice</td>\n",
       "      <td>supermarket</td>\n",
       "      <td>128000.0</td>\n",
       "      <td>0</td>\n",
       "      <td>1</td>\n",
       "      <td>2018-07</td>\n",
       "    </tr>\n",
       "    <tr>\n",
       "      <th>1</th>\n",
       "      <td>2</td>\n",
       "      <td>9446359</td>\n",
       "      <td>31885876</td>\n",
       "      <td>7/15/2018 16:17</td>\n",
       "      <td>Rice</td>\n",
       "      <td>Rice</td>\n",
       "      <td>minimarket</td>\n",
       "      <td>102750.0</td>\n",
       "      <td>0</td>\n",
       "      <td>1</td>\n",
       "      <td>2018-07</td>\n",
       "    </tr>\n",
       "    <tr>\n",
       "      <th>2</th>\n",
       "      <td>3</td>\n",
       "      <td>9470290</td>\n",
       "      <td>31930241</td>\n",
       "      <td>7/15/2018 12:12</td>\n",
       "      <td>Rice</td>\n",
       "      <td>Rice</td>\n",
       "      <td>supermarket</td>\n",
       "      <td>64000.0</td>\n",
       "      <td>0</td>\n",
       "      <td>3</td>\n",
       "      <td>2018-07</td>\n",
       "    </tr>\n",
       "    <tr>\n",
       "      <th>3</th>\n",
       "      <td>4</td>\n",
       "      <td>9643416</td>\n",
       "      <td>32418582</td>\n",
       "      <td>7/24/2018 8:27</td>\n",
       "      <td>Rice</td>\n",
       "      <td>Rice</td>\n",
       "      <td>minimarket</td>\n",
       "      <td>65000.0</td>\n",
       "      <td>0</td>\n",
       "      <td>1</td>\n",
       "      <td>2018-07</td>\n",
       "    </tr>\n",
       "    <tr>\n",
       "      <th>4</th>\n",
       "      <td>5</td>\n",
       "      <td>9692093</td>\n",
       "      <td>32561236</td>\n",
       "      <td>7/26/2018 11:28</td>\n",
       "      <td>Rice</td>\n",
       "      <td>Rice</td>\n",
       "      <td>supermarket</td>\n",
       "      <td>124500.0</td>\n",
       "      <td>0</td>\n",
       "      <td>1</td>\n",
       "      <td>2018-07</td>\n",
       "    </tr>\n",
       "  </tbody>\n",
       "</table>\n",
       "</div>"
      ],
      "text/plain": [
       "   Unnamed: 0  receipt_id  receipts_item_id    purchase_time category  \\\n",
       "0           1     9622257          32369294  7/22/2018 21:19     Rice   \n",
       "1           2     9446359          31885876  7/15/2018 16:17     Rice   \n",
       "2           3     9470290          31930241  7/15/2018 12:12     Rice   \n",
       "3           4     9643416          32418582   7/24/2018 8:27     Rice   \n",
       "4           5     9692093          32561236  7/26/2018 11:28     Rice   \n",
       "\n",
       "  sub_category       format  unit_price  discount  quantity yearmonth  \n",
       "0         Rice  supermarket    128000.0         0         1   2018-07  \n",
       "1         Rice   minimarket    102750.0         0         1   2018-07  \n",
       "2         Rice  supermarket     64000.0         0         3   2018-07  \n",
       "3         Rice   minimarket     65000.0         0         1   2018-07  \n",
       "4         Rice  supermarket    124500.0         0         1   2018-07  "
      ]
     },
     "execution_count": 227,
     "metadata": {},
     "output_type": "execute_result"
    }
   ],
   "source": [
    "##code here\n",
    "rice.head()"
   ]
  },
  {
   "cell_type": "code",
   "execution_count": 228,
   "metadata": {},
   "outputs": [
    {
     "data": {
      "text/html": [
       "<div>\n",
       "<style scoped>\n",
       "    .dataframe tbody tr th:only-of-type {\n",
       "        vertical-align: middle;\n",
       "    }\n",
       "\n",
       "    .dataframe tbody tr th {\n",
       "        vertical-align: top;\n",
       "    }\n",
       "\n",
       "    .dataframe thead th {\n",
       "        text-align: right;\n",
       "    }\n",
       "</style>\n",
       "<table border=\"1\" class=\"dataframe\">\n",
       "  <thead>\n",
       "    <tr style=\"text-align: right;\">\n",
       "      <th></th>\n",
       "      <th>Unnamed: 0</th>\n",
       "      <th>receipt_id</th>\n",
       "      <th>receipts_item_id</th>\n",
       "      <th>purchase_time</th>\n",
       "      <th>category</th>\n",
       "      <th>sub_category</th>\n",
       "      <th>format</th>\n",
       "      <th>unit_price</th>\n",
       "      <th>discount</th>\n",
       "      <th>quantity</th>\n",
       "      <th>yearmonth</th>\n",
       "    </tr>\n",
       "  </thead>\n",
       "  <tbody>\n",
       "    <tr>\n",
       "      <th>11995</th>\n",
       "      <td>11996</td>\n",
       "      <td>5760491</td>\n",
       "      <td>17555486</td>\n",
       "      <td>12/15/2017 21:06</td>\n",
       "      <td>Rice</td>\n",
       "      <td>Rice</td>\n",
       "      <td>supermarket</td>\n",
       "      <td>128000.0</td>\n",
       "      <td>0</td>\n",
       "      <td>1</td>\n",
       "      <td>2017-12</td>\n",
       "    </tr>\n",
       "    <tr>\n",
       "      <th>11996</th>\n",
       "      <td>11997</td>\n",
       "      <td>5598782</td>\n",
       "      <td>16999147</td>\n",
       "      <td>12/2/2017 14:12</td>\n",
       "      <td>Rice</td>\n",
       "      <td>Rice</td>\n",
       "      <td>minimarket</td>\n",
       "      <td>64000.0</td>\n",
       "      <td>0</td>\n",
       "      <td>1</td>\n",
       "      <td>2017-12</td>\n",
       "    </tr>\n",
       "    <tr>\n",
       "      <th>11997</th>\n",
       "      <td>11998</td>\n",
       "      <td>5735850</td>\n",
       "      <td>17434503</td>\n",
       "      <td>12/13/2017 19:17</td>\n",
       "      <td>Rice</td>\n",
       "      <td>Rice</td>\n",
       "      <td>supermarket</td>\n",
       "      <td>59990.0</td>\n",
       "      <td>3000</td>\n",
       "      <td>1</td>\n",
       "      <td>2017-12</td>\n",
       "    </tr>\n",
       "    <tr>\n",
       "      <th>11998</th>\n",
       "      <td>11999</td>\n",
       "      <td>5678748</td>\n",
       "      <td>17317935</td>\n",
       "      <td>12/8/2017 22:04</td>\n",
       "      <td>Rice</td>\n",
       "      <td>Rice</td>\n",
       "      <td>minimarket</td>\n",
       "      <td>59500.0</td>\n",
       "      <td>3000</td>\n",
       "      <td>1</td>\n",
       "      <td>2017-12</td>\n",
       "    </tr>\n",
       "    <tr>\n",
       "      <th>11999</th>\n",
       "      <td>12000</td>\n",
       "      <td>5702411</td>\n",
       "      <td>17341559</td>\n",
       "      <td>12/10/2017 17:04</td>\n",
       "      <td>Rice</td>\n",
       "      <td>Rice</td>\n",
       "      <td>minimarket</td>\n",
       "      <td>59500.0</td>\n",
       "      <td>3000</td>\n",
       "      <td>1</td>\n",
       "      <td>2017-12</td>\n",
       "    </tr>\n",
       "  </tbody>\n",
       "</table>\n",
       "</div>"
      ],
      "text/plain": [
       "       Unnamed: 0  receipt_id  receipts_item_id     purchase_time category  \\\n",
       "11995       11996     5760491          17555486  12/15/2017 21:06     Rice   \n",
       "11996       11997     5598782          16999147   12/2/2017 14:12     Rice   \n",
       "11997       11998     5735850          17434503  12/13/2017 19:17     Rice   \n",
       "11998       11999     5678748          17317935   12/8/2017 22:04     Rice   \n",
       "11999       12000     5702411          17341559  12/10/2017 17:04     Rice   \n",
       "\n",
       "      sub_category       format  unit_price  discount  quantity yearmonth  \n",
       "11995         Rice  supermarket    128000.0         0         1   2017-12  \n",
       "11996         Rice   minimarket     64000.0         0         1   2017-12  \n",
       "11997         Rice  supermarket     59990.0      3000         1   2017-12  \n",
       "11998         Rice   minimarket     59500.0      3000         1   2017-12  \n",
       "11999         Rice   minimarket     59500.0      3000         1   2017-12  "
      ]
     },
     "execution_count": 228,
     "metadata": {},
     "output_type": "execute_result"
    }
   ],
   "source": [
    "##code here\n",
    "rice.tail()"
   ]
  },
  {
   "cell_type": "markdown",
   "metadata": {},
   "source": [
    "### `describe()`\n",
    "\n",
    "Method `describe()` menampilkan 8 ringkasan statistika deskriptif. Secara default menampilkan ringkasan untuk kolom numerik. \n",
    "\n",
    "Ringkasan statistika yang dimaksud adalah sebagai berikut:\n",
    "- Count: banyaknya baris pada dataframe\n",
    "- Mean: rata-rata nilai\n",
    "- Standard Deviation: jarak rata-rata antara data ke mean (titik pusat data)\n",
    "- Minimum Value: nilai terkecil dari keseluruhan data\n",
    "- 25th Percentile (Q1)\n",
    "- 50th Percentile (Q2/Median)\n",
    "- 75th Percentile (Q3)\n",
    "- Maximum Value: nilai terbesar dari keseluruhan data"
   ]
  },
  {
   "cell_type": "code",
   "execution_count": 229,
   "metadata": {},
   "outputs": [
    {
     "data": {
      "text/html": [
       "<div>\n",
       "<style scoped>\n",
       "    .dataframe tbody tr th:only-of-type {\n",
       "        vertical-align: middle;\n",
       "    }\n",
       "\n",
       "    .dataframe tbody tr th {\n",
       "        vertical-align: top;\n",
       "    }\n",
       "\n",
       "    .dataframe thead th {\n",
       "        text-align: right;\n",
       "    }\n",
       "</style>\n",
       "<table border=\"1\" class=\"dataframe\">\n",
       "  <thead>\n",
       "    <tr style=\"text-align: right;\">\n",
       "      <th></th>\n",
       "      <th>Unnamed: 0</th>\n",
       "      <th>receipt_id</th>\n",
       "      <th>receipts_item_id</th>\n",
       "      <th>unit_price</th>\n",
       "      <th>discount</th>\n",
       "      <th>quantity</th>\n",
       "    </tr>\n",
       "  </thead>\n",
       "  <tbody>\n",
       "    <tr>\n",
       "      <th>count</th>\n",
       "      <td>12000.00000</td>\n",
       "      <td>1.200000e+04</td>\n",
       "      <td>1.200000e+04</td>\n",
       "      <td>12000.000000</td>\n",
       "      <td>12000.000000</td>\n",
       "      <td>12000.000000</td>\n",
       "    </tr>\n",
       "    <tr>\n",
       "      <th>mean</th>\n",
       "      <td>6000.50000</td>\n",
       "      <td>7.650135e+06</td>\n",
       "      <td>2.457950e+07</td>\n",
       "      <td>70013.146313</td>\n",
       "      <td>835.305750</td>\n",
       "      <td>1.332917</td>\n",
       "    </tr>\n",
       "    <tr>\n",
       "      <th>std</th>\n",
       "      <td>3464.24595</td>\n",
       "      <td>1.873838e+06</td>\n",
       "      <td>7.171105e+06</td>\n",
       "      <td>29905.391437</td>\n",
       "      <td>6207.475704</td>\n",
       "      <td>0.980304</td>\n",
       "    </tr>\n",
       "    <tr>\n",
       "      <th>min</th>\n",
       "      <td>1.00000</td>\n",
       "      <td>3.173994e+06</td>\n",
       "      <td>9.282023e+06</td>\n",
       "      <td>9395.000000</td>\n",
       "      <td>-4100.000000</td>\n",
       "      <td>1.000000</td>\n",
       "    </tr>\n",
       "    <tr>\n",
       "      <th>25%</th>\n",
       "      <td>3000.75000</td>\n",
       "      <td>5.983209e+06</td>\n",
       "      <td>1.820694e+07</td>\n",
       "      <td>61900.000000</td>\n",
       "      <td>0.000000</td>\n",
       "      <td>1.000000</td>\n",
       "    </tr>\n",
       "    <tr>\n",
       "      <th>50%</th>\n",
       "      <td>6000.50000</td>\n",
       "      <td>7.443618e+06</td>\n",
       "      <td>2.234337e+07</td>\n",
       "      <td>63500.000000</td>\n",
       "      <td>0.000000</td>\n",
       "      <td>1.000000</td>\n",
       "    </tr>\n",
       "    <tr>\n",
       "      <th>75%</th>\n",
       "      <td>9000.25000</td>\n",
       "      <td>9.149786e+06</td>\n",
       "      <td>3.108379e+07</td>\n",
       "      <td>66000.000000</td>\n",
       "      <td>0.000000</td>\n",
       "      <td>1.000000</td>\n",
       "    </tr>\n",
       "    <tr>\n",
       "      <th>max</th>\n",
       "      <td>12000.00000</td>\n",
       "      <td>1.146321e+07</td>\n",
       "      <td>3.842939e+07</td>\n",
       "      <td>219400.000000</td>\n",
       "      <td>320000.000000</td>\n",
       "      <td>19.000000</td>\n",
       "    </tr>\n",
       "  </tbody>\n",
       "</table>\n",
       "</div>"
      ],
      "text/plain": [
       "        Unnamed: 0    receipt_id  receipts_item_id     unit_price  \\\n",
       "count  12000.00000  1.200000e+04      1.200000e+04   12000.000000   \n",
       "mean    6000.50000  7.650135e+06      2.457950e+07   70013.146313   \n",
       "std     3464.24595  1.873838e+06      7.171105e+06   29905.391437   \n",
       "min        1.00000  3.173994e+06      9.282023e+06    9395.000000   \n",
       "25%     3000.75000  5.983209e+06      1.820694e+07   61900.000000   \n",
       "50%     6000.50000  7.443618e+06      2.234337e+07   63500.000000   \n",
       "75%     9000.25000  9.149786e+06      3.108379e+07   66000.000000   \n",
       "max    12000.00000  1.146321e+07      3.842939e+07  219400.000000   \n",
       "\n",
       "            discount      quantity  \n",
       "count   12000.000000  12000.000000  \n",
       "mean      835.305750      1.332917  \n",
       "std      6207.475704      0.980304  \n",
       "min     -4100.000000      1.000000  \n",
       "25%         0.000000      1.000000  \n",
       "50%         0.000000      1.000000  \n",
       "75%         0.000000      1.000000  \n",
       "max    320000.000000     19.000000  "
      ]
     },
     "execution_count": 229,
     "metadata": {},
     "output_type": "execute_result"
    }
   ],
   "source": [
    "##code here\n",
    "rice.describe()\n"
   ]
  },
  {
   "cell_type": "markdown",
   "metadata": {},
   "source": [
    "Ringkasan seperti count, mean, std, min, dan max memiliki method nya masing-masing:"
   ]
  },
  {
   "cell_type": "code",
   "execution_count": 230,
   "metadata": {},
   "outputs": [
    {
     "data": {
      "text/plain": [
       "Unnamed: 0             12000.0\n",
       "receipt_id          11463208.0\n",
       "receipts_item_id    38429394.0\n",
       "unit_price            219400.0\n",
       "discount              320000.0\n",
       "quantity                  19.0\n",
       "dtype: float64"
      ]
     },
     "execution_count": 230,
     "metadata": {},
     "output_type": "execute_result"
    }
   ],
   "source": [
    "##code here\n",
    "rice.max(numeric_only=True)"
   ]
  },
  {
   "cell_type": "markdown",
   "metadata": {},
   "source": [
    "Untuk ringkasan seperti Q1, Q2, Q3 kita dapat menggunakan method `quantile()`. Secara default adalah nilai Q2."
   ]
  },
  {
   "cell_type": "code",
   "execution_count": 231,
   "metadata": {},
   "outputs": [
    {
     "data": {
      "text/plain": [
       "Unnamed: 0              6000.5\n",
       "receipt_id           7443618.0\n",
       "receipts_item_id    22343373.5\n",
       "unit_price             63500.0\n",
       "discount                   0.0\n",
       "quantity                   1.0\n",
       "Name: 0.5, dtype: float64"
      ]
     },
     "execution_count": 231,
     "metadata": {},
     "output_type": "execute_result"
    }
   ],
   "source": [
    "##code here\n",
    "rice.quantile()"
   ]
  },
  {
   "cell_type": "markdown",
   "metadata": {},
   "source": [
    "**Additional Information**\n",
    "\n",
    "Kita bisa menambahkan parameter `include` ataupun `exclude` pada `describe()` untuk melihat statistika deskriptif dari variable non-numeric:"
   ]
  },
  {
   "cell_type": "code",
   "execution_count": 232,
   "metadata": {
    "scrolled": true
   },
   "outputs": [
    {
     "data": {
      "text/html": [
       "<div>\n",
       "<style scoped>\n",
       "    .dataframe tbody tr th:only-of-type {\n",
       "        vertical-align: middle;\n",
       "    }\n",
       "\n",
       "    .dataframe tbody tr th {\n",
       "        vertical-align: top;\n",
       "    }\n",
       "\n",
       "    .dataframe thead th {\n",
       "        text-align: right;\n",
       "    }\n",
       "</style>\n",
       "<table border=\"1\" class=\"dataframe\">\n",
       "  <thead>\n",
       "    <tr style=\"text-align: right;\">\n",
       "      <th></th>\n",
       "      <th>purchase_time</th>\n",
       "      <th>category</th>\n",
       "      <th>sub_category</th>\n",
       "      <th>format</th>\n",
       "      <th>yearmonth</th>\n",
       "    </tr>\n",
       "  </thead>\n",
       "  <tbody>\n",
       "    <tr>\n",
       "      <th>count</th>\n",
       "      <td>12000</td>\n",
       "      <td>12000</td>\n",
       "      <td>12000</td>\n",
       "      <td>12000</td>\n",
       "      <td>12000</td>\n",
       "    </tr>\n",
       "    <tr>\n",
       "      <th>unique</th>\n",
       "      <td>11609</td>\n",
       "      <td>1</td>\n",
       "      <td>1</td>\n",
       "      <td>3</td>\n",
       "      <td>12</td>\n",
       "    </tr>\n",
       "    <tr>\n",
       "      <th>top</th>\n",
       "      <td>6/14/2018 0:00</td>\n",
       "      <td>Rice</td>\n",
       "      <td>Rice</td>\n",
       "      <td>minimarket</td>\n",
       "      <td>2018-07</td>\n",
       "    </tr>\n",
       "    <tr>\n",
       "      <th>freq</th>\n",
       "      <td>4</td>\n",
       "      <td>12000</td>\n",
       "      <td>12000</td>\n",
       "      <td>7088</td>\n",
       "      <td>1000</td>\n",
       "    </tr>\n",
       "  </tbody>\n",
       "</table>\n",
       "</div>"
      ],
      "text/plain": [
       "         purchase_time category sub_category      format yearmonth\n",
       "count            12000    12000        12000       12000     12000\n",
       "unique           11609        1            1           3        12\n",
       "top     6/14/2018 0:00     Rice         Rice  minimarket   2018-07\n",
       "freq                 4    12000        12000        7088      1000"
      ]
     },
     "execution_count": 232,
     "metadata": {},
     "output_type": "execute_result"
    }
   ],
   "source": [
    "##code here\n",
    "rice.describe(include=['category' , 'object'])"
   ]
  },
  {
   "cell_type": "markdown",
   "metadata": {},
   "source": [
    "- unique: nilai unik di setiap kolom atau variabel\n",
    "- top: nilai terbanyak (modus)\n",
    "- freq: banyaknya kemunculan modus"
   ]
  },
  {
   "cell_type": "markdown",
   "metadata": {},
   "source": [
    "Misal kita tertarik melihat unique pada kolom `format`:"
   ]
  },
  {
   "cell_type": "code",
   "execution_count": 233,
   "metadata": {},
   "outputs": [
    {
     "data": {
      "text/plain": [
       "['supermarket', 'minimarket', 'hypermarket']\n",
       "Categories (3, object): ['hypermarket', 'minimarket', 'supermarket']"
      ]
     },
     "execution_count": 233,
     "metadata": {},
     "output_type": "execute_result"
    }
   ],
   "source": [
    "##code here\n",
    "rice['format'].unique()\n"
   ]
  },
  {
   "cell_type": "markdown",
   "metadata": {},
   "source": [
    "**_Soal 3:_** Melihat statistika deskriptif untuk kolom bertipe data **selain object**  menggunakan `exclude`"
   ]
  },
  {
   "cell_type": "code",
   "execution_count": 234,
   "metadata": {
    "scrolled": true
   },
   "outputs": [
    {
     "data": {
      "text/html": [
       "<div>\n",
       "<style scoped>\n",
       "    .dataframe tbody tr th:only-of-type {\n",
       "        vertical-align: middle;\n",
       "    }\n",
       "\n",
       "    .dataframe tbody tr th {\n",
       "        vertical-align: top;\n",
       "    }\n",
       "\n",
       "    .dataframe thead th {\n",
       "        text-align: right;\n",
       "    }\n",
       "</style>\n",
       "<table border=\"1\" class=\"dataframe\">\n",
       "  <thead>\n",
       "    <tr style=\"text-align: right;\">\n",
       "      <th></th>\n",
       "      <th>Unnamed: 0</th>\n",
       "      <th>receipt_id</th>\n",
       "      <th>receipts_item_id</th>\n",
       "      <th>category</th>\n",
       "      <th>sub_category</th>\n",
       "      <th>format</th>\n",
       "      <th>unit_price</th>\n",
       "      <th>discount</th>\n",
       "      <th>quantity</th>\n",
       "    </tr>\n",
       "  </thead>\n",
       "  <tbody>\n",
       "    <tr>\n",
       "      <th>count</th>\n",
       "      <td>12000.00000</td>\n",
       "      <td>1.200000e+04</td>\n",
       "      <td>1.200000e+04</td>\n",
       "      <td>12000</td>\n",
       "      <td>12000</td>\n",
       "      <td>12000</td>\n",
       "      <td>12000.000000</td>\n",
       "      <td>12000.000000</td>\n",
       "      <td>12000.000000</td>\n",
       "    </tr>\n",
       "    <tr>\n",
       "      <th>unique</th>\n",
       "      <td>NaN</td>\n",
       "      <td>NaN</td>\n",
       "      <td>NaN</td>\n",
       "      <td>1</td>\n",
       "      <td>1</td>\n",
       "      <td>3</td>\n",
       "      <td>NaN</td>\n",
       "      <td>NaN</td>\n",
       "      <td>NaN</td>\n",
       "    </tr>\n",
       "    <tr>\n",
       "      <th>top</th>\n",
       "      <td>NaN</td>\n",
       "      <td>NaN</td>\n",
       "      <td>NaN</td>\n",
       "      <td>Rice</td>\n",
       "      <td>Rice</td>\n",
       "      <td>minimarket</td>\n",
       "      <td>NaN</td>\n",
       "      <td>NaN</td>\n",
       "      <td>NaN</td>\n",
       "    </tr>\n",
       "    <tr>\n",
       "      <th>freq</th>\n",
       "      <td>NaN</td>\n",
       "      <td>NaN</td>\n",
       "      <td>NaN</td>\n",
       "      <td>12000</td>\n",
       "      <td>12000</td>\n",
       "      <td>7088</td>\n",
       "      <td>NaN</td>\n",
       "      <td>NaN</td>\n",
       "      <td>NaN</td>\n",
       "    </tr>\n",
       "    <tr>\n",
       "      <th>mean</th>\n",
       "      <td>6000.50000</td>\n",
       "      <td>7.650135e+06</td>\n",
       "      <td>2.457950e+07</td>\n",
       "      <td>NaN</td>\n",
       "      <td>NaN</td>\n",
       "      <td>NaN</td>\n",
       "      <td>70013.146313</td>\n",
       "      <td>835.305750</td>\n",
       "      <td>1.332917</td>\n",
       "    </tr>\n",
       "    <tr>\n",
       "      <th>std</th>\n",
       "      <td>3464.24595</td>\n",
       "      <td>1.873838e+06</td>\n",
       "      <td>7.171105e+06</td>\n",
       "      <td>NaN</td>\n",
       "      <td>NaN</td>\n",
       "      <td>NaN</td>\n",
       "      <td>29905.391437</td>\n",
       "      <td>6207.475704</td>\n",
       "      <td>0.980304</td>\n",
       "    </tr>\n",
       "    <tr>\n",
       "      <th>min</th>\n",
       "      <td>1.00000</td>\n",
       "      <td>3.173994e+06</td>\n",
       "      <td>9.282023e+06</td>\n",
       "      <td>NaN</td>\n",
       "      <td>NaN</td>\n",
       "      <td>NaN</td>\n",
       "      <td>9395.000000</td>\n",
       "      <td>-4100.000000</td>\n",
       "      <td>1.000000</td>\n",
       "    </tr>\n",
       "    <tr>\n",
       "      <th>25%</th>\n",
       "      <td>3000.75000</td>\n",
       "      <td>5.983209e+06</td>\n",
       "      <td>1.820694e+07</td>\n",
       "      <td>NaN</td>\n",
       "      <td>NaN</td>\n",
       "      <td>NaN</td>\n",
       "      <td>61900.000000</td>\n",
       "      <td>0.000000</td>\n",
       "      <td>1.000000</td>\n",
       "    </tr>\n",
       "    <tr>\n",
       "      <th>50%</th>\n",
       "      <td>6000.50000</td>\n",
       "      <td>7.443618e+06</td>\n",
       "      <td>2.234337e+07</td>\n",
       "      <td>NaN</td>\n",
       "      <td>NaN</td>\n",
       "      <td>NaN</td>\n",
       "      <td>63500.000000</td>\n",
       "      <td>0.000000</td>\n",
       "      <td>1.000000</td>\n",
       "    </tr>\n",
       "    <tr>\n",
       "      <th>75%</th>\n",
       "      <td>9000.25000</td>\n",
       "      <td>9.149786e+06</td>\n",
       "      <td>3.108379e+07</td>\n",
       "      <td>NaN</td>\n",
       "      <td>NaN</td>\n",
       "      <td>NaN</td>\n",
       "      <td>66000.000000</td>\n",
       "      <td>0.000000</td>\n",
       "      <td>1.000000</td>\n",
       "    </tr>\n",
       "    <tr>\n",
       "      <th>max</th>\n",
       "      <td>12000.00000</td>\n",
       "      <td>1.146321e+07</td>\n",
       "      <td>3.842939e+07</td>\n",
       "      <td>NaN</td>\n",
       "      <td>NaN</td>\n",
       "      <td>NaN</td>\n",
       "      <td>219400.000000</td>\n",
       "      <td>320000.000000</td>\n",
       "      <td>19.000000</td>\n",
       "    </tr>\n",
       "  </tbody>\n",
       "</table>\n",
       "</div>"
      ],
      "text/plain": [
       "         Unnamed: 0    receipt_id  receipts_item_id category sub_category  \\\n",
       "count   12000.00000  1.200000e+04      1.200000e+04    12000        12000   \n",
       "unique          NaN           NaN               NaN        1            1   \n",
       "top             NaN           NaN               NaN     Rice         Rice   \n",
       "freq            NaN           NaN               NaN    12000        12000   \n",
       "mean     6000.50000  7.650135e+06      2.457950e+07      NaN          NaN   \n",
       "std      3464.24595  1.873838e+06      7.171105e+06      NaN          NaN   \n",
       "min         1.00000  3.173994e+06      9.282023e+06      NaN          NaN   \n",
       "25%      3000.75000  5.983209e+06      1.820694e+07      NaN          NaN   \n",
       "50%      6000.50000  7.443618e+06      2.234337e+07      NaN          NaN   \n",
       "75%      9000.25000  9.149786e+06      3.108379e+07      NaN          NaN   \n",
       "max     12000.00000  1.146321e+07      3.842939e+07      NaN          NaN   \n",
       "\n",
       "            format     unit_price       discount      quantity  \n",
       "count        12000   12000.000000   12000.000000  12000.000000  \n",
       "unique           3            NaN            NaN           NaN  \n",
       "top     minimarket            NaN            NaN           NaN  \n",
       "freq          7088            NaN            NaN           NaN  \n",
       "mean           NaN   70013.146313     835.305750      1.332917  \n",
       "std            NaN   29905.391437    6207.475704      0.980304  \n",
       "min            NaN    9395.000000   -4100.000000      1.000000  \n",
       "25%            NaN   61900.000000       0.000000      1.000000  \n",
       "50%            NaN   63500.000000       0.000000      1.000000  \n",
       "75%            NaN   66000.000000       0.000000      1.000000  \n",
       "max            NaN  219400.000000  320000.000000     19.000000  "
      ]
     },
     "execution_count": 234,
     "metadata": {},
     "output_type": "execute_result"
    }
   ],
   "source": [
    "##code here\n",
    "rice.describe(exclude='object')"
   ]
  },
  {
   "cell_type": "markdown",
   "metadata": {},
   "source": [
    "**_Soal 4:_** Melihat statistika deskriptif untuk kolom bertipe data **numeric** menggunakan `include`"
   ]
  },
  {
   "cell_type": "code",
   "execution_count": 235,
   "metadata": {},
   "outputs": [
    {
     "data": {
      "text/html": [
       "<div>\n",
       "<style scoped>\n",
       "    .dataframe tbody tr th:only-of-type {\n",
       "        vertical-align: middle;\n",
       "    }\n",
       "\n",
       "    .dataframe tbody tr th {\n",
       "        vertical-align: top;\n",
       "    }\n",
       "\n",
       "    .dataframe thead th {\n",
       "        text-align: right;\n",
       "    }\n",
       "</style>\n",
       "<table border=\"1\" class=\"dataframe\">\n",
       "  <thead>\n",
       "    <tr style=\"text-align: right;\">\n",
       "      <th></th>\n",
       "      <th>Unnamed: 0</th>\n",
       "      <th>receipt_id</th>\n",
       "      <th>receipts_item_id</th>\n",
       "      <th>unit_price</th>\n",
       "      <th>discount</th>\n",
       "      <th>quantity</th>\n",
       "    </tr>\n",
       "  </thead>\n",
       "  <tbody>\n",
       "    <tr>\n",
       "      <th>count</th>\n",
       "      <td>12000.00000</td>\n",
       "      <td>1.200000e+04</td>\n",
       "      <td>1.200000e+04</td>\n",
       "      <td>12000.000000</td>\n",
       "      <td>12000.000000</td>\n",
       "      <td>12000.000000</td>\n",
       "    </tr>\n",
       "    <tr>\n",
       "      <th>mean</th>\n",
       "      <td>6000.50000</td>\n",
       "      <td>7.650135e+06</td>\n",
       "      <td>2.457950e+07</td>\n",
       "      <td>70013.146313</td>\n",
       "      <td>835.305750</td>\n",
       "      <td>1.332917</td>\n",
       "    </tr>\n",
       "    <tr>\n",
       "      <th>std</th>\n",
       "      <td>3464.24595</td>\n",
       "      <td>1.873838e+06</td>\n",
       "      <td>7.171105e+06</td>\n",
       "      <td>29905.391437</td>\n",
       "      <td>6207.475704</td>\n",
       "      <td>0.980304</td>\n",
       "    </tr>\n",
       "    <tr>\n",
       "      <th>min</th>\n",
       "      <td>1.00000</td>\n",
       "      <td>3.173994e+06</td>\n",
       "      <td>9.282023e+06</td>\n",
       "      <td>9395.000000</td>\n",
       "      <td>-4100.000000</td>\n",
       "      <td>1.000000</td>\n",
       "    </tr>\n",
       "    <tr>\n",
       "      <th>25%</th>\n",
       "      <td>3000.75000</td>\n",
       "      <td>5.983209e+06</td>\n",
       "      <td>1.820694e+07</td>\n",
       "      <td>61900.000000</td>\n",
       "      <td>0.000000</td>\n",
       "      <td>1.000000</td>\n",
       "    </tr>\n",
       "    <tr>\n",
       "      <th>50%</th>\n",
       "      <td>6000.50000</td>\n",
       "      <td>7.443618e+06</td>\n",
       "      <td>2.234337e+07</td>\n",
       "      <td>63500.000000</td>\n",
       "      <td>0.000000</td>\n",
       "      <td>1.000000</td>\n",
       "    </tr>\n",
       "    <tr>\n",
       "      <th>75%</th>\n",
       "      <td>9000.25000</td>\n",
       "      <td>9.149786e+06</td>\n",
       "      <td>3.108379e+07</td>\n",
       "      <td>66000.000000</td>\n",
       "      <td>0.000000</td>\n",
       "      <td>1.000000</td>\n",
       "    </tr>\n",
       "    <tr>\n",
       "      <th>max</th>\n",
       "      <td>12000.00000</td>\n",
       "      <td>1.146321e+07</td>\n",
       "      <td>3.842939e+07</td>\n",
       "      <td>219400.000000</td>\n",
       "      <td>320000.000000</td>\n",
       "      <td>19.000000</td>\n",
       "    </tr>\n",
       "  </tbody>\n",
       "</table>\n",
       "</div>"
      ],
      "text/plain": [
       "        Unnamed: 0    receipt_id  receipts_item_id     unit_price  \\\n",
       "count  12000.00000  1.200000e+04      1.200000e+04   12000.000000   \n",
       "mean    6000.50000  7.650135e+06      2.457950e+07   70013.146313   \n",
       "std     3464.24595  1.873838e+06      7.171105e+06   29905.391437   \n",
       "min        1.00000  3.173994e+06      9.282023e+06    9395.000000   \n",
       "25%     3000.75000  5.983209e+06      1.820694e+07   61900.000000   \n",
       "50%     6000.50000  7.443618e+06      2.234337e+07   63500.000000   \n",
       "75%     9000.25000  9.149786e+06      3.108379e+07   66000.000000   \n",
       "max    12000.00000  1.146321e+07      3.842939e+07  219400.000000   \n",
       "\n",
       "            discount      quantity  \n",
       "count   12000.000000  12000.000000  \n",
       "mean      835.305750      1.332917  \n",
       "std      6207.475704      0.980304  \n",
       "min     -4100.000000      1.000000  \n",
       "25%         0.000000      1.000000  \n",
       "50%         0.000000      1.000000  \n",
       "75%         0.000000      1.000000  \n",
       "max    320000.000000     19.000000  "
      ]
     },
     "execution_count": 235,
     "metadata": {},
     "output_type": "execute_result"
    }
   ],
   "source": [
    "##code here\n",
    "rice.describe(include=['int', 'float'])"
   ]
  },
  {
   "cell_type": "markdown",
   "metadata": {},
   "source": [
    "**_Soal 5:_** Bagaimana menampilkan statistika deskriptif hanya kolom yang bertipe data **int64** dan **object** saja?"
   ]
  },
  {
   "cell_type": "code",
   "execution_count": 236,
   "metadata": {},
   "outputs": [
    {
     "data": {
      "text/html": [
       "<div>\n",
       "<style scoped>\n",
       "    .dataframe tbody tr th:only-of-type {\n",
       "        vertical-align: middle;\n",
       "    }\n",
       "\n",
       "    .dataframe tbody tr th {\n",
       "        vertical-align: top;\n",
       "    }\n",
       "\n",
       "    .dataframe thead th {\n",
       "        text-align: right;\n",
       "    }\n",
       "</style>\n",
       "<table border=\"1\" class=\"dataframe\">\n",
       "  <thead>\n",
       "    <tr style=\"text-align: right;\">\n",
       "      <th></th>\n",
       "      <th>Unnamed: 0</th>\n",
       "      <th>receipt_id</th>\n",
       "      <th>receipts_item_id</th>\n",
       "      <th>purchase_time</th>\n",
       "      <th>discount</th>\n",
       "      <th>quantity</th>\n",
       "      <th>yearmonth</th>\n",
       "    </tr>\n",
       "  </thead>\n",
       "  <tbody>\n",
       "    <tr>\n",
       "      <th>count</th>\n",
       "      <td>12000.00000</td>\n",
       "      <td>1.200000e+04</td>\n",
       "      <td>1.200000e+04</td>\n",
       "      <td>12000</td>\n",
       "      <td>12000.000000</td>\n",
       "      <td>12000.000000</td>\n",
       "      <td>12000</td>\n",
       "    </tr>\n",
       "    <tr>\n",
       "      <th>unique</th>\n",
       "      <td>NaN</td>\n",
       "      <td>NaN</td>\n",
       "      <td>NaN</td>\n",
       "      <td>11609</td>\n",
       "      <td>NaN</td>\n",
       "      <td>NaN</td>\n",
       "      <td>12</td>\n",
       "    </tr>\n",
       "    <tr>\n",
       "      <th>top</th>\n",
       "      <td>NaN</td>\n",
       "      <td>NaN</td>\n",
       "      <td>NaN</td>\n",
       "      <td>6/14/2018 0:00</td>\n",
       "      <td>NaN</td>\n",
       "      <td>NaN</td>\n",
       "      <td>2018-07</td>\n",
       "    </tr>\n",
       "    <tr>\n",
       "      <th>freq</th>\n",
       "      <td>NaN</td>\n",
       "      <td>NaN</td>\n",
       "      <td>NaN</td>\n",
       "      <td>4</td>\n",
       "      <td>NaN</td>\n",
       "      <td>NaN</td>\n",
       "      <td>1000</td>\n",
       "    </tr>\n",
       "    <tr>\n",
       "      <th>mean</th>\n",
       "      <td>6000.50000</td>\n",
       "      <td>7.650135e+06</td>\n",
       "      <td>2.457950e+07</td>\n",
       "      <td>NaN</td>\n",
       "      <td>835.305750</td>\n",
       "      <td>1.332917</td>\n",
       "      <td>NaN</td>\n",
       "    </tr>\n",
       "    <tr>\n",
       "      <th>std</th>\n",
       "      <td>3464.24595</td>\n",
       "      <td>1.873838e+06</td>\n",
       "      <td>7.171105e+06</td>\n",
       "      <td>NaN</td>\n",
       "      <td>6207.475704</td>\n",
       "      <td>0.980304</td>\n",
       "      <td>NaN</td>\n",
       "    </tr>\n",
       "    <tr>\n",
       "      <th>min</th>\n",
       "      <td>1.00000</td>\n",
       "      <td>3.173994e+06</td>\n",
       "      <td>9.282023e+06</td>\n",
       "      <td>NaN</td>\n",
       "      <td>-4100.000000</td>\n",
       "      <td>1.000000</td>\n",
       "      <td>NaN</td>\n",
       "    </tr>\n",
       "    <tr>\n",
       "      <th>25%</th>\n",
       "      <td>3000.75000</td>\n",
       "      <td>5.983209e+06</td>\n",
       "      <td>1.820694e+07</td>\n",
       "      <td>NaN</td>\n",
       "      <td>0.000000</td>\n",
       "      <td>1.000000</td>\n",
       "      <td>NaN</td>\n",
       "    </tr>\n",
       "    <tr>\n",
       "      <th>50%</th>\n",
       "      <td>6000.50000</td>\n",
       "      <td>7.443618e+06</td>\n",
       "      <td>2.234337e+07</td>\n",
       "      <td>NaN</td>\n",
       "      <td>0.000000</td>\n",
       "      <td>1.000000</td>\n",
       "      <td>NaN</td>\n",
       "    </tr>\n",
       "    <tr>\n",
       "      <th>75%</th>\n",
       "      <td>9000.25000</td>\n",
       "      <td>9.149786e+06</td>\n",
       "      <td>3.108379e+07</td>\n",
       "      <td>NaN</td>\n",
       "      <td>0.000000</td>\n",
       "      <td>1.000000</td>\n",
       "      <td>NaN</td>\n",
       "    </tr>\n",
       "    <tr>\n",
       "      <th>max</th>\n",
       "      <td>12000.00000</td>\n",
       "      <td>1.146321e+07</td>\n",
       "      <td>3.842939e+07</td>\n",
       "      <td>NaN</td>\n",
       "      <td>320000.000000</td>\n",
       "      <td>19.000000</td>\n",
       "      <td>NaN</td>\n",
       "    </tr>\n",
       "  </tbody>\n",
       "</table>\n",
       "</div>"
      ],
      "text/plain": [
       "         Unnamed: 0    receipt_id  receipts_item_id   purchase_time  \\\n",
       "count   12000.00000  1.200000e+04      1.200000e+04           12000   \n",
       "unique          NaN           NaN               NaN           11609   \n",
       "top             NaN           NaN               NaN  6/14/2018 0:00   \n",
       "freq            NaN           NaN               NaN               4   \n",
       "mean     6000.50000  7.650135e+06      2.457950e+07             NaN   \n",
       "std      3464.24595  1.873838e+06      7.171105e+06             NaN   \n",
       "min         1.00000  3.173994e+06      9.282023e+06             NaN   \n",
       "25%      3000.75000  5.983209e+06      1.820694e+07             NaN   \n",
       "50%      6000.50000  7.443618e+06      2.234337e+07             NaN   \n",
       "75%      9000.25000  9.149786e+06      3.108379e+07             NaN   \n",
       "max     12000.00000  1.146321e+07      3.842939e+07             NaN   \n",
       "\n",
       "             discount      quantity yearmonth  \n",
       "count    12000.000000  12000.000000     12000  \n",
       "unique            NaN           NaN        12  \n",
       "top               NaN           NaN   2018-07  \n",
       "freq              NaN           NaN      1000  \n",
       "mean       835.305750      1.332917       NaN  \n",
       "std       6207.475704      0.980304       NaN  \n",
       "min      -4100.000000      1.000000       NaN  \n",
       "25%          0.000000      1.000000       NaN  \n",
       "50%          0.000000      1.000000       NaN  \n",
       "75%          0.000000      1.000000       NaN  \n",
       "max     320000.000000     19.000000       NaN  "
      ]
     },
     "execution_count": 236,
     "metadata": {},
     "output_type": "execute_result"
    }
   ],
   "source": [
    "##code here\n",
    "rice.describe(include=['int','object'])"
   ]
  },
  {
   "cell_type": "markdown",
   "metadata": {},
   "source": [
    "### `shape` dan `size`\n",
    "\n",
    "`shape` dan `size` adalah atribut dari sebuah dataframe yang memberikan informasi terkait dimensi data dan ukuran data"
   ]
  },
  {
   "cell_type": "code",
   "execution_count": 237,
   "metadata": {},
   "outputs": [
    {
     "data": {
      "text/plain": [
       "(12000, 11)"
      ]
     },
     "execution_count": 237,
     "metadata": {},
     "output_type": "execute_result"
    }
   ],
   "source": [
    "##code here\n",
    "rice.shape"
   ]
  },
  {
   "cell_type": "code",
   "execution_count": 238,
   "metadata": {},
   "outputs": [
    {
     "data": {
      "text/plain": [
       "132000"
      ]
     },
     "execution_count": 238,
     "metadata": {},
     "output_type": "execute_result"
    }
   ],
   "source": [
    "rice.size"
   ]
  },
  {
   "cell_type": "markdown",
   "metadata": {},
   "source": [
    "Angka pertama menunjukkan banyaknya row/observasi, angka kedua menunjukkan banyaknya kolom."
   ]
  },
  {
   "cell_type": "code",
   "execution_count": 239,
   "metadata": {},
   "outputs": [
    {
     "data": {
      "text/plain": [
       "12000"
      ]
     },
     "execution_count": 239,
     "metadata": {},
     "output_type": "execute_result"
    }
   ],
   "source": [
    "##code here\n",
    "rice.shape[0]"
   ]
  },
  {
   "cell_type": "code",
   "execution_count": 240,
   "metadata": {},
   "outputs": [
    {
     "data": {
      "text/plain": [
       "11"
      ]
     },
     "execution_count": 240,
     "metadata": {},
     "output_type": "execute_result"
    }
   ],
   "source": [
    "rice.shape[1]"
   ]
  },
  {
   "cell_type": "markdown",
   "metadata": {},
   "source": [
    "`size` = banyaknya row dikali banyaknya kolom."
   ]
  },
  {
   "cell_type": "markdown",
   "metadata": {},
   "source": [
    "### `axes`\n",
    "\n",
    "`axes` adalah atribut dataframe yang memberikan informasi terkait index dataframe (baik index kolom maupun index baris)"
   ]
  },
  {
   "cell_type": "code",
   "execution_count": 241,
   "metadata": {},
   "outputs": [
    {
     "data": {
      "text/plain": [
       "[RangeIndex(start=0, stop=12000, step=1),\n",
       " Index(['Unnamed: 0', 'receipt_id', 'receipts_item_id', 'purchase_time',\n",
       "        'category', 'sub_category', 'format', 'unit_price', 'discount',\n",
       "        'quantity', 'yearmonth'],\n",
       "       dtype='object')]"
      ]
     },
     "execution_count": 241,
     "metadata": {},
     "output_type": "execute_result"
    }
   ],
   "source": [
    "##code here\n",
    "rice.axes"
   ]
  },
  {
   "cell_type": "markdown",
   "metadata": {},
   "source": [
    "- `axes[0]`: melihat index baris\n",
    "- `axes[1]`: melihat index kolom"
   ]
  },
  {
   "cell_type": "code",
   "execution_count": 242,
   "metadata": {},
   "outputs": [
    {
     "data": {
      "text/html": [
       "<div>\n",
       "<style scoped>\n",
       "    .dataframe tbody tr th:only-of-type {\n",
       "        vertical-align: middle;\n",
       "    }\n",
       "\n",
       "    .dataframe tbody tr th {\n",
       "        vertical-align: top;\n",
       "    }\n",
       "\n",
       "    .dataframe thead th {\n",
       "        text-align: right;\n",
       "    }\n",
       "</style>\n",
       "<table border=\"1\" class=\"dataframe\">\n",
       "  <thead>\n",
       "    <tr style=\"text-align: right;\">\n",
       "      <th></th>\n",
       "      <th>Unnamed: 0</th>\n",
       "      <th>receipt_id</th>\n",
       "      <th>receipts_item_id</th>\n",
       "      <th>purchase_time</th>\n",
       "      <th>category</th>\n",
       "      <th>sub_category</th>\n",
       "      <th>format</th>\n",
       "      <th>unit_price</th>\n",
       "      <th>discount</th>\n",
       "      <th>quantity</th>\n",
       "      <th>yearmonth</th>\n",
       "    </tr>\n",
       "  </thead>\n",
       "  <tbody>\n",
       "    <tr>\n",
       "      <th>0</th>\n",
       "      <td>1</td>\n",
       "      <td>9622257</td>\n",
       "      <td>32369294</td>\n",
       "      <td>7/22/2018 21:19</td>\n",
       "      <td>Rice</td>\n",
       "      <td>Rice</td>\n",
       "      <td>supermarket</td>\n",
       "      <td>128000.0</td>\n",
       "      <td>0</td>\n",
       "      <td>1</td>\n",
       "      <td>2018-07</td>\n",
       "    </tr>\n",
       "    <tr>\n",
       "      <th>1</th>\n",
       "      <td>2</td>\n",
       "      <td>9446359</td>\n",
       "      <td>31885876</td>\n",
       "      <td>7/15/2018 16:17</td>\n",
       "      <td>Rice</td>\n",
       "      <td>Rice</td>\n",
       "      <td>minimarket</td>\n",
       "      <td>102750.0</td>\n",
       "      <td>0</td>\n",
       "      <td>1</td>\n",
       "      <td>2018-07</td>\n",
       "    </tr>\n",
       "  </tbody>\n",
       "</table>\n",
       "</div>"
      ],
      "text/plain": [
       "   Unnamed: 0  receipt_id  receipts_item_id    purchase_time category  \\\n",
       "0           1     9622257          32369294  7/22/2018 21:19     Rice   \n",
       "1           2     9446359          31885876  7/15/2018 16:17     Rice   \n",
       "\n",
       "  sub_category       format  unit_price  discount  quantity yearmonth  \n",
       "0         Rice  supermarket    128000.0         0         1   2018-07  \n",
       "1         Rice   minimarket    102750.0         0         1   2018-07  "
      ]
     },
     "execution_count": 242,
     "metadata": {},
     "output_type": "execute_result"
    }
   ],
   "source": [
    "rice.head(2)"
   ]
  },
  {
   "cell_type": "code",
   "execution_count": 243,
   "metadata": {},
   "outputs": [
    {
     "data": {
      "text/plain": [
       "RangeIndex(start=0, stop=12000, step=1)"
      ]
     },
     "execution_count": 243,
     "metadata": {},
     "output_type": "execute_result"
    }
   ],
   "source": [
    "##code here\n",
    "rice.axes[0]"
   ]
  },
  {
   "cell_type": "code",
   "execution_count": 244,
   "metadata": {},
   "outputs": [
    {
     "data": {
      "text/plain": [
       "Index(['Unnamed: 0', 'receipt_id', 'receipts_item_id', 'purchase_time',\n",
       "       'category', 'sub_category', 'format', 'unit_price', 'discount',\n",
       "       'quantity', 'yearmonth'],\n",
       "      dtype='object')"
      ]
     },
     "execution_count": 244,
     "metadata": {},
     "output_type": "execute_result"
    }
   ],
   "source": [
    "rice.axes[1]"
   ]
  },
  {
   "cell_type": "code",
   "execution_count": 245,
   "metadata": {},
   "outputs": [
    {
     "data": {
      "text/plain": [
       "RangeIndex(start=0, stop=12000, step=1)"
      ]
     },
     "execution_count": 245,
     "metadata": {},
     "output_type": "execute_result"
    }
   ],
   "source": [
    "rice.index"
   ]
  },
  {
   "cell_type": "code",
   "execution_count": 246,
   "metadata": {},
   "outputs": [
    {
     "data": {
      "text/plain": [
       "Index(['Unnamed: 0', 'receipt_id', 'receipts_item_id', 'purchase_time',\n",
       "       'category', 'sub_category', 'format', 'unit_price', 'discount',\n",
       "       'quantity', 'yearmonth'],\n",
       "      dtype='object')"
      ]
     },
     "execution_count": 246,
     "metadata": {},
     "output_type": "execute_result"
    }
   ],
   "source": [
    "rice.columns"
   ]
  },
  {
   "cell_type": "markdown",
   "metadata": {},
   "source": [
    "### `dtypes`\n",
    "\n",
    "Atribut `dtypes` digunakan untuk melakukan inspeksi tipe data."
   ]
  },
  {
   "cell_type": "code",
   "execution_count": 247,
   "metadata": {},
   "outputs": [
    {
     "data": {
      "text/plain": [
       "Unnamed: 0             int64\n",
       "receipt_id             int64\n",
       "receipts_item_id       int64\n",
       "purchase_time         object\n",
       "category            category\n",
       "sub_category        category\n",
       "format              category\n",
       "unit_price           float64\n",
       "discount               int64\n",
       "quantity               int64\n",
       "yearmonth             object\n",
       "dtype: object"
      ]
     },
     "execution_count": 247,
     "metadata": {},
     "output_type": "execute_result"
    }
   ],
   "source": [
    "##code here\n",
    "rice.dtypes"
   ]
  },
  {
   "cell_type": "markdown",
   "metadata": {},
   "source": [
    "**_Soal 6:_** Kolom mana yang tipe datanya belum sesuai? Silahkan ubah dengan method `.astype()`!"
   ]
  },
  {
   "cell_type": "code",
   "execution_count": 248,
   "metadata": {},
   "outputs": [],
   "source": [
    "##code here\n",
    "rice['purchase_time'] = rice['purchase_time'].astype('object')"
   ]
  },
  {
   "cell_type": "code",
   "execution_count": 249,
   "metadata": {
    "scrolled": true
   },
   "outputs": [
    {
     "data": {
      "text/plain": [
       "Unnamed: 0             int64\n",
       "receipt_id             int64\n",
       "receipts_item_id       int64\n",
       "purchase_time         object\n",
       "category            category\n",
       "sub_category        category\n",
       "format              category\n",
       "unit_price           float64\n",
       "discount               int64\n",
       "quantity               int64\n",
       "yearmonth             object\n",
       "dtype: object"
      ]
     },
     "execution_count": 249,
     "metadata": {},
     "output_type": "execute_result"
    }
   ],
   "source": [
    "rice.dtypes"
   ]
  },
  {
   "cell_type": "markdown",
   "metadata": {},
   "source": [
    "Untuk merubah tipe data pada beberapa kolom sekaligus:"
   ]
  },
  {
   "cell_type": "code",
   "execution_count": 250,
   "metadata": {},
   "outputs": [],
   "source": [
    "# Mengumpulkan kolom-kolom yang dingin diubah pada 1 list\n",
    "kolom_diubah = ['category', 'sub_category', 'format']\n",
    "\n",
    "rice[kolom_diubah] = rice[kolom_diubah].astype('category')"
   ]
  },
  {
   "cell_type": "markdown",
   "metadata": {},
   "source": [
    "🧠 **Knowledge Check: Data types**\n",
    "\n",
    "Misalkan saja kita memiliki sebuah DataFrame dengan nama `inventory`.\n",
    "\n",
    "1. Ketika menjalankan perintah `inventory.dtypes`, maka pandas akan menampilkan tipe data pada setiap kolom (series). Manakah kolom dibawah ini yang mungkin memiliki tipe data yang salah?\n",
    " - [ ] `units_instock`: int64\n",
    " - [ ] `discount_price`: float64\n",
    " - [ ] `item_name`: object\n",
    " - [x] `units_sold`: object\n",
    " \n",
    " \n",
    "2. Kita ingin mengetahui jumlah kolom yang terdapat pada `inventory` DataFrame, manakah dibawah ini perintah yang tepat untuk menampilkan jumlah kolom `inventory`? Pilih beberapa kode program yang mungkin!\n",
    " - [x] `print(len(inventory.columns))`\n",
    " - [x] `print(inventory.shape[1])`\n",
    " - [x] `print(len(inventory.axes[1]))`"
   ]
  },
  {
   "cell_type": "code",
   "execution_count": 251,
   "metadata": {},
   "outputs": [
    {
     "data": {
      "text/plain": [
       "units_instock       int64\n",
       "discount_price    float64\n",
       "item_name          object\n",
       "unit_sold          object\n",
       "dtype: object"
      ]
     },
     "execution_count": 251,
     "metadata": {},
     "output_type": "execute_result"
    }
   ],
   "source": [
    "inventory = pd.DataFrame({\n",
    "    'units_instock': [50, 40, 30],\n",
    "    'discount_price': [15.0, 5.0, 7.0],\n",
    "    'item_name': ['bawang', 'garam', 'gula'],\n",
    "    'unit_sold': ['123', '456', '789']\n",
    "})\n",
    "inventory.dtypes"
   ]
  },
  {
   "cell_type": "code",
   "execution_count": 252,
   "metadata": {},
   "outputs": [
    {
     "name": "stdout",
     "output_type": "stream",
     "text": [
      "4\n"
     ]
    }
   ],
   "source": [
    "print(len(inventory.columns))"
   ]
  },
  {
   "cell_type": "code",
   "execution_count": 253,
   "metadata": {},
   "outputs": [
    {
     "name": "stdout",
     "output_type": "stream",
     "text": [
      "4\n"
     ]
    }
   ],
   "source": [
    "print(inventory.shape[1])"
   ]
  },
  {
   "cell_type": "code",
   "execution_count": 254,
   "metadata": {},
   "outputs": [
    {
     "name": "stdout",
     "output_type": "stream",
     "text": [
      "4\n"
     ]
    }
   ],
   "source": [
    "print(len(inventory.axes[1]))"
   ]
  },
  {
   "cell_type": "markdown",
   "metadata": {},
   "source": [
    "---\n",
    "## Indexing and Subsetting with Pandas\n",
    "\n",
    "Indexing digunakan untuk memilih dan mengambil sebagian data yang hanya diperlukan dalam proses analisa data yang sedang dikerjakan. Contohnya:\n",
    "- Compare sales pada tahun 2018 vs 2019\n",
    "- Identifikasi peluang penjualan pada segment pasar (ex : Wholesale vs Retail)\n",
    "- Melihat quarter terbaik untuk setiap tahun yang dapat digunakan untuk tujuan promosi\n",
    "- dan sebagainya\n",
    "\n",
    "Untuk melakukan indexing dan subsetting (slicing data) pada `pandas`, kita dapat menggunakan cara sebagai berikut:\n",
    "- `head()` and `tail()`  \n",
    "- `select_dtypes()`  \n",
    "- Using `.drop()` \n",
    "- The `[]` operator\n",
    "- `.loc`  \n",
    "- `.iloc`\n",
    "- Conditional subsetting\n",
    "\n",
    "### `select_dtypes()`\n",
    "\n",
    "Method `select_dtypes()` digunakan untuk memilih kolom sesuai dengan tipe datanya. Ada 2 parameter yang dapat digunakan di dalam method `select_dtypes()` yaitu parameter `include` dan `exclude` (seperti pada `describe()`.\n",
    "\n",
    "Misal:\n",
    "- parameter `include = 'category'` artinya kita memilih semua kolom dengan tipe data 'category'\n",
    "- sebaliknya, ketika menggunakan parameter `exclude = 'category'` maka kolom-kolom dengan tipe data selain 'category' akan ditampilkan.\n"
   ]
  },
  {
   "cell_type": "code",
   "execution_count": 255,
   "metadata": {},
   "outputs": [],
   "source": [
    "#your code here\n",
    "rice_int_float = rice.select_dtypes(include=['int', 'float'])"
   ]
  },
  {
   "cell_type": "markdown",
   "metadata": {},
   "source": [
    "### `drop()`\n",
    "\n",
    "Method `drop()` digunakan untuk membuang baris atau kolom yang tidak ingin digunakan untuk tujuan analisis. Secara default method ini akan menghapus baris"
   ]
  },
  {
   "cell_type": "code",
   "execution_count": 256,
   "metadata": {},
   "outputs": [
    {
     "data": {
      "text/html": [
       "<div>\n",
       "<style scoped>\n",
       "    .dataframe tbody tr th:only-of-type {\n",
       "        vertical-align: middle;\n",
       "    }\n",
       "\n",
       "    .dataframe tbody tr th {\n",
       "        vertical-align: top;\n",
       "    }\n",
       "\n",
       "    .dataframe thead th {\n",
       "        text-align: right;\n",
       "    }\n",
       "</style>\n",
       "<table border=\"1\" class=\"dataframe\">\n",
       "  <thead>\n",
       "    <tr style=\"text-align: right;\">\n",
       "      <th></th>\n",
       "      <th>Unnamed: 0</th>\n",
       "      <th>receipt_id</th>\n",
       "      <th>receipts_item_id</th>\n",
       "      <th>purchase_time</th>\n",
       "      <th>category</th>\n",
       "      <th>sub_category</th>\n",
       "      <th>format</th>\n",
       "      <th>unit_price</th>\n",
       "      <th>discount</th>\n",
       "      <th>quantity</th>\n",
       "      <th>yearmonth</th>\n",
       "    </tr>\n",
       "  </thead>\n",
       "  <tbody>\n",
       "    <tr>\n",
       "      <th>0</th>\n",
       "      <td>1</td>\n",
       "      <td>9622257</td>\n",
       "      <td>32369294</td>\n",
       "      <td>7/22/2018 21:19</td>\n",
       "      <td>Rice</td>\n",
       "      <td>Rice</td>\n",
       "      <td>supermarket</td>\n",
       "      <td>128000.0</td>\n",
       "      <td>0</td>\n",
       "      <td>1</td>\n",
       "      <td>2018-07</td>\n",
       "    </tr>\n",
       "    <tr>\n",
       "      <th>1</th>\n",
       "      <td>2</td>\n",
       "      <td>9446359</td>\n",
       "      <td>31885876</td>\n",
       "      <td>7/15/2018 16:17</td>\n",
       "      <td>Rice</td>\n",
       "      <td>Rice</td>\n",
       "      <td>minimarket</td>\n",
       "      <td>102750.0</td>\n",
       "      <td>0</td>\n",
       "      <td>1</td>\n",
       "      <td>2018-07</td>\n",
       "    </tr>\n",
       "    <tr>\n",
       "      <th>2</th>\n",
       "      <td>3</td>\n",
       "      <td>9470290</td>\n",
       "      <td>31930241</td>\n",
       "      <td>7/15/2018 12:12</td>\n",
       "      <td>Rice</td>\n",
       "      <td>Rice</td>\n",
       "      <td>supermarket</td>\n",
       "      <td>64000.0</td>\n",
       "      <td>0</td>\n",
       "      <td>3</td>\n",
       "      <td>2018-07</td>\n",
       "    </tr>\n",
       "    <tr>\n",
       "      <th>3</th>\n",
       "      <td>4</td>\n",
       "      <td>9643416</td>\n",
       "      <td>32418582</td>\n",
       "      <td>7/24/2018 8:27</td>\n",
       "      <td>Rice</td>\n",
       "      <td>Rice</td>\n",
       "      <td>minimarket</td>\n",
       "      <td>65000.0</td>\n",
       "      <td>0</td>\n",
       "      <td>1</td>\n",
       "      <td>2018-07</td>\n",
       "    </tr>\n",
       "    <tr>\n",
       "      <th>4</th>\n",
       "      <td>5</td>\n",
       "      <td>9692093</td>\n",
       "      <td>32561236</td>\n",
       "      <td>7/26/2018 11:28</td>\n",
       "      <td>Rice</td>\n",
       "      <td>Rice</td>\n",
       "      <td>supermarket</td>\n",
       "      <td>124500.0</td>\n",
       "      <td>0</td>\n",
       "      <td>1</td>\n",
       "      <td>2018-07</td>\n",
       "    </tr>\n",
       "  </tbody>\n",
       "</table>\n",
       "</div>"
      ],
      "text/plain": [
       "   Unnamed: 0  receipt_id  receipts_item_id    purchase_time category  \\\n",
       "0           1     9622257          32369294  7/22/2018 21:19     Rice   \n",
       "1           2     9446359          31885876  7/15/2018 16:17     Rice   \n",
       "2           3     9470290          31930241  7/15/2018 12:12     Rice   \n",
       "3           4     9643416          32418582   7/24/2018 8:27     Rice   \n",
       "4           5     9692093          32561236  7/26/2018 11:28     Rice   \n",
       "\n",
       "  sub_category       format  unit_price  discount  quantity yearmonth  \n",
       "0         Rice  supermarket    128000.0         0         1   2018-07  \n",
       "1         Rice   minimarket    102750.0         0         1   2018-07  \n",
       "2         Rice  supermarket     64000.0         0         3   2018-07  \n",
       "3         Rice   minimarket     65000.0         0         1   2018-07  \n",
       "4         Rice  supermarket    124500.0         0         1   2018-07  "
      ]
     },
     "execution_count": 256,
     "metadata": {},
     "output_type": "execute_result"
    }
   ],
   "source": [
    "rice.head()"
   ]
  },
  {
   "cell_type": "code",
   "execution_count": 257,
   "metadata": {},
   "outputs": [
    {
     "data": {
      "text/html": [
       "<div>\n",
       "<style scoped>\n",
       "    .dataframe tbody tr th:only-of-type {\n",
       "        vertical-align: middle;\n",
       "    }\n",
       "\n",
       "    .dataframe tbody tr th {\n",
       "        vertical-align: top;\n",
       "    }\n",
       "\n",
       "    .dataframe thead th {\n",
       "        text-align: right;\n",
       "    }\n",
       "</style>\n",
       "<table border=\"1\" class=\"dataframe\">\n",
       "  <thead>\n",
       "    <tr style=\"text-align: right;\">\n",
       "      <th></th>\n",
       "      <th>Unnamed: 0</th>\n",
       "      <th>receipts_item_id</th>\n",
       "      <th>purchase_time</th>\n",
       "      <th>category</th>\n",
       "      <th>sub_category</th>\n",
       "      <th>format</th>\n",
       "      <th>unit_price</th>\n",
       "      <th>discount</th>\n",
       "      <th>quantity</th>\n",
       "      <th>yearmonth</th>\n",
       "    </tr>\n",
       "  </thead>\n",
       "  <tbody>\n",
       "    <tr>\n",
       "      <th>0</th>\n",
       "      <td>1</td>\n",
       "      <td>32369294</td>\n",
       "      <td>7/22/2018 21:19</td>\n",
       "      <td>Rice</td>\n",
       "      <td>Rice</td>\n",
       "      <td>supermarket</td>\n",
       "      <td>128000.0</td>\n",
       "      <td>0</td>\n",
       "      <td>1</td>\n",
       "      <td>2018-07</td>\n",
       "    </tr>\n",
       "    <tr>\n",
       "      <th>1</th>\n",
       "      <td>2</td>\n",
       "      <td>31885876</td>\n",
       "      <td>7/15/2018 16:17</td>\n",
       "      <td>Rice</td>\n",
       "      <td>Rice</td>\n",
       "      <td>minimarket</td>\n",
       "      <td>102750.0</td>\n",
       "      <td>0</td>\n",
       "      <td>1</td>\n",
       "      <td>2018-07</td>\n",
       "    </tr>\n",
       "    <tr>\n",
       "      <th>2</th>\n",
       "      <td>3</td>\n",
       "      <td>31930241</td>\n",
       "      <td>7/15/2018 12:12</td>\n",
       "      <td>Rice</td>\n",
       "      <td>Rice</td>\n",
       "      <td>supermarket</td>\n",
       "      <td>64000.0</td>\n",
       "      <td>0</td>\n",
       "      <td>3</td>\n",
       "      <td>2018-07</td>\n",
       "    </tr>\n",
       "    <tr>\n",
       "      <th>3</th>\n",
       "      <td>4</td>\n",
       "      <td>32418582</td>\n",
       "      <td>7/24/2018 8:27</td>\n",
       "      <td>Rice</td>\n",
       "      <td>Rice</td>\n",
       "      <td>minimarket</td>\n",
       "      <td>65000.0</td>\n",
       "      <td>0</td>\n",
       "      <td>1</td>\n",
       "      <td>2018-07</td>\n",
       "    </tr>\n",
       "    <tr>\n",
       "      <th>4</th>\n",
       "      <td>5</td>\n",
       "      <td>32561236</td>\n",
       "      <td>7/26/2018 11:28</td>\n",
       "      <td>Rice</td>\n",
       "      <td>Rice</td>\n",
       "      <td>supermarket</td>\n",
       "      <td>124500.0</td>\n",
       "      <td>0</td>\n",
       "      <td>1</td>\n",
       "      <td>2018-07</td>\n",
       "    </tr>\n",
       "    <tr>\n",
       "      <th>...</th>\n",
       "      <td>...</td>\n",
       "      <td>...</td>\n",
       "      <td>...</td>\n",
       "      <td>...</td>\n",
       "      <td>...</td>\n",
       "      <td>...</td>\n",
       "      <td>...</td>\n",
       "      <td>...</td>\n",
       "      <td>...</td>\n",
       "      <td>...</td>\n",
       "    </tr>\n",
       "    <tr>\n",
       "      <th>11995</th>\n",
       "      <td>11996</td>\n",
       "      <td>17555486</td>\n",
       "      <td>12/15/2017 21:06</td>\n",
       "      <td>Rice</td>\n",
       "      <td>Rice</td>\n",
       "      <td>supermarket</td>\n",
       "      <td>128000.0</td>\n",
       "      <td>0</td>\n",
       "      <td>1</td>\n",
       "      <td>2017-12</td>\n",
       "    </tr>\n",
       "    <tr>\n",
       "      <th>11996</th>\n",
       "      <td>11997</td>\n",
       "      <td>16999147</td>\n",
       "      <td>12/2/2017 14:12</td>\n",
       "      <td>Rice</td>\n",
       "      <td>Rice</td>\n",
       "      <td>minimarket</td>\n",
       "      <td>64000.0</td>\n",
       "      <td>0</td>\n",
       "      <td>1</td>\n",
       "      <td>2017-12</td>\n",
       "    </tr>\n",
       "    <tr>\n",
       "      <th>11997</th>\n",
       "      <td>11998</td>\n",
       "      <td>17434503</td>\n",
       "      <td>12/13/2017 19:17</td>\n",
       "      <td>Rice</td>\n",
       "      <td>Rice</td>\n",
       "      <td>supermarket</td>\n",
       "      <td>59990.0</td>\n",
       "      <td>3000</td>\n",
       "      <td>1</td>\n",
       "      <td>2017-12</td>\n",
       "    </tr>\n",
       "    <tr>\n",
       "      <th>11998</th>\n",
       "      <td>11999</td>\n",
       "      <td>17317935</td>\n",
       "      <td>12/8/2017 22:04</td>\n",
       "      <td>Rice</td>\n",
       "      <td>Rice</td>\n",
       "      <td>minimarket</td>\n",
       "      <td>59500.0</td>\n",
       "      <td>3000</td>\n",
       "      <td>1</td>\n",
       "      <td>2017-12</td>\n",
       "    </tr>\n",
       "    <tr>\n",
       "      <th>11999</th>\n",
       "      <td>12000</td>\n",
       "      <td>17341559</td>\n",
       "      <td>12/10/2017 17:04</td>\n",
       "      <td>Rice</td>\n",
       "      <td>Rice</td>\n",
       "      <td>minimarket</td>\n",
       "      <td>59500.0</td>\n",
       "      <td>3000</td>\n",
       "      <td>1</td>\n",
       "      <td>2017-12</td>\n",
       "    </tr>\n",
       "  </tbody>\n",
       "</table>\n",
       "<p>12000 rows × 10 columns</p>\n",
       "</div>"
      ],
      "text/plain": [
       "       Unnamed: 0  receipts_item_id     purchase_time category sub_category  \\\n",
       "0               1          32369294   7/22/2018 21:19     Rice         Rice   \n",
       "1               2          31885876   7/15/2018 16:17     Rice         Rice   \n",
       "2               3          31930241   7/15/2018 12:12     Rice         Rice   \n",
       "3               4          32418582    7/24/2018 8:27     Rice         Rice   \n",
       "4               5          32561236   7/26/2018 11:28     Rice         Rice   \n",
       "...           ...               ...               ...      ...          ...   \n",
       "11995       11996          17555486  12/15/2017 21:06     Rice         Rice   \n",
       "11996       11997          16999147   12/2/2017 14:12     Rice         Rice   \n",
       "11997       11998          17434503  12/13/2017 19:17     Rice         Rice   \n",
       "11998       11999          17317935   12/8/2017 22:04     Rice         Rice   \n",
       "11999       12000          17341559  12/10/2017 17:04     Rice         Rice   \n",
       "\n",
       "            format  unit_price  discount  quantity yearmonth  \n",
       "0      supermarket    128000.0         0         1   2018-07  \n",
       "1       minimarket    102750.0         0         1   2018-07  \n",
       "2      supermarket     64000.0         0         3   2018-07  \n",
       "3       minimarket     65000.0         0         1   2018-07  \n",
       "4      supermarket    124500.0         0         1   2018-07  \n",
       "...            ...         ...       ...       ...       ...  \n",
       "11995  supermarket    128000.0         0         1   2017-12  \n",
       "11996   minimarket     64000.0         0         1   2017-12  \n",
       "11997  supermarket     59990.0      3000         1   2017-12  \n",
       "11998   minimarket     59500.0      3000         1   2017-12  \n",
       "11999   minimarket     59500.0      3000         1   2017-12  \n",
       "\n",
       "[12000 rows x 10 columns]"
      ]
     },
     "execution_count": 257,
     "metadata": {},
     "output_type": "execute_result"
    }
   ],
   "source": [
    "rice.drop(labels='receipt_id', axis=1)"
   ]
  },
  {
   "cell_type": "code",
   "execution_count": 258,
   "metadata": {},
   "outputs": [],
   "source": [
    "#your code here\n",
    "rice.drop(labels='Unnamed: 0', axis=1, inplace=True)\n",
    "\n",
    "# sama seperti ini -> rice = rice.drop(labels='Unnamed: 0', axis=1)"
   ]
  },
  {
   "cell_type": "markdown",
   "metadata": {},
   "source": [
    "**NOTE:** Method `drop()` tidak mengubah objek dataframenya. Apabila ingin mengubah objek semulanya:\n",
    "- Melakukan assignment kembali dengan nama objek yang sama: `rice = rice.drop(...)`, atau\n",
    "- Menambahkan parameter inplace: `rice.drop(..., inplace=True)` "
   ]
  },
  {
   "cell_type": "code",
   "execution_count": 259,
   "metadata": {},
   "outputs": [],
   "source": [
    "#your code here\n",
    "\n"
   ]
  },
  {
   "cell_type": "markdown",
   "metadata": {},
   "source": [
    "### Slicing: **`[]` operator**\n",
    "\n",
    "Digunakan untuk melakukan subsetting dengan cara mengiris (slicing) index pada dataframe. Formula penulisannya adalah `rice[start:end]` dengan mengikuti aturan indexing pada python (dimulai dari 0) dimana `start` inclusive dan `end` exclusive."
   ]
  },
  {
   "cell_type": "code",
   "execution_count": 260,
   "metadata": {},
   "outputs": [
    {
     "data": {
      "text/html": [
       "<div>\n",
       "<style scoped>\n",
       "    .dataframe tbody tr th:only-of-type {\n",
       "        vertical-align: middle;\n",
       "    }\n",
       "\n",
       "    .dataframe tbody tr th {\n",
       "        vertical-align: top;\n",
       "    }\n",
       "\n",
       "    .dataframe thead th {\n",
       "        text-align: right;\n",
       "    }\n",
       "</style>\n",
       "<table border=\"1\" class=\"dataframe\">\n",
       "  <thead>\n",
       "    <tr style=\"text-align: right;\">\n",
       "      <th></th>\n",
       "      <th>receipt_id</th>\n",
       "      <th>receipts_item_id</th>\n",
       "      <th>purchase_time</th>\n",
       "      <th>category</th>\n",
       "      <th>sub_category</th>\n",
       "      <th>format</th>\n",
       "      <th>unit_price</th>\n",
       "      <th>discount</th>\n",
       "      <th>quantity</th>\n",
       "      <th>yearmonth</th>\n",
       "    </tr>\n",
       "  </thead>\n",
       "  <tbody>\n",
       "    <tr>\n",
       "      <th>0</th>\n",
       "      <td>9622257</td>\n",
       "      <td>32369294</td>\n",
       "      <td>7/22/2018 21:19</td>\n",
       "      <td>Rice</td>\n",
       "      <td>Rice</td>\n",
       "      <td>supermarket</td>\n",
       "      <td>128000.0</td>\n",
       "      <td>0</td>\n",
       "      <td>1</td>\n",
       "      <td>2018-07</td>\n",
       "    </tr>\n",
       "    <tr>\n",
       "      <th>1</th>\n",
       "      <td>9446359</td>\n",
       "      <td>31885876</td>\n",
       "      <td>7/15/2018 16:17</td>\n",
       "      <td>Rice</td>\n",
       "      <td>Rice</td>\n",
       "      <td>minimarket</td>\n",
       "      <td>102750.0</td>\n",
       "      <td>0</td>\n",
       "      <td>1</td>\n",
       "      <td>2018-07</td>\n",
       "    </tr>\n",
       "    <tr>\n",
       "      <th>2</th>\n",
       "      <td>9470290</td>\n",
       "      <td>31930241</td>\n",
       "      <td>7/15/2018 12:12</td>\n",
       "      <td>Rice</td>\n",
       "      <td>Rice</td>\n",
       "      <td>supermarket</td>\n",
       "      <td>64000.0</td>\n",
       "      <td>0</td>\n",
       "      <td>3</td>\n",
       "      <td>2018-07</td>\n",
       "    </tr>\n",
       "    <tr>\n",
       "      <th>3</th>\n",
       "      <td>9643416</td>\n",
       "      <td>32418582</td>\n",
       "      <td>7/24/2018 8:27</td>\n",
       "      <td>Rice</td>\n",
       "      <td>Rice</td>\n",
       "      <td>minimarket</td>\n",
       "      <td>65000.0</td>\n",
       "      <td>0</td>\n",
       "      <td>1</td>\n",
       "      <td>2018-07</td>\n",
       "    </tr>\n",
       "    <tr>\n",
       "      <th>4</th>\n",
       "      <td>9692093</td>\n",
       "      <td>32561236</td>\n",
       "      <td>7/26/2018 11:28</td>\n",
       "      <td>Rice</td>\n",
       "      <td>Rice</td>\n",
       "      <td>supermarket</td>\n",
       "      <td>124500.0</td>\n",
       "      <td>0</td>\n",
       "      <td>1</td>\n",
       "      <td>2018-07</td>\n",
       "    </tr>\n",
       "    <tr>\n",
       "      <th>5</th>\n",
       "      <td>9504155</td>\n",
       "      <td>32030785</td>\n",
       "      <td>7/17/2018 18:05</td>\n",
       "      <td>Rice</td>\n",
       "      <td>Rice</td>\n",
       "      <td>minimarket</td>\n",
       "      <td>63500.0</td>\n",
       "      <td>0</td>\n",
       "      <td>1</td>\n",
       "      <td>2018-07</td>\n",
       "    </tr>\n",
       "    <tr>\n",
       "      <th>6</th>\n",
       "      <td>9822589</td>\n",
       "      <td>32935097</td>\n",
       "      <td>7/29/2018 18:18</td>\n",
       "      <td>Rice</td>\n",
       "      <td>Rice</td>\n",
       "      <td>supermarket</td>\n",
       "      <td>66500.0</td>\n",
       "      <td>0</td>\n",
       "      <td>1</td>\n",
       "      <td>2018-07</td>\n",
       "    </tr>\n",
       "    <tr>\n",
       "      <th>7</th>\n",
       "      <td>9706953</td>\n",
       "      <td>32593606</td>\n",
       "      <td>7/25/2018 12:48</td>\n",
       "      <td>Rice</td>\n",
       "      <td>Rice</td>\n",
       "      <td>minimarket</td>\n",
       "      <td>62500.0</td>\n",
       "      <td>0</td>\n",
       "      <td>1</td>\n",
       "      <td>2018-07</td>\n",
       "    </tr>\n",
       "    <tr>\n",
       "      <th>8</th>\n",
       "      <td>9699516</td>\n",
       "      <td>32573843</td>\n",
       "      <td>7/26/2018 16:41</td>\n",
       "      <td>Rice</td>\n",
       "      <td>Rice</td>\n",
       "      <td>minimarket</td>\n",
       "      <td>62500.0</td>\n",
       "      <td>0</td>\n",
       "      <td>1</td>\n",
       "      <td>2018-07</td>\n",
       "    </tr>\n",
       "    <tr>\n",
       "      <th>9</th>\n",
       "      <td>9444092</td>\n",
       "      <td>31913062</td>\n",
       "      <td>7/14/2018 21:17</td>\n",
       "      <td>Rice</td>\n",
       "      <td>Rice</td>\n",
       "      <td>supermarket</td>\n",
       "      <td>64000.0</td>\n",
       "      <td>0</td>\n",
       "      <td>3</td>\n",
       "      <td>2018-07</td>\n",
       "    </tr>\n",
       "  </tbody>\n",
       "</table>\n",
       "</div>"
      ],
      "text/plain": [
       "   receipt_id  receipts_item_id    purchase_time category sub_category  \\\n",
       "0     9622257          32369294  7/22/2018 21:19     Rice         Rice   \n",
       "1     9446359          31885876  7/15/2018 16:17     Rice         Rice   \n",
       "2     9470290          31930241  7/15/2018 12:12     Rice         Rice   \n",
       "3     9643416          32418582   7/24/2018 8:27     Rice         Rice   \n",
       "4     9692093          32561236  7/26/2018 11:28     Rice         Rice   \n",
       "5     9504155          32030785  7/17/2018 18:05     Rice         Rice   \n",
       "6     9822589          32935097  7/29/2018 18:18     Rice         Rice   \n",
       "7     9706953          32593606  7/25/2018 12:48     Rice         Rice   \n",
       "8     9699516          32573843  7/26/2018 16:41     Rice         Rice   \n",
       "9     9444092          31913062  7/14/2018 21:17     Rice         Rice   \n",
       "\n",
       "        format  unit_price  discount  quantity yearmonth  \n",
       "0  supermarket    128000.0         0         1   2018-07  \n",
       "1   minimarket    102750.0         0         1   2018-07  \n",
       "2  supermarket     64000.0         0         3   2018-07  \n",
       "3   minimarket     65000.0         0         1   2018-07  \n",
       "4  supermarket    124500.0         0         1   2018-07  \n",
       "5   minimarket     63500.0         0         1   2018-07  \n",
       "6  supermarket     66500.0         0         1   2018-07  \n",
       "7   minimarket     62500.0         0         1   2018-07  \n",
       "8   minimarket     62500.0         0         1   2018-07  \n",
       "9  supermarket     64000.0         0         3   2018-07  "
      ]
     },
     "execution_count": 260,
     "metadata": {},
     "output_type": "execute_result"
    }
   ],
   "source": [
    "#your code here\n",
    "rice.head(10)"
   ]
  },
  {
   "cell_type": "markdown",
   "metadata": {},
   "source": [
    "🧠 **Knowledge Check: Slicing**\n",
    "\n",
    "Dengan memperhatikan `end` exclusive pada metode indexing, tampilkan baris ke 8 sampai ke 12 pada data rice. Pilih jawaban yang tepat dibawah ini!\n",
    "\n",
    "- [x] `rice[7:12]`\n",
    "- [ ] `rice[8:12]`\n",
    "- [ ] `rice[7:13]`\n",
    "- [ ] `rice[8:13]`"
   ]
  },
  {
   "cell_type": "code",
   "execution_count": 261,
   "metadata": {},
   "outputs": [
    {
     "data": {
      "text/html": [
       "<div>\n",
       "<style scoped>\n",
       "    .dataframe tbody tr th:only-of-type {\n",
       "        vertical-align: middle;\n",
       "    }\n",
       "\n",
       "    .dataframe tbody tr th {\n",
       "        vertical-align: top;\n",
       "    }\n",
       "\n",
       "    .dataframe thead th {\n",
       "        text-align: right;\n",
       "    }\n",
       "</style>\n",
       "<table border=\"1\" class=\"dataframe\">\n",
       "  <thead>\n",
       "    <tr style=\"text-align: right;\">\n",
       "      <th></th>\n",
       "      <th>receipt_id</th>\n",
       "      <th>receipts_item_id</th>\n",
       "      <th>purchase_time</th>\n",
       "      <th>category</th>\n",
       "      <th>sub_category</th>\n",
       "      <th>format</th>\n",
       "      <th>unit_price</th>\n",
       "      <th>discount</th>\n",
       "      <th>quantity</th>\n",
       "      <th>yearmonth</th>\n",
       "    </tr>\n",
       "  </thead>\n",
       "  <tbody>\n",
       "    <tr>\n",
       "      <th>7</th>\n",
       "      <td>9706953</td>\n",
       "      <td>32593606</td>\n",
       "      <td>7/25/2018 12:48</td>\n",
       "      <td>Rice</td>\n",
       "      <td>Rice</td>\n",
       "      <td>minimarket</td>\n",
       "      <td>62500.0</td>\n",
       "      <td>0</td>\n",
       "      <td>1</td>\n",
       "      <td>2018-07</td>\n",
       "    </tr>\n",
       "    <tr>\n",
       "      <th>8</th>\n",
       "      <td>9699516</td>\n",
       "      <td>32573843</td>\n",
       "      <td>7/26/2018 16:41</td>\n",
       "      <td>Rice</td>\n",
       "      <td>Rice</td>\n",
       "      <td>minimarket</td>\n",
       "      <td>62500.0</td>\n",
       "      <td>0</td>\n",
       "      <td>1</td>\n",
       "      <td>2018-07</td>\n",
       "    </tr>\n",
       "    <tr>\n",
       "      <th>9</th>\n",
       "      <td>9444092</td>\n",
       "      <td>31913062</td>\n",
       "      <td>7/14/2018 21:17</td>\n",
       "      <td>Rice</td>\n",
       "      <td>Rice</td>\n",
       "      <td>supermarket</td>\n",
       "      <td>64000.0</td>\n",
       "      <td>0</td>\n",
       "      <td>3</td>\n",
       "      <td>2018-07</td>\n",
       "    </tr>\n",
       "    <tr>\n",
       "      <th>10</th>\n",
       "      <td>9198777</td>\n",
       "      <td>31125365</td>\n",
       "      <td>7/2/2018 15:39</td>\n",
       "      <td>Rice</td>\n",
       "      <td>Rice</td>\n",
       "      <td>minimarket</td>\n",
       "      <td>112500.0</td>\n",
       "      <td>0</td>\n",
       "      <td>1</td>\n",
       "      <td>2018-07</td>\n",
       "    </tr>\n",
       "    <tr>\n",
       "      <th>11</th>\n",
       "      <td>9763483</td>\n",
       "      <td>32856560</td>\n",
       "      <td>7/31/2018 5:51</td>\n",
       "      <td>Rice</td>\n",
       "      <td>Rice</td>\n",
       "      <td>hypermarket</td>\n",
       "      <td>77750.0</td>\n",
       "      <td>0</td>\n",
       "      <td>1</td>\n",
       "      <td>2018-07</td>\n",
       "    </tr>\n",
       "  </tbody>\n",
       "</table>\n",
       "</div>"
      ],
      "text/plain": [
       "    receipt_id  receipts_item_id    purchase_time category sub_category  \\\n",
       "7      9706953          32593606  7/25/2018 12:48     Rice         Rice   \n",
       "8      9699516          32573843  7/26/2018 16:41     Rice         Rice   \n",
       "9      9444092          31913062  7/14/2018 21:17     Rice         Rice   \n",
       "10     9198777          31125365   7/2/2018 15:39     Rice         Rice   \n",
       "11     9763483          32856560   7/31/2018 5:51     Rice         Rice   \n",
       "\n",
       "         format  unit_price  discount  quantity yearmonth  \n",
       "7    minimarket     62500.0         0         1   2018-07  \n",
       "8    minimarket     62500.0         0         1   2018-07  \n",
       "9   supermarket     64000.0         0         3   2018-07  \n",
       "10   minimarket    112500.0         0         1   2018-07  \n",
       "11  hypermarket     77750.0         0         1   2018-07  "
      ]
     },
     "execution_count": 261,
     "metadata": {},
     "output_type": "execute_result"
    }
   ],
   "source": [
    "# baris ke 8 sampai 12 ; -> index ke 7 sampai 11\n",
    "rice[7:12]"
   ]
  },
  {
   "cell_type": "code",
   "execution_count": 262,
   "metadata": {},
   "outputs": [
    {
     "data": {
      "text/html": [
       "<div>\n",
       "<style scoped>\n",
       "    .dataframe tbody tr th:only-of-type {\n",
       "        vertical-align: middle;\n",
       "    }\n",
       "\n",
       "    .dataframe tbody tr th {\n",
       "        vertical-align: top;\n",
       "    }\n",
       "\n",
       "    .dataframe thead th {\n",
       "        text-align: right;\n",
       "    }\n",
       "</style>\n",
       "<table border=\"1\" class=\"dataframe\">\n",
       "  <thead>\n",
       "    <tr style=\"text-align: right;\">\n",
       "      <th></th>\n",
       "      <th>receipt_id</th>\n",
       "      <th>receipts_item_id</th>\n",
       "      <th>purchase_time</th>\n",
       "      <th>category</th>\n",
       "      <th>sub_category</th>\n",
       "      <th>format</th>\n",
       "      <th>unit_price</th>\n",
       "      <th>discount</th>\n",
       "      <th>quantity</th>\n",
       "      <th>yearmonth</th>\n",
       "    </tr>\n",
       "  </thead>\n",
       "  <tbody>\n",
       "    <tr>\n",
       "      <th>11995</th>\n",
       "      <td>5760491</td>\n",
       "      <td>17555486</td>\n",
       "      <td>12/15/2017 21:06</td>\n",
       "      <td>Rice</td>\n",
       "      <td>Rice</td>\n",
       "      <td>supermarket</td>\n",
       "      <td>128000.0</td>\n",
       "      <td>0</td>\n",
       "      <td>1</td>\n",
       "      <td>2017-12</td>\n",
       "    </tr>\n",
       "    <tr>\n",
       "      <th>11996</th>\n",
       "      <td>5598782</td>\n",
       "      <td>16999147</td>\n",
       "      <td>12/2/2017 14:12</td>\n",
       "      <td>Rice</td>\n",
       "      <td>Rice</td>\n",
       "      <td>minimarket</td>\n",
       "      <td>64000.0</td>\n",
       "      <td>0</td>\n",
       "      <td>1</td>\n",
       "      <td>2017-12</td>\n",
       "    </tr>\n",
       "    <tr>\n",
       "      <th>11997</th>\n",
       "      <td>5735850</td>\n",
       "      <td>17434503</td>\n",
       "      <td>12/13/2017 19:17</td>\n",
       "      <td>Rice</td>\n",
       "      <td>Rice</td>\n",
       "      <td>supermarket</td>\n",
       "      <td>59990.0</td>\n",
       "      <td>3000</td>\n",
       "      <td>1</td>\n",
       "      <td>2017-12</td>\n",
       "    </tr>\n",
       "    <tr>\n",
       "      <th>11998</th>\n",
       "      <td>5678748</td>\n",
       "      <td>17317935</td>\n",
       "      <td>12/8/2017 22:04</td>\n",
       "      <td>Rice</td>\n",
       "      <td>Rice</td>\n",
       "      <td>minimarket</td>\n",
       "      <td>59500.0</td>\n",
       "      <td>3000</td>\n",
       "      <td>1</td>\n",
       "      <td>2017-12</td>\n",
       "    </tr>\n",
       "    <tr>\n",
       "      <th>11999</th>\n",
       "      <td>5702411</td>\n",
       "      <td>17341559</td>\n",
       "      <td>12/10/2017 17:04</td>\n",
       "      <td>Rice</td>\n",
       "      <td>Rice</td>\n",
       "      <td>minimarket</td>\n",
       "      <td>59500.0</td>\n",
       "      <td>3000</td>\n",
       "      <td>1</td>\n",
       "      <td>2017-12</td>\n",
       "    </tr>\n",
       "  </tbody>\n",
       "</table>\n",
       "</div>"
      ],
      "text/plain": [
       "       receipt_id  receipts_item_id     purchase_time category sub_category  \\\n",
       "11995     5760491          17555486  12/15/2017 21:06     Rice         Rice   \n",
       "11996     5598782          16999147   12/2/2017 14:12     Rice         Rice   \n",
       "11997     5735850          17434503  12/13/2017 19:17     Rice         Rice   \n",
       "11998     5678748          17317935   12/8/2017 22:04     Rice         Rice   \n",
       "11999     5702411          17341559  12/10/2017 17:04     Rice         Rice   \n",
       "\n",
       "            format  unit_price  discount  quantity yearmonth  \n",
       "11995  supermarket    128000.0         0         1   2017-12  \n",
       "11996   minimarket     64000.0         0         1   2017-12  \n",
       "11997  supermarket     59990.0      3000         1   2017-12  \n",
       "11998   minimarket     59500.0      3000         1   2017-12  \n",
       "11999   minimarket     59500.0      3000         1   2017-12  "
      ]
     },
     "execution_count": 262,
     "metadata": {},
     "output_type": "execute_result"
    }
   ],
   "source": [
    "rice.tail()"
   ]
  },
  {
   "cell_type": "markdown",
   "metadata": {},
   "source": [
    "### Special Challenge\n",
    "\n",
    "1. Lakukan indexing/subsetting untuk mendapatkan 5 data terakhir (kecuali dengan .tail())"
   ]
  },
  {
   "cell_type": "code",
   "execution_count": 263,
   "metadata": {},
   "outputs": [
    {
     "data": {
      "text/plain": [
       "11995"
      ]
     },
     "execution_count": 263,
     "metadata": {},
     "output_type": "execute_result"
    }
   ],
   "source": [
    "len(rice)-5"
   ]
  },
  {
   "cell_type": "code",
   "execution_count": 264,
   "metadata": {},
   "outputs": [
    {
     "data": {
      "text/html": [
       "<div>\n",
       "<style scoped>\n",
       "    .dataframe tbody tr th:only-of-type {\n",
       "        vertical-align: middle;\n",
       "    }\n",
       "\n",
       "    .dataframe tbody tr th {\n",
       "        vertical-align: top;\n",
       "    }\n",
       "\n",
       "    .dataframe thead th {\n",
       "        text-align: right;\n",
       "    }\n",
       "</style>\n",
       "<table border=\"1\" class=\"dataframe\">\n",
       "  <thead>\n",
       "    <tr style=\"text-align: right;\">\n",
       "      <th></th>\n",
       "      <th>receipt_id</th>\n",
       "      <th>receipts_item_id</th>\n",
       "      <th>purchase_time</th>\n",
       "      <th>category</th>\n",
       "      <th>sub_category</th>\n",
       "      <th>format</th>\n",
       "      <th>unit_price</th>\n",
       "      <th>discount</th>\n",
       "      <th>quantity</th>\n",
       "      <th>yearmonth</th>\n",
       "    </tr>\n",
       "  </thead>\n",
       "  <tbody>\n",
       "    <tr>\n",
       "      <th>11995</th>\n",
       "      <td>5760491</td>\n",
       "      <td>17555486</td>\n",
       "      <td>12/15/2017 21:06</td>\n",
       "      <td>Rice</td>\n",
       "      <td>Rice</td>\n",
       "      <td>supermarket</td>\n",
       "      <td>128000.0</td>\n",
       "      <td>0</td>\n",
       "      <td>1</td>\n",
       "      <td>2017-12</td>\n",
       "    </tr>\n",
       "    <tr>\n",
       "      <th>11996</th>\n",
       "      <td>5598782</td>\n",
       "      <td>16999147</td>\n",
       "      <td>12/2/2017 14:12</td>\n",
       "      <td>Rice</td>\n",
       "      <td>Rice</td>\n",
       "      <td>minimarket</td>\n",
       "      <td>64000.0</td>\n",
       "      <td>0</td>\n",
       "      <td>1</td>\n",
       "      <td>2017-12</td>\n",
       "    </tr>\n",
       "    <tr>\n",
       "      <th>11997</th>\n",
       "      <td>5735850</td>\n",
       "      <td>17434503</td>\n",
       "      <td>12/13/2017 19:17</td>\n",
       "      <td>Rice</td>\n",
       "      <td>Rice</td>\n",
       "      <td>supermarket</td>\n",
       "      <td>59990.0</td>\n",
       "      <td>3000</td>\n",
       "      <td>1</td>\n",
       "      <td>2017-12</td>\n",
       "    </tr>\n",
       "    <tr>\n",
       "      <th>11998</th>\n",
       "      <td>5678748</td>\n",
       "      <td>17317935</td>\n",
       "      <td>12/8/2017 22:04</td>\n",
       "      <td>Rice</td>\n",
       "      <td>Rice</td>\n",
       "      <td>minimarket</td>\n",
       "      <td>59500.0</td>\n",
       "      <td>3000</td>\n",
       "      <td>1</td>\n",
       "      <td>2017-12</td>\n",
       "    </tr>\n",
       "    <tr>\n",
       "      <th>11999</th>\n",
       "      <td>5702411</td>\n",
       "      <td>17341559</td>\n",
       "      <td>12/10/2017 17:04</td>\n",
       "      <td>Rice</td>\n",
       "      <td>Rice</td>\n",
       "      <td>minimarket</td>\n",
       "      <td>59500.0</td>\n",
       "      <td>3000</td>\n",
       "      <td>1</td>\n",
       "      <td>2017-12</td>\n",
       "    </tr>\n",
       "  </tbody>\n",
       "</table>\n",
       "</div>"
      ],
      "text/plain": [
       "       receipt_id  receipts_item_id     purchase_time category sub_category  \\\n",
       "11995     5760491          17555486  12/15/2017 21:06     Rice         Rice   \n",
       "11996     5598782          16999147   12/2/2017 14:12     Rice         Rice   \n",
       "11997     5735850          17434503  12/13/2017 19:17     Rice         Rice   \n",
       "11998     5678748          17317935   12/8/2017 22:04     Rice         Rice   \n",
       "11999     5702411          17341559  12/10/2017 17:04     Rice         Rice   \n",
       "\n",
       "            format  unit_price  discount  quantity yearmonth  \n",
       "11995  supermarket    128000.0         0         1   2017-12  \n",
       "11996   minimarket     64000.0         0         1   2017-12  \n",
       "11997  supermarket     59990.0      3000         1   2017-12  \n",
       "11998   minimarket     59500.0      3000         1   2017-12  \n",
       "11999   minimarket     59500.0      3000         1   2017-12  "
      ]
     },
     "execution_count": 264,
     "metadata": {},
     "output_type": "execute_result"
    }
   ],
   "source": [
    "# code here\n",
    "rice[-5:]"
   ]
  },
  {
   "cell_type": "markdown",
   "metadata": {},
   "source": [
    "### `.loc` dan `.iloc`\n",
    "\n",
    "Dengan menggunakan `.loc` dan `iloc` kita dapat melakukan pengirisan pada index **baris dan kolom**. \n",
    "\n",
    "Perbedaan yang mendasar dari kedua operator ini adalah:\n",
    "- `.iloc` merujuk pada lokasi **index** baris atau kolomnya sehingga harus **integer**, sedangkan\n",
    "- `.loc` merujuk pada lokasi **nama** baris atau kolomnya\n",
    "\n",
    "#### .iloc\n",
    "\n",
    "> Syntax: `df.iloc[baris, kolom]` \n",
    "\n",
    "Contoh: Kita ingin memilih baris pertama sampai kelima pada dataframe `rice`"
   ]
  },
  {
   "cell_type": "code",
   "execution_count": 265,
   "metadata": {},
   "outputs": [
    {
     "data": {
      "text/html": [
       "<div>\n",
       "<style scoped>\n",
       "    .dataframe tbody tr th:only-of-type {\n",
       "        vertical-align: middle;\n",
       "    }\n",
       "\n",
       "    .dataframe tbody tr th {\n",
       "        vertical-align: top;\n",
       "    }\n",
       "\n",
       "    .dataframe thead th {\n",
       "        text-align: right;\n",
       "    }\n",
       "</style>\n",
       "<table border=\"1\" class=\"dataframe\">\n",
       "  <thead>\n",
       "    <tr style=\"text-align: right;\">\n",
       "      <th></th>\n",
       "      <th>receipt_id</th>\n",
       "      <th>receipts_item_id</th>\n",
       "      <th>purchase_time</th>\n",
       "      <th>category</th>\n",
       "      <th>sub_category</th>\n",
       "      <th>format</th>\n",
       "      <th>unit_price</th>\n",
       "      <th>discount</th>\n",
       "      <th>quantity</th>\n",
       "      <th>yearmonth</th>\n",
       "    </tr>\n",
       "  </thead>\n",
       "  <tbody>\n",
       "    <tr>\n",
       "      <th>0</th>\n",
       "      <td>9622257</td>\n",
       "      <td>32369294</td>\n",
       "      <td>7/22/2018 21:19</td>\n",
       "      <td>Rice</td>\n",
       "      <td>Rice</td>\n",
       "      <td>supermarket</td>\n",
       "      <td>128000.0</td>\n",
       "      <td>0</td>\n",
       "      <td>1</td>\n",
       "      <td>2018-07</td>\n",
       "    </tr>\n",
       "    <tr>\n",
       "      <th>1</th>\n",
       "      <td>9446359</td>\n",
       "      <td>31885876</td>\n",
       "      <td>7/15/2018 16:17</td>\n",
       "      <td>Rice</td>\n",
       "      <td>Rice</td>\n",
       "      <td>minimarket</td>\n",
       "      <td>102750.0</td>\n",
       "      <td>0</td>\n",
       "      <td>1</td>\n",
       "      <td>2018-07</td>\n",
       "    </tr>\n",
       "    <tr>\n",
       "      <th>2</th>\n",
       "      <td>9470290</td>\n",
       "      <td>31930241</td>\n",
       "      <td>7/15/2018 12:12</td>\n",
       "      <td>Rice</td>\n",
       "      <td>Rice</td>\n",
       "      <td>supermarket</td>\n",
       "      <td>64000.0</td>\n",
       "      <td>0</td>\n",
       "      <td>3</td>\n",
       "      <td>2018-07</td>\n",
       "    </tr>\n",
       "    <tr>\n",
       "      <th>3</th>\n",
       "      <td>9643416</td>\n",
       "      <td>32418582</td>\n",
       "      <td>7/24/2018 8:27</td>\n",
       "      <td>Rice</td>\n",
       "      <td>Rice</td>\n",
       "      <td>minimarket</td>\n",
       "      <td>65000.0</td>\n",
       "      <td>0</td>\n",
       "      <td>1</td>\n",
       "      <td>2018-07</td>\n",
       "    </tr>\n",
       "    <tr>\n",
       "      <th>4</th>\n",
       "      <td>9692093</td>\n",
       "      <td>32561236</td>\n",
       "      <td>7/26/2018 11:28</td>\n",
       "      <td>Rice</td>\n",
       "      <td>Rice</td>\n",
       "      <td>supermarket</td>\n",
       "      <td>124500.0</td>\n",
       "      <td>0</td>\n",
       "      <td>1</td>\n",
       "      <td>2018-07</td>\n",
       "    </tr>\n",
       "  </tbody>\n",
       "</table>\n",
       "</div>"
      ],
      "text/plain": [
       "   receipt_id  receipts_item_id    purchase_time category sub_category  \\\n",
       "0     9622257          32369294  7/22/2018 21:19     Rice         Rice   \n",
       "1     9446359          31885876  7/15/2018 16:17     Rice         Rice   \n",
       "2     9470290          31930241  7/15/2018 12:12     Rice         Rice   \n",
       "3     9643416          32418582   7/24/2018 8:27     Rice         Rice   \n",
       "4     9692093          32561236  7/26/2018 11:28     Rice         Rice   \n",
       "\n",
       "        format  unit_price  discount  quantity yearmonth  \n",
       "0  supermarket    128000.0         0         1   2018-07  \n",
       "1   minimarket    102750.0         0         1   2018-07  \n",
       "2  supermarket     64000.0         0         3   2018-07  \n",
       "3   minimarket     65000.0         0         1   2018-07  \n",
       "4  supermarket    124500.0         0         1   2018-07  "
      ]
     },
     "execution_count": 265,
     "metadata": {},
     "output_type": "execute_result"
    }
   ],
   "source": [
    "rice.head()"
   ]
  },
  {
   "cell_type": "code",
   "execution_count": 266,
   "metadata": {},
   "outputs": [
    {
     "data": {
      "text/html": [
       "<div>\n",
       "<style scoped>\n",
       "    .dataframe tbody tr th:only-of-type {\n",
       "        vertical-align: middle;\n",
       "    }\n",
       "\n",
       "    .dataframe tbody tr th {\n",
       "        vertical-align: top;\n",
       "    }\n",
       "\n",
       "    .dataframe thead th {\n",
       "        text-align: right;\n",
       "    }\n",
       "</style>\n",
       "<table border=\"1\" class=\"dataframe\">\n",
       "  <thead>\n",
       "    <tr style=\"text-align: right;\">\n",
       "      <th></th>\n",
       "      <th>receipts_item_id</th>\n",
       "      <th>purchase_time</th>\n",
       "      <th>category</th>\n",
       "      <th>sub_category</th>\n",
       "    </tr>\n",
       "  </thead>\n",
       "  <tbody>\n",
       "    <tr>\n",
       "      <th>0</th>\n",
       "      <td>32369294</td>\n",
       "      <td>7/22/2018 21:19</td>\n",
       "      <td>Rice</td>\n",
       "      <td>Rice</td>\n",
       "    </tr>\n",
       "    <tr>\n",
       "      <th>1</th>\n",
       "      <td>31885876</td>\n",
       "      <td>7/15/2018 16:17</td>\n",
       "      <td>Rice</td>\n",
       "      <td>Rice</td>\n",
       "    </tr>\n",
       "    <tr>\n",
       "      <th>2</th>\n",
       "      <td>31930241</td>\n",
       "      <td>7/15/2018 12:12</td>\n",
       "      <td>Rice</td>\n",
       "      <td>Rice</td>\n",
       "    </tr>\n",
       "    <tr>\n",
       "      <th>3</th>\n",
       "      <td>32418582</td>\n",
       "      <td>7/24/2018 8:27</td>\n",
       "      <td>Rice</td>\n",
       "      <td>Rice</td>\n",
       "    </tr>\n",
       "    <tr>\n",
       "      <th>4</th>\n",
       "      <td>32561236</td>\n",
       "      <td>7/26/2018 11:28</td>\n",
       "      <td>Rice</td>\n",
       "      <td>Rice</td>\n",
       "    </tr>\n",
       "  </tbody>\n",
       "</table>\n",
       "</div>"
      ],
      "text/plain": [
       "   receipts_item_id    purchase_time category sub_category\n",
       "0          32369294  7/22/2018 21:19     Rice         Rice\n",
       "1          31885876  7/15/2018 16:17     Rice         Rice\n",
       "2          31930241  7/15/2018 12:12     Rice         Rice\n",
       "3          32418582   7/24/2018 8:27     Rice         Rice\n",
       "4          32561236  7/26/2018 11:28     Rice         Rice"
      ]
     },
     "execution_count": 266,
     "metadata": {},
     "output_type": "execute_result"
    }
   ],
   "source": [
    "#your code here\n",
    "rice.iloc[0:5 , 1:5]"
   ]
  },
  {
   "cell_type": "markdown",
   "metadata": {},
   "source": [
    "#### Extra Challenge\n",
    "Lakukan subsetting untuk menampilkan **2 baris terbawah** dan **4 kolom pertama**.\n",
    "\n",
    "Gunakan beberapa metode subsetting dibawah ini :\n",
    "1. Menggunakan `.iloc[ , ]`\n",
    "2. Menggunakan method `tail(2)` untuk mendapatkan 2 baris terbawah, kemudian lakukan chaining dengan `.iloc`\n",
    "3. Gunakan `.iloc` kemudian tambahkan `(rice.shape[0]-2):` didalamnya, untuk mendapatkan 2 baris terakhir."
   ]
  },
  {
   "cell_type": "code",
   "execution_count": 267,
   "metadata": {},
   "outputs": [
    {
     "data": {
      "text/html": [
       "<div>\n",
       "<style scoped>\n",
       "    .dataframe tbody tr th:only-of-type {\n",
       "        vertical-align: middle;\n",
       "    }\n",
       "\n",
       "    .dataframe tbody tr th {\n",
       "        vertical-align: top;\n",
       "    }\n",
       "\n",
       "    .dataframe thead th {\n",
       "        text-align: right;\n",
       "    }\n",
       "</style>\n",
       "<table border=\"1\" class=\"dataframe\">\n",
       "  <thead>\n",
       "    <tr style=\"text-align: right;\">\n",
       "      <th></th>\n",
       "      <th>receipt_id</th>\n",
       "      <th>receipts_item_id</th>\n",
       "      <th>purchase_time</th>\n",
       "      <th>category</th>\n",
       "    </tr>\n",
       "  </thead>\n",
       "  <tbody>\n",
       "    <tr>\n",
       "      <th>11998</th>\n",
       "      <td>5678748</td>\n",
       "      <td>17317935</td>\n",
       "      <td>12/8/2017 22:04</td>\n",
       "      <td>Rice</td>\n",
       "    </tr>\n",
       "    <tr>\n",
       "      <th>11999</th>\n",
       "      <td>5702411</td>\n",
       "      <td>17341559</td>\n",
       "      <td>12/10/2017 17:04</td>\n",
       "      <td>Rice</td>\n",
       "    </tr>\n",
       "  </tbody>\n",
       "</table>\n",
       "</div>"
      ],
      "text/plain": [
       "       receipt_id  receipts_item_id     purchase_time category\n",
       "11998     5678748          17317935   12/8/2017 22:04     Rice\n",
       "11999     5702411          17341559  12/10/2017 17:04     Rice"
      ]
     },
     "execution_count": 267,
     "metadata": {},
     "output_type": "execute_result"
    }
   ],
   "source": [
    "#your code here\n",
    "rice.iloc[-2: , 0:4]"
   ]
  },
  {
   "cell_type": "markdown",
   "metadata": {},
   "source": [
    "#### .loc\n",
    "\n",
    "> Syntax: `df.loc[baris, kolom]` \n",
    "\n",
    "Menggunakan `.loc`, kita bisa mengambil baris dan kolom berdasarkan namanya. Contoh kita ingin mengambil baris dengan `receipt_id` 9643416 dan 9706953, serta mengambil semua kolom. Gunakan DataFrame `rice_index`!"
   ]
  },
  {
   "cell_type": "code",
   "execution_count": 268,
   "metadata": {},
   "outputs": [
    {
     "data": {
      "text/html": [
       "<div>\n",
       "<style scoped>\n",
       "    .dataframe tbody tr th:only-of-type {\n",
       "        vertical-align: middle;\n",
       "    }\n",
       "\n",
       "    .dataframe tbody tr th {\n",
       "        vertical-align: top;\n",
       "    }\n",
       "\n",
       "    .dataframe thead th {\n",
       "        text-align: right;\n",
       "    }\n",
       "</style>\n",
       "<table border=\"1\" class=\"dataframe\">\n",
       "  <thead>\n",
       "    <tr style=\"text-align: right;\">\n",
       "      <th></th>\n",
       "      <th>Unnamed: 0</th>\n",
       "      <th>receipts_item_id</th>\n",
       "      <th>purchase_time</th>\n",
       "      <th>category</th>\n",
       "      <th>sub_category</th>\n",
       "      <th>format</th>\n",
       "      <th>unit_price</th>\n",
       "      <th>discount</th>\n",
       "      <th>quantity</th>\n",
       "      <th>yearmonth</th>\n",
       "    </tr>\n",
       "    <tr>\n",
       "      <th>receipt_id</th>\n",
       "      <th></th>\n",
       "      <th></th>\n",
       "      <th></th>\n",
       "      <th></th>\n",
       "      <th></th>\n",
       "      <th></th>\n",
       "      <th></th>\n",
       "      <th></th>\n",
       "      <th></th>\n",
       "      <th></th>\n",
       "    </tr>\n",
       "  </thead>\n",
       "  <tbody>\n",
       "    <tr>\n",
       "      <th>9622257</th>\n",
       "      <td>1</td>\n",
       "      <td>32369294</td>\n",
       "      <td>7/22/2018 21:19</td>\n",
       "      <td>Rice</td>\n",
       "      <td>Rice</td>\n",
       "      <td>supermarket</td>\n",
       "      <td>128000.0</td>\n",
       "      <td>0</td>\n",
       "      <td>1</td>\n",
       "      <td>2018-07</td>\n",
       "    </tr>\n",
       "    <tr>\n",
       "      <th>9446359</th>\n",
       "      <td>2</td>\n",
       "      <td>31885876</td>\n",
       "      <td>7/15/2018 16:17</td>\n",
       "      <td>Rice</td>\n",
       "      <td>Rice</td>\n",
       "      <td>minimarket</td>\n",
       "      <td>102750.0</td>\n",
       "      <td>0</td>\n",
       "      <td>1</td>\n",
       "      <td>2018-07</td>\n",
       "    </tr>\n",
       "    <tr>\n",
       "      <th>9470290</th>\n",
       "      <td>3</td>\n",
       "      <td>31930241</td>\n",
       "      <td>7/15/2018 12:12</td>\n",
       "      <td>Rice</td>\n",
       "      <td>Rice</td>\n",
       "      <td>supermarket</td>\n",
       "      <td>64000.0</td>\n",
       "      <td>0</td>\n",
       "      <td>3</td>\n",
       "      <td>2018-07</td>\n",
       "    </tr>\n",
       "    <tr>\n",
       "      <th>9643416</th>\n",
       "      <td>4</td>\n",
       "      <td>32418582</td>\n",
       "      <td>7/24/2018 8:27</td>\n",
       "      <td>Rice</td>\n",
       "      <td>Rice</td>\n",
       "      <td>minimarket</td>\n",
       "      <td>65000.0</td>\n",
       "      <td>0</td>\n",
       "      <td>1</td>\n",
       "      <td>2018-07</td>\n",
       "    </tr>\n",
       "    <tr>\n",
       "      <th>9692093</th>\n",
       "      <td>5</td>\n",
       "      <td>32561236</td>\n",
       "      <td>7/26/2018 11:28</td>\n",
       "      <td>Rice</td>\n",
       "      <td>Rice</td>\n",
       "      <td>supermarket</td>\n",
       "      <td>124500.0</td>\n",
       "      <td>0</td>\n",
       "      <td>1</td>\n",
       "      <td>2018-07</td>\n",
       "    </tr>\n",
       "  </tbody>\n",
       "</table>\n",
       "</div>"
      ],
      "text/plain": [
       "            Unnamed: 0  receipts_item_id    purchase_time category  \\\n",
       "receipt_id                                                           \n",
       "9622257              1          32369294  7/22/2018 21:19     Rice   \n",
       "9446359              2          31885876  7/15/2018 16:17     Rice   \n",
       "9470290              3          31930241  7/15/2018 12:12     Rice   \n",
       "9643416              4          32418582   7/24/2018 8:27     Rice   \n",
       "9692093              5          32561236  7/26/2018 11:28     Rice   \n",
       "\n",
       "           sub_category       format  unit_price  discount  quantity yearmonth  \n",
       "receipt_id                                                                      \n",
       "9622257            Rice  supermarket    128000.0         0         1   2018-07  \n",
       "9446359            Rice   minimarket    102750.0         0         1   2018-07  \n",
       "9470290            Rice  supermarket     64000.0         0         3   2018-07  \n",
       "9643416            Rice   minimarket     65000.0         0         1   2018-07  \n",
       "9692093            Rice  supermarket    124500.0         0         1   2018-07  "
      ]
     },
     "execution_count": 268,
     "metadata": {},
     "output_type": "execute_result"
    }
   ],
   "source": [
    "rice_new.head()"
   ]
  },
  {
   "cell_type": "code",
   "execution_count": 269,
   "metadata": {},
   "outputs": [
    {
     "data": {
      "text/html": [
       "<div>\n",
       "<style scoped>\n",
       "    .dataframe tbody tr th:only-of-type {\n",
       "        vertical-align: middle;\n",
       "    }\n",
       "\n",
       "    .dataframe tbody tr th {\n",
       "        vertical-align: top;\n",
       "    }\n",
       "\n",
       "    .dataframe thead th {\n",
       "        text-align: right;\n",
       "    }\n",
       "</style>\n",
       "<table border=\"1\" class=\"dataframe\">\n",
       "  <thead>\n",
       "    <tr style=\"text-align: right;\">\n",
       "      <th></th>\n",
       "      <th>receipts_item_id</th>\n",
       "      <th>sub_category</th>\n",
       "      <th>format</th>\n",
       "    </tr>\n",
       "    <tr>\n",
       "      <th>receipt_id</th>\n",
       "      <th></th>\n",
       "      <th></th>\n",
       "      <th></th>\n",
       "    </tr>\n",
       "  </thead>\n",
       "  <tbody>\n",
       "    <tr>\n",
       "      <th>9446359</th>\n",
       "      <td>31885876</td>\n",
       "      <td>Rice</td>\n",
       "      <td>minimarket</td>\n",
       "    </tr>\n",
       "    <tr>\n",
       "      <th>9643416</th>\n",
       "      <td>32418582</td>\n",
       "      <td>Rice</td>\n",
       "      <td>minimarket</td>\n",
       "    </tr>\n",
       "    <tr>\n",
       "      <th>9692093</th>\n",
       "      <td>32561236</td>\n",
       "      <td>Rice</td>\n",
       "      <td>supermarket</td>\n",
       "    </tr>\n",
       "  </tbody>\n",
       "</table>\n",
       "</div>"
      ],
      "text/plain": [
       "            receipts_item_id sub_category       format\n",
       "receipt_id                                            \n",
       "9446359             31885876         Rice   minimarket\n",
       "9643416             32418582         Rice   minimarket\n",
       "9692093             32561236         Rice  supermarket"
      ]
     },
     "execution_count": 269,
     "metadata": {},
     "output_type": "execute_result"
    }
   ],
   "source": [
    "#your code here\n",
    "\n",
    "rice_new.loc[ [9446359,9643416,9692093] , [\"receipts_item_id\", \"sub_category\", \"format\"] ]"
   ]
  },
  {
   "cell_type": "code",
   "execution_count": 270,
   "metadata": {
    "scrolled": true
   },
   "outputs": [
    {
     "data": {
      "text/html": [
       "<div>\n",
       "<style scoped>\n",
       "    .dataframe tbody tr th:only-of-type {\n",
       "        vertical-align: middle;\n",
       "    }\n",
       "\n",
       "    .dataframe tbody tr th {\n",
       "        vertical-align: top;\n",
       "    }\n",
       "\n",
       "    .dataframe thead th {\n",
       "        text-align: right;\n",
       "    }\n",
       "</style>\n",
       "<table border=\"1\" class=\"dataframe\">\n",
       "  <thead>\n",
       "    <tr style=\"text-align: right;\">\n",
       "      <th></th>\n",
       "      <th>receipts_item_id</th>\n",
       "      <th>sub_category</th>\n",
       "      <th>format</th>\n",
       "    </tr>\n",
       "  </thead>\n",
       "  <tbody>\n",
       "    <tr>\n",
       "      <th>0</th>\n",
       "      <td>32369294</td>\n",
       "      <td>Rice</td>\n",
       "      <td>supermarket</td>\n",
       "    </tr>\n",
       "    <tr>\n",
       "      <th>5</th>\n",
       "      <td>32030785</td>\n",
       "      <td>Rice</td>\n",
       "      <td>minimarket</td>\n",
       "    </tr>\n",
       "    <tr>\n",
       "      <th>6</th>\n",
       "      <td>32935097</td>\n",
       "      <td>Rice</td>\n",
       "      <td>supermarket</td>\n",
       "    </tr>\n",
       "    <tr>\n",
       "      <th>8</th>\n",
       "      <td>32573843</td>\n",
       "      <td>Rice</td>\n",
       "      <td>minimarket</td>\n",
       "    </tr>\n",
       "  </tbody>\n",
       "</table>\n",
       "</div>"
      ],
      "text/plain": [
       "   receipts_item_id sub_category       format\n",
       "0          32369294         Rice  supermarket\n",
       "5          32030785         Rice   minimarket\n",
       "6          32935097         Rice  supermarket\n",
       "8          32573843         Rice   minimarket"
      ]
     },
     "execution_count": 270,
     "metadata": {},
     "output_type": "execute_result"
    }
   ],
   "source": [
    "#your code here\n",
    "\n",
    "rice.loc[ [0,5,6,8] ,[\"receipts_item_id\", \"sub_category\", \"format\"]]"
   ]
  },
  {
   "cell_type": "markdown",
   "metadata": {},
   "source": [
    "---\n",
    "### End of Day 3"
   ]
  },
  {
   "cell_type": "markdown",
   "metadata": {},
   "source": [
    "#### Dive Deeper:\n",
    "Baca data `companies.csv`dan gunakan `index_col=1`, kemudian tampilkan beberapa baris menggunakan method `head()` atau `tail()`\n",
    "\n",
    "Dengan menggunakan metode indexing, jawab pertanyaan dibawah ini!\n",
    "\n",
    "1. Tampilkan lokasi kantor *Li and Partners*?\n",
    "2. Tampilkan nilai `Returns` yang dihasilkan oleh PT. Algoritma Data Indonesia?\n",
    "3. Tampilkan nilai `Forecasted Growth` untuk Palembang Konsultasi?"
   ]
  },
  {
   "cell_type": "code",
   "execution_count": 271,
   "metadata": {},
   "outputs": [
    {
     "data": {
      "text/html": [
       "<div>\n",
       "<style scoped>\n",
       "    .dataframe tbody tr th:only-of-type {\n",
       "        vertical-align: middle;\n",
       "    }\n",
       "\n",
       "    .dataframe tbody tr th {\n",
       "        vertical-align: top;\n",
       "    }\n",
       "\n",
       "    .dataframe thead th {\n",
       "        text-align: right;\n",
       "    }\n",
       "</style>\n",
       "<table border=\"1\" class=\"dataframe\">\n",
       "  <thead>\n",
       "    <tr style=\"text-align: right;\">\n",
       "      <th></th>\n",
       "      <th>ID</th>\n",
       "      <th>Consulting Sales</th>\n",
       "      <th>Software Sales</th>\n",
       "      <th>Forecasted Growth</th>\n",
       "      <th>Returns</th>\n",
       "      <th>Month</th>\n",
       "      <th>Day</th>\n",
       "      <th>Year</th>\n",
       "      <th>Location</th>\n",
       "      <th>Account</th>\n",
       "    </tr>\n",
       "    <tr>\n",
       "      <th>Customer Name</th>\n",
       "      <th></th>\n",
       "      <th></th>\n",
       "      <th></th>\n",
       "      <th></th>\n",
       "      <th></th>\n",
       "      <th></th>\n",
       "      <th></th>\n",
       "      <th></th>\n",
       "      <th></th>\n",
       "      <th></th>\n",
       "    </tr>\n",
       "  </thead>\n",
       "  <tbody>\n",
       "    <tr>\n",
       "      <th>New Media Group</th>\n",
       "      <td>30940</td>\n",
       "      <td>IDR7125000</td>\n",
       "      <td>IDR5500000</td>\n",
       "      <td>30.00%</td>\n",
       "      <td>IDR1,500,000</td>\n",
       "      <td>1</td>\n",
       "      <td>10</td>\n",
       "      <td>2017</td>\n",
       "      <td>Jakarta</td>\n",
       "      <td>Enterprise</td>\n",
       "    </tr>\n",
       "    <tr>\n",
       "      <th>Li and Partners</th>\n",
       "      <td>82391</td>\n",
       "      <td>IDR420000</td>\n",
       "      <td>IDR820000</td>\n",
       "      <td>10.00%</td>\n",
       "      <td>IDR400,000</td>\n",
       "      <td>6</td>\n",
       "      <td>15</td>\n",
       "      <td>2016</td>\n",
       "      <td>Jakarta</td>\n",
       "      <td>Startup</td>\n",
       "    </tr>\n",
       "    <tr>\n",
       "      <th>PT. Kreasi Metrik Solusi</th>\n",
       "      <td>18374</td>\n",
       "      <td>0</td>\n",
       "      <td>IDR550403</td>\n",
       "      <td>25.00%</td>\n",
       "      <td>0</td>\n",
       "      <td>3</td>\n",
       "      <td>29</td>\n",
       "      <td>2012</td>\n",
       "      <td>Surabaya</td>\n",
       "      <td>Enterprise</td>\n",
       "    </tr>\n",
       "    <tr>\n",
       "      <th>PT. Algoritma Data Indonesia</th>\n",
       "      <td>57531</td>\n",
       "      <td>IDR850000</td>\n",
       "      <td>IDR395500</td>\n",
       "      <td>4.00%</td>\n",
       "      <td>0</td>\n",
       "      <td>7</td>\n",
       "      <td>17</td>\n",
       "      <td>2017</td>\n",
       "      <td>Jakarta</td>\n",
       "      <td>Startup</td>\n",
       "    </tr>\n",
       "    <tr>\n",
       "      <th>Palembang Konsultansi</th>\n",
       "      <td>19002</td>\n",
       "      <td>IDR2115000</td>\n",
       "      <td>0</td>\n",
       "      <td>-15.00%</td>\n",
       "      <td>0</td>\n",
       "      <td>2</td>\n",
       "      <td>24</td>\n",
       "      <td>2018</td>\n",
       "      <td>Bandung</td>\n",
       "      <td>Startup</td>\n",
       "    </tr>\n",
       "  </tbody>\n",
       "</table>\n",
       "</div>"
      ],
      "text/plain": [
       "                                 ID Consulting Sales Software Sales  \\\n",
       "Customer Name                                                         \n",
       "New Media Group               30940       IDR7125000     IDR5500000   \n",
       "Li and Partners               82391        IDR420000      IDR820000   \n",
       "PT. Kreasi Metrik Solusi      18374                0      IDR550403   \n",
       "PT. Algoritma Data Indonesia  57531        IDR850000      IDR395500   \n",
       "Palembang Konsultansi         19002       IDR2115000              0   \n",
       "\n",
       "                             Forecasted Growth       Returns  Month  Day  \\\n",
       "Customer Name                                                              \n",
       "New Media Group                         30.00%  IDR1,500,000      1   10   \n",
       "Li and Partners                         10.00%    IDR400,000      6   15   \n",
       "PT. Kreasi Metrik Solusi                25.00%             0      3   29   \n",
       "PT. Algoritma Data Indonesia             4.00%             0      7   17   \n",
       "Palembang Konsultansi                  -15.00%             0      2   24   \n",
       "\n",
       "                              Year  Location     Account  \n",
       "Customer Name                                             \n",
       "New Media Group               2017   Jakarta  Enterprise  \n",
       "Li and Partners               2016   Jakarta     Startup  \n",
       "PT. Kreasi Metrik Solusi      2012  Surabaya  Enterprise  \n",
       "PT. Algoritma Data Indonesia  2017   Jakarta     Startup  \n",
       "Palembang Konsultansi         2018   Bandung     Startup  "
      ]
     },
     "execution_count": 271,
     "metadata": {},
     "output_type": "execute_result"
    }
   ],
   "source": [
    "clients = pd.read_csv(\"data_input/companies.csv\", index_col=1)\n",
    "clients.head()"
   ]
  },
  {
   "cell_type": "code",
   "execution_count": 272,
   "metadata": {},
   "outputs": [],
   "source": [
    "#your code here\n",
    "\n"
   ]
  },
  {
   "cell_type": "code",
   "execution_count": 273,
   "metadata": {},
   "outputs": [],
   "source": [
    "#your code here\n",
    "\n"
   ]
  },
  {
   "cell_type": "code",
   "execution_count": 274,
   "metadata": {},
   "outputs": [],
   "source": [
    "#your code here\n",
    "\n"
   ]
  },
  {
   "cell_type": "markdown",
   "metadata": {},
   "source": [
    "### Conditional Subsetting\n",
    "\n",
    "Selain menggunakan `.loc` dan `.iloc`, kita dapat melakukan subsetting berdasarkan kondisi tertentu. Misal pada dataframe `rice`, kita ingin mengambil beberapa data dengan kondisi sebagai berikut:\n",
    "\n",
    "- Transaksi yang terjadi di supermarket: `.format == 'supermarket'`\n",
    "- Transaksi dengan produk yang harganya lebih dari sama dengan 200000: `.unit_price >= 200000`\n",
    "- Transaksi dimana kuantitas tidak sama dengan 0: `.quantity != 0`\n",
    "\n",
    "Syntax penulisan untuk conditional subsetting adalah:\n",
    "\n",
    "**`df[df['column_name'] <comparison_operator> <value>]`**\n",
    "\n",
    "atau\n",
    "\n",
    "**`df[df.column_name <comparison_operator> <value>]`**\n",
    "\n",
    "Contoh comparison_operator adalah seperti `==`, `!=`, `>`, `>=`, `<`, `<=`."
   ]
  },
  {
   "cell_type": "code",
   "execution_count": 275,
   "metadata": {},
   "outputs": [
    {
     "data": {
      "text/html": [
       "<div>\n",
       "<style scoped>\n",
       "    .dataframe tbody tr th:only-of-type {\n",
       "        vertical-align: middle;\n",
       "    }\n",
       "\n",
       "    .dataframe tbody tr th {\n",
       "        vertical-align: top;\n",
       "    }\n",
       "\n",
       "    .dataframe thead th {\n",
       "        text-align: right;\n",
       "    }\n",
       "</style>\n",
       "<table border=\"1\" class=\"dataframe\">\n",
       "  <thead>\n",
       "    <tr style=\"text-align: right;\">\n",
       "      <th></th>\n",
       "      <th>Unnamed: 0</th>\n",
       "      <th>receipts_item_id</th>\n",
       "      <th>purchase_time</th>\n",
       "      <th>category</th>\n",
       "      <th>sub_category</th>\n",
       "      <th>format</th>\n",
       "      <th>unit_price</th>\n",
       "      <th>discount</th>\n",
       "      <th>quantity</th>\n",
       "      <th>yearmonth</th>\n",
       "    </tr>\n",
       "    <tr>\n",
       "      <th>receipt_id</th>\n",
       "      <th></th>\n",
       "      <th></th>\n",
       "      <th></th>\n",
       "      <th></th>\n",
       "      <th></th>\n",
       "      <th></th>\n",
       "      <th></th>\n",
       "      <th></th>\n",
       "      <th></th>\n",
       "      <th></th>\n",
       "    </tr>\n",
       "  </thead>\n",
       "  <tbody>\n",
       "    <tr>\n",
       "      <th>9622257</th>\n",
       "      <td>1</td>\n",
       "      <td>32369294</td>\n",
       "      <td>7/22/2018 21:19</td>\n",
       "      <td>Rice</td>\n",
       "      <td>Rice</td>\n",
       "      <td>supermarket</td>\n",
       "      <td>128000.0</td>\n",
       "      <td>0</td>\n",
       "      <td>1</td>\n",
       "      <td>2018-07</td>\n",
       "    </tr>\n",
       "    <tr>\n",
       "      <th>9446359</th>\n",
       "      <td>2</td>\n",
       "      <td>31885876</td>\n",
       "      <td>7/15/2018 16:17</td>\n",
       "      <td>Rice</td>\n",
       "      <td>Rice</td>\n",
       "      <td>minimarket</td>\n",
       "      <td>102750.0</td>\n",
       "      <td>0</td>\n",
       "      <td>1</td>\n",
       "      <td>2018-07</td>\n",
       "    </tr>\n",
       "    <tr>\n",
       "      <th>9470290</th>\n",
       "      <td>3</td>\n",
       "      <td>31930241</td>\n",
       "      <td>7/15/2018 12:12</td>\n",
       "      <td>Rice</td>\n",
       "      <td>Rice</td>\n",
       "      <td>supermarket</td>\n",
       "      <td>64000.0</td>\n",
       "      <td>0</td>\n",
       "      <td>3</td>\n",
       "      <td>2018-07</td>\n",
       "    </tr>\n",
       "    <tr>\n",
       "      <th>9643416</th>\n",
       "      <td>4</td>\n",
       "      <td>32418582</td>\n",
       "      <td>7/24/2018 8:27</td>\n",
       "      <td>Rice</td>\n",
       "      <td>Rice</td>\n",
       "      <td>minimarket</td>\n",
       "      <td>65000.0</td>\n",
       "      <td>0</td>\n",
       "      <td>1</td>\n",
       "      <td>2018-07</td>\n",
       "    </tr>\n",
       "    <tr>\n",
       "      <th>9692093</th>\n",
       "      <td>5</td>\n",
       "      <td>32561236</td>\n",
       "      <td>7/26/2018 11:28</td>\n",
       "      <td>Rice</td>\n",
       "      <td>Rice</td>\n",
       "      <td>supermarket</td>\n",
       "      <td>124500.0</td>\n",
       "      <td>0</td>\n",
       "      <td>1</td>\n",
       "      <td>2018-07</td>\n",
       "    </tr>\n",
       "  </tbody>\n",
       "</table>\n",
       "</div>"
      ],
      "text/plain": [
       "            Unnamed: 0  receipts_item_id    purchase_time category  \\\n",
       "receipt_id                                                           \n",
       "9622257              1          32369294  7/22/2018 21:19     Rice   \n",
       "9446359              2          31885876  7/15/2018 16:17     Rice   \n",
       "9470290              3          31930241  7/15/2018 12:12     Rice   \n",
       "9643416              4          32418582   7/24/2018 8:27     Rice   \n",
       "9692093              5          32561236  7/26/2018 11:28     Rice   \n",
       "\n",
       "           sub_category       format  unit_price  discount  quantity yearmonth  \n",
       "receipt_id                                                                      \n",
       "9622257            Rice  supermarket    128000.0         0         1   2018-07  \n",
       "9446359            Rice   minimarket    102750.0         0         1   2018-07  \n",
       "9470290            Rice  supermarket     64000.0         0         3   2018-07  \n",
       "9643416            Rice   minimarket     65000.0         0         1   2018-07  \n",
       "9692093            Rice  supermarket    124500.0         0         1   2018-07  "
      ]
     },
     "execution_count": 275,
     "metadata": {},
     "output_type": "execute_result"
    }
   ],
   "source": [
    "#your code here\n",
    "\n",
    "import pandas as pd\n",
    "\n",
    "rice = pd.read_csv(\"data_input/rice.csv\", index_col=\"receipt_id\")\n",
    "pd.DataFrame.head(rice, n=5)"
   ]
  },
  {
   "cell_type": "code",
   "execution_count": 276,
   "metadata": {},
   "outputs": [
    {
     "data": {
      "text/plain": [
       "receipt_id\n",
       "9622257    supermarket\n",
       "9446359     minimarket\n",
       "9470290    supermarket\n",
       "9643416     minimarket\n",
       "9692093    supermarket\n",
       "              ...     \n",
       "5760491    supermarket\n",
       "5598782     minimarket\n",
       "5735850    supermarket\n",
       "5678748     minimarket\n",
       "5702411     minimarket\n",
       "Name: format, Length: 12000, dtype: object"
      ]
     },
     "execution_count": 276,
     "metadata": {},
     "output_type": "execute_result"
    }
   ],
   "source": [
    "rice['format']\n",
    "\n",
    "# pakai square brackets karena kolum tdk selamanya hanya satu kata jadi antisipasi aja ya\n",
    "# bisa juga pakai dot seperti rice.format >> khusus jika cuman 1 kata saja"
   ]
  },
  {
   "cell_type": "code",
   "execution_count": 277,
   "metadata": {},
   "outputs": [
    {
     "data": {
      "text/plain": [
       "receipt_id\n",
       "9622257     True\n",
       "9446359    False\n",
       "9470290     True\n",
       "9643416    False\n",
       "9692093     True\n",
       "           ...  \n",
       "5760491     True\n",
       "5598782    False\n",
       "5735850     True\n",
       "5678748    False\n",
       "5702411    False\n",
       "Name: format, Length: 12000, dtype: bool"
      ]
     },
     "execution_count": 277,
     "metadata": {},
     "output_type": "execute_result"
    }
   ],
   "source": [
    "rice['format'] == 'supermarket'"
   ]
  },
  {
   "cell_type": "code",
   "execution_count": 278,
   "metadata": {},
   "outputs": [],
   "source": [
    "kondisi1 = rice[\"unit_price\"]>=2000\n",
    "kondisi2 = rice[\"format\"] == \"minimarket\""
   ]
  },
  {
   "cell_type": "code",
   "execution_count": 279,
   "metadata": {},
   "outputs": [
    {
     "data": {
      "text/html": [
       "<div>\n",
       "<style scoped>\n",
       "    .dataframe tbody tr th:only-of-type {\n",
       "        vertical-align: middle;\n",
       "    }\n",
       "\n",
       "    .dataframe tbody tr th {\n",
       "        vertical-align: top;\n",
       "    }\n",
       "\n",
       "    .dataframe thead th {\n",
       "        text-align: right;\n",
       "    }\n",
       "</style>\n",
       "<table border=\"1\" class=\"dataframe\">\n",
       "  <thead>\n",
       "    <tr style=\"text-align: right;\">\n",
       "      <th></th>\n",
       "      <th>Unnamed: 0</th>\n",
       "      <th>receipts_item_id</th>\n",
       "      <th>purchase_time</th>\n",
       "      <th>category</th>\n",
       "      <th>sub_category</th>\n",
       "      <th>format</th>\n",
       "      <th>unit_price</th>\n",
       "      <th>discount</th>\n",
       "      <th>quantity</th>\n",
       "      <th>yearmonth</th>\n",
       "    </tr>\n",
       "    <tr>\n",
       "      <th>receipt_id</th>\n",
       "      <th></th>\n",
       "      <th></th>\n",
       "      <th></th>\n",
       "      <th></th>\n",
       "      <th></th>\n",
       "      <th></th>\n",
       "      <th></th>\n",
       "      <th></th>\n",
       "      <th></th>\n",
       "      <th></th>\n",
       "    </tr>\n",
       "  </thead>\n",
       "  <tbody>\n",
       "    <tr>\n",
       "      <th>9446359</th>\n",
       "      <td>2</td>\n",
       "      <td>31885876</td>\n",
       "      <td>7/15/2018 16:17</td>\n",
       "      <td>Rice</td>\n",
       "      <td>Rice</td>\n",
       "      <td>minimarket</td>\n",
       "      <td>102750.0</td>\n",
       "      <td>0</td>\n",
       "      <td>1</td>\n",
       "      <td>2018-07</td>\n",
       "    </tr>\n",
       "    <tr>\n",
       "      <th>9643416</th>\n",
       "      <td>4</td>\n",
       "      <td>32418582</td>\n",
       "      <td>7/24/2018 8:27</td>\n",
       "      <td>Rice</td>\n",
       "      <td>Rice</td>\n",
       "      <td>minimarket</td>\n",
       "      <td>65000.0</td>\n",
       "      <td>0</td>\n",
       "      <td>1</td>\n",
       "      <td>2018-07</td>\n",
       "    </tr>\n",
       "    <tr>\n",
       "      <th>9504155</th>\n",
       "      <td>6</td>\n",
       "      <td>32030785</td>\n",
       "      <td>7/17/2018 18:05</td>\n",
       "      <td>Rice</td>\n",
       "      <td>Rice</td>\n",
       "      <td>minimarket</td>\n",
       "      <td>63500.0</td>\n",
       "      <td>0</td>\n",
       "      <td>1</td>\n",
       "      <td>2018-07</td>\n",
       "    </tr>\n",
       "    <tr>\n",
       "      <th>9706953</th>\n",
       "      <td>8</td>\n",
       "      <td>32593606</td>\n",
       "      <td>7/25/2018 12:48</td>\n",
       "      <td>Rice</td>\n",
       "      <td>Rice</td>\n",
       "      <td>minimarket</td>\n",
       "      <td>62500.0</td>\n",
       "      <td>0</td>\n",
       "      <td>1</td>\n",
       "      <td>2018-07</td>\n",
       "    </tr>\n",
       "    <tr>\n",
       "      <th>9699516</th>\n",
       "      <td>9</td>\n",
       "      <td>32573843</td>\n",
       "      <td>7/26/2018 16:41</td>\n",
       "      <td>Rice</td>\n",
       "      <td>Rice</td>\n",
       "      <td>minimarket</td>\n",
       "      <td>62500.0</td>\n",
       "      <td>0</td>\n",
       "      <td>1</td>\n",
       "      <td>2018-07</td>\n",
       "    </tr>\n",
       "    <tr>\n",
       "      <th>...</th>\n",
       "      <td>...</td>\n",
       "      <td>...</td>\n",
       "      <td>...</td>\n",
       "      <td>...</td>\n",
       "      <td>...</td>\n",
       "      <td>...</td>\n",
       "      <td>...</td>\n",
       "      <td>...</td>\n",
       "      <td>...</td>\n",
       "      <td>...</td>\n",
       "    </tr>\n",
       "    <tr>\n",
       "      <th>5689411</th>\n",
       "      <td>11992</td>\n",
       "      <td>17270653</td>\n",
       "      <td>12/9/2017 17:05</td>\n",
       "      <td>Rice</td>\n",
       "      <td>Rice</td>\n",
       "      <td>minimarket</td>\n",
       "      <td>59500.0</td>\n",
       "      <td>3000</td>\n",
       "      <td>1</td>\n",
       "      <td>2017-12</td>\n",
       "    </tr>\n",
       "    <tr>\n",
       "      <th>5909637</th>\n",
       "      <td>11995</td>\n",
       "      <td>17981732</td>\n",
       "      <td>12/26/2017 9:43</td>\n",
       "      <td>Rice</td>\n",
       "      <td>Rice</td>\n",
       "      <td>minimarket</td>\n",
       "      <td>128000.0</td>\n",
       "      <td>0</td>\n",
       "      <td>1</td>\n",
       "      <td>2017-12</td>\n",
       "    </tr>\n",
       "    <tr>\n",
       "      <th>5598782</th>\n",
       "      <td>11997</td>\n",
       "      <td>16999147</td>\n",
       "      <td>12/2/2017 14:12</td>\n",
       "      <td>Rice</td>\n",
       "      <td>Rice</td>\n",
       "      <td>minimarket</td>\n",
       "      <td>64000.0</td>\n",
       "      <td>0</td>\n",
       "      <td>1</td>\n",
       "      <td>2017-12</td>\n",
       "    </tr>\n",
       "    <tr>\n",
       "      <th>5678748</th>\n",
       "      <td>11999</td>\n",
       "      <td>17317935</td>\n",
       "      <td>12/8/2017 22:04</td>\n",
       "      <td>Rice</td>\n",
       "      <td>Rice</td>\n",
       "      <td>minimarket</td>\n",
       "      <td>59500.0</td>\n",
       "      <td>3000</td>\n",
       "      <td>1</td>\n",
       "      <td>2017-12</td>\n",
       "    </tr>\n",
       "    <tr>\n",
       "      <th>5702411</th>\n",
       "      <td>12000</td>\n",
       "      <td>17341559</td>\n",
       "      <td>12/10/2017 17:04</td>\n",
       "      <td>Rice</td>\n",
       "      <td>Rice</td>\n",
       "      <td>minimarket</td>\n",
       "      <td>59500.0</td>\n",
       "      <td>3000</td>\n",
       "      <td>1</td>\n",
       "      <td>2017-12</td>\n",
       "    </tr>\n",
       "  </tbody>\n",
       "</table>\n",
       "<p>7088 rows × 10 columns</p>\n",
       "</div>"
      ],
      "text/plain": [
       "            Unnamed: 0  receipts_item_id     purchase_time category  \\\n",
       "receipt_id                                                            \n",
       "9446359              2          31885876   7/15/2018 16:17     Rice   \n",
       "9643416              4          32418582    7/24/2018 8:27     Rice   \n",
       "9504155              6          32030785   7/17/2018 18:05     Rice   \n",
       "9706953              8          32593606   7/25/2018 12:48     Rice   \n",
       "9699516              9          32573843   7/26/2018 16:41     Rice   \n",
       "...                ...               ...               ...      ...   \n",
       "5689411          11992          17270653   12/9/2017 17:05     Rice   \n",
       "5909637          11995          17981732   12/26/2017 9:43     Rice   \n",
       "5598782          11997          16999147   12/2/2017 14:12     Rice   \n",
       "5678748          11999          17317935   12/8/2017 22:04     Rice   \n",
       "5702411          12000          17341559  12/10/2017 17:04     Rice   \n",
       "\n",
       "           sub_category      format  unit_price  discount  quantity yearmonth  \n",
       "receipt_id                                                                     \n",
       "9446359            Rice  minimarket    102750.0         0         1   2018-07  \n",
       "9643416            Rice  minimarket     65000.0         0         1   2018-07  \n",
       "9504155            Rice  minimarket     63500.0         0         1   2018-07  \n",
       "9706953            Rice  minimarket     62500.0         0         1   2018-07  \n",
       "9699516            Rice  minimarket     62500.0         0         1   2018-07  \n",
       "...                 ...         ...         ...       ...       ...       ...  \n",
       "5689411            Rice  minimarket     59500.0      3000         1   2017-12  \n",
       "5909637            Rice  minimarket    128000.0         0         1   2017-12  \n",
       "5598782            Rice  minimarket     64000.0         0         1   2017-12  \n",
       "5678748            Rice  minimarket     59500.0      3000         1   2017-12  \n",
       "5702411            Rice  minimarket     59500.0      3000         1   2017-12  \n",
       "\n",
       "[7088 rows x 10 columns]"
      ]
     },
     "execution_count": 279,
     "metadata": {},
     "output_type": "execute_result"
    }
   ],
   "source": [
    "rice[kondisi1 & kondisi2]"
   ]
  },
  {
   "cell_type": "code",
   "execution_count": 280,
   "metadata": {},
   "outputs": [
    {
     "data": {
      "text/plain": [
       "receipt_id\n",
       "9622257    False\n",
       "9446359     True\n",
       "9470290    False\n",
       "9643416     True\n",
       "9692093    False\n",
       "           ...  \n",
       "5760491    False\n",
       "5598782     True\n",
       "5735850    False\n",
       "5678748     True\n",
       "5702411     True\n",
       "Length: 12000, dtype: bool"
      ]
     },
     "execution_count": 280,
     "metadata": {},
     "output_type": "execute_result"
    }
   ],
   "source": [
    "# mix condition\n",
    "\n",
    "rice_mix = (rice[\"unit_price\"]>=2000) & (rice[\"format\"] == \"minimarket\")\n",
    "rice_mix\n",
    "\n",
    "#WHAT??"
   ]
  },
  {
   "cell_type": "code",
   "execution_count": 281,
   "metadata": {},
   "outputs": [
    {
     "data": {
      "text/plain": [
       "array(['2018-07', '2018-08', '2018-09', '2018-01', '2018-02', '2018-03',\n",
       "       '2018-04', '2018-05', '2018-06', '2017-10', '2017-11', '2017-12'],\n",
       "      dtype=object)"
      ]
     },
     "execution_count": 281,
     "metadata": {},
     "output_type": "execute_result"
    }
   ],
   "source": [
    "rice[\"yearmonth\"].unique()"
   ]
  },
  {
   "cell_type": "markdown",
   "metadata": {},
   "source": [
    "**Latihan**\n",
    "\n",
    "Berapa banyak data penjualan beras di supermarket yang terjadi di bulan Juli 2018?"
   ]
  },
  {
   "cell_type": "code",
   "execution_count": 282,
   "metadata": {},
   "outputs": [
    {
     "data": {
      "text/plain": [
       "309"
      ]
     },
     "execution_count": 282,
     "metadata": {},
     "output_type": "execute_result"
    }
   ],
   "source": [
    "kondisi_1 = rice[\"format\"] == \"supermarket\"\n",
    "kondisi_2 = rice[\"yearmonth\"] == \"2018-07\"\n",
    "\n",
    "len(rice[kondisi_1 & kondisi_2])"
   ]
  },
  {
   "cell_type": "code",
   "execution_count": 283,
   "metadata": {},
   "outputs": [
    {
     "data": {
      "text/plain": [
       "309"
      ]
     },
     "execution_count": 283,
     "metadata": {},
     "output_type": "execute_result"
    }
   ],
   "source": [
    "# Final result\n",
    "\n",
    "rice[kondisi_1 & kondisi_2].shape[0]"
   ]
  },
  {
   "cell_type": "code",
   "execution_count": 284,
   "metadata": {
    "scrolled": true
   },
   "outputs": [
    {
     "data": {
      "text/plain": [
       "Unnamed: 0          309\n",
       "receipts_item_id    309\n",
       "purchase_time       309\n",
       "category            309\n",
       "sub_category        309\n",
       "format              309\n",
       "unit_price          309\n",
       "discount            309\n",
       "quantity            309\n",
       "yearmonth           309\n",
       "dtype: int64"
      ]
     },
     "execution_count": 284,
     "metadata": {},
     "output_type": "execute_result"
    }
   ],
   "source": [
    "# Final result\n",
    "\n",
    "rice[kondisi_1 & kondisi_2].count()"
   ]
  },
  {
   "cell_type": "code",
   "execution_count": 285,
   "metadata": {},
   "outputs": [
    {
     "data": {
      "text/html": [
       "<div>\n",
       "<style scoped>\n",
       "    .dataframe tbody tr th:only-of-type {\n",
       "        vertical-align: middle;\n",
       "    }\n",
       "\n",
       "    .dataframe tbody tr th {\n",
       "        vertical-align: top;\n",
       "    }\n",
       "\n",
       "    .dataframe thead th {\n",
       "        text-align: right;\n",
       "    }\n",
       "</style>\n",
       "<table border=\"1\" class=\"dataframe\">\n",
       "  <thead>\n",
       "    <tr style=\"text-align: right;\">\n",
       "      <th></th>\n",
       "      <th>Unnamed: 0</th>\n",
       "      <th>receipts_item_id</th>\n",
       "      <th>purchase_time</th>\n",
       "      <th>category</th>\n",
       "      <th>sub_category</th>\n",
       "      <th>format</th>\n",
       "      <th>unit_price</th>\n",
       "      <th>discount</th>\n",
       "      <th>quantity</th>\n",
       "      <th>yearmonth</th>\n",
       "    </tr>\n",
       "    <tr>\n",
       "      <th>receipt_id</th>\n",
       "      <th></th>\n",
       "      <th></th>\n",
       "      <th></th>\n",
       "      <th></th>\n",
       "      <th></th>\n",
       "      <th></th>\n",
       "      <th></th>\n",
       "      <th></th>\n",
       "      <th></th>\n",
       "      <th></th>\n",
       "    </tr>\n",
       "  </thead>\n",
       "  <tbody>\n",
       "    <tr>\n",
       "      <th>9622257</th>\n",
       "      <td>1</td>\n",
       "      <td>32369294</td>\n",
       "      <td>7/22/2018 21:19</td>\n",
       "      <td>Rice</td>\n",
       "      <td>Rice</td>\n",
       "      <td>supermarket</td>\n",
       "      <td>128000.0</td>\n",
       "      <td>0</td>\n",
       "      <td>1</td>\n",
       "      <td>2018-07</td>\n",
       "    </tr>\n",
       "    <tr>\n",
       "      <th>9470290</th>\n",
       "      <td>3</td>\n",
       "      <td>31930241</td>\n",
       "      <td>7/15/2018 12:12</td>\n",
       "      <td>Rice</td>\n",
       "      <td>Rice</td>\n",
       "      <td>supermarket</td>\n",
       "      <td>64000.0</td>\n",
       "      <td>0</td>\n",
       "      <td>3</td>\n",
       "      <td>2018-07</td>\n",
       "    </tr>\n",
       "    <tr>\n",
       "      <th>9692093</th>\n",
       "      <td>5</td>\n",
       "      <td>32561236</td>\n",
       "      <td>7/26/2018 11:28</td>\n",
       "      <td>Rice</td>\n",
       "      <td>Rice</td>\n",
       "      <td>supermarket</td>\n",
       "      <td>124500.0</td>\n",
       "      <td>0</td>\n",
       "      <td>1</td>\n",
       "      <td>2018-07</td>\n",
       "    </tr>\n",
       "    <tr>\n",
       "      <th>9822589</th>\n",
       "      <td>7</td>\n",
       "      <td>32935097</td>\n",
       "      <td>7/29/2018 18:18</td>\n",
       "      <td>Rice</td>\n",
       "      <td>Rice</td>\n",
       "      <td>supermarket</td>\n",
       "      <td>66500.0</td>\n",
       "      <td>0</td>\n",
       "      <td>1</td>\n",
       "      <td>2018-07</td>\n",
       "    </tr>\n",
       "    <tr>\n",
       "      <th>9444092</th>\n",
       "      <td>10</td>\n",
       "      <td>31913062</td>\n",
       "      <td>7/14/2018 21:17</td>\n",
       "      <td>Rice</td>\n",
       "      <td>Rice</td>\n",
       "      <td>supermarket</td>\n",
       "      <td>64000.0</td>\n",
       "      <td>0</td>\n",
       "      <td>3</td>\n",
       "      <td>2018-07</td>\n",
       "    </tr>\n",
       "    <tr>\n",
       "      <th>...</th>\n",
       "      <td>...</td>\n",
       "      <td>...</td>\n",
       "      <td>...</td>\n",
       "      <td>...</td>\n",
       "      <td>...</td>\n",
       "      <td>...</td>\n",
       "      <td>...</td>\n",
       "      <td>...</td>\n",
       "      <td>...</td>\n",
       "      <td>...</td>\n",
       "    </tr>\n",
       "    <tr>\n",
       "      <th>9747839</th>\n",
       "      <td>987</td>\n",
       "      <td>32863432</td>\n",
       "      <td>7/27/2018 21:27</td>\n",
       "      <td>Rice</td>\n",
       "      <td>Rice</td>\n",
       "      <td>supermarket</td>\n",
       "      <td>14450.0</td>\n",
       "      <td>0</td>\n",
       "      <td>2</td>\n",
       "      <td>2018-07</td>\n",
       "    </tr>\n",
       "    <tr>\n",
       "      <th>9641425</th>\n",
       "      <td>988</td>\n",
       "      <td>32418795</td>\n",
       "      <td>7/23/2018 12:55</td>\n",
       "      <td>Rice</td>\n",
       "      <td>Rice</td>\n",
       "      <td>supermarket</td>\n",
       "      <td>133000.0</td>\n",
       "      <td>0</td>\n",
       "      <td>1</td>\n",
       "      <td>2018-07</td>\n",
       "    </tr>\n",
       "    <tr>\n",
       "      <th>9297005</th>\n",
       "      <td>993</td>\n",
       "      <td>31543220</td>\n",
       "      <td>7/7/2018 19:30</td>\n",
       "      <td>Rice</td>\n",
       "      <td>Rice</td>\n",
       "      <td>supermarket</td>\n",
       "      <td>55800.0</td>\n",
       "      <td>0</td>\n",
       "      <td>2</td>\n",
       "      <td>2018-07</td>\n",
       "    </tr>\n",
       "    <tr>\n",
       "      <th>9257842</th>\n",
       "      <td>994</td>\n",
       "      <td>31567296</td>\n",
       "      <td>7/6/2018 19:44</td>\n",
       "      <td>Rice</td>\n",
       "      <td>Rice</td>\n",
       "      <td>supermarket</td>\n",
       "      <td>66100.0</td>\n",
       "      <td>0</td>\n",
       "      <td>1</td>\n",
       "      <td>2018-07</td>\n",
       "    </tr>\n",
       "    <tr>\n",
       "      <th>9388889</th>\n",
       "      <td>998</td>\n",
       "      <td>31689122</td>\n",
       "      <td>7/12/2018 20:59</td>\n",
       "      <td>Rice</td>\n",
       "      <td>Rice</td>\n",
       "      <td>supermarket</td>\n",
       "      <td>61950.0</td>\n",
       "      <td>4100</td>\n",
       "      <td>2</td>\n",
       "      <td>2018-07</td>\n",
       "    </tr>\n",
       "  </tbody>\n",
       "</table>\n",
       "<p>309 rows × 10 columns</p>\n",
       "</div>"
      ],
      "text/plain": [
       "            Unnamed: 0  receipts_item_id    purchase_time category  \\\n",
       "receipt_id                                                           \n",
       "9622257              1          32369294  7/22/2018 21:19     Rice   \n",
       "9470290              3          31930241  7/15/2018 12:12     Rice   \n",
       "9692093              5          32561236  7/26/2018 11:28     Rice   \n",
       "9822589              7          32935097  7/29/2018 18:18     Rice   \n",
       "9444092             10          31913062  7/14/2018 21:17     Rice   \n",
       "...                ...               ...              ...      ...   \n",
       "9747839            987          32863432  7/27/2018 21:27     Rice   \n",
       "9641425            988          32418795  7/23/2018 12:55     Rice   \n",
       "9297005            993          31543220   7/7/2018 19:30     Rice   \n",
       "9257842            994          31567296   7/6/2018 19:44     Rice   \n",
       "9388889            998          31689122  7/12/2018 20:59     Rice   \n",
       "\n",
       "           sub_category       format  unit_price  discount  quantity yearmonth  \n",
       "receipt_id                                                                      \n",
       "9622257            Rice  supermarket    128000.0         0         1   2018-07  \n",
       "9470290            Rice  supermarket     64000.0         0         3   2018-07  \n",
       "9692093            Rice  supermarket    124500.0         0         1   2018-07  \n",
       "9822589            Rice  supermarket     66500.0         0         1   2018-07  \n",
       "9444092            Rice  supermarket     64000.0         0         3   2018-07  \n",
       "...                 ...          ...         ...       ...       ...       ...  \n",
       "9747839            Rice  supermarket     14450.0         0         2   2018-07  \n",
       "9641425            Rice  supermarket    133000.0         0         1   2018-07  \n",
       "9297005            Rice  supermarket     55800.0         0         2   2018-07  \n",
       "9257842            Rice  supermarket     66100.0         0         1   2018-07  \n",
       "9388889            Rice  supermarket     61950.0      4100         2   2018-07  \n",
       "\n",
       "[309 rows x 10 columns]"
      ]
     },
     "execution_count": 285,
     "metadata": {},
     "output_type": "execute_result"
    }
   ],
   "source": [
    "# It's not final result\n",
    "\n",
    "rice[kondisi_1 & kondisi_2]"
   ]
  }
 ],
 "metadata": {
  "kernelspec": {
   "display_name": "sparta_da",
   "language": "python",
   "name": "sparta_da"
  },
  "language_info": {
   "codemirror_mode": {
    "name": "ipython",
    "version": 3
   },
   "file_extension": ".py",
   "mimetype": "text/x-python",
   "name": "python",
   "nbconvert_exporter": "python",
   "pygments_lexer": "ipython3",
   "version": "3.9.12"
  },
  "toc": {
   "base_numbering": 1,
   "nav_menu": {},
   "number_sections": true,
   "sideBar": true,
   "skip_h1_title": false,
   "title_cell": "Table of Contents",
   "title_sidebar": "Contents",
   "toc_cell": false,
   "toc_position": {},
   "toc_section_display": true,
   "toc_window_display": false
  }
 },
 "nbformat": 4,
 "nbformat_minor": 4
}
