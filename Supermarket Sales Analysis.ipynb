{
 "cells": [
  {
   "cell_type": "markdown",
   "id": "e50270a0",
   "metadata": {},
   "source": [
    "# Dive Deeper: Supermarket Sales Analysis"
   ]
  },
  {
   "cell_type": "markdown",
   "id": "07f5f2e4",
   "metadata": {},
   "source": [
    "> The growth of supermarkets in most populated cities are increasing and market competitions are also high. The dataset is one of the historical sales of supermarket company which has recorded in 3 different branches for 3 months data. [Source: Kaggle](https://www.kaggle.com/aungpyaeap/supermarket-sales)"
   ]
  },
  {
   "cell_type": "markdown",
   "id": "01adcafc",
   "metadata": {},
   "source": [
    "## Import Library and Dataset"
   ]
  },
  {
   "cell_type": "code",
   "execution_count": 2,
   "id": "a0a62154",
   "metadata": {},
   "outputs": [],
   "source": [
    "# import library\n",
    "import pandas as pd"
   ]
  },
  {
   "cell_type": "markdown",
   "id": "bc51ea35",
   "metadata": {},
   "source": [
    "Silakan import data CSV bernama `supermarket_sales.csv`. Data ini diperoleh dari Kaggle dan hanya diambil beberapa kolom untuk kebutuhan analisis."
   ]
  },
  {
   "cell_type": "code",
   "execution_count": 3,
   "id": "2be6d81d",
   "metadata": {},
   "outputs": [
    {
     "data": {
      "text/html": [
       "<div>\n",
       "<style scoped>\n",
       "    .dataframe tbody tr th:only-of-type {\n",
       "        vertical-align: middle;\n",
       "    }\n",
       "\n",
       "    .dataframe tbody tr th {\n",
       "        vertical-align: top;\n",
       "    }\n",
       "\n",
       "    .dataframe thead th {\n",
       "        text-align: right;\n",
       "    }\n",
       "</style>\n",
       "<table border=\"1\" class=\"dataframe\">\n",
       "  <thead>\n",
       "    <tr style=\"text-align: right;\">\n",
       "      <th></th>\n",
       "      <th>invoice_id</th>\n",
       "      <th>city</th>\n",
       "      <th>customer</th>\n",
       "      <th>gender</th>\n",
       "      <th>product_line</th>\n",
       "      <th>unit_price</th>\n",
       "      <th>quantity</th>\n",
       "      <th>date</th>\n",
       "      <th>time</th>\n",
       "      <th>payment</th>\n",
       "      <th>rating</th>\n",
       "    </tr>\n",
       "  </thead>\n",
       "  <tbody>\n",
       "    <tr>\n",
       "      <th>0</th>\n",
       "      <td>750-67-8428</td>\n",
       "      <td>Yangon</td>\n",
       "      <td>Member</td>\n",
       "      <td>Female</td>\n",
       "      <td>Health and beauty</td>\n",
       "      <td>74.69</td>\n",
       "      <td>7</td>\n",
       "      <td>1/5/2019</td>\n",
       "      <td>13:08</td>\n",
       "      <td>Ewallet</td>\n",
       "      <td>9.1</td>\n",
       "    </tr>\n",
       "    <tr>\n",
       "      <th>1</th>\n",
       "      <td>226-31-3081</td>\n",
       "      <td>Naypyitaw</td>\n",
       "      <td>Normal</td>\n",
       "      <td>Female</td>\n",
       "      <td>Electronic accessories</td>\n",
       "      <td>15.28</td>\n",
       "      <td>5</td>\n",
       "      <td>3/8/2019</td>\n",
       "      <td>10:29</td>\n",
       "      <td>Cash</td>\n",
       "      <td>9.6</td>\n",
       "    </tr>\n",
       "    <tr>\n",
       "      <th>2</th>\n",
       "      <td>631-41-3108</td>\n",
       "      <td>Yangon</td>\n",
       "      <td>Normal</td>\n",
       "      <td>Male</td>\n",
       "      <td>Home and lifestyle</td>\n",
       "      <td>46.33</td>\n",
       "      <td>7</td>\n",
       "      <td>3/3/2019</td>\n",
       "      <td>13:23</td>\n",
       "      <td>Credit card</td>\n",
       "      <td>7.4</td>\n",
       "    </tr>\n",
       "    <tr>\n",
       "      <th>3</th>\n",
       "      <td>123-19-1176</td>\n",
       "      <td>Yangon</td>\n",
       "      <td>Member</td>\n",
       "      <td>Male</td>\n",
       "      <td>Health and beauty</td>\n",
       "      <td>58.22</td>\n",
       "      <td>8</td>\n",
       "      <td>1/27/2019</td>\n",
       "      <td>20:33</td>\n",
       "      <td>Ewallet</td>\n",
       "      <td>8.4</td>\n",
       "    </tr>\n",
       "    <tr>\n",
       "      <th>4</th>\n",
       "      <td>373-73-7910</td>\n",
       "      <td>Yangon</td>\n",
       "      <td>Normal</td>\n",
       "      <td>Male</td>\n",
       "      <td>Sports and travel</td>\n",
       "      <td>86.31</td>\n",
       "      <td>7</td>\n",
       "      <td>2/8/2019</td>\n",
       "      <td>10:37</td>\n",
       "      <td>Ewallet</td>\n",
       "      <td>5.3</td>\n",
       "    </tr>\n",
       "  </tbody>\n",
       "</table>\n",
       "</div>"
      ],
      "text/plain": [
       "    invoice_id       city customer  gender            product_line  \\\n",
       "0  750-67-8428     Yangon   Member  Female       Health and beauty   \n",
       "1  226-31-3081  Naypyitaw   Normal  Female  Electronic accessories   \n",
       "2  631-41-3108     Yangon   Normal    Male      Home and lifestyle   \n",
       "3  123-19-1176     Yangon   Member    Male       Health and beauty   \n",
       "4  373-73-7910     Yangon   Normal    Male       Sports and travel   \n",
       "\n",
       "   unit_price  quantity       date   time      payment  rating  \n",
       "0       74.69         7   1/5/2019  13:08      Ewallet     9.1  \n",
       "1       15.28         5   3/8/2019  10:29         Cash     9.6  \n",
       "2       46.33         7   3/3/2019  13:23  Credit card     7.4  \n",
       "3       58.22         8  1/27/2019  20:33      Ewallet     8.4  \n",
       "4       86.31         7   2/8/2019  10:37      Ewallet     5.3  "
      ]
     },
     "execution_count": 3,
     "metadata": {},
     "output_type": "execute_result"
    }
   ],
   "source": [
    "# import dataset, simpan ke object supermarket\n",
    "supermarket = pd.read_csv(\"data_input/supermarket_sales.csv\")\n",
    "supermarket.head()"
   ]
  },
  {
   "cell_type": "code",
   "execution_count": 4,
   "id": "af4c3ae9",
   "metadata": {},
   "outputs": [
    {
     "name": "stdout",
     "output_type": "stream",
     "text": [
      "<class 'pandas.core.frame.DataFrame'>\n",
      "RangeIndex: 1000 entries, 0 to 999\n",
      "Data columns (total 11 columns):\n",
      " #   Column        Non-Null Count  Dtype  \n",
      "---  ------        --------------  -----  \n",
      " 0   invoice_id    1000 non-null   object \n",
      " 1   city          1000 non-null   object \n",
      " 2   customer      1000 non-null   object \n",
      " 3   gender        1000 non-null   object \n",
      " 4   product_line  1000 non-null   object \n",
      " 5   unit_price    1000 non-null   float64\n",
      " 6   quantity      1000 non-null   int64  \n",
      " 7   date          1000 non-null   object \n",
      " 8   time          1000 non-null   object \n",
      " 9   payment       1000 non-null   object \n",
      " 10  rating        1000 non-null   float64\n",
      "dtypes: float64(2), int64(1), object(8)\n",
      "memory usage: 86.1+ KB\n"
     ]
    }
   ],
   "source": [
    "# cek informasi data\n",
    "supermarket.info()"
   ]
  },
  {
   "cell_type": "markdown",
   "id": "5ede8203",
   "metadata": {},
   "source": [
    "Deskripsi data:\n",
    "\n",
    "- `invoice_id`: Computer generated sales slip invoice identification number\n",
    "- `city`: Location of supercenters\n",
    "- `customer`: Type of customers, recorded by Members for customers using member card and Normal for without member card\n",
    "- `gender`: Gender type of customer\n",
    "- `product_line`: General item categorization groups - Electronic accessories, Fashion accessories, Food and beverages, Health and beauty, Home and lifestyle, Sports and travel\n",
    "- `unit_price`: Price of each product in dollar\n",
    "- `quantity`: Number of products purchased by customer\n",
    "- `date`: Date of purchase (Record available from January 2019 to March 2019)\n",
    "- `time`: Purchase time (10am to 9pm)\n",
    "- `payment`: Payment used by customer for purchase (3 methods are available – Cash, Credit card and Ewallet)\n",
    "- `rating`: Customer stratification rating on their overall shopping experience (On a scale of 1 to 10)"
   ]
  },
  {
   "cell_type": "markdown",
   "id": "b1129d44",
   "metadata": {},
   "source": [
    "## Data Pre-processing"
   ]
  },
  {
   "cell_type": "markdown",
   "id": "8e57524a",
   "metadata": {},
   "source": [
    "Apakah seluruh kolom di atas sudah memiliki tipe data yang sesuai? Jika belum, kolom apa saja yang perlu diubah?\n"
   ]
  },
  {
   "cell_type": "code",
   "execution_count": 5,
   "id": "24d8f1fb",
   "metadata": {},
   "outputs": [
    {
     "data": {
      "text/plain": [
       "invoice_id       object\n",
       "city             object\n",
       "customer         object\n",
       "gender           object\n",
       "product_line     object\n",
       "unit_price      float64\n",
       "quantity          int64\n",
       "date             object\n",
       "time             object\n",
       "payment          object\n",
       "rating          float64\n",
       "dtype: object"
      ]
     },
     "execution_count": 5,
     "metadata": {},
     "output_type": "execute_result"
    }
   ],
   "source": [
    "# cek tipe data\n",
    "supermarket.dtypes"
   ]
  },
  {
   "cell_type": "code",
   "execution_count": 6,
   "id": "bd027706",
   "metadata": {
    "scrolled": false
   },
   "outputs": [
    {
     "data": {
      "text/plain": [
       "invoice_id      1000\n",
       "city               3\n",
       "customer           2\n",
       "gender             2\n",
       "product_line       6\n",
       "unit_price       943\n",
       "quantity          10\n",
       "date              89\n",
       "time             506\n",
       "payment            3\n",
       "rating            61\n",
       "dtype: int64"
      ]
     },
     "execution_count": 6,
     "metadata": {},
     "output_type": "execute_result"
    }
   ],
   "source": [
    "supermarket.nunique()"
   ]
  },
  {
   "cell_type": "code",
   "execution_count": 7,
   "id": "27a8e708",
   "metadata": {},
   "outputs": [
    {
     "data": {
      "text/html": [
       "<div>\n",
       "<style scoped>\n",
       "    .dataframe tbody tr th:only-of-type {\n",
       "        vertical-align: middle;\n",
       "    }\n",
       "\n",
       "    .dataframe tbody tr th {\n",
       "        vertical-align: top;\n",
       "    }\n",
       "\n",
       "    .dataframe thead th {\n",
       "        text-align: right;\n",
       "    }\n",
       "</style>\n",
       "<table border=\"1\" class=\"dataframe\">\n",
       "  <thead>\n",
       "    <tr style=\"text-align: right;\">\n",
       "      <th></th>\n",
       "      <th>invoice_id</th>\n",
       "      <th>city</th>\n",
       "      <th>customer</th>\n",
       "      <th>gender</th>\n",
       "      <th>product_line</th>\n",
       "      <th>unit_price</th>\n",
       "      <th>quantity</th>\n",
       "      <th>date</th>\n",
       "      <th>time</th>\n",
       "      <th>payment</th>\n",
       "      <th>rating</th>\n",
       "    </tr>\n",
       "  </thead>\n",
       "  <tbody>\n",
       "    <tr>\n",
       "      <th>0</th>\n",
       "      <td>750-67-8428</td>\n",
       "      <td>Yangon</td>\n",
       "      <td>Member</td>\n",
       "      <td>Female</td>\n",
       "      <td>Health and beauty</td>\n",
       "      <td>74.69</td>\n",
       "      <td>7</td>\n",
       "      <td>1/5/2019</td>\n",
       "      <td>13:08</td>\n",
       "      <td>Ewallet</td>\n",
       "      <td>9.1</td>\n",
       "    </tr>\n",
       "    <tr>\n",
       "      <th>1</th>\n",
       "      <td>226-31-3081</td>\n",
       "      <td>Naypyitaw</td>\n",
       "      <td>Normal</td>\n",
       "      <td>Female</td>\n",
       "      <td>Electronic accessories</td>\n",
       "      <td>15.28</td>\n",
       "      <td>5</td>\n",
       "      <td>3/8/2019</td>\n",
       "      <td>10:29</td>\n",
       "      <td>Cash</td>\n",
       "      <td>9.6</td>\n",
       "    </tr>\n",
       "    <tr>\n",
       "      <th>2</th>\n",
       "      <td>631-41-3108</td>\n",
       "      <td>Yangon</td>\n",
       "      <td>Normal</td>\n",
       "      <td>Male</td>\n",
       "      <td>Home and lifestyle</td>\n",
       "      <td>46.33</td>\n",
       "      <td>7</td>\n",
       "      <td>3/3/2019</td>\n",
       "      <td>13:23</td>\n",
       "      <td>Credit card</td>\n",
       "      <td>7.4</td>\n",
       "    </tr>\n",
       "    <tr>\n",
       "      <th>3</th>\n",
       "      <td>123-19-1176</td>\n",
       "      <td>Yangon</td>\n",
       "      <td>Member</td>\n",
       "      <td>Male</td>\n",
       "      <td>Health and beauty</td>\n",
       "      <td>58.22</td>\n",
       "      <td>8</td>\n",
       "      <td>1/27/2019</td>\n",
       "      <td>20:33</td>\n",
       "      <td>Ewallet</td>\n",
       "      <td>8.4</td>\n",
       "    </tr>\n",
       "    <tr>\n",
       "      <th>4</th>\n",
       "      <td>373-73-7910</td>\n",
       "      <td>Yangon</td>\n",
       "      <td>Normal</td>\n",
       "      <td>Male</td>\n",
       "      <td>Sports and travel</td>\n",
       "      <td>86.31</td>\n",
       "      <td>7</td>\n",
       "      <td>2/8/2019</td>\n",
       "      <td>10:37</td>\n",
       "      <td>Ewallet</td>\n",
       "      <td>5.3</td>\n",
       "    </tr>\n",
       "  </tbody>\n",
       "</table>\n",
       "</div>"
      ],
      "text/plain": [
       "    invoice_id       city customer  gender            product_line  \\\n",
       "0  750-67-8428     Yangon   Member  Female       Health and beauty   \n",
       "1  226-31-3081  Naypyitaw   Normal  Female  Electronic accessories   \n",
       "2  631-41-3108     Yangon   Normal    Male      Home and lifestyle   \n",
       "3  123-19-1176     Yangon   Member    Male       Health and beauty   \n",
       "4  373-73-7910     Yangon   Normal    Male       Sports and travel   \n",
       "\n",
       "   unit_price  quantity       date   time      payment  rating  \n",
       "0       74.69         7   1/5/2019  13:08      Ewallet     9.1  \n",
       "1       15.28         5   3/8/2019  10:29         Cash     9.6  \n",
       "2       46.33         7   3/3/2019  13:23  Credit card     7.4  \n",
       "3       58.22         8  1/27/2019  20:33      Ewallet     8.4  \n",
       "4       86.31         7   2/8/2019  10:37      Ewallet     5.3  "
      ]
     },
     "execution_count": 7,
     "metadata": {},
     "output_type": "execute_result"
    }
   ],
   "source": [
    "supermarket.head()"
   ]
  },
  {
   "cell_type": "markdown",
   "id": "16973d96",
   "metadata": {},
   "source": [
    "Kolom yang tipe datanya belum sesuai:\n",
    "- 'city','customer','gender','product_line','payment' -> category\n",
    "- menggabungkan kolom date dan time -> datetime64"
   ]
  },
  {
   "cell_type": "code",
   "execution_count": 8,
   "id": "1186f4e6",
   "metadata": {},
   "outputs": [],
   "source": [
    "# ubah tipe data category\n",
    "cat_col = ['city','customer','gender','product_line','payment'] \n",
    "\n",
    "supermarket[cat_col] = supermarket[cat_col].astype('category')"
   ]
  },
  {
   "cell_type": "code",
   "execution_count": 9,
   "id": "3dd23fb1",
   "metadata": {},
   "outputs": [],
   "source": [
    "# ..menggabungkan kolom date dan time\n",
    "supermarket['datetime']=supermarket['date']+' '+supermarket['time']"
   ]
  },
  {
   "cell_type": "code",
   "execution_count": 10,
   "id": "c1ec62e7",
   "metadata": {
    "scrolled": true
   },
   "outputs": [
    {
     "data": {
      "text/html": [
       "<div>\n",
       "<style scoped>\n",
       "    .dataframe tbody tr th:only-of-type {\n",
       "        vertical-align: middle;\n",
       "    }\n",
       "\n",
       "    .dataframe tbody tr th {\n",
       "        vertical-align: top;\n",
       "    }\n",
       "\n",
       "    .dataframe thead th {\n",
       "        text-align: right;\n",
       "    }\n",
       "</style>\n",
       "<table border=\"1\" class=\"dataframe\">\n",
       "  <thead>\n",
       "    <tr style=\"text-align: right;\">\n",
       "      <th></th>\n",
       "      <th>invoice_id</th>\n",
       "      <th>city</th>\n",
       "      <th>customer</th>\n",
       "      <th>gender</th>\n",
       "      <th>product_line</th>\n",
       "      <th>unit_price</th>\n",
       "      <th>quantity</th>\n",
       "      <th>date</th>\n",
       "      <th>time</th>\n",
       "      <th>payment</th>\n",
       "      <th>rating</th>\n",
       "      <th>datetime</th>\n",
       "    </tr>\n",
       "  </thead>\n",
       "  <tbody>\n",
       "    <tr>\n",
       "      <th>0</th>\n",
       "      <td>750-67-8428</td>\n",
       "      <td>Yangon</td>\n",
       "      <td>Member</td>\n",
       "      <td>Female</td>\n",
       "      <td>Health and beauty</td>\n",
       "      <td>74.69</td>\n",
       "      <td>7</td>\n",
       "      <td>1/5/2019</td>\n",
       "      <td>13:08</td>\n",
       "      <td>Ewallet</td>\n",
       "      <td>9.1</td>\n",
       "      <td>1/5/2019 13:08</td>\n",
       "    </tr>\n",
       "    <tr>\n",
       "      <th>1</th>\n",
       "      <td>226-31-3081</td>\n",
       "      <td>Naypyitaw</td>\n",
       "      <td>Normal</td>\n",
       "      <td>Female</td>\n",
       "      <td>Electronic accessories</td>\n",
       "      <td>15.28</td>\n",
       "      <td>5</td>\n",
       "      <td>3/8/2019</td>\n",
       "      <td>10:29</td>\n",
       "      <td>Cash</td>\n",
       "      <td>9.6</td>\n",
       "      <td>3/8/2019 10:29</td>\n",
       "    </tr>\n",
       "    <tr>\n",
       "      <th>2</th>\n",
       "      <td>631-41-3108</td>\n",
       "      <td>Yangon</td>\n",
       "      <td>Normal</td>\n",
       "      <td>Male</td>\n",
       "      <td>Home and lifestyle</td>\n",
       "      <td>46.33</td>\n",
       "      <td>7</td>\n",
       "      <td>3/3/2019</td>\n",
       "      <td>13:23</td>\n",
       "      <td>Credit card</td>\n",
       "      <td>7.4</td>\n",
       "      <td>3/3/2019 13:23</td>\n",
       "    </tr>\n",
       "    <tr>\n",
       "      <th>3</th>\n",
       "      <td>123-19-1176</td>\n",
       "      <td>Yangon</td>\n",
       "      <td>Member</td>\n",
       "      <td>Male</td>\n",
       "      <td>Health and beauty</td>\n",
       "      <td>58.22</td>\n",
       "      <td>8</td>\n",
       "      <td>1/27/2019</td>\n",
       "      <td>20:33</td>\n",
       "      <td>Ewallet</td>\n",
       "      <td>8.4</td>\n",
       "      <td>1/27/2019 20:33</td>\n",
       "    </tr>\n",
       "    <tr>\n",
       "      <th>4</th>\n",
       "      <td>373-73-7910</td>\n",
       "      <td>Yangon</td>\n",
       "      <td>Normal</td>\n",
       "      <td>Male</td>\n",
       "      <td>Sports and travel</td>\n",
       "      <td>86.31</td>\n",
       "      <td>7</td>\n",
       "      <td>2/8/2019</td>\n",
       "      <td>10:37</td>\n",
       "      <td>Ewallet</td>\n",
       "      <td>5.3</td>\n",
       "      <td>2/8/2019 10:37</td>\n",
       "    </tr>\n",
       "  </tbody>\n",
       "</table>\n",
       "</div>"
      ],
      "text/plain": [
       "    invoice_id       city customer  gender            product_line  \\\n",
       "0  750-67-8428     Yangon   Member  Female       Health and beauty   \n",
       "1  226-31-3081  Naypyitaw   Normal  Female  Electronic accessories   \n",
       "2  631-41-3108     Yangon   Normal    Male      Home and lifestyle   \n",
       "3  123-19-1176     Yangon   Member    Male       Health and beauty   \n",
       "4  373-73-7910     Yangon   Normal    Male       Sports and travel   \n",
       "\n",
       "   unit_price  quantity       date   time      payment  rating  \\\n",
       "0       74.69         7   1/5/2019  13:08      Ewallet     9.1   \n",
       "1       15.28         5   3/8/2019  10:29         Cash     9.6   \n",
       "2       46.33         7   3/3/2019  13:23  Credit card     7.4   \n",
       "3       58.22         8  1/27/2019  20:33      Ewallet     8.4   \n",
       "4       86.31         7   2/8/2019  10:37      Ewallet     5.3   \n",
       "\n",
       "          datetime  \n",
       "0   1/5/2019 13:08  \n",
       "1   3/8/2019 10:29  \n",
       "2   3/3/2019 13:23  \n",
       "3  1/27/2019 20:33  \n",
       "4   2/8/2019 10:37  "
      ]
     },
     "execution_count": 10,
     "metadata": {},
     "output_type": "execute_result"
    }
   ],
   "source": [
    "supermarket.head()"
   ]
  },
  {
   "cell_type": "code",
   "execution_count": 11,
   "id": "8f0f6fb8",
   "metadata": {},
   "outputs": [],
   "source": [
    "# mengubah tipe data datetime\n",
    "supermarket['datetime'] = supermarket['datetime'].astype('datetime64')"
   ]
  },
  {
   "cell_type": "code",
   "execution_count": 12,
   "id": "f7d6520c",
   "metadata": {},
   "outputs": [
    {
     "data": {
      "text/plain": [
       "invoice_id              object\n",
       "city                  category\n",
       "customer              category\n",
       "gender                category\n",
       "product_line          category\n",
       "unit_price             float64\n",
       "quantity                 int64\n",
       "date                    object\n",
       "time                    object\n",
       "payment               category\n",
       "rating                 float64\n",
       "datetime        datetime64[ns]\n",
       "dtype: object"
      ]
     },
     "execution_count": 12,
     "metadata": {},
     "output_type": "execute_result"
    }
   ],
   "source": [
    "supermarket.dtypes"
   ]
  },
  {
   "cell_type": "markdown",
   "id": "52d33387",
   "metadata": {},
   "source": [
    "## Analysis"
   ]
  },
  {
   "cell_type": "markdown",
   "id": "50931ab5",
   "metadata": {},
   "source": [
    "**Question**: Bantulah tim marketing untuk mengetahui jenis produk apa yang paling favorit di setiap kotanya? Favorit di sini berdasarkan banyaknya transaksi yang terjadi."
   ]
  },
  {
   "cell_type": "code",
   "execution_count": 13,
   "id": "f21df51f",
   "metadata": {
    "scrolled": true
   },
   "outputs": [
    {
     "data": {
      "text/plain": [
       "city\n",
       "Mandalay     Fashion accessories\n",
       "Naypyitaw     Food and beverages\n",
       "Yangon        Home and lifestyle\n",
       "dtype: object"
      ]
     },
     "execution_count": 13,
     "metadata": {},
     "output_type": "execute_result"
    }
   ],
   "source": [
    "# ...\n",
    "supermarket.pivot_table(\n",
    "    index='city', \n",
    "    columns='product_line',\n",
    "    aggfunc='count', #tabel frekuensi\n",
    "    values='quantity',\n",
    ").idxmax(axis=1)"
   ]
  },
  {
   "cell_type": "code",
   "execution_count": 14,
   "id": "b9f737dc",
   "metadata": {},
   "outputs": [
    {
     "data": {
      "text/plain": [
       "city\n",
       "Mandalay     Fashion accessories\n",
       "Naypyitaw     Food and beverages\n",
       "Yangon        Home and lifestyle\n",
       "dtype: object"
      ]
     },
     "execution_count": 14,
     "metadata": {},
     "output_type": "execute_result"
    }
   ],
   "source": [
    "# ...\n",
    "pd.crosstab(\n",
    "    index=supermarket['city'],\n",
    "    columns=supermarket['product_line']\n",
    ").idxmax(axis=1)"
   ]
  },
  {
   "cell_type": "markdown",
   "id": "ed45bb2e",
   "metadata": {},
   "source": [
    "**Question**: Bantulah tim sales untuk mengetahui **total pendapatan kotor** untuk masing-masing kota, jika pada setiap transaksi diberlakukan pajak sebesar 5%.\n",
    "\n",
    "Hint: Hitung `total` per transaksi terlebih dahulu, kemudian tambahkan dengan besar pajaknya."
   ]
  },
  {
   "cell_type": "code",
   "execution_count": 15,
   "id": "f3a38911",
   "metadata": {},
   "outputs": [
    {
     "data": {
      "text/html": [
       "<div>\n",
       "<style scoped>\n",
       "    .dataframe tbody tr th:only-of-type {\n",
       "        vertical-align: middle;\n",
       "    }\n",
       "\n",
       "    .dataframe tbody tr th {\n",
       "        vertical-align: top;\n",
       "    }\n",
       "\n",
       "    .dataframe thead th {\n",
       "        text-align: right;\n",
       "    }\n",
       "</style>\n",
       "<table border=\"1\" class=\"dataframe\">\n",
       "  <thead>\n",
       "    <tr style=\"text-align: right;\">\n",
       "      <th></th>\n",
       "      <th>invoice_id</th>\n",
       "      <th>city</th>\n",
       "      <th>customer</th>\n",
       "      <th>gender</th>\n",
       "      <th>product_line</th>\n",
       "      <th>unit_price</th>\n",
       "      <th>quantity</th>\n",
       "      <th>date</th>\n",
       "      <th>time</th>\n",
       "      <th>payment</th>\n",
       "      <th>rating</th>\n",
       "      <th>datetime</th>\n",
       "    </tr>\n",
       "  </thead>\n",
       "  <tbody>\n",
       "    <tr>\n",
       "      <th>0</th>\n",
       "      <td>750-67-8428</td>\n",
       "      <td>Yangon</td>\n",
       "      <td>Member</td>\n",
       "      <td>Female</td>\n",
       "      <td>Health and beauty</td>\n",
       "      <td>74.69</td>\n",
       "      <td>7</td>\n",
       "      <td>1/5/2019</td>\n",
       "      <td>13:08</td>\n",
       "      <td>Ewallet</td>\n",
       "      <td>9.1</td>\n",
       "      <td>2019-01-05 13:08:00</td>\n",
       "    </tr>\n",
       "    <tr>\n",
       "      <th>1</th>\n",
       "      <td>226-31-3081</td>\n",
       "      <td>Naypyitaw</td>\n",
       "      <td>Normal</td>\n",
       "      <td>Female</td>\n",
       "      <td>Electronic accessories</td>\n",
       "      <td>15.28</td>\n",
       "      <td>5</td>\n",
       "      <td>3/8/2019</td>\n",
       "      <td>10:29</td>\n",
       "      <td>Cash</td>\n",
       "      <td>9.6</td>\n",
       "      <td>2019-03-08 10:29:00</td>\n",
       "    </tr>\n",
       "    <tr>\n",
       "      <th>2</th>\n",
       "      <td>631-41-3108</td>\n",
       "      <td>Yangon</td>\n",
       "      <td>Normal</td>\n",
       "      <td>Male</td>\n",
       "      <td>Home and lifestyle</td>\n",
       "      <td>46.33</td>\n",
       "      <td>7</td>\n",
       "      <td>3/3/2019</td>\n",
       "      <td>13:23</td>\n",
       "      <td>Credit card</td>\n",
       "      <td>7.4</td>\n",
       "      <td>2019-03-03 13:23:00</td>\n",
       "    </tr>\n",
       "    <tr>\n",
       "      <th>3</th>\n",
       "      <td>123-19-1176</td>\n",
       "      <td>Yangon</td>\n",
       "      <td>Member</td>\n",
       "      <td>Male</td>\n",
       "      <td>Health and beauty</td>\n",
       "      <td>58.22</td>\n",
       "      <td>8</td>\n",
       "      <td>1/27/2019</td>\n",
       "      <td>20:33</td>\n",
       "      <td>Ewallet</td>\n",
       "      <td>8.4</td>\n",
       "      <td>2019-01-27 20:33:00</td>\n",
       "    </tr>\n",
       "    <tr>\n",
       "      <th>4</th>\n",
       "      <td>373-73-7910</td>\n",
       "      <td>Yangon</td>\n",
       "      <td>Normal</td>\n",
       "      <td>Male</td>\n",
       "      <td>Sports and travel</td>\n",
       "      <td>86.31</td>\n",
       "      <td>7</td>\n",
       "      <td>2/8/2019</td>\n",
       "      <td>10:37</td>\n",
       "      <td>Ewallet</td>\n",
       "      <td>5.3</td>\n",
       "      <td>2019-02-08 10:37:00</td>\n",
       "    </tr>\n",
       "  </tbody>\n",
       "</table>\n",
       "</div>"
      ],
      "text/plain": [
       "    invoice_id       city customer  gender            product_line  \\\n",
       "0  750-67-8428     Yangon   Member  Female       Health and beauty   \n",
       "1  226-31-3081  Naypyitaw   Normal  Female  Electronic accessories   \n",
       "2  631-41-3108     Yangon   Normal    Male      Home and lifestyle   \n",
       "3  123-19-1176     Yangon   Member    Male       Health and beauty   \n",
       "4  373-73-7910     Yangon   Normal    Male       Sports and travel   \n",
       "\n",
       "   unit_price  quantity       date   time      payment  rating  \\\n",
       "0       74.69         7   1/5/2019  13:08      Ewallet     9.1   \n",
       "1       15.28         5   3/8/2019  10:29         Cash     9.6   \n",
       "2       46.33         7   3/3/2019  13:23  Credit card     7.4   \n",
       "3       58.22         8  1/27/2019  20:33      Ewallet     8.4   \n",
       "4       86.31         7   2/8/2019  10:37      Ewallet     5.3   \n",
       "\n",
       "             datetime  \n",
       "0 2019-01-05 13:08:00  \n",
       "1 2019-03-08 10:29:00  \n",
       "2 2019-03-03 13:23:00  \n",
       "3 2019-01-27 20:33:00  \n",
       "4 2019-02-08 10:37:00  "
      ]
     },
     "execution_count": 15,
     "metadata": {},
     "output_type": "execute_result"
    }
   ],
   "source": [
    "supermarket.head()"
   ]
  },
  {
   "cell_type": "code",
   "execution_count": 16,
   "id": "03a57ae1",
   "metadata": {},
   "outputs": [],
   "source": [
    "# ..\n",
    "supermarket['total'] = (supermarket['unit_price'] * supermarket['quantity'])\n",
    "supermarket['total_kotor'] = supermarket['total'] + (supermarket['total'] * 0.05)"
   ]
  },
  {
   "cell_type": "code",
   "execution_count": 17,
   "id": "cc648572",
   "metadata": {},
   "outputs": [],
   "source": [
    "#supermarket['total'] = (supermarket['unit_price'] * supermarket['quantity']*1.05)"
   ]
  },
  {
   "cell_type": "code",
   "execution_count": 18,
   "id": "88dc98c1",
   "metadata": {},
   "outputs": [
    {
     "data": {
      "text/html": [
       "<div>\n",
       "<style scoped>\n",
       "    .dataframe tbody tr th:only-of-type {\n",
       "        vertical-align: middle;\n",
       "    }\n",
       "\n",
       "    .dataframe tbody tr th {\n",
       "        vertical-align: top;\n",
       "    }\n",
       "\n",
       "    .dataframe thead th {\n",
       "        text-align: right;\n",
       "    }\n",
       "</style>\n",
       "<table border=\"1\" class=\"dataframe\">\n",
       "  <thead>\n",
       "    <tr style=\"text-align: right;\">\n",
       "      <th>col_0</th>\n",
       "      <th>Total</th>\n",
       "    </tr>\n",
       "    <tr>\n",
       "      <th>city</th>\n",
       "      <th></th>\n",
       "    </tr>\n",
       "  </thead>\n",
       "  <tbody>\n",
       "    <tr>\n",
       "      <th>Mandalay</th>\n",
       "      <td>106197.6720</td>\n",
       "    </tr>\n",
       "    <tr>\n",
       "      <th>Naypyitaw</th>\n",
       "      <td>110568.7065</td>\n",
       "    </tr>\n",
       "    <tr>\n",
       "      <th>Yangon</th>\n",
       "      <td>106200.3705</td>\n",
       "    </tr>\n",
       "  </tbody>\n",
       "</table>\n",
       "</div>"
      ],
      "text/plain": [
       "col_0            Total\n",
       "city                  \n",
       "Mandalay   106197.6720\n",
       "Naypyitaw  110568.7065\n",
       "Yangon     106200.3705"
      ]
     },
     "execution_count": 18,
     "metadata": {},
     "output_type": "execute_result"
    }
   ],
   "source": [
    "pd.crosstab(\n",
    "    index=supermarket['city'],\n",
    "    columns='Total',\n",
    "    values=supermarket['total_kotor'],\n",
    "    aggfunc='sum'\n",
    ")"
   ]
  },
  {
   "cell_type": "markdown",
   "id": "7af47173",
   "metadata": {},
   "source": [
    "**Question:** Bantulah tim customer relation untuk mengetahui rata-rata tingkat kepuasan customer secara bulanan untuk masing-masing kota. Apakah mengalami penurunan atau kenaikan?"
   ]
  },
  {
   "cell_type": "code",
   "execution_count": 19,
   "id": "46d5915d",
   "metadata": {},
   "outputs": [],
   "source": [
    "# ..\n",
    "supermarket['month'] = supermarket['datetime'].dt.to_period('M')"
   ]
  },
  {
   "cell_type": "code",
   "execution_count": 20,
   "id": "c2dbd624",
   "metadata": {
    "scrolled": true
   },
   "outputs": [
    {
     "data": {
      "text/html": [
       "<div>\n",
       "<style scoped>\n",
       "    .dataframe tbody tr th:only-of-type {\n",
       "        vertical-align: middle;\n",
       "    }\n",
       "\n",
       "    .dataframe tbody tr th {\n",
       "        vertical-align: top;\n",
       "    }\n",
       "\n",
       "    .dataframe thead th {\n",
       "        text-align: right;\n",
       "    }\n",
       "</style>\n",
       "<table border=\"1\" class=\"dataframe\">\n",
       "  <thead>\n",
       "    <tr style=\"text-align: right;\">\n",
       "      <th>city</th>\n",
       "      <th>Mandalay</th>\n",
       "      <th>Naypyitaw</th>\n",
       "      <th>Yangon</th>\n",
       "    </tr>\n",
       "    <tr>\n",
       "      <th>month</th>\n",
       "      <th></th>\n",
       "      <th></th>\n",
       "      <th></th>\n",
       "    </tr>\n",
       "  </thead>\n",
       "  <tbody>\n",
       "    <tr>\n",
       "      <th>2019-01</th>\n",
       "      <td>6.801802</td>\n",
       "      <td>7.154918</td>\n",
       "      <td>7.078151</td>\n",
       "    </tr>\n",
       "    <tr>\n",
       "      <th>2019-02</th>\n",
       "      <td>7.008257</td>\n",
       "      <td>7.200000</td>\n",
       "      <td>7.007447</td>\n",
       "    </tr>\n",
       "    <tr>\n",
       "      <th>2019-03</th>\n",
       "      <td>6.649107</td>\n",
       "      <td>6.858491</td>\n",
       "      <td>6.993701</td>\n",
       "    </tr>\n",
       "  </tbody>\n",
       "</table>\n",
       "</div>"
      ],
      "text/plain": [
       "city     Mandalay  Naypyitaw    Yangon\n",
       "month                                 \n",
       "2019-01  6.801802   7.154918  7.078151\n",
       "2019-02  7.008257   7.200000  7.007447\n",
       "2019-03  6.649107   6.858491  6.993701"
      ]
     },
     "execution_count": 20,
     "metadata": {},
     "output_type": "execute_result"
    }
   ],
   "source": [
    "pd.crosstab(\n",
    "    index=supermarket['month'],\n",
    "    columns=supermarket['city'],\n",
    "    values=supermarket['rating'],\n",
    "    aggfunc='mean'\n",
    ")"
   ]
  },
  {
   "cell_type": "markdown",
   "id": "642f3fad",
   "metadata": {},
   "source": [
    "> Pada bulan Maret, di ketiga kota mengalami penurunan rating."
   ]
  },
  {
   "cell_type": "markdown",
   "id": "a86fe440",
   "metadata": {},
   "source": [
    "___"
   ]
  }
 ],
 "metadata": {
  "kernelspec": {
   "display_name": "spartada",
   "language": "python",
   "name": "spartada"
  },
  "language_info": {
   "codemirror_mode": {
    "name": "ipython",
    "version": 3
   },
   "file_extension": ".py",
   "mimetype": "text/x-python",
   "name": "python",
   "nbconvert_exporter": "python",
   "pygments_lexer": "ipython3",
   "version": "3.9.12"
  },
  "toc": {
   "base_numbering": 1,
   "nav_menu": {},
   "number_sections": false,
   "sideBar": true,
   "skip_h1_title": false,
   "title_cell": "Table of Contents",
   "title_sidebar": "Contents",
   "toc_cell": false,
   "toc_position": {},
   "toc_section_display": true,
   "toc_window_display": false
  },
  "varInspector": {
   "cols": {
    "lenName": 16,
    "lenType": 16,
    "lenVar": 40
   },
   "kernels_config": {
    "python": {
     "delete_cmd_postfix": "",
     "delete_cmd_prefix": "del ",
     "library": "var_list.py",
     "varRefreshCmd": "print(var_dic_list())"
    },
    "r": {
     "delete_cmd_postfix": ") ",
     "delete_cmd_prefix": "rm(",
     "library": "var_list.r",
     "varRefreshCmd": "cat(var_dic_list()) "
    }
   },
   "types_to_exclude": [
    "module",
    "function",
    "builtin_function_or_method",
    "instance",
    "_Feature"
   ],
   "window_display": false
  }
 },
 "nbformat": 4,
 "nbformat_minor": 5
}
